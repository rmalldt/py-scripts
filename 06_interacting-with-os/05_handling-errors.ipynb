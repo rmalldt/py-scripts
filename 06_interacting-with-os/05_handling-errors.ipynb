{
 "cells": [
  {
   "cell_type": "markdown",
   "id": "75498774-9207-44cf-a5ee-e76ddfdedd3a",
   "metadata": {},
   "source": [
    "# Handling Subprocess Errors\n",
    "\n",
    "- External commands can fail in multiple ways: non-zero exit codes, missing executables, or hanging processes.  \n",
    "- Using `subprocess.run(..., check=True)` shifts return-code checks into exceptions you can catch.  \n",
    "- Specific exception types (`CalledProcessError`, `FileNotFoundError`, `TimeoutExpired`) let you distinguish failure modes and respond appropriately.\n",
    "\n",
    "## subprocess.CalledProcessError Attributes\n",
    "\n",
    "- `e.returncode`: the non-zero exit status of the command.  \n",
    "- `e.cmd`: the exact command invoked (list or string form).  \n",
    "- `e.stdout` / `e.output`: captured standard output, if `capture_output=True`.  \n",
    "- `e.stderr`: captured standard error, if `capture_output=True`.  \n",
    "- These attributes let you log or display detailed diagnostics when a command fails.  "
   ]
  },
  {
   "cell_type": "code",
   "execution_count": 1,
   "id": "6da1ba08-a588-4f4b-9c07-e444466f810d",
   "metadata": {},
   "outputs": [
    {
     "name": "stdout",
     "output_type": "stream",
     "text": [
      "Command executed: ['ls', 'missing_dir']\n",
      "Return code 1\n",
      "STDOUT capture: \n",
      "STDERR capture: ls: missing_dir: No such file or directory\n",
      "\n"
     ]
    }
   ],
   "source": [
    "import subprocess\n",
    "\n",
    "cmd = [\"ls\", \"missing_dir\"]\n",
    "\n",
    "try:\n",
    "    subprocess.run(cmd, check=True, capture_output=True, text=True)\n",
    "except subprocess.CalledProcessError as err:\n",
    "    print(f\"Command executed: {err.cmd}\")\n",
    "    print(f\"Return code {err.returncode}\")\n",
    "    print(f\"STDOUT capture: {err.stdout}\")\n",
    "    print(f\"STDERR capture: {err.stderr}\")"
   ]
  },
  {
   "cell_type": "markdown",
   "id": "150d585e",
   "metadata": {},
   "source": [
    "## Handling FileNotFoundError\n",
    "\n",
    "- If the executable itself isn’t in `PATH`, `subprocess.run()` raises `FileNotFoundError` before running.  \n",
    "- Catching it separately lets you inform the user that a required tool isn’t installed, rather than treating it as a generic failure.  "
   ]
  },
  {
   "cell_type": "code",
   "execution_count": 11,
   "id": "b50229d7-ce3f-4667-81b7-25ac8aefd080",
   "metadata": {},
   "outputs": [
    {
     "name": "stdout",
     "output_type": "stream",
     "text": [
      "FileNotFoundError caught!\n",
      "  The command 'fakecmd' was not found on this system.\n"
     ]
    }
   ],
   "source": [
    "import subprocess\n",
    "\n",
    "cmd = [\"fakecmd\", \"--version\"]\n",
    "\n",
    "try:\n",
    "    subprocess.run(cmd, check=True, capture_output=True, text=True)\n",
    "except FileNotFoundError as err:\n",
    "    print(\"FileNotFoundError caught!\")\n",
    "    print(f\"  The command '{cmd[0]}' was not found on this system.\")"
   ]
  },
  {
   "cell_type": "markdown",
   "id": "1142cbf2",
   "metadata": {},
   "source": [
    "## Handling subprocess.TimeoutExpired\n",
    "\n",
    "- Adding `timeout=<seconds>` to `subprocess.run()` kills the process if it runs too long.  \n",
    "- A `TimeoutExpired` exception is raised, containing `cmd`, `timeout`, and any partial `stdout`/`stderr`.  \n",
    "- Use this to prevent hung scripts and to implement retry or fallback logic.  "
   ]
  },
  {
   "cell_type": "code",
   "execution_count": 5,
   "id": "16e439e9",
   "metadata": {},
   "outputs": [
    {
     "name": "stdout",
     "output_type": "stream",
     "text": [
      "TimeoutExpired caught!\n",
      "  Command: ['sleep', '5']\n",
      "  Timeout after 2 seconds\n"
     ]
    }
   ],
   "source": [
    "import subprocess\n",
    "\n",
    "cmd = [\"sleep\", \"5\"]\n",
    "\n",
    "try:\n",
    "    subprocess.run(cmd, timeout=2, capture_output=True, text=True)\n",
    "    print(\"Command completed within timeout.\")\n",
    "except subprocess.TimeoutExpired as err:\n",
    "    print(\"TimeoutExpired caught!\")\n",
    "    print(f\"  Command: {err.cmd}\")\n",
    "    print(f\"  Timeout after {err.timeout} seconds\")"
   ]
  },
  {
   "cell_type": "markdown",
   "id": "e27bd5a5",
   "metadata": {},
   "source": [
    "## Recommended Error Handling Strategy\n",
    "\n",
    "- Wrap `subprocess.run()` in a `try` block.  \n",
    "- First catch `FileNotFoundError` to detect missing executables.  \n",
    "- Next catch `subprocess.TimeoutExpired` if you use timeouts.  \n",
    "- Then catch `subprocess.CalledProcessError` for non-zero exits.  \n",
    "- Finally, if necessary, an `except Exception` block can log any other unexpected issues.  \n",
    "- This layered approach keeps your script robust and your errors informative.  "
   ]
  },
  {
   "cell_type": "markdown",
   "id": "ead2d714",
   "metadata": {},
   "source": []
  }
 ],
 "metadata": {
  "kernelspec": {
   "display_name": "Python 3 (ipykernel)",
   "language": "python",
   "name": "python3"
  },
  "language_info": {
   "codemirror_mode": {
    "name": "ipython",
    "version": 3
   },
   "file_extension": ".py",
   "mimetype": "text/x-python",
   "name": "python",
   "nbconvert_exporter": "python",
   "pygments_lexer": "ipython3",
   "version": "3.12.9"
  }
 },
 "nbformat": 4,
 "nbformat_minor": 5
}
