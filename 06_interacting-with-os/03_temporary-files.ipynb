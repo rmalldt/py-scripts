{
 "cells": [
  {
   "cell_type": "markdown",
   "id": "75498774-9207-44cf-a5ee-e76ddfdedd3a",
   "metadata": {},
   "source": [
    "# Temporary Files and Directories\n",
    "\n",
    "- Automation scripts often need scratch space for intermediate data without cluttering the filesystem or risking name collisions.  \n",
    "- Hardcoding names like `/tmp/my_file.txt` can lead to security issues, collisions, and manual cleanup.  \n",
    "- The `tempfile` module provides secure, unique temporary files and directories with optional automatic cleanup. \n",
    "\n",
    "## Why Use the tempfile Module?\n",
    "\n",
    "- It creates files with secure default permissions, preventing unauthorized access on multiuser systems.  \n",
    "- It generates unique names automatically, avoiding collisions when multiple script instances run concurrently.  \n",
    "- It integrates with context managers (`with`), enabling automatic cleanup of resources when they're no longer needed.  \n",
    "- It works across Windows, macOS, and Linux, choosing an appropriate temp location on each platform.  "
   ]
  },
  {
   "cell_type": "code",
   "execution_count": 8,
   "id": "6da1ba08-a588-4f4b-9c07-e444466f810d",
   "metadata": {},
   "outputs": [
    {
     "name": "stdout",
     "output_type": "stream",
     "text": [
      "Default temporary directory: /var/folders/zj/9tldhkbd6fd8zdsrfj84167c0000gn/T\n",
      "Sample contents: ['com.apple.ImageIOXPCService', 'TelemetryUploadFilecom.microsoft.autoupdate.fba.txt', 'com.apple.ThreadCommissionerService', 'com.apple.avconferenced', 'python-languageserver-cancellation']\n"
     ]
    }
   ],
   "source": [
    "import tempfile\n",
    "import os\n",
    "\n",
    "temp_dir = tempfile.gettempdir()\n",
    "print(f\"Default temporary directory: {temp_dir}\")\n",
    "print(f\"Sample contents: {os.listdir(temp_dir)[:5]}\")"
   ]
  },
  {
   "cell_type": "markdown",
   "id": "150d585e",
   "metadata": {},
   "source": [
    "## tempfile.TemporaryFile()\n",
    "\n",
    "- Creates an unnamed temporary file opened in binary or text mode.  \n",
    "- On UNIX-like systems it typically has no name in the filesystem; on Windows it may appear but remains temporary.  \n",
    "- The file is deleted automatically when closed or when the context block exits.  \n",
    "- Ideal for internal scratch space that doesn’t need to be passed to external processes.  "
   ]
  },
  {
   "cell_type": "code",
   "execution_count": 9,
   "id": "b50229d7-ce3f-4667-81b7-25ac8aefd080",
   "metadata": {},
   "outputs": [
    {
     "name": "stdout",
     "output_type": "stream",
     "text": [
      "Content from TemporaryFile:\n",
      "This is some temporary data.\n"
     ]
    }
   ],
   "source": [
    "import tempfile\n",
    "from pathlib import Path\n",
    "\n",
    "with tempfile.TemporaryFile(mode=\"w+t\", encoding=\"utf-8\") as temp_file:\n",
    "    temp_file.write(\"This is some temporary data.\")\n",
    "    temp_file.seek(0)\n",
    "    print(\"Content from TemporaryFile:\")\n",
    "    print(temp_file.read())\n"
   ]
  },
  {
   "cell_type": "markdown",
   "id": "1142cbf2",
   "metadata": {},
   "source": [
    "## tempfile.NamedTemporaryFile()\n",
    "\n",
    "- Creates a temporary file with a visible name in the filesystem.  \n",
    "- Default `delete=True` removes the file when closed; `delete=False` leaves it for manual cleanup.  \n",
    "- Use when you need to pass a filename to another process or library.  \n",
    "- Supports custom `suffix`, `prefix`, and `dir` parameters for naming and placement.  "
   ]
  },
  {
   "cell_type": "code",
   "execution_count": 12,
   "id": "16e439e9",
   "metadata": {},
   "outputs": [
    {
     "name": "stdout",
     "output_type": "stream",
     "text": [
      "Created temp file at /var/folders/zj/9tldhkbd6fd8zdsrfj84167c0000gn/T/tmp7pri10gy.log. Exists: True\n",
      "After close. Exists? False\n",
      "Created temp file at /var/folders/zj/9tldhkbd6fd8zdsrfj84167c0000gn/T/tmp7pri10gy.log. Exists: False\n",
      "After close. Exists? True\n",
      "After unlink. Exists? False\n"
     ]
    }
   ],
   "source": [
    "import tempfile\n",
    "from pathlib import Path\n",
    "\n",
    "# Auto-delete on with exit\n",
    "path = None\n",
    "\n",
    "with tempfile.NamedTemporaryFile(mode=\"w+t\", encoding=\"utf-8\", suffix=\".log\") as temp_file:\n",
    "    path = Path(temp_file.name)\n",
    "    print(f\"Created temp file at {path}. Exists: {path.exists()}\")\n",
    "\n",
    "print(f\"After close. Exists? {path.exists()}\")\n",
    "\n",
    "# Persist after with exit\n",
    "path_persistent = None\n",
    "\n",
    "with tempfile.NamedTemporaryFile(\n",
    "    mode=\"w+t\",\n",
    "    encoding=\"utf-8\",\n",
    "    suffix=\".log\",\n",
    "    delete=False  # keeps temporary file \n",
    ") as temp_file:\n",
    "    path_persistent = Path(temp_file.name)\n",
    "    print(f\"Created temp file at {path}. Exists: {path.exists()}\")\n",
    "\n",
    "print(f\"After close. Exists? {path_persistent.exists()}\")\n",
    "\n",
    "if path_persistent.exists():\n",
    "    path_persistent.unlink()\n",
    "\n",
    "print(f\"After unlink. Exists? {path_persistent.exists()}\")"
   ]
  },
  {
   "cell_type": "markdown",
   "id": "e27bd5a5",
   "metadata": {},
   "source": [
    "## tempfile.TemporaryDirectory()\n",
    "\n",
    "- Creates a new temporary directory, returned as a path string.  \n",
    "- When used in a `with` block, the directory and everything inside it are deleted on exit.  \n",
    "- Ideal for workflows that produce multiple temporary files or subdirectories.  "
   ]
  },
  {
   "cell_type": "code",
   "execution_count": 11,
   "id": "94061dc2",
   "metadata": {},
   "outputs": [
    {
     "name": "stdout",
     "output_type": "stream",
     "text": [
      "/var/folders/zj/9tldhkbd6fd8zdsrfj84167c0000gn/T/batch_job_va7yrgop - type: <class 'str'>\n",
      "Contents: ['file1.txt', 'subdir']\n",
      "After close. Exists? False\n"
     ]
    }
   ],
   "source": [
    "import tempfile\n",
    "from pathlib import Path\n",
    "\n",
    "temp_path = None\n",
    "\n",
    "with tempfile.TemporaryDirectory(prefix=\"batch_job_\") as temp_dir:\n",
    "    print(f\"{temp_dir} - type: {type(temp_dir)}\")\n",
    "    temp_path = Path(temp_dir)\n",
    "    (temp_path / \"file1.txt\").write_text(\"data\")\n",
    "    subdir = temp_path / \"subdir\"\n",
    "    subdir.mkdir(exist_ok=True)\n",
    "    (subdir / \"file2.txt\").write_text(\"data2\")\n",
    "    print(f\"Contents: {[p.name for p in temp_path.iterdir()]}\")\n",
    "\n",
    "print(f\"After close. Exists? {temp_path.exists()}\")"
   ]
  },
  {
   "cell_type": "markdown",
   "id": "0a26bbf7",
   "metadata": {},
   "source": [
    "## Common Pitfalls & How to Avoid Them\n",
    "\n",
    "- Calling `os.rmdir()` or `Path.rmdir()` on a non-empty directory raises an error; use `shutil.rmtree()` for recursive deletion.  \n",
    "- Forgetting to delete files created with `delete=False` in `NamedTemporaryFile` can leave orphaned files.  \n",
    "- On Windows, other processes can’t open an open temporary file. Use `delete=False` and close it before sharing the name.  \n",
    "- Relying on a temporary file’s name after closing a `TemporaryFile` is **impossible**, since it may never have had one.  "
   ]
  },
  {
   "cell_type": "code",
   "execution_count": 13,
   "id": "8f025fb6",
   "metadata": {},
   "outputs": [
    {
     "name": "stdout",
     "output_type": "stream",
     "text": [
      ".yaml\n"
     ]
    }
   ],
   "source": [
    "from pathlib import Path\n",
    "\n",
    "path = Path('hello.yaml')\n",
    "print(path.suffix)"
   ]
  },
  {
   "cell_type": "code",
   "execution_count": null,
   "id": "962a22bc",
   "metadata": {},
   "outputs": [],
   "source": []
  }
 ],
 "metadata": {
  "kernelspec": {
   "display_name": ".venv (3.12.9)",
   "language": "python",
   "name": "python3"
  },
  "language_info": {
   "codemirror_mode": {
    "name": "ipython",
    "version": 3
   },
   "file_extension": ".py",
   "mimetype": "text/x-python",
   "name": "python",
   "nbconvert_exporter": "python",
   "pygments_lexer": "ipython3",
   "version": "3.12.9"
  }
 },
 "nbformat": 4,
 "nbformat_minor": 5
}
