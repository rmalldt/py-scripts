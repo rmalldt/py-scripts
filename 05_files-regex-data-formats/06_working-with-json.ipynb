{
 "cells": [
  {
   "cell_type": "markdown",
   "id": "56238708-d927-46f5-8545-d6e11a21d6ac",
   "metadata": {},
   "source": [
    "# Working with JSON files\n",
    "- JSON is the **standard format** for **data exchange** in web services and cloud APIs.\n",
    "- Python’s built-in `json` module provides functions to convert between JSON text and Python objects.\n",
    "- Key operations: parsing JSON from strings/files and serializing Python objects to JSON strings/files.\n",
    "\n",
    "## JSON Syntax and Python Mapping\n",
    "- JSON objects (`{}`) map to Python `dict`.\n",
    "- JSON arrays (`[]`) map to Python `list`.\n",
    "- JSON strings map to Python `str`, numbers to `int` or `float`.\n",
    "- `true`/`false` → `True`/`False`; `null` → `None`.\n",
    "- Keys in JSON objects must be double-quoted strings; no trailing commas.\n",
    "\n",
    "## Deserializing JSON String\n",
    "- The reverse process of **serialization** i.e. constructing data structure/object from a series of bytes is **deserialization**.\n",
    "- Use `json.loads()` to parse **JSON strings** into **Python objects**.\n",
    "- Raises `json.JSONDecodeError` on invalid JSON.\n",
    "- Common in DevOps for handling API response bodies.\n",
    "\n",
    "<img src=\"../images/deserialize.png\" alt=\"illustration\" height=\"300\">"
   ]
  },
  {
   "cell_type": "code",
   "execution_count": null,
   "id": "47e78505-6a4b-47c0-8a13-db36b5615ea3",
   "metadata": {},
   "outputs": [
    {
     "name": "stdout",
     "output_type": "stream",
     "text": [
      "Parsed data type: <class 'dict'>\n",
      "Instance ID: i-12345\n",
      "Tags: ['web', 'prod']\n"
     ]
    }
   ],
   "source": [
    "import json\n",
    "\n",
    "api_response_str = '{\"status\": \"active\", \"instance_id\": \"i-12345\", \"cores\": 4, \"tags\": [\"web\", \"prod\"]}'\n",
    "\n",
    "try:\n",
    "    # Parse JSON string to Python object\n",
    "    data = json.loads(api_response_str)                     \n",
    "    print(f\"Parsed data type: {type(data)}\")\n",
    "    print(f\"Instance ID: {data.get(\"instance_id\", None)}\")\n",
    "    print(f\"Tags: {data.get(\"tags\", None)}\")\n",
    "except json.JSONDecodeError as e:\n",
    "    print(f\"Failed to parse JSON: {e}\")"
   ]
  },
  {
   "cell_type": "markdown",
   "id": "e7bb393f-9f72-482f-ac6b-c591d1d50fa1",
   "metadata": {},
   "source": [
    "## Parsing JSON Files\n",
    "- Use `json.load()` to read **JSON** from an **open file** object.\n",
    "- Always open files with `encoding='utf-8'` when dealing with JSON.\n",
    "- Wrap file operations in `with` to ensure proper closure."
   ]
  },
  {
   "cell_type": "code",
   "execution_count": 9,
   "id": "a773d052-6124-4cf5-a44f-370a06797e19",
   "metadata": {},
   "outputs": [
    {
     "name": "stdout",
     "output_type": "stream",
     "text": [
      "[{'service': 'database', 'port': 5432, 'connection_pool': 10, 'enabled': True}, {'service': 'cache', 'port': 6379, 'connection_pool': 5}, {'service': 'api', 'port': 8080, 'connection_pool': 3, 'enabled': True}, {'port': 5000, 'connection_pool': 3, 'enabled': True}]\n",
      "Service: database\n",
      "Enabled: True\n",
      "--------------------\n",
      "Service: cache\n",
      "Enabled: False\n",
      "--------------------\n",
      "Service: api\n",
      "Enabled: True\n",
      "--------------------\n"
     ]
    }
   ],
   "source": [
    "import json\n",
    "from pathlib import Path\n",
    "\n",
    "config_path = Path(\"files/service_config.json\")\n",
    "\n",
    "with config_path.open(\"r\", encoding=\"utf-8\") as file:\n",
    "    # Parse JSON file to Python object\n",
    "    config_data = json.load(file)                       \n",
    "print(config_data)\n",
    "\n",
    "for config in config_data:\n",
    "    service_name = config.get(\"service\", None)\n",
    "    if service_name:\n",
    "        print(f\"Service: {service_name}\")\n",
    "        print(f\"Enabled: {config.get(\"enabled\", False)}\")\n",
    "        print('-' * 20)"
   ]
  },
  {
   "cell_type": "markdown",
   "id": "7becb90a-3e6d-4117-ae16-f8746c744e44",
   "metadata": {},
   "source": [
    "## Serializing Python objects to JSON Strings\n",
    "- **Serialization** is the process of converting **data structure/object** into format that can be easily stored, transmitted and reconstructed later. Typically, the state of the object is converted into a series of bytes.\n",
    "- Use `json.dumps()` to convert **Python objects** to **JSON strings**.\n",
    "- `indent` makes output human-readable; `sort_keys=True` orders keys alphabetically.\n",
    "\n",
    "<img src=\"../images/serialize.png\" alt=\"illustration\" height=\"300\">"
   ]
  },
  {
   "cell_type": "code",
   "execution_count": null,
   "id": "dca0853e-c7fc-49c0-b210-b3faa09b7c3b",
   "metadata": {},
   "outputs": [
    {
     "name": "stdout",
     "output_type": "stream",
     "text": [
      "Simple JSON:\n",
      "{\"deployment\": \"frontend-v2\", \"replicas\": 3, \"ports\": [80, 443], \"health_check\": true, \"logs_enabled\": null}\n",
      "\n",
      "\n",
      "Pretty JSON:\n",
      "{\n",
      "  \"deployment\": \"frontend-v2\",\n",
      "  \"health_check\": true,\n",
      "  \"logs_enabled\": null,\n",
      "  \"ports\": [\n",
      "    80,\n",
      "    443\n",
      "  ],\n",
      "  \"replicas\": 3\n",
      "}\n"
     ]
    }
   ],
   "source": [
    "import json\n",
    "\n",
    "python_data = {\n",
    "    \"deployment\": \"frontend-v2\",\n",
    "    \"replicas\": 3,\n",
    "    \"ports\": [80, 443],\n",
    "    \"health_check\": True,\n",
    "    \"logs_enabled\": None\n",
    "}\n",
    "\n",
    "# Serialize Python object to JSON String\n",
    "print(f\"Simple JSON:\\n{json.dumps(python_data)}\")\n",
    "print(\"\\n\")\n",
    "print(f\"Pretty JSON:\\n{json.dumps(python_data, indent=2, sort_keys=True)}\")"
   ]
  },
  {
   "cell_type": "markdown",
   "id": "5df4f188-3b91-44b9-892a-a6230a9ad22f",
   "metadata": {},
   "source": [
    "## Serializing Python objects to JSON Files\n",
    "- Use `json.dump()` to write Python objects directly to files.\n",
    "- Pass the file handle and optional `indent` for formatting."
   ]
  },
  {
   "cell_type": "code",
   "execution_count": null,
   "id": "aab0eccc-81ba-4087-af69-7da00f95519c",
   "metadata": {},
   "outputs": [],
   "source": [
    "import json\n",
    "from pathlib import Path\n",
    "\n",
    "output = {\n",
    "    \"status\": \"complete\",\n",
    "    \"items_processed\": 1492,\n",
    "    \"errors\": []\n",
    "}\n",
    "output_path = Path(\"files/run_summary.json\")\n",
    "\n",
    "# Serialize Python object to JSON file\n",
    "with output_path.open(\"w\", encoding=\"utf-8\") as file:\n",
    "    json.dump(output, file, indent=2)"
   ]
  },
  {
   "cell_type": "markdown",
   "id": "c30d6d20-9edf-4654-ba63-4b9c239d17b0",
   "metadata": {},
   "source": [
    "## Hands-on Exercise"
   ]
  },
  {
   "cell_type": "code",
   "execution_count": 12,
   "id": "f9c34f0e-cba3-4a1e-a3bf-4b8c5398334c",
   "metadata": {},
   "outputs": [
    {
     "name": "stdout",
     "output_type": "stream",
     "text": [
      "svc-web-01 CPU: 15.5%, Is_Prod: True\n"
     ]
    }
   ],
   "source": [
    "import json\n",
    " \n",
    "api_response = \"\"\"\n",
    "{\n",
    "    \"service_id\": \"svc-web-01\",\n",
    "    \"status\": \"HEALTHY\",\n",
    "    \"metrics\": {\n",
    "        \"cpu_percent\": 15.5,\n",
    "        \"memory_mb\": 1024\n",
    "    },\n",
    "    \"tags\": [\"prod\", \"frontend\"],\n",
    "    \"enabled\": true\n",
    "}\n",
    "\"\"\"\n",
    "\n",
    "try:\n",
    "    data = json.loads(api_response)\n",
    "    service = data.get(\"service_id\")\n",
    "    cpu = data[\"metrics\"][\"cpu_percent\"]\n",
    "    is_prod = \"prod\" in data.get(\"tags\", [])\n",
    "    print(f\"{service} CPU: {cpu}%, Is_Prod: {is_prod}\")\n",
    "except (json.JSONDecodeError, KeyError) as e:\n",
    "    print(f\"Error parsing data: {e}\")\n"
   ]
  },
  {
   "cell_type": "code",
   "execution_count": null,
   "id": "8dea9c7b-b91f-4d56-9279-6428b3da3e58",
   "metadata": {},
   "outputs": [],
   "source": []
  }
 ],
 "metadata": {
  "kernelspec": {
   "display_name": "Python 3 (ipykernel)",
   "language": "python",
   "name": "python3"
  },
  "language_info": {
   "codemirror_mode": {
    "name": "ipython",
    "version": 3
   },
   "file_extension": ".py",
   "mimetype": "text/x-python",
   "name": "python",
   "nbconvert_exporter": "python",
   "pygments_lexer": "ipython3",
   "version": "3.12.9"
  }
 },
 "nbformat": 4,
 "nbformat_minor": 5
}
