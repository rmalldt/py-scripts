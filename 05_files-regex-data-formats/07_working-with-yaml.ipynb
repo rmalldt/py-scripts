{
 "cells": [
  {
   "cell_type": "markdown",
   "id": "56238708-d927-46f5-8545-d6e11a21d6ac",
   "metadata": {},
   "source": [
    "# Working with YAML files\n",
    "- YAML (“YAML Ain’t Markup Language”) **focuses on human readability**. Indentation replaces braces and brackets, **comments are allowed**, and **quoting is usually optional**. This makes it easier to document and manage complex configuration files. \n",
    "- DevOps tooling (Kubernetes, Ansible, GitHub Actions, many app configs) standardizes on YAML for its clarity and brevity.\n",
    "- JSON is excellent for machine-to-machine communication, but its strict syntax (**no comments**, heavy quoting) can feel verbose to humans maintaining config files.\n",
    "- Python’s standard library lacks YAML support; **PyYAML** is the community-standard package to fill that gap.\n",
    "\n",
    "## YAML Syntax and Features\n",
    "- Structure comes from **spaces for indentation**: tabs are discouraged.  \n",
    "- **Mappings** use `key: value`; **sequences** use a leading hyphen (`-`) plus a space.\n",
    "- Scalars include strings, numbers, booleans (`true / false`, `yes / no`), and `null`.  \n",
    "- Comments begin with `#`.\n",
    "- Multi-line scalars can be literal (`|`) or folded (`>`).  \n",
    "- **Anchors (&) and aliases (*)** avoid repetition by re-using defined blocks.  \n",
    "- YAML is a superset of JSON: most valid JSON documents are also valid YAML."
   ]
  },
  {
   "cell_type": "code",
   "execution_count": 9,
   "id": "47e78505-6a4b-47c0-8a13-db36b5615ea3",
   "metadata": {},
   "outputs": [
    {
     "name": "stdout",
     "output_type": "stream",
     "text": [
      "{'service': {'name': 'user-api', 'port': 8080, 'enabled': True, 'tags': ['api', 'user', 'internal']}, 'staging': {'name': 'user-api', 'port': 8080, 'enabled': True, 'tags': ['api', 'user', 'internal'], 'replicas': 2}, 'production': {'name': 'user-api', 'port': 8080, 'enabled': True, 'tags': ['api', 'user', 'internal'], 'replicas': 4}}\n",
      "{\n",
      "  \"service\": {\n",
      "    \"name\": \"user-api\",\n",
      "    \"port\": 8080,\n",
      "    \"enabled\": true,\n",
      "    \"tags\": [\n",
      "      \"api\",\n",
      "      \"user\",\n",
      "      \"internal\"\n",
      "    ]\n",
      "  },\n",
      "  \"staging\": {\n",
      "    \"name\": \"user-api\",\n",
      "    \"port\": 8080,\n",
      "    \"enabled\": true,\n",
      "    \"tags\": [\n",
      "      \"api\",\n",
      "      \"user\",\n",
      "      \"internal\"\n",
      "    ],\n",
      "    \"replicas\": 2\n",
      "  },\n",
      "  \"production\": {\n",
      "    \"name\": \"user-api\",\n",
      "    \"port\": 8080,\n",
      "    \"enabled\": true,\n",
      "    \"tags\": [\n",
      "      \"api\",\n",
      "      \"user\",\n",
      "      \"internal\"\n",
      "    ],\n",
      "    \"replicas\": 4\n",
      "  }\n",
      "}\n",
      "{\n",
      "  \"literal\": \"line 1\\nline 2\\nline 3\\n\",\n",
      "  \"folded\": \"This is a long string that could go out of screen, so we will break this up into multiple lines to improve readability.\\n\"\n",
      "}\n"
     ]
    }
   ],
   "source": [
    "import yaml, json\n",
    "\n",
    "snippet = \"\"\"\n",
    "service: &svc\n",
    "  name: user-api\n",
    "  port: 8080\n",
    "  enabled: true\n",
    "  tags:\n",
    "    - api\n",
    "    - user\n",
    "    - internal\n",
    "staging:\n",
    "  <<: *svc\n",
    "  replicas: 2\n",
    "production:\n",
    "  <<: *svc\n",
    "  replicas: 4\n",
    "\"\"\"\n",
    "\n",
    "# Deserialize YAML string to Python object\n",
    "parsed = yaml.safe_load(snippet)\n",
    "print(parsed)\n",
    "\n",
    "# To visual JSON\n",
    "print(json.dumps(parsed, indent=2))\n",
    "\n",
    "multiline_demo = \"\"\"\n",
    "literal: |\n",
    "  line 1\n",
    "  line 2\n",
    "  line 3\n",
    "folded: >\n",
    "  This is a long string that\n",
    "  could go out of screen, so\n",
    "  we will break this up into\n",
    "  multiple lines to improve\n",
    "  readability.\n",
    "\"\"\"\n",
    "\n",
    "# Deserialize YAML string to Python object\n",
    "parsed1 = yaml.safe_load(multiline_demo)\n",
    "\n",
    "# To visual JSON\n",
    "print(json.dumps(parsed1, indent=2))"
   ]
  },
  {
   "cell_type": "markdown",
   "id": "e7bb393f-9f72-482f-ac6b-c591d1d50fa1",
   "metadata": {},
   "source": [
    "## Deserializing YAML with `yaml.safe_load`\n",
    "- Prefer **`yaml.safe_load`** (or passing `Loader=yaml.SafeLoader`) to prevent arbitrary-code execution; avoid `yaml.load` on untrusted data.\n",
    "- Accepts a string or an open text file handle and returns native Python structures.  \n",
    "- Wrap calls in `try / except yaml.YAMLError` to catch malformed input."
   ]
  },
  {
   "cell_type": "code",
   "execution_count": 10,
   "id": "a773d052-6124-4cf5-a44f-370a06797e19",
   "metadata": {},
   "outputs": [
    {
     "name": "stdout",
     "output_type": "stream",
     "text": [
      "Compose version: 3.8\n",
      "Web image\t: myapp:latest\n",
      "Redis image\t: redis:alpine\n",
      "{\n",
      "  \"version\": \"3.8\",\n",
      "  \"services\": {\n",
      "    \"web\": {\n",
      "      \"image\": \"myapp:latest\",\n",
      "      \"ports\": [\n",
      "        \"8000:80\"\n",
      "      ]\n",
      "    },\n",
      "    \"redis\": {\n",
      "      \"image\": \"redis:alpine\"\n",
      "    }\n",
      "  }\n",
      "}\n"
     ]
    }
   ],
   "source": [
    "import yaml, json\n",
    "from pathlib import Path\n",
    "\n",
    "compose = Path(\"files/compose.yaml\")\n",
    "\n",
    "try:\n",
    "    with compose.open(\"r\", encoding=\"utf-8\") as file:\n",
    "        config = yaml.safe_load(file)\n",
    "        print(f\"Compose version: {config[\"version\"]}\")\n",
    "    \n",
    "        for svc, options in config[\"services\"].items():\n",
    "            print(f\"{svc.capitalize()} image\\t: {options[\"image\"]}\")\n",
    "except yaml.YAMLError as e:\n",
    "    print(\"YAML error:\")\n",
    "    print(e)\n",
    "\n",
    "# For visualization\n",
    "print(json.dumps(config, indent=2))\n"
   ]
  },
  {
   "cell_type": "markdown",
   "id": "7becb90a-3e6d-4117-ae16-f8746c744e44",
   "metadata": {},
   "source": [
    "## Serializing Python Objects with `yaml.dump`\n",
    "- Use `yaml.dump(obj, indent=2, default_flow_style=False, sort_keys=False)` for readable block-style output.  \n",
    "- Set `stream` to an open file handle to write directly; leave it `None` to return a string."
   ]
  },
  {
   "cell_type": "code",
   "execution_count": 12,
   "id": "dca0853e-c7fc-49c0-b210-b3faa09b7c3b",
   "metadata": {},
   "outputs": [],
   "source": [
    "import yaml\n",
    "from pathlib import Path\n",
    "\n",
    "python_cfg = {\n",
    "    \"service\": {\"name\": \"listener-service\", \"port\": 6789, \"workers\": 4, \"enabled\": False},\n",
    "    \"queues\": [\"high\", \"default\", \"low\"],\n",
    "    \"retry_policy\": None,\n",
    "}\n",
    "\n",
    "output_path = Path(\"files/listener_config.yaml\")\n",
    "\n",
    "with output_path.open(\"w\", encoding=\"utf-8\") as file:\n",
    "    yaml.dump(python_cfg, file, sort_keys=False, default_flow_style=False)"
   ]
  },
  {
   "cell_type": "code",
   "execution_count": null,
   "id": "12b59ac1-b1ef-4d0d-b47e-a2b94f38ecc5",
   "metadata": {},
   "outputs": [],
   "source": []
  }
 ],
 "metadata": {
  "kernelspec": {
   "display_name": ".venv (3.12.9)",
   "language": "python",
   "name": "python3"
  },
  "language_info": {
   "codemirror_mode": {
    "name": "ipython",
    "version": 3
   },
   "file_extension": ".py",
   "mimetype": "text/x-python",
   "name": "python",
   "nbconvert_exporter": "python",
   "pygments_lexer": "ipython3",
   "version": "3.12.9"
  }
 },
 "nbformat": 4,
 "nbformat_minor": 5
}
