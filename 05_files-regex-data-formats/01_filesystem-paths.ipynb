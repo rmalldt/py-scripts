{
 "cells": [
  {
   "cell_type": "markdown",
   "id": "56238708-d927-46f5-8545-d6e11a21d6ac",
   "metadata": {},
   "source": [
    "# Working with Filesystem Paths in Python\n",
    "- Manipulating paths as plain strings is error-prone and OS-specific.  \n",
    "- `pathlib` provides an object-oriented, cross-platform way to handle paths where paths are objects with methods making code more readble and expressive compared to the string-based functinal approach of `os.path`.  \n",
    "- `Path` objects offer intuitive operators and methods for most filesystem tasks.\n",
    "\n",
    "## Limitations of String Paths and `os.path`\n",
    "- Using `os.path.join`, `os.path.exists`, etc., requires multiple function calls.  \n",
    "- Code readability suffers when paths are manipulated as plain strings.  \n",
    "- OS differences (\"/\" vs \"\\\\\" separators) must be handled explicitly.\n",
    "\n",
    "## Creating and Combining `Path` Objects\n",
    "- Import `Path` from `pathlib`.  \n",
    "- Create `Path` objects for directories and files.  \n",
    "- Use the `/` operator to join path components cleanly.  "
   ]
  },
  {
   "cell_type": "code",
   "execution_count": 1,
   "id": "dca0853e-c7fc-49c0-b210-b3faa09b7c3b",
   "metadata": {},
   "outputs": [
    {
     "name": "stdout",
     "output_type": "stream",
     "text": [
      "<class 'pathlib.PosixPath'>\n",
      ".\n",
      "/Users/rupeshmall/Documents/RMFiles/Python/Projects/python-basics/python-devops/05_files-regex-data-formats\n",
      "settings.yaml\n",
      "/Users/rupeshmall/Documents/RMFiles/Python/Projects/python-basics/python-devops/05_files-regex-data-formats/settings.yaml\n"
     ]
    }
   ],
   "source": [
    "from pathlib import Path\n",
    "\n",
    "config_dir = Path(\".\")\n",
    "print(type(config_dir))\n",
    "print(config_dir)                   # filename\n",
    "print(config_dir.resolve())         # resolve returns full path\n",
    "\n",
    "filename = \"settings.yaml\"\n",
    "config_path = config_dir / filename # `/` join paths\n",
    "\n",
    "print(config_path)                  # filename\n",
    "print(config_path.resolve())        # resolve returns the full path\n"
   ]
  },
  {
   "cell_type": "markdown",
   "id": "5df4f188-3b91-44b9-892a-a6230a9ad22f",
   "metadata": {},
   "source": [
    "## Inspecting Path Properties\n",
    "- `.exists()`, `.is_file()`, `.is_dir()` check path state.  \n",
    "- `.parent`, `.name`, `.stem`, `.suffix` expose components.  \n",
    "- `.resolve()` returns the absolute, canonical path.  "
   ]
  },
  {
   "cell_type": "code",
   "execution_count": null,
   "id": "aab0eccc-81ba-4087-af69-7da00f95519c",
   "metadata": {},
   "outputs": [
    {
     "name": "stdout",
     "output_type": "stream",
     "text": [
      "Exists: False\n",
      "Is file? False\n",
      "Is directory? False\n",
      "Parent: /var/log/app\n",
      "Name: service.log\n",
      "Stem: service\n",
      "Suffix: .log\n"
     ]
    }
   ],
   "source": [
    "from pathlib import Path\n",
    "\n",
    "service_log = Path(\"/var/log/app/service.log\")\n",
    "\n",
    "# File states\n",
    "print(f\"Exists: {service_log.exists()}\")\n",
    "print(f\"Is file? {service_log.is_file()}\")\n",
    "print(f\"Is directory? {service_log.is_dir()}\")\n",
    "\n",
    "# File attributes\n",
    "print(f\"Parent: {service_log.parent}\")\n",
    "print(f\"Name: {service_log.name}\")\n",
    "print(f\"Stem: {service_log.stem}\")\n",
    "print(f\"Suffix: {service_log.suffix}\")\n"
   ]
  },
  {
   "cell_type": "markdown",
   "id": "ba0fbcd7-a2f2-4fa3-9f1e-f025fe5e9b61",
   "metadata": {},
   "source": [
    "## Listing Directory Contents\n",
    "- `.iterdir()` yields immediate children of a directory.  \n",
    "- `.glob(pattern)` finds entries matching a shell-style pattern.  \n",
    "- Use `\"**/*.ext\"` in `glob` for recursive searches.  "
   ]
  },
  {
   "cell_type": "code",
   "execution_count": 4,
   "id": "0980e1cd-fe00-4f92-8ec6-766835289a3a",
   "metadata": {},
   "outputs": [
    {
     "name": "stdout",
     "output_type": "stream",
     "text": [
      "/Users/rupeshmall/Documents/RMFiles/Python/Projects/python-basics/python-devops\n",
      "Immediate children:\n",
      "\thttp-requests - True\n",
      "\tautomated-testing - True\n",
      "\t03_error-handling - True\n",
      "\timages - True\n",
      "\t04_logging - True\n",
      "\t01-python-fundamentals - True\n",
      "\ttyping - True\n",
      "\t05_files-regex-data-formats - True\n",
      "\tmulti-file-projects - True\n",
      "\t.ipynb_checkpoints - True\n",
      "\t02_generators-decorators - True\n",
      "\tvirtual-envs - True\n",
      "\t06_interacting-with-os - True\n",
      "Python files recursively:\n",
      "\t../http-requests/handling-errors-status-codes.ipynb\n",
      "\t../http-requests/retries-timeouts.ipynb\n",
      "\t../http-requests/making-http-requests.ipynb\n",
      "\t../http-requests/authentication.ipynb\n",
      "\t../03_error-handling/03_custom-exceptions.ipynb\n",
      "\t../03_error-handling/05_custom-context-managers.ipynb\n",
      "\t../03_error-handling/01_built-in-exceptions.ipynb\n",
      "\t../03_error-handling/02_raising-exceptions.ipynb\n",
      "\t../03_error-handling/04_context-managers.ipynb\n",
      "\t../04_logging/01_logging-anatomy.ipynb\n",
      "\t../01-python-fundamentals/08_loops.ipynb\n"
     ]
    }
   ],
   "source": [
    "from pathlib import Path\n",
    "\n",
    "parent_dir = Path(\"..\")\n",
    "print(parent_dir.resolve())\n",
    "\n",
    "# List children\n",
    "print(\"Immediate children:\")\n",
    "for child in parent_dir.iterdir():\n",
    "    print(f\"\\t{child.name} - {child.is_dir()}\" )\n",
    "\n",
    "# List recursively\n",
    "print(\"Python files recursively:\")\n",
    "for i, child in enumerate(parent_dir.glob(\"**/*.ipynb\")):\n",
    "    print(f\"\\t{child}\")\n",
    "    if i >= 10: break\n"
   ]
  },
  {
   "cell_type": "markdown",
   "id": "d25a3145-bff1-4aa5-962f-eedbfbb29700",
   "metadata": {},
   "source": [
    "## Reading and Writing Files with `Path`\n",
    "- `.write_text()` and `.read_text()` handle simple text I/O.  \n",
    "- Use `p.open(mode=\"a\")` for more control (e.g., appending, binary mode).  \n",
    "- Path methods automatically manage file open/close.  "
   ]
  },
  {
   "cell_type": "code",
   "execution_count": 5,
   "id": "271f0aa0-26fe-48f6-94f8-aee210bec5bc",
   "metadata": {},
   "outputs": [
    {
     "name": "stdout",
     "output_type": "stream",
     "text": [
      "Read back: Hello, from pathlib!\n",
      "Read back: Hello, from pathlib!\n",
      "Appended line!\n"
     ]
    }
   ],
   "source": [
    "from pathlib import Path\n",
    "\n",
    "test_file = Path(\"demo.txt\")\n",
    "\n",
    "# Write to file in 'w' mode i.e. always creates a new file. File automatically closed.\n",
    "test_file.write_text(\"Hello, from pathlib!\", encoding=\"utf-8\")\n",
    "print(f\"Read back: {test_file.read_text(encoding=\"utf-8\")}\")\n",
    "\n",
    "# Using path to file\n",
    "with test_file.open(mode=\"a\", encoding=\"utf-8\") as file:\n",
    "    file.write(\"\\nAppended line!\")\n",
    "\n",
    "print(f\"Read back: {test_file.read_text(encoding=\"utf-8\")}\")\n",
    "\n",
    "# Delete the file, use rmdir if dir\n",
    "test_file.unlink()"
   ]
  },
  {
   "cell_type": "markdown",
   "id": "04e7c546",
   "metadata": {},
   "source": [
    "## Hands-on Exercise"
   ]
  },
  {
   "cell_type": "code",
   "execution_count": 6,
   "id": "513a25e0",
   "metadata": {},
   "outputs": [
    {
     "name": "stdout",
     "output_type": "stream",
     "text": [
      "Name: app-v2.1.tar.gz\n",
      "Parent: artifacts\n",
      "Stem: app-v2.1.tar\n",
      "Suffix: .gz\n"
     ]
    }
   ],
   "source": [
    "from pathlib import Path\n",
    "\n",
    "base_dir = Path(\"/opt/deployments/artifacts\")\n",
    "artifact_file = \"app-v2.1.tar.gz\"\n",
    " \n",
    "full_path = base_dir / artifact_file\n",
    " \n",
    "print(f\"Name: {full_path.name}\")\n",
    "print(f\"Parent: {full_path.parent.name}\")\n",
    "print(f\"Stem: {full_path.stem}\")\n",
    "print(f\"Suffix: {full_path.suffix}\")"
   ]
  },
  {
   "cell_type": "code",
   "execution_count": null,
   "id": "a1c9f5f3",
   "metadata": {},
   "outputs": [],
   "source": []
  }
 ],
 "metadata": {
  "kernelspec": {
   "display_name": "Python 3 (ipykernel)",
   "language": "python",
   "name": "python3"
  },
  "language_info": {
   "codemirror_mode": {
    "name": "ipython",
    "version": 3
   },
   "file_extension": ".py",
   "mimetype": "text/x-python",
   "name": "python",
   "nbconvert_exporter": "python",
   "pygments_lexer": "ipython3",
   "version": "3.12.9"
  }
 },
 "nbformat": 4,
 "nbformat_minor": 5
}
