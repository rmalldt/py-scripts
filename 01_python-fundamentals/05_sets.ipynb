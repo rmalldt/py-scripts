{
 "cells": [
  {
   "cell_type": "markdown",
   "id": "d7c79d37",
   "metadata": {},
   "source": [
    "# Sets (`set`)\n",
    "\n",
    "- **Characteristics:** Unordered, Mutable, Unique items only (duplicates removed)\n",
    "  - The items of a set **must be immutable**.\n",
    "- **Use Cases:** Membership testing, removing duplicates, set operations (union, intersection, difference)."
   ]
  },
  {
   "cell_type": "code",
   "execution_count": null,
   "id": "2f67b393",
   "metadata": {},
   "outputs": [
    {
     "name": "stdout",
     "output_type": "stream",
     "text": [
      "{1, 2, 3, 4, 5}\n",
      "{'3', '5', '2', '4', '1'}\n",
      "{0, 2, 4, 6, 8}\n",
      "<class 'dict'>\n",
      "<class 'set'>\n",
      "{'red', 'blue', 'green'}\n"
     ]
    }
   ],
   "source": [
    "# Using literals\n",
    "num_set = {1, 2, 3, 4, 5}\n",
    "print(num_set)\n",
    "\n",
    "# Using constructor\n",
    "numbers = set(\"12345\")\n",
    "print(numbers)\n",
    "\n",
    "range_set = set(range(0, 10, 2))\n",
    "print(range_set)\n",
    "\n",
    "# Creating empty set\n",
    "empty_set = {}\n",
    "print(type(empty_set))  # <class 'dict'> NOT set\n",
    "\n",
    "empty_set = {*\"\"}\n",
    "empty_set = {*{}}\n",
    "print(type(empty_set))  # <class 'set'>\n",
    "\n",
    "# Unique element only\n",
    "colors = [\"red\", \"green\", \"blue\", \"red\", \"blue\"]\n",
    "unique_colors = set(colors)\n",
    "print(unique_colors)  # {'green', 'cyan', 'blue', 'red', 'yellow'}\n"
   ]
  },
  {
   "cell_type": "markdown",
   "id": "61c58902-3118-4c32-82f6-85061b7d7917",
   "metadata": {},
   "source": [
    "## Set Operations\n",
    "\n",
    "- **Membership Testing:** Check if an item exists in a set using the `in` keyword.\n",
    "- **Adding Items:** Use `add()` to add an item to a set.\n",
    "- **Removing Items:** Use `remove()` to remove an item (raises an error if the item doesn't exist) or `discard()` to remove an item (doesn't raise an error if the item doesn't exist).\n",
    "- **Set Operations:**\n",
    "    - **Union:** Combine all unique items from two sets using `union()` or `|`.\n",
    "    - **Intersection:** Find common items between two sets using `intersection()` or `&`.\n",
    "    - **Difference:** Find items in one set but not in another using `difference()` or `-`."
   ]
  },
  {
   "cell_type": "code",
   "execution_count": 7,
   "id": "d322affb-a9b4-4e7f-b562-88c70e31bfa8",
   "metadata": {},
   "outputs": [
    {
     "name": "stdout",
     "output_type": "stream",
     "text": [
      "{80, 443, 8080, 22}\n",
      "True\n",
      "False\n",
      "{80, 8080, 22, 3000, 443}\n",
      "{80, 8080, 3000, 443}\n",
      "{80, 8080, 3000, 443}\n",
      "{8080, 3000, 443}\n",
      "{3500, 8080, 3000, 443}\n",
      "set()\n"
     ]
    }
   ],
   "source": [
    "unique_ports = set([80, 443, 22, 80, 8080, 443])\n",
    "server_names = {\"web01\", \"web02\"}\n",
    "\n",
    "print(unique_ports)\n",
    "print(22 in unique_ports)\n",
    "print(22 in server_names)\n",
    "\n",
    "unique_ports.add(3000)\n",
    "print(unique_ports)\n",
    "\n",
    "unique_ports.remove(22)\n",
    "print(unique_ports)\n",
    "# unique_ports.remove(22)         # will raise KeyError because item 22 is not in the set anymore\n",
    "\n",
    "unique_ports.discard(22)          # will not raise KeyError\n",
    "print(unique_ports)\n",
    "\n",
    "unique_ports.pop()                # removes arbitary item from set\n",
    "print(unique_ports)\n",
    "\n",
    "unique_ports.update([3000, 3500]) # update the set with union of itself and the added list\n",
    "print(unique_ports)\n",
    "\n",
    "unique_ports.clear()\n",
    "print(unique_ports)\n"
   ]
  },
  {
   "cell_type": "code",
   "execution_count": 8,
   "id": "302359f2-2892-4476-b267-fbb3efd33abb",
   "metadata": {},
   "outputs": [
    {
     "name": "stdout",
     "output_type": "stream",
     "text": [
      "{(1, 2), (3, 4)}\n",
      "True\n",
      "False\n"
     ]
    }
   ],
   "source": [
    "# set_of_lists = set([[1, 2], [3, 4]]) # will throw a TypeError, since lists are mutable\n",
    "# set_of_sets = {{1, 2}, {3, 4}}       # will throw a TypeError, since sets are mutable\n",
    "\n",
    "# Set items must be hashable since each element must be unique. Only immutable objects are hashable in Python.\n",
    "set_of_tuples = {(1, 2), (3, 4)}\n",
    "print(set_of_tuples)\n",
    "print((1, 2) in set_of_tuples)\n",
    "print((1, 3) in set_of_tuples)\n"
   ]
  },
  {
   "cell_type": "markdown",
   "id": "1148ddae",
   "metadata": {},
   "source": [
    "### Sets\n",
    "\n",
    "<img src=\"../images/sets.png\" alt=\"illustration\" height=\"300\"/>\n",
    "\n",
    "### Set Union\n",
    "\n",
    "<img src=\"../images/set_union.png\" alt=\"illustration\" height=\"300\"/>\n",
    "\n",
    "### Set Intersection\n",
    "\n",
    "<img src=\"../images/set_intersection.png\" alt=\"illustration\" height=\"300\"/>\n",
    "\n",
    "### Set Difference\n",
    "\n",
    "<img src=\"../images/set_difference.png\" alt=\"illustration\" height=\"300\"/>\n",
    "\n",
    "### Symmetric Difference\n",
    "\n",
    "<img src=\"../images/symmetric_difference.png\" alt=\"illustration\" height=\"300\"/>\n"
   ]
  },
  {
   "cell_type": "code",
   "execution_count": null,
   "id": "a03d3012-c5f0-4a78-a5ab-61d965aef712",
   "metadata": {},
   "outputs": [
    {
     "name": "stdout",
     "output_type": "stream",
     "text": [
      "hen is present in set {'hen', 'cow', 'horse', 'sheep', 'goat'} \n",
      "Union: {'elephant', 'hen', 'cow', 'horse', 'lion', 'goat', 'tiger', 'sheep'}\n",
      "Intersection: {'horse', 'goat'}\n",
      "Difference: {'cow', 'hen', 'sheep'}\n",
      "Symmetric difference: {'elephant', 'hen', 'sheep', 'tiger', 'cow', 'lion'}\n",
      "True\n",
      "True\n",
      "True\n",
      "True\n"
     ]
    }
   ],
   "source": [
    "# Set operations\n",
    "farm_animals = {\"hen\", \"cow\", \"sheep\", \"horse\", \"goat\"}\n",
    "wild_animals = {\"lion\", \"tiger\", \"elephant\", \"horse\", \"goat\"}\n",
    "\n",
    "# Set membership\n",
    "if \"hen\" in farm_animals:\n",
    "    print(f\"hen is present in set {farm_animals} \")\n",
    "\n",
    "# ----- All set operations return a new set\n",
    "\n",
    "# Set union\n",
    "union = farm_animals.union(wild_animals)  # union\n",
    "union = farm_animals | wild_animals  # |\n",
    "print(f\"Union: {union}\")\n",
    "\n",
    "# Set intersection\n",
    "intersection = farm_animals.intersection(wild_animals)\n",
    "intersection = farm_animals & wild_animals\n",
    "print(f\"Intersection: {intersection}\")\n",
    "\n",
    "# Set difference\n",
    "difference = farm_animals.difference(wild_animals)\n",
    "difference = farm_animals - wild_animals\n",
    "print(f\"Difference: {difference}\")\n",
    "\n",
    "# Symmetric difference\n",
    "symmetric_diff = farm_animals.symmetric_difference(wild_animals)\n",
    "symmetric_diff = farm_animals ^ wild_animals\n",
    "print(f\"Symmetric difference: {symmetric_diff}\")\n",
    "\n",
    "# Superset and Subset\n",
    "a = {1, 2, 3, 4, 5}\n",
    "b = {3, 4}\n",
    "\n",
    "print(a.issuperset(b))\n",
    "print(a >= b)  # a is superset of b\n",
    "\n",
    "print(b.issubset(a))\n",
    "print(b <= a)  # b is subset of a"
   ]
  },
  {
   "cell_type": "markdown",
   "id": "e29ecb1d",
   "metadata": {},
   "source": [
    "## Hands-on Exercise: Sets Practice\n",
    "\n",
    "**Goal:** Practice creating and manipulating sets in Python.\n",
    "\n",
    "**Instructions:**\n",
    "1. Create a set of strings named `required_packages`, representing possible required packages.\n",
    "2. Include a few duplicates to practice set operations.\n",
    "3. Test for membership of 'requests' and 'ansible' strings.\n",
    "4. Add 'paramiko' and safely remove 'pip' from the set.\n",
    "5. Create another set of strings, now named `installed`. Mention a few of the packages listed under the `required` set.\n",
    "6. Given these two sets, compute missing, extra, and common packages."
   ]
  },
  {
   "cell_type": "code",
   "execution_count": 5,
   "id": "7ca1ac04",
   "metadata": {},
   "outputs": [
    {
     "name": "stdout",
     "output_type": "stream",
     "text": [
      "{'pip', 'boto3', 'python3', 'requests'}\n",
      "Is 'requests' required? True\n",
      "Is 'ansible' required? False\n",
      "{'paramiko', 'python3', 'requests', 'boto3'}\n",
      "Missing packages: {'paramiko', 'boto3', 'requests'}\n",
      "Extra packages: {'pip', 'docker'}\n",
      "Common packages: {'python3'}\n"
     ]
    }
   ],
   "source": [
    "required_packages = set([\"python3\", \"pip\", \"requests\", \"boto3\", \"pip\"])\n",
    "print(required_packages)\n",
    "\n",
    "print(f\"Is 'requests' required? {\"requests\" in required_packages}\")\n",
    "print(f\"Is 'ansible' required? {\"ansible\" in required_packages}\")\n",
    "\n",
    "required_packages.add(\"paramiko\")\n",
    "required_packages.discard(\"pip\")\n",
    "print(required_packages)\n",
    "\n",
    "installed_packages = {\"docker\", \"python3\", \"pip\"}\n",
    "missing_packages = required_packages - installed_packages\n",
    "extra_packages = installed_packages - required_packages\n",
    "common_packages = required_packages & installed_packages\n",
    "\n",
    "print(f\"Missing packages: {missing_packages}\")\n",
    "print(f\"Extra packages: {extra_packages}\")\n",
    "print(f\"Common packages: {common_packages}\")"
   ]
  },
  {
   "cell_type": "code",
   "execution_count": null,
   "id": "d1bfe5fb",
   "metadata": {},
   "outputs": [],
   "source": []
  }
 ],
 "metadata": {
  "kernelspec": {
   "display_name": ".venv (3.12.9)",
   "language": "python",
   "name": "python3"
  },
  "language_info": {
   "codemirror_mode": {
    "name": "ipython",
    "version": 3
   },
   "file_extension": ".py",
   "mimetype": "text/x-python",
   "name": "python",
   "nbconvert_exporter": "python",
   "pygments_lexer": "ipython3",
   "version": "3.12.9"
  }
 },
 "nbformat": 4,
 "nbformat_minor": 5
}
