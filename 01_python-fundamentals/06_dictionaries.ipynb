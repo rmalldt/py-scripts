{
 "cells": [
  {
   "cell_type": "markdown",
   "id": "673d5858",
   "metadata": {},
   "source": [
    "# Dictionaries (`dict`)\n",
    "\n",
    "Dictionaries are mutable, insertion-ordered collections of key-value pairs. Keys must be unique and immutable; values can be of any type."
   ]
  },
  {
   "cell_type": "markdown",
   "id": "8e1f18ff",
   "metadata": {},
   "source": [
    "## Characteristics and Use Cases\n",
    "- Insertion-ordered (Python 3.7+)\n",
    "- Mutable: add, remove, or change key-value pairs\n",
    "- Fast lookups by key\n",
    "- Ideal for configuration data, JSON-like structures, and lookups"
   ]
  },
  {
   "cell_type": "code",
   "execution_count": 11,
   "id": "f68315ea",
   "metadata": {},
   "outputs": [
    {
     "name": "stdout",
     "output_type": "stream",
     "text": [
      "All dictionaries are equal: True \n",
      "New dict: {'k1': 'default', 'k2': 'default', 'k3': 'default'}\n",
      "Dict copy: {'k1': 'default', 'k2': 'default', 'k3': 'default'}\n",
      "New dict: {}\n",
      "Dict copy: {'k1': 'default', 'k2': 'default', 'k3': 'default'}\n"
     ]
    }
   ],
   "source": [
    "# Create dictionary with dict literal\n",
    "a = {\"one\": 1, \"two\": 2, \"three\": 3}\n",
    "\n",
    "# Create dictionary using dict constructor\n",
    "b = dict(one=1, two=2, three=3)\n",
    "c = dict({\"one\": 1, \"two\": 2, \"three\": 3})\n",
    "d = dict([(\"one\", 1), (\"two\", 2), (\"three\", 3)])\n",
    "e = dict(zip([\"one\", \"two\", \"three\"], [1, 2, 3]))\n",
    "print(f\"All dictionaries are equal: {a == b == c == d == e} \")\n",
    "\n",
    "# Create dictionary fromkeys()\n",
    "keys = (\"k1\", \"k2\", \"k3\")\n",
    "new_dict = dict.fromkeys(keys, \"default\")\n",
    "print(f\"New dict: {new_dict}\")\n",
    "\n",
    "# Create a new shallow copy of the dictionary with copy()\n",
    "dict_copy = new_dict.copy()\n",
    "print(f\"Dict copy: {dict_copy}\")\n",
    "\n",
    "# Remove all elements from dictionary with clear()\n",
    "new_dict.clear()\n",
    "print(f\"New dict: {new_dict}\")\n",
    "print(f\"Dict copy: {dict_copy}\")"
   ]
  },
  {
   "cell_type": "markdown",
   "id": "d241bd89-adc5-456e-818d-6b93a887c149",
   "metadata": {},
   "source": [
    "## Dictionary Operations Overview\n",
    "\n",
    "Dictionaries in Python support a variety of operations for efficient data manipulation:\n",
    "\n",
    "- **Length**: Use `len(my_dictionary)` to get the number of key-value pairs.\n",
    "- **Accessing Keys, Values, and Items**: Use `my_dictionary.keys()`, `my_dictionary.values()`, and `my_dictionary.items()` to retrieve keys, values, or key-value pairs.\n",
    "- **Membership Test**: Check if a key exists using `'key' in my_dictionary`.\n",
    "- **Get with Default**: Use `my_dictionary.get('key', default)` to safely retrieve a value with a fallback.\n",
    "- **Setdefault**: Add a key with a default value if it doesn't exist using `my_dictionary.setdefault(key, default)`.\n",
    "- **Pop and Popitem**: Remove a specific key with `my_dictionary.pop(key)` or remove an arbitrary key-value pair with `my_dictionary.popitem()`.\n",
    "- **Merging**: Combine dictionaries using the `|` operator (Python 3.9+) or `update()` method.\n",
    "- **Fromkeys**: Create a new dictionary with specified keys and a default value using `dict.fromkeys(keys, value)`.\n",
    "- **Clear**: Remove all items from the dictionary with `my_dictionary.clear()`."
   ]
  },
  {
   "cell_type": "code",
   "execution_count": 1,
   "id": "773e70a5",
   "metadata": {},
   "outputs": [
    {
     "name": "stdout",
     "output_type": "stream",
     "text": [
      "{'a': 1, 'b': 2, 'c': 3}\n",
      "Length: 3\n",
      "Keys: dict_keys(['a', 'b', 'c'])\n",
      "Values: dict_values([1, 2, 3])\n",
      "Items: dict_items([('a', 1), ('b', 2), ('c', 3)])\n",
      "<class 'tuple'>\n",
      "<class 'tuple'>\n",
      "<class 'tuple'>\n",
      "- a: 1\n",
      "- b: 2\n",
      "- c: 3\n",
      "'b' is in my_dictionary? True\n",
      "'d' is in my_dictionary? False\n",
      "1 is in my_dictionary? False\n",
      "1 is in values of my_dictionary? True\n",
      "'b': 2\n",
      "'b': 2\n",
      "'e' with default: -1\n",
      "{'a': 1, 'b': 2, 'c': 3, 'd': 4, 'e': 5}\n",
      "Removed value: 1\n",
      "Removed value: None\n",
      "Removed value: ('e', 5)\n",
      "Removed value: ('d', 4)\n",
      "{'environment': 'Production', 'owner': 'Finance', 'cost_center': '12345', 'region': 'us-east'}\n"
     ]
    }
   ],
   "source": [
    "mdict = {'a': 1, 'b': 2, 'c': 3}\n",
    "print(mdict)\n",
    "\n",
    "print(f\"Length: {len(mdict)}\")\n",
    "\n",
    "# Keys, Values, and Items\n",
    "print(f\"Keys: {mdict.keys()}\")\n",
    "print(f\"Values: {mdict.values()}\")\n",
    "print(f\"Items: {mdict.items()}\")\n",
    "\n",
    "for item in mdict.items():\n",
    "    print(type(item))\n",
    "\n",
    "for key, value in mdict.items():\n",
    "    print(f\"- {key}: {value}\")\n",
    "\n",
    "# Membership test\n",
    "print(f\"'b' is in my_dictionary? {\"b\" in mdict}\")\n",
    "print(f\"'d' is in my_dictionary? {\"d\" in mdict}\")\n",
    "print(f\"1 is in my_dictionary? {1 in mdict}\")\n",
    "print(f\"1 is in values of my_dictionary? {1 in set(mdict.values())}\")\n",
    "\n",
    "# Access elements\n",
    "print(\"'b':\", mdict[\"b\"])     # will raise KeyError if key is not present in the dictionary\n",
    "print(\"'b':\", mdict.get(\"b\")) # will not raise KeyError\n",
    "print(\"'e' with default:\", mdict.get(\"e\", -1))\n",
    "\n",
    "# Add/update elements\n",
    "mdict[\"d\"] = 4 \n",
    "mdict.update({\"e\": 5})\n",
    "print(mdict)\n",
    "\n",
    "# Remove elements\n",
    "removed = mdict.pop(\"a\", None)\n",
    "print(f\"Removed value: {removed}\")\n",
    "removed = mdict.pop(\"z\", None)\n",
    "print(f\"Removed value: {removed}\")\n",
    "\n",
    "removed = mdict.popitem()\n",
    "print(f\"Removed value: {removed}\")\n",
    "removed = mdict.popitem()\n",
    "print(f\"Removed value: {removed}\")\n",
    "\n",
    "# Merge dictionaries\n",
    "default_tags = {\n",
    "    \"environment\": \"Production\",\n",
    "    \"owner\": \"Finance\",\n",
    "    \"cost_center\": \"00000\"\n",
    "}\n",
    "\n",
    "custom_tags = {\n",
    "    \"cost_center\": \"12345\",\n",
    "    \"region\": 'us-east'\n",
    "}\n",
    "\n",
    "merged_tags = default_tags | custom_tags\n",
    "print(merged_tags)"
   ]
  },
  {
   "cell_type": "markdown",
   "id": "548441bd",
   "metadata": {},
   "source": [
    "## Shallow copy vs Deep copy"
   ]
  },
  {
   "cell_type": "code",
   "execution_count": 23,
   "id": "ec641afe",
   "metadata": {},
   "outputs": [
    {
     "name": "stdout",
     "output_type": "stream",
     "text": [
      "Shallow copy, 1 level: {'one': 1000, 'two': 2, 'three': 3}\n",
      "Shallow copy, 1 level: {'one': 1, 'two': 2, 'three': 3}\n",
      "Shallow copy, nested: {'numbers': {'one': 1000, 'two': 2, 'three': 3}, 'letters': ['a', 'b', 'c', 'd']}\n",
      "Shallow copy, nested: {'numbers': {'one': 1000, 'two': 2, 'three': 3}, 'letters': ['a', 'b', 'c', 'd']}\n",
      "Deep copy, nested: {'numbers': {'one': 1, 'two': 2, 'three': 3}, 'letters': ['a', 'b', 'c']}\n",
      "Deep copy, nested: {'numbers': {'one': 1000, 'two': 2, 'three': 3}, 'letters': ['a', 'b', 'c', 'd']}\n"
     ]
    }
   ],
   "source": [
    "import copy\n",
    "\n",
    "def shallowcopy_deepcopy() -> None:\n",
    "    # ----- Shallow copy\n",
    "\n",
    "    # Works since the dictionary doesn't have nested array or objects\n",
    "    items = {\"one\": 1, \"two\": 2, \"three\": 3}\n",
    "    items_copy = items.copy()\n",
    "    items[\"one\"] = 1000  # mutate\n",
    "    print(f\"Shallow copy, 1 level: {items}\")         # {'one': 1000, 'two': 2, 'three': 3}\n",
    "    print(f\"Shallow copy, 1 level: {items_copy}\")    # {'one': 1, 'two': 2, 'three': 3}\n",
    "\n",
    "    # Doesn't work in this case as the dictionary has nested items\n",
    "    # which are mutable\n",
    "    nested = {\n",
    "        \"numbers\": {\"one\": 1, \"two\": 2, \"three\": 3},\n",
    "        \"letters\": [\"a\", \"b\", \"c\"],\n",
    "    }\n",
    "\n",
    "    nested_copy = nested.copy()\n",
    "    nested[\"numbers\"][\"one\"] = 1000\n",
    "    nested[\"letters\"].append(\"d\")\n",
    "    print(f\"Shallow copy, nested: {nested}\")\n",
    "    print(f\"Shallow copy, nested: {nested_copy}\")\n",
    "\n",
    "    # ----- Deep copy using the deepcopy()\n",
    "\n",
    "    nested_deepcopy = copy.deepcopy(nested)\n",
    "    nested[\"numbers\"][\"one\"] = 1\n",
    "    nested[\"letters\"].pop()\n",
    "    print(f\"Deep copy, nested: {nested}\")\n",
    "    print(f\"Deep copy, nested: {nested_deepcopy}\")\n",
    "\n",
    "\n",
    "shallowcopy_deepcopy()\n"
   ]
  },
  {
   "cell_type": "markdown",
   "id": "e69298a8",
   "metadata": {},
   "source": [
    "## Hands-on Exercise\n",
    "Practice creating and manipulating dictionaries:\n",
    "1. Create a `server_info` dict with keys: `'id'`, `'ip_address'`, `'state'`, and `'tags'` (a dictionary of tag keys and tag values)\n",
    "2. Print the server's `'state'`\n",
    "3. Safely get `'instance_type'` with default `'t2.micro'`\n",
    "4. Change `'state'` to `'stopped'`\n",
    "5. Add a new tag to `tags` dictionary\n",
    "6. Iterate over the dictionary with `.items()` to display key-value pairs"
   ]
  },
  {
   "cell_type": "code",
   "execution_count": 49,
   "id": "64295288-0e18-41fa-b7f4-0e893ac36b28",
   "metadata": {},
   "outputs": [
    {
     "name": "stdout",
     "output_type": "stream",
     "text": [
      "Server state: running\n",
      "Instance type: t2.micro\n",
      "{'id': 'web01', 'ip_address': '192.168.1.1', 'state': 'stopped', 'tags': {'environment': 'production', 'owner': 'engineering'}}\n",
      "{'id': 'web01', 'ip_address': '192.168.1.1', 'state': 'stopped', 'tags': {'environment': 'production', 'owner': 'engineering', 'region': 'eu-central-1'}}\n",
      "- id: web01\n",
      "- ip_address: 192.168.1.1\n",
      "- state: stopped\n",
      "- tags: {'environment': 'production', 'owner': 'engineering', 'region': 'eu-central-1'}\n"
     ]
    }
   ],
   "source": [
    "server_info = {\n",
    "    \"id\": \"web01\",\n",
    "    \"ip_address\": \"192.168.1.1\",\n",
    "    \"state\": \"running\",\n",
    "    \"tags\": {\n",
    "        \"environment\": \"production\",\n",
    "        \"owner\": \"engineering\"\n",
    "    }\n",
    "}\n",
    "\n",
    "print(\"Server state:\", server_info.get(\"state\"))\n",
    "\n",
    "instance_type = server_info.get(\"instance_type\", \"t2.micro\")\n",
    "print(\"Instance type:\", instance_type)\n",
    "\n",
    "server_info[\"state\"] = \"stopped\"\n",
    "print(server_info)\n",
    "\n",
    "server_info[\"tags\"][\"region\"] = \"eu-central-1\"\n",
    "print(server_info)\n",
    "\n",
    "for key, value in server_info.items():\n",
    "    print(f\"- {key}: {value}\")"
   ]
  },
  {
   "cell_type": "code",
   "execution_count": null,
   "id": "ea4c6ee1-d417-4d6d-84eb-c971f6fbe63a",
   "metadata": {},
   "outputs": [
    {
     "name": "stdout",
     "output_type": "stream",
     "text": [
      "Chicken and chips: [('chicken', 100), ('potatoes', 3), ('salt', 1), ('malt vinegar', 5)]\n",
      "chicken, 100\n",
      "potatoes, 3\n",
      "salt, 1\n",
      "malt vinegar, 5\n",
      "Chicken and chips: {'chicken': 100, 'potatoes': 3, 'salt': 1, 'malt vinegar': 5}\n",
      "chicken, 100\n",
      "potatoes, 3\n",
      "salt, 1\n",
      "malt vinegar, 5\n"
     ]
    }
   ],
   "source": [
    "# Nested dicts\n",
    "\n",
    "# dict with key: value where value is a list of tuples\n",
    "recipes_tuple = {\n",
    "    \"Chicken and chips\": [\n",
    "        (\"chicken\", 100),\n",
    "        (\"potatoes\", 3),\n",
    "        (\"salt\", 1),\n",
    "        (\"malt vinegar\", 5),\n",
    "    ]\n",
    "}\n",
    "\n",
    "# dict with key: value where value is a dict\n",
    "recipes_dict = {\n",
    "    \"Chicken and chips\": {\n",
    "        \"chicken\": 100,\n",
    "        \"potatoes\": 3,\n",
    "        \"salt\": 1,\n",
    "        \"malt vinegar\": 5,\n",
    "    }\n",
    "}\n",
    "\n",
    "# Using tuples\n",
    "for key, value in recipes_tuple.items():\n",
    "    print(key, value, sep=\": \")\n",
    "    for ingredient, quantity in value:  \n",
    "        print(ingredient, quantity, sep=\", \")\n",
    "\n",
    "# Using dict\n",
    "for key, value in recipes_dict.items():\n",
    "    print(key, value, sep=\": \")\n",
    "    for ingredient, quantity in value.items():  \n",
    "        print(ingredient, quantity, sep=\", \")\n"
   ]
  },
  {
   "cell_type": "code",
   "execution_count": null,
   "id": "0b7ab788",
   "metadata": {},
   "outputs": [],
   "source": []
  }
 ],
 "metadata": {
  "kernelspec": {
   "display_name": "Python 3 (ipykernel)",
   "language": "python",
   "name": "python3"
  },
  "language_info": {
   "codemirror_mode": {
    "name": "ipython",
    "version": 3
   },
   "file_extension": ".py",
   "mimetype": "text/x-python",
   "name": "python",
   "nbconvert_exporter": "python",
   "pygments_lexer": "ipython3",
   "version": "3.12.9"
  }
 },
 "nbformat": 4,
 "nbformat_minor": 5
}
