{
 "cells": [
  {
   "cell_type": "markdown",
   "id": "b23cced1",
   "metadata": {
    "language": "markdown"
   },
   "source": [
    "# If / Elif / Else Logic\n",
    "\n",
    "Control the flow of scripts based on conditions using `if`, `elif`, and `else`."
   ]
  },
  {
   "cell_type": "markdown",
   "id": "055e82a4",
   "metadata": {
    "language": "markdown"
   },
   "source": [
    "## The `if` Statement\n",
    "\n",
    "An `if` statement executes a block of code only if a condition is `True`.\n",
    "\n",
    "- Syntax: `if <condition>:` followed by an indented block\n",
    "- Comparison operators: `==`, `!=`, `<`, `>`, `<=`, `>=`, `in`\n",
    "- Combine conditions with `and`, `or`, `not`"
   ]
  },
  {
   "cell_type": "code",
   "execution_count": 4,
   "id": "49aba219",
   "metadata": {
    "language": "python"
   },
   "outputs": [
    {
     "name": "stdout",
     "output_type": "stream",
     "text": [
      "Service is active.\n"
     ]
    }
   ],
   "source": [
    "server_status = \"running\"\n",
    "\n",
    "if server_status == \"running\":\n",
    "    print(\"Service is active.\")"
   ]
  },
  {
   "cell_type": "markdown",
   "id": "82955f1b",
   "metadata": {
    "language": "markdown"
   },
   "source": [
    "### Truthiness\n",
    "\n",
    "Python treats many values as truthy or falsy in conditionals.\n",
    "\n",
    "- **Falsy**: `False`, `None`, `0`, `0.0`, `''`, `[]`, `{}`\n",
    "- **Truthy**: non-zero numbers, non-empty sequences/collections"
   ]
  },
  {
   "cell_type": "code",
   "execution_count": 1,
   "id": "daf3fbf7",
   "metadata": {
    "language": "python"
   },
   "outputs": [
    {
     "name": "stdout",
     "output_type": "stream",
     "text": [
      "Processing 2 servers.\n",
      "Default config not available, please provide the configuration values.\n"
     ]
    }
   ],
   "source": [
    "servers = [\"web01\", \"web02\"]\n",
    "error_message = \"\"\n",
    "default_config = {}\n",
    "\n",
    "if servers:\n",
    "    print(f\"Processing {len(servers)} servers.\")\n",
    "    \n",
    "if error_message:\n",
    "    print(\"Something went wrong:\", error_message)\n",
    "    \n",
    "if not default_config:\n",
    "    print(\"Default config not available, please provide the configuration values.\")"
   ]
  },
  {
   "cell_type": "markdown",
   "id": "aac2fc72",
   "metadata": {
    "language": "markdown"
   },
   "source": [
    "## The `else` statement\n",
    "\n",
    "Use `else` to execute code when the `if` condition is false."
   ]
  },
  {
   "cell_type": "code",
   "execution_count": 10,
   "id": "b13de24d",
   "metadata": {
    "language": "python"
   },
   "outputs": [
    {
     "name": "stdout",
     "output_type": "stream",
     "text": [
      "CPU Usage is normal.\n"
     ]
    }
   ],
   "source": [
    "cpu_usage = 85.0\n",
    "\n",
    "if cpu_usage > 90.0:\n",
    "    print(\"ALERT: High CPU Usage\")\n",
    "else:\n",
    "    print(\"CPU Usage is normal.\")"
   ]
  },
  {
   "cell_type": "markdown",
   "id": "28848ea0",
   "metadata": {
    "language": "markdown"
   },
   "source": [
    "## The `elif` statement\n",
    "\n",
    "Chain multiple checks; the first true block runs."
   ]
  },
  {
   "cell_type": "code",
   "execution_count": 3,
   "id": "666d75a2",
   "metadata": {
    "language": "python"
   },
   "outputs": [
    {
     "name": "stdout",
     "output_type": "stream",
     "text": [
      "Server error (5xx)\n"
     ]
    }
   ],
   "source": [
    "http_status = 503\n",
    "\n",
    "if http_status == 200:\n",
    "    print(\"Status OK\")\n",
    "elif http_status == 404:\n",
    "    print(\"Resource not found\")\n",
    "elif http_status >= 500:\n",
    "    print(\"Server error (5xx)\")\n",
    "else:\n",
    "    print(\"Another status:\", http_status)"
   ]
  },
  {
   "cell_type": "markdown",
   "id": "50ed1f12",
   "metadata": {
    "language": "markdown"
   },
   "source": [
    "## Guard Clauses\n",
    "\n",
    "Handle edge cases at the top of functions to avoid deep nesting of `if` conditions."
   ]
  },
  {
   "cell_type": "code",
   "execution_count": 28,
   "id": "1decd6fe-6463-4a5f-b356-a80e2c1e43e1",
   "metadata": {},
   "outputs": [
    {
     "name": "stdout",
     "output_type": "stream",
     "text": [
      "No data provided\n",
      "No data provided\n",
      "Invalid value type for 'data'. Provided <class 'str'>; Required: list\n",
      "Invalid value type for 'data'. Provided <class 'int'>; Required: list\n",
      "Processing 3 items...\n",
      "Processed\n"
     ]
    }
   ],
   "source": [
    "def process_data_guarded(data):\n",
    "    if not data:\n",
    "        print(\"No data provided\")\n",
    "    elif not isinstance(data, list):\n",
    "        print(f\"Invalid value type for 'data'. Provided {type(data)}; Required: list\")\n",
    "    else:\n",
    "        print(f\"Processing {len(data)} items...\")\n",
    "        print(\"Processed\")\n",
    "\n",
    "process_data_guarded(None)\n",
    "process_data_guarded([])\n",
    "process_data_guarded(\"abc\")\n",
    "process_data_guarded(10)\n",
    "process_data_guarded([1, 2, 3])"
   ]
  },
  {
   "cell_type": "markdown",
   "id": "fe03a0ef-ff18-4c76-af14-e14e7d8b7fe4",
   "metadata": {},
   "source": [
    "## Match Statements\n",
    "- Match statement is similar to Switch statements in C and Java"
   ]
  },
  {
   "cell_type": "code",
   "execution_count": 7,
   "id": "8dca43f9-ce3c-4f69-8c01-79ed9e208c37",
   "metadata": {},
   "outputs": [
    {
     "name": "stdout",
     "output_type": "stream",
     "text": [
      "Error message: Bad request\n"
     ]
    }
   ],
   "source": [
    "\n",
    "def match_statement():\n",
    "    choice = int(input(\"Please enter a number between 1-3: \"))\n",
    "    match choice:\n",
    "        case 1:\n",
    "            print(\"Your choice is one\")\n",
    "        case 2:\n",
    "            print(\"Your choice is two\")\n",
    "        case 3:\n",
    "            print(\"Your choice is three\")\n",
    "        case _:\n",
    "            print(\"Invalid option\")\n",
    "\n",
    "\n",
    "#match_statement()\n",
    "\n",
    "def http_error(status):\n",
    "    match status:\n",
    "        case 400:\n",
    "            return \"Bad request\"\n",
    "        case 401 | 403 | 404:               # multiple cases\n",
    "            return \"Not allowed\"\n",
    "        case 405:\n",
    "            return \"Method not allowed\"\n",
    "        case 408:\n",
    "            return \"Request timeout\"\n",
    "        case _:                             # default match if no case matches\n",
    "            return \"Server error\"\n",
    "\n",
    "print(f\"Error message: {http_error(400)}\")\n",
    "            "
   ]
  },
  {
   "cell_type": "code",
   "execution_count": null,
   "id": "37cb6ce4-d6e8-4c65-9d1b-34d7db2807bf",
   "metadata": {},
   "outputs": [],
   "source": []
  }
 ],
 "metadata": {
  "kernelspec": {
   "display_name": "Python 3 (ipykernel)",
   "language": "python",
   "name": "python3"
  },
  "language_info": {
   "codemirror_mode": {
    "name": "ipython",
    "version": 3
   },
   "file_extension": ".py",
   "mimetype": "text/x-python",
   "name": "python",
   "nbconvert_exporter": "python",
   "pygments_lexer": "ipython3",
   "version": "3.12.9"
  }
 },
 "nbformat": 4,
 "nbformat_minor": 5
}
