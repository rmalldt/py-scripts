{
 "cells": [
  {
   "cell_type": "markdown",
   "id": "22fc20bf",
   "metadata": {},
   "source": [
    "# Numbers (`int` and `float`)\n",
    "\n",
    "- **int:** Whole numbers (e.g., `10`, `1024`). No overflow due to arbitrary precision.\n",
    "- **float:** Numbers with decimals (e.g., `3.14159`). Uses IEEE 754 representation; small precision differences possible."
   ]
  },
  {
   "cell_type": "code",
   "execution_count": 3,
   "id": "ca42c2ce",
   "metadata": {},
   "outputs": [
    {
     "name": "stdout",
     "output_type": "stream",
     "text": [
      "<class 'float'>\n",
      "When comparing floats directly, we may run into precision issues:\n",
      "0.1 * 3 == 0.3:  False\n",
      "To tackle this, we can use the math.isclose() function:\n",
      "math.isclose(0.1 * 3, 0.3):  True\n",
      "-1.0\n",
      "-1.0\n",
      "-2.0\n"
     ]
    }
   ],
   "source": [
    "import math\n",
    "\n",
    "print(type(1.0))\n",
    "\n",
    "print(\"When comparing floats directly, we may run into precision issues:\")\n",
    "print(\"0.1 * 3 == 0.3: \", 0.1 * 3 == 0.3)\n",
    "print(\"To tackle this, we can use the math.isclose() function:\")\n",
    "print(\"math.isclose(0.1 * 3, 0.3): \", math.isclose(0.1 * 3, 0.3))\n",
    "\n",
    "# ------------------ Operator Precedence\n",
    "# Numerical Precedence follows BEMA order.\n",
    "# - B: Brackets\n",
    "# - E: Exponents\n",
    "# - M: Multiplication / Division\n",
    "# - A: Addition / Subtraction\n",
    "a = 6\n",
    "b = 3\n",
    "print(a + b / 3 - 4 * 2)       # -1\n",
    "print(a + (b / 3) - (4 * 2))   # -1\n",
    "print((((a + b) / 3) - 4) * 2) # -2"
   ]
  },
  {
   "cell_type": "markdown",
   "id": "593a11c7",
   "metadata": {},
   "source": [
    "## Arithmetic Operations\n",
    "\n",
    "- `+`, `-`, `*`, `/`\n",
    "- `/` true division → float\n",
    "- `//` floor division → integer or float\n",
    "- `%` modulo → remainder\n",
    "- `**` → power"
   ]
  },
  {
   "cell_type": "code",
   "execution_count": 4,
   "id": "f90199e6",
   "metadata": {},
   "outputs": [
    {
     "name": "stdout",
     "output_type": "stream",
     "text": [
      "4.0\n",
      "<class 'float'>\n",
      "1.6666666666666667\n",
      "4\n",
      "<class 'int'>\n",
      "1\n",
      "1.0\n",
      "2\n"
     ]
    }
   ],
   "source": [
    "print(8/2)\n",
    "print(type(8/2))\n",
    "print(5/3)\n",
    "print(8//2)\n",
    "print(type(8//2))\n",
    "print(5//3)\n",
    "print(5//3.0)\n",
    "print(5%3) # 1 as the result, and 2 remaining"
   ]
  },
  {
   "cell_type": "markdown",
   "id": "f7028ef7",
   "metadata": {},
   "source": [
    "# Strings"
   ]
  },
  {
   "cell_type": "markdown",
   "id": "7845c5c4",
   "metadata": {},
   "source": [
    "## String Manipulation\n",
    "\n",
    "- Strings are ordered, immutable sequences of characters.\n",
    "- Use single or double quotes consistently; triple quotes for multi-line strings or docstrings."
   ]
  },
  {
   "cell_type": "code",
   "execution_count": null,
   "id": "5071b74a",
   "metadata": {},
   "outputs": [
    {
     "name": "stdout",
     "output_type": "stream",
     "text": [
      "Double quote string\n",
      "There is no difference between \"single\" and \"double\" quote strings in Python\n",
      "Hello there\n",
      "First line\n",
      "Second line\n",
      "Third line\n",
      "1\t2\t3\n",
      "Hello, my name is \"Jim\" and I'm going to \n",
      "walk you through the project.\n",
      "This is first line\n",
      "The second line\n",
      "The third line\n",
      "C:\\Users\\tim\\notes.txt\n",
      "C:\\Users\\tim\\notes.txt\n"
     ]
    }
   ],
   "source": [
    "# ----- Single and double quote strings\n",
    "print(\"Double quote string\")\n",
    "print(\n",
    "    'There is no difference between \"single\" and \"double\" quote strings in Python'\n",
    ")\n",
    "\n",
    "# ----- String concatenation\n",
    "print(\"Hello\" + \" \" + \"there\")\n",
    "\n",
    "# ----- Escape Character: Newline, tab and Quote\n",
    "# Newlines\n",
    "split_str = \"First line\\nSecond line\\nThird line\"\n",
    "print(split_str)\n",
    "\n",
    "# Tabs\n",
    "tabbed_str = \"1\\t2\\t3\"\n",
    "print(tabbed_str)\n",
    "\n",
    "# Quotes\n",
    "another_str = \"\"\"Hello, my name is \"Jim\" and I'm going to \n",
    "walk you through the project.\"\"\"\n",
    "\n",
    "print(another_str)\n",
    "another_str = \"\"\"This is first line\n",
    "The second line\n",
    "The third line\"\"\"\n",
    "print(another_str)\n",
    "\n",
    "# ----- Escape the escape characters\n",
    "print(\n",
    "    \"C:\\\\Users\\\\tim\\\\notes.txt\"\n",
    ")  # use double backslash to escape the escape chars\n",
    "print(r\"C:\\Users\\tim\\notes.txt\")  # use \"r\" raw string to escape the escape chars"
   ]
  },
  {
   "cell_type": "markdown",
   "id": "34371c3e",
   "metadata": {},
   "source": [
    "## Format Output using f-string\n",
    "\n",
    "**Tip:** f-strings allow inline expression evaluation and formatting, making string construction concise and readable."
   ]
  },
  {
   "cell_type": "code",
   "execution_count": 2,
   "id": "b1b1007b",
   "metadata": {},
   "outputs": [
    {
     "name": "stdout",
     "output_type": "stream",
     "text": [
      "Result: 3.5\n",
      "Result: 3.5\n",
      "Id: 1005, Name: Jim\n",
      "Number 1 squared is 1.00   and cubed is 1.00    \n",
      "Number 2 squared is 4.00   and cubed is 8.00    \n",
      "Number 3 squared is 9.00   and cubed is 27.00   \n",
      "Number 4 squared is 16.00  and cubed is 64.00   \n"
     ]
    }
   ],
   "source": [
    "math_division = 7/2\n",
    "print(f\"Result: {math_division}\")\n",
    "print(f\"Result: {7/2}\")\n",
    "\n",
    "id = 1005\n",
    "name = \"Jim\"\n",
    "print(f\"Id: {id}, Name: {name}\")\n",
    "\n",
    "for i in range(1, 5):\n",
    "    # :<6 field width,left aligned\n",
    "    # .2f precision\n",
    "    print(f\"Number {i} squared is {i ** 2:<6.2f} and cubed is {i ** 3:<8.2f}\")"
   ]
  },
  {
   "cell_type": "markdown",
   "id": "53d76649",
   "metadata": {},
   "source": [
    "### Common Operations and Essential String Methods\n",
    "\n",
    "- Concatenation (`+`): Joins strings.\n",
    "- Length (`len()`): Gets the number of characters.\n",
    "- Indexing (`[]`): Access a character by position (0-based).\n",
    "- Slicing (`[:]`): Extract substrings.\n",
    "- `.lower() / .upper()`\n",
    "- `.strip() / .lstrip() / .rstrip()`\n",
    "- `.startswith() / .endswith()`\n",
    "- `.split() / .join()`\n",
    "- `.replace()`"
   ]
  },
  {
   "cell_type": "code",
   "execution_count": 5,
   "id": "b30131e9",
   "metadata": {},
   "outputs": [
    {
     "name": "stdout",
     "output_type": "stream",
     "text": [
      "14\n",
      "11\n",
      "3\n",
      "/usr/local/bin/python\n",
      "r\n",
      "r/local\n",
      "r/local/bin\n",
      "/usr/local\n",
      "path parts: ['', 'usr', 'local', 'bin']\n",
      "joined path paths: \\usr\\local\\bin\n",
      "     Python for DevOps    \n",
      "Result of .strip(): Python for DevOps\n",
      "Result of .lstrip(): Python for DevOps    \n",
      "Result of .rstrip():      Python for DevOps\n",
      "Result of .upper():      PYTHON FOR DEVOPS    \n",
      "Result of .casefold():      python for devops    \n",
      "True\n",
      "True\n",
      "('Result ', '=', ' 10')\n"
     ]
    }
   ],
   "source": [
    "path = \"/usr/local/bin\"\n",
    "\n",
    "# length, index and count\n",
    "print(len(path))\n",
    "print(path.index(\"bin\"))\n",
    "print(path.count(\"/\"))\n",
    "\n",
    "# concatenation\n",
    "print(path + \"/python\")\n",
    "\n",
    "# slicing\n",
    "print(path[3])\n",
    "print(path[3:10])\n",
    "print(path[3:])\n",
    "print(path[:10])\n",
    "\n",
    "# split and join\n",
    "path_parts = path.split(\"/\")\n",
    "print(f\"path parts: {path_parts}\")\n",
    "print(f\"joined path paths: {\"\\\\\".join(path_parts)}\")\n",
    "\n",
    "# strip\n",
    "course_title = \"     Python for DevOps    \"\n",
    "print(course_title)\n",
    "print(f\"Result of .strip(): {course_title.strip()}\")\n",
    "print(f\"Result of .lstrip(): {course_title.lstrip()}\")\n",
    "print(f\"Result of .rstrip(): {course_title.rstrip()}\")\n",
    "\n",
    "# uppercase and casefold\n",
    "print(f\"Result of .upper(): {course_title.upper()}\")\n",
    "print(f\"Result of .casefold(): {course_title.casefold()}\")\n",
    "\n",
    "# startwith and endswith\n",
    "filename = \"file.yaml\"\n",
    "print(filename.startswith(\"file\"))\n",
    "print(filename.endswith(\"yaml\"))\n",
    "\n",
    "# Searches for the specified string and returns\n",
    "#   - everything before match\n",
    "#   - the match\n",
    "#   - everything after match\n",
    "print(\"Result = 10\".partition(\"=\"))\n"
   ]
  },
  {
   "cell_type": "markdown",
   "id": "bd325a2b-71d3-4434-96c1-4d5c2a426877",
   "metadata": {},
   "source": [
    "### String Immutability\n",
    "\n",
    "Strings are immutable, meaning you cannot change a string in place; operations that seem to modify a string actually create and return a new string object."
   ]
  },
  {
   "cell_type": "code",
   "execution_count": 24,
   "id": "23ea841e",
   "metadata": {},
   "outputs": [
    {
     "name": "stdout",
     "output_type": "stream",
     "text": [
      "     Python for DevOps    \n",
      "Result of .strip():  Python for DevOps\n",
      "Result of .lstrip(): Python for DevOps    \n",
      "Result of .rstrip():      Python for DevOps\n",
      "Result of .upper():  PYTHON FOR DEVOPS\n",
      "Result of .lower():  python for devops\n",
      "     Python for DevOps    \n"
     ]
    }
   ],
   "source": [
    "course_title = \"     Python for DevOps    \"\n",
    "print(course_title)\n",
    "print(f\"{'Result of .strip():':<20} {course_title.strip()}\")\n",
    "print(f\"{'Result of .lstrip():':<20} {course_title.lstrip()}\")\n",
    "print(f\"{'Result of .rstrip():':<20} {course_title.rstrip()}\")\n",
    "print(f\"{'Result of .upper():':<20} {course_title.upper().strip()}\")\n",
    "print(f\"{'Result of .lower():':<20} {course_title.lower().strip()}\")\n",
    "print(course_title)"
   ]
  },
  {
   "cell_type": "markdown",
   "id": "3c973261",
   "metadata": {},
   "source": [
    "## User input"
   ]
  },
  {
   "cell_type": "code",
   "execution_count": 13,
   "id": "0cfb9440",
   "metadata": {},
   "outputs": [
    {
     "name": "stdout",
     "output_type": "stream",
     "text": [
      "Hello jim\n"
     ]
    }
   ],
   "source": [
    "greeting = \"Hello\"\n",
    "name = input(\"Please enter your name: \")\n",
    "print(greeting + \" \" + name)"
   ]
  },
  {
   "cell_type": "markdown",
   "id": "c113ccfa-1e07-447e-9312-dda2678bd984",
   "metadata": {},
   "source": [
    "## Exercise: Calculate Disk Usage Percentage\n",
    "\n",
    "In this exercise you’ll combine basic arithmetic with f‑string formatting to report disk usage for a server.\n",
    "\n",
    "Objectives:\n",
    "- Given the variables below, compute the disk usage percentage.\n",
    "- Print the raw percentage value.\n",
    "- Build a human‑readable summary string:\n",
    "  - Convert the server name to uppercase.\n",
    "  - Include the number of CPU cores and amount of RAM.\n",
    "  - Show the disk usage percentage rounded to one decimal place.\n",
    "- Print a summary containing the server name in uppercase, the number of CPU cores, the memory, and the disk usage).\n",
    "- Finally, use the `.2%` format specifier in an f‑string to display the usage with two decimal places and a percent sign.\n"
   ]
  },
  {
   "cell_type": "code",
   "execution_count": 56,
   "id": "146c476b",
   "metadata": {},
   "outputs": [
    {
     "name": "stdout",
     "output_type": "stream",
     "text": [
      "70.0\n",
      "Server 'WEBSERVER-03' (4 cores, 8.0GB RAM) Disk usage: 0.7\n",
      "Server 'WEBSERVER-03' (4 cores, 8.0GB RAM) Disk usage: 70.00%\n"
     ]
    }
   ],
   "source": [
    "server_name = \"webserver-03\"\n",
    "cpu_cores = 4\n",
    "memory_gb = 8.0\n",
    "disk_total_gb = 500\n",
    "disk_used_gb = 350\n",
    "\n",
    "disk_usage_percentage = disk_used_gb / disk_total_gb\n",
    "print(disk_usage_percentage)\n",
    "\n",
    "summary = f\"Server '{server_name.upper()}' ({cpu_cores} cores, {memory_gb}GB RAM) Disk usage: {disk_usage_percentage}\"\n",
    "print(summary)\n",
    "\n",
    "summary_formatted = f\"Server '{server_name.upper()}' ({cpu_cores} cores, {memory_gb}GB RAM) Disk usage: {disk_usage_percentage:.2%}\"\n",
    "print(summary_formatted)"
   ]
  },
  {
   "cell_type": "markdown",
   "id": "b4fc2b99-de2d-4071-a4c1-ba3c1c909914",
   "metadata": {},
   "source": [
    "## Hands-on Exercise"
   ]
  },
  {
   "cell_type": "code",
   "execution_count": 8,
   "id": "df80d49c-dbef-4ef6-84be-a7f5dc5b3feb",
   "metadata": {},
   "outputs": [
    {
     "name": "stdout",
     "output_type": "stream",
     "text": [
      "Please enter your name:  Jim\n"
     ]
    },
    {
     "name": "stdout",
     "output_type": "stream",
     "text": [
      "Hello Jim\n"
     ]
    }
   ],
   "source": [
    "# ------------------ String Input from console\n",
    "def get_string_input():\n",
    "    greeting = \"Hello\"\n",
    "    name = input(\"Please enter your name: \")\n",
    "    print(greeting + \" \" + name)\n",
    "\n",
    "get_string_input()\n"
   ]
  },
  {
   "cell_type": "code",
   "execution_count": 9,
   "id": "14f805f1-1484-4e6c-a837-bfeba4fe7768",
   "metadata": {},
   "outputs": [
    {
     "name": "stdout",
     "output_type": "stream",
     "text": [
      "w\n",
      "e\n",
      "u\n",
      "14\n",
      "Norweg\n",
      "wegian\n",
      "Blue\n",
      "Norwegian\n",
      "Norwegian Blue\n",
      "Bl\n",
      "Bl\n",
      "Blue\n",
      "Nre\n",
      "Nw\n",
      "NreinBu\n",
      "eulB naigewroN\n",
      "eulB naigewroN\n",
      "hello there Jim \n",
      "hello there Jim\n",
      "Hello Hello Hello Hello Hello \n",
      "True\n",
      "True\n",
      "False\n",
      "False\n",
      "ID: 1003\n",
      "ID: 1003 \n",
      "ID: 1003, Name: Jim\n",
      "ID: 1003\n",
      "    Name: Jim\n",
      "    Status: ID 1003 is active            \n",
      "    \n",
      "Number  1 squared is 1.00   and cubed is 1.00    \n",
      "Number  2 squared is 4.00   and cubed is 8.00    \n",
      "Number  3 squared is 9.00   and cubed is 27.00   \n",
      "Number  4 squared is 16.00  and cubed is 64.00   \n"
     ]
    }
   ],
   "source": [
    "# ------------------ String Operations\n",
    "def string_operations():\n",
    "    parrot = \"Norwegian Blue\"\n",
    "\n",
    "    # ----- Access element via index\n",
    "    print(parrot[3])  # w\n",
    "\n",
    "    # Access element from back via negative index\n",
    "    print(parrot[-1])  # e\n",
    "    print(parrot[-2])  # u\n",
    "\n",
    "    # ----- String length\n",
    "    print(len(parrot))  # 14\n",
    "\n",
    "    # ----- Slice (Subtrings) - start index is inclusive and stop index is exclusive\n",
    "    print(parrot[0:6])  # Norweg\n",
    "    print(parrot[3:9])  # wegian\n",
    "    print(parrot[10:])  # Blue\n",
    "    print(parrot[:9])  # Norwegian, default start index is 0\n",
    "    print(parrot[:])  # Norwegian Blue, default start and stop indexes\n",
    "\n",
    "    # Slice with negative index\n",
    "    print(parrot[-4:-2])  # Bl\n",
    "    print(parrot[-4:12])  # Bl\n",
    "    print(parrot[-4:])  # Blue\n",
    "\n",
    "    # Slice with steps\n",
    "    print(parrot[0:6:2])  # Nre, 0: start index, 6: stop index, 2: step\n",
    "    print(parrot[0:6:3])  # Nw, 0: start index, 6: stop index, 3: step\n",
    "    print(parrot[0::2])  # NreinBu, 0: start index, default stop index, 2: step\n",
    "\n",
    "    # Slice backwards\n",
    "    strLen = len(parrot)\n",
    "    print(parrot[13::-1])  # eulB naigewroN, default stop index\n",
    "    print(parrot[::-1])  # eulB naigewroN, default start and stop index\n",
    "\n",
    "    # ----- Concatenation\n",
    "    str1 = \"hello \"\n",
    "    str2 = \"there \"\n",
    "    str3 = \"Jim \"\n",
    "    print(str1 + str2 + str3)  # hello there Jim\n",
    "    print(\"hello \" \"there \" \"Jim\")  # hello there Jim\n",
    "\n",
    "    # Concatenate using multiply\n",
    "    print(\"Hello \" * 5)  # Hello Hello Hello Hello Hello\n",
    "\n",
    "    # Check substring using 'in'\n",
    "    today = \"friday\"\n",
    "    print(\"day\" in today)  # True\n",
    "    print(\"fri\" in today)  # True\n",
    "    print(\"wed\" in today)  # False\n",
    "    print(\"thur\" in today)  # False\n",
    "\n",
    "    # ----- Convert number to string\n",
    "    # Number and string can't be concatenated because in the presence of number\n",
    "    # '+' operator tries to add instead of concatenate\n",
    "\n",
    "    # Convert number to string using str function\n",
    "    id = 1003\n",
    "    print(\"ID: \" + str(id))\n",
    "    print(\"ID: {0} \".format(id))\n",
    "\n",
    "    # ----- String format replacement field (OLD APPROACH)\n",
    "    name = \"Jim\"\n",
    "    print(\"ID: {0}, Name: {1}\".format(id, name))\n",
    "\n",
    "    print(\n",
    "        \"\"\"ID: {0}\n",
    "    Name: {1}\n",
    "    Status: ID {0} is active            \n",
    "    \"\"\".format(\n",
    "            id, name\n",
    "        )\n",
    "    )\n",
    "\n",
    "    # String format field width, alignment and precision\n",
    "    # String replacement part {1:<6.2f} breakdown:\n",
    "    #   1 second parameter\n",
    "    #   :<6 field width, left aligned\n",
    "    #   .2f precision\n",
    "    for i in range(1, 5):\n",
    "        print(\n",
    "            \"Number {0:2} squared is {1:<6.2f} and cubed is {2:<8.2f}\".format(\n",
    "                i, i**2, i**3\n",
    "            )\n",
    "        )\n",
    "string_operations()"
   ]
  },
  {
   "cell_type": "code",
   "execution_count": null,
   "id": "cc6c4305-9a6d-4586-b74b-875a20408ae0",
   "metadata": {},
   "outputs": [],
   "source": []
  }
 ],
 "metadata": {
  "kernelspec": {
   "display_name": "Python 3 (ipykernel)",
   "language": "python",
   "name": "python3"
  },
  "language_info": {
   "codemirror_mode": {
    "name": "ipython",
    "version": 3
   },
   "file_extension": ".py",
   "mimetype": "text/x-python",
   "name": "python",
   "nbconvert_exporter": "python",
   "pygments_lexer": "ipython3",
   "version": "3.12.9"
  }
 },
 "nbformat": 4,
 "nbformat_minor": 5
}
