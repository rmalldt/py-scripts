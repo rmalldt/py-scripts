{
 "cells": [
  {
   "cell_type": "markdown",
   "id": "725c30c4",
   "metadata": {
    "editable": true,
    "slideshow": {
     "slide_type": ""
    },
    "tags": []
   },
   "source": [
    "# Flexible Functions: `*args` and `**kwargs`\n",
    "\n",
    "- We can use the syntax `*args` and `**kwargs` to accept a **variable number** of both positional and keyword arguments."
   ]
  },
  {
   "cell_type": "code",
   "execution_count": null,
   "id": "f8acdefe",
   "metadata": {},
   "outputs": [
    {
     "name": "stdout",
     "output_type": "stream",
     "text": [
      "Positional args: (1, 2, 3)\n",
      "Keyword args: {'a': 'Value', 'b': True}\n",
      "Positional args: ()\n",
      "Keyword args: {}\n"
     ]
    }
   ],
   "source": [
    "def example_function(*args, **kwargs):\n",
    "    print(f\"Positional args: {args}\") # collected as tuple\n",
    "    print(f\"Keyword args: {kwargs}\")  # collected as dictionary\n",
    "\n",
    "example_function(1, 2, 3, a=\"Value\", b=True)\n",
    "\n",
    "# Passing no parameters is OK for variable arguments.\n",
    "example_function()"
   ]
  },
  {
   "cell_type": "markdown",
   "id": "7e6b7322",
   "metadata": {},
   "source": [
    "## `*args` in Function Definition: Collecting Positionals\n",
    "- Uses `*args` to gather extra positional parameters into a tuple\n",
    "- Allows functions to accept any number of positional inputs\n",
    "- Common in utilities like custom logging or aggregation functions"
   ]
  },
  {
   "cell_type": "code",
   "execution_count": 5,
   "id": "5b4f2469",
   "metadata": {},
   "outputs": [
    {
     "name": "stdout",
     "output_type": "stream",
     "text": [
      "10\n",
      "28\n",
      "3\n",
      "24\n",
      "5040\n",
      "2\n"
     ]
    }
   ],
   "source": [
    "def apply_operator(operator, *operands):\n",
    "    \"\"\"Applies operator to a variable number of operands. Supports 'add' and 'mul'.\n",
    "\n",
    "    Args:\n",
    "        operator (str): The operator to apply. Must be either 'add' or 'mul'.\n",
    "        *operands (int or float): Zero or more numbers to be combined.\n",
    "\n",
    "    Returns:\n",
    "        int or float: The result of applying the operator on the operands.\n",
    "\n",
    "    Raises:\n",
    "        ValueError: Raised when operator is not 'add' nor 'mul'.\n",
    "    \"\"\"\n",
    "    if operator == 'add':\n",
    "        result = sum(operands)\n",
    "    elif operator == 'mul':\n",
    "        result = 1\n",
    "        for n in operands:\n",
    "            result *= n\n",
    "    else:\n",
    "        raise ValueError(f\"Unknown operator {operator}. Supported values are 'add' and 'mul'\")\n",
    "\n",
    "    return result\n",
    "\n",
    "print(apply_operator('add', 1, 2, 3, 4))\n",
    "print(apply_operator('add', 1, 2, 3, 4, 5, 6, 7))\n",
    "print(apply_operator('add', 1, 2))\n",
    "\n",
    "print(apply_operator('mul', 1, 2, 3, 4))\n",
    "print(apply_operator('mul', 1, 2, 3, 4, 5, 6, 7))\n",
    "print(apply_operator('mul', 1, 2))\n",
    "\n",
    "# print(apply_operator('div', 1, 2)) # Uncommenting raises ValueError since div is not supported"
   ]
  },
  {
   "cell_type": "markdown",
   "id": "f70c029c",
   "metadata": {},
   "source": [
    "## `**kwargs` in Function Definition: Collecting Keywords\n",
    "- Uses `**kwargs` to gather extra named parameters into a dictionary\n",
    "- Ideal for optional configuration flags or settings\n",
    "- Enables functions to accept flexible keyword arguments without predefining them"
   ]
  },
  {
   "cell_type": "code",
   "execution_count": 3,
   "id": "d98ff665",
   "metadata": {},
   "outputs": [
    {
     "name": "stdout",
     "output_type": "stream",
     "text": [
      "Received dictionary: {'timeout': 30, 'user': 'admin', 'retries': 5}\n",
      "\ttimeout = 30\n",
      "\tuser = admin\n",
      "\tretries = 5\n"
     ]
    }
   ],
   "source": [
    "def set_options(**settings):\n",
    "    print(f\"Received dictionary: {settings}\")\n",
    "    for key, value in settings.items():\n",
    "        print(f\"\\t{key} = {value}\")\n",
    "\n",
    "set_options(timeout=30, user=\"admin\", retries=5)\n"
   ]
  },
  {
   "cell_type": "markdown",
   "id": "8e6d7f29",
   "metadata": {},
   "source": [
    "## Order in Function Definition Matters\n",
    "- Standard positional parameters must come first, some might also have a default value\n",
    "- Followed by `*args` to catch extra positionals\n",
    "- Then keyword-only parameters, some might also have a default value\n",
    "- Finally `**kwargs` to catch extra keyword arguments"
   ]
  },
  {
   "cell_type": "code",
   "execution_count": 3,
   "id": "55c1694f",
   "metadata": {},
   "outputs": [
    {
     "name": "stdout",
     "output_type": "stream",
     "text": [
      "url=https://www.example.com, method=GET, timeout=30\n",
      "headers=()\n",
      "params={}\n",
      "url=https://www.example.com, method=PUT, timeout=30\n",
      "headers=()\n",
      "params={}\n",
      "url=https://www.example.com, method=PUT, timeout=30\n",
      "headers=()\n",
      "params={}\n",
      "url=https://www.example.com, method=PUT, timeout=30\n",
      "headers=('Auth: xyz', 'Content-Type: application/json')\n",
      "params={}\n",
      "url=https://www.example.com, method=PUT, timeout=30\n",
      "headers=('Auth: xyz', 'Content-Type: application/json')\n",
      "params={'retries': 5, 'log_level': 'DEBUG'}\n"
     ]
    }
   ],
   "source": [
    "def process_request(url, method=\"GET\", *headers, timeout, **params):\n",
    "    print(f\"url={url}, method={method}, timeout={timeout}\")\n",
    "    print(f\"headers={headers}\")\n",
    "    print(f\"params={params}\")\n",
    "\n",
    "# Must pass value for 'url' and 'timeout'\n",
    "# - 'method' has default parameter value\n",
    "# - '*headers' accepts variable argument\n",
    "# - '**params' accepts variable keyword argument\n",
    "process_request(\"https://www.example.com\", timeout=30)\n",
    "\n",
    "# Following Positional argument order\n",
    "process_request(\"https://www.example.com\", \"PUT\", timeout=30)\n",
    "\n",
    "# Following keyword argument\n",
    "process_request(\"https://www.example.com\", timeout=30, method=\"PUT\")\n",
    "\n",
    "# Following Positional argument order and keyword argument\n",
    "process_request(\n",
    "    \"https://www.example.com\",\n",
    "    \"PUT\",\n",
    "    \"Auth: xyz\",\n",
    "    \"Content-Type: application/json\",\n",
    "    timeout=30\n",
    ")\n",
    "\n",
    "# Following Positional argument order and keyword argument\n",
    "process_request(\n",
    "    \"https://www.example.com\",\n",
    "    \"PUT\",\n",
    "    \"Auth: xyz\",\n",
    "    \"Content-Type: application/json\",\n",
    "    timeout=30,\n",
    "    retries=5,\n",
    "    log_level=\"DEBUG\"\n",
    ")"
   ]
  },
  {
   "cell_type": "markdown",
   "id": "d907d3b2",
   "metadata": {},
   "source": [
    "## `*` in Call: Unpacking Positional Arguments\n",
    "- Uses `*sequence` to expand a list or tuple into positional arguments\n",
    "- Sequence length must match the function’s positional parameters\n",
    "- Useful for dynamic argument lists built at runtime"
   ]
  },
  {
   "cell_type": "code",
   "execution_count": 1,
   "id": "b36bc314",
   "metadata": {},
   "outputs": [
    {
     "name": "stdout",
     "output_type": "stream",
     "text": [
      "Connecting to db.internal:5432 with timeout 10s.\n",
      "Connecting to db.internal:5432 with timeout 10s.\n"
     ]
    }
   ],
   "source": [
    "def connect(host: str, port: int, timeout: int):\n",
    "    print(f\"Connecting to {host}:{port} with timeout {timeout}s.\")\n",
    "\n",
    "params = [\"db.internal\", 5432, 10]\n",
    "params_with_extra_values = [\"db.internal\", 5432, 10, \"a\", True]\n",
    "connect(*params)\n",
    "connect(*params_with_extra_values[:3])"
   ]
  },
  {
   "cell_type": "markdown",
   "id": "2ab387b3",
   "metadata": {},
   "source": [
    "## `**` in Call: Unpacking Keyword Arguments\n",
    "- Uses `**dict` to expand key-value pairs into keyword arguments\n",
    "- Dictionary keys must match the function’s parameter names\n",
    "- Common in configuration-driven function calls"
   ]
  },
  {
   "cell_type": "code",
   "execution_count": 57,
   "id": "6bc1c7f2",
   "metadata": {},
   "outputs": [
    {
     "name": "stdout",
     "output_type": "stream",
     "text": [
      "Setting up auth-service v2.1.0 with 3 replicas...\n"
     ]
    }
   ],
   "source": [
    "def configure_service(name, version, replicas=1):\n",
    "    print(f\"Setting up {name} v{version} with {replicas} replicas...\")\n",
    "\n",
    "config = {\"name\": \"auth-service\", \"version\": \"2.1.0\", \"replicas\": 3}\n",
    "configure_service(**config)"
   ]
  },
  {
   "cell_type": "markdown",
   "id": "e1dec88e-f657-4dd3-adcd-f76c54a40034",
   "metadata": {},
   "source": [
    "## `/` and `*` in Function Definition\n",
    "- The `/` argument is a special syntac which specifies that everthing before `/` must be passed positionally.\n",
    "- The `*` argument is a special syntax which specifies that everything after `*` must be passed as keyword-only arguments. It prevents accidental misuse of positional. arguments and improves clarity"
   ]
  },
  {
   "cell_type": "code",
   "execution_count": 3,
   "id": "ceb872e3-5ca6-41e0-a02c-7f78a15fce75",
   "metadata": {},
   "outputs": [
    {
     "data": {
      "text/plain": [
       "{'id': 't2.micro', 'action': 'DELETE', 'user': 'ec2', 'region': 'us-east-1'}"
      ]
     },
     "execution_count": 3,
     "metadata": {},
     "output_type": "execute_result"
    }
   ],
   "source": [
    "# All arguments before `/` should be passed as positional args \n",
    "# All arguments after `*` should be passed as keyword argument\n",
    "def set_config(id, action=\"CREATE\", /, *, user, region):\n",
    "    return {\n",
    "        \"id\": id,\n",
    "        \"action\": action,\n",
    "        \"user\": user,\n",
    "        \"region\": region\n",
    "    }\n",
    "\n",
    "set_config(\"t2.micro\", \"DELETE\", user=\"ec2\", region=\"us-east-1\")"
   ]
  },
  {
   "cell_type": "markdown",
   "id": "c5824b53-9bc5-4ec8-ae72-928a69d4ea95",
   "metadata": {},
   "source": [
    "## Hands-on Exercise"
   ]
  },
  {
   "cell_type": "code",
   "execution_count": 2,
   "id": "d1b01b5d-4bac-4e64-bcea-25d50cdfce59",
   "metadata": {},
   "outputs": [
    {
     "name": "stdout",
     "output_type": "stream",
     "text": [
      "positional arguments:........1, 2\n",
      "variable arguments:..........(3, 4, 5)\n",
      "keyword:.....................6\n",
      "variable arguments keyword:..{'key1': 7, 'key2': 8}\n"
     ]
    }
   ],
   "source": [
    "def test_arguments(p1, p2, *args, k, **kwargs) -> None:\n",
    "    print(f\"positional arguments:........{p1}, {p2}\")\n",
    "    print(f\"variable arguments:..........{args}\")\n",
    "    print(f\"keyword:.....................{k}\")\n",
    "    print(f\"variable arguments keyword:..{kwargs}\")\n",
    "\n",
    "test_arguments(1, 2, 3, 4, 5, k=6, key1=7, key2=8)"
   ]
  },
  {
   "cell_type": "code",
   "execution_count": 7,
   "id": "808ee0a5-45d4-4ded-b249-60f877c596c3",
   "metadata": {},
   "outputs": [
    {
     "name": "stdout",
     "output_type": "stream",
     "text": [
      "Hostname: web01\n",
      "Base metrics: ('cpu_usage', 'mem_usage')\n",
      "Extra metrics: {'disk_io': 45.5, 'network_traffic': '200MB/s'}\n"
     ]
    }
   ],
   "source": [
    "def gather_metrics(hostname, *base_metrics, **extra_metrics):\n",
    "    print(f\"Hostname: {hostname}\")\n",
    "    print(f\"Base metrics: {base_metrics}\")\n",
    "    print(f\"Extra metrics: {extra_metrics}\")\n",
    "\n",
    "gather_metrics(\"web01\", \"cpu_usage\", \"mem_usage\", disk_io=45.5, network_traffic=\"200MB/s\")    "
   ]
  },
  {
   "cell_type": "code",
   "execution_count": 9,
   "id": "52a2d084-ce7c-4998-9797-381dc29c5764",
   "metadata": {},
   "outputs": [],
   "source": [
    "def check_health(host, port, timeout):\n",
    "    print(f\"Checking {host} on port {port} with a {timeout}s timeout.\")\n",
    " \n",
    "params = [\"api.service.local\", 443, 10, \"extra_value\"]\n",
    "#check_health(*params) # throws TypeError"
   ]
  },
  {
   "cell_type": "code",
   "execution_count": 14,
   "id": "e4e441d3-beb5-4126-a370-d6c8f1686788",
   "metadata": {},
   "outputs": [
    {
     "name": "stdout",
     "output_type": "stream",
     "text": [
      "Override configs: {'retries': 5, 'timeout': 30}\n",
      "Override configs: {'timeout': 60, 'loglevel': 'debug'}\n",
      "{'user': 'admin', 'retries': 5, 'timeout': 60, 'loglevel': 'debug'}\n"
     ]
    }
   ],
   "source": [
    "def merge_configs(base_config, *override_configs):\n",
    "    merged = base_config.copy()\n",
    "    for config in override_configs:\n",
    "        print(f\"Override configs: {config}\")\n",
    "        merged.update(config)\n",
    "    return merged\n",
    " \n",
    "config1 = {'user': 'admin', 'retries': 3}\n",
    "config2 = {'retries': 5, 'timeout': 30}\n",
    "config3 = {'timeout': 60, 'loglevel': 'debug'}\n",
    " \n",
    "final_config = merge_configs(config1, config2, config3)\n",
    "print(final_config)"
   ]
  },
  {
   "cell_type": "code",
   "execution_count": null,
   "id": "d42d1006-4a7e-4593-a460-76937d8ddadc",
   "metadata": {},
   "outputs": [],
   "source": []
  }
 ],
 "metadata": {
  "kernelspec": {
   "display_name": "Python 3 (ipykernel)",
   "language": "python",
   "name": "python3"
  },
  "language_info": {
   "codemirror_mode": {
    "name": "ipython",
    "version": 3
   },
   "file_extension": ".py",
   "mimetype": "text/x-python",
   "name": "python",
   "nbconvert_exporter": "python",
   "pygments_lexer": "ipython3",
   "version": "3.12.9"
  }
 },
 "nbformat": 4,
 "nbformat_minor": 5
}
