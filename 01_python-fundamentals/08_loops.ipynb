{
 "cells": [
  {
   "cell_type": "markdown",
   "id": "1ff9434f",
   "metadata": {},
   "source": [
    "# For & While Loops\n",
    "\n",
    "Python provides two main ways to repeat actions: `for` loops (for iterating over known sequences) and `while` loops (for repeating as long as a condition is true). These are essential for automating repetitive tasks in DevOps, such as processing lists of servers, retrying operations, or polling for status changes."
   ]
  },
  {
   "cell_type": "markdown",
   "id": "47cc9276",
   "metadata": {},
   "source": [
    "## Automating Repetition: Loops\n",
    "\n",
    "- `for` loop: Iterates through each item in a known sequence (string, list, tuple, range, dictionary items, set, file lines). Best when you know the items to process.\n",
    "- `while` loop: Repeats as long as a condition remains `True`. Best when the number of repetitions isn't known beforehand, but a stopping condition is."
   ]
  },
  {
   "cell_type": "markdown",
   "id": "06eb567a",
   "metadata": {},
   "source": [
    "## `for` Loops: Processing Each Item\n",
    "\n",
    "`for` loops are used to process each item in a sequence. The loop variable takes on the value of each item, one at a time, and the indented block runs for each item."
   ]
  },
  {
   "cell_type": "code",
   "execution_count": 5,
   "id": "fe2defb2",
   "metadata": {},
   "outputs": [
    {
     "name": "stdout",
     "output_type": "stream",
     "text": [
      "Pinging server: web01\n",
      "Pinging server: web02\n",
      "Pinging server: web03\n",
      "S\n",
      "U\n",
      "C\n",
      "C\n",
      "E\n",
      "S\n",
      "S\n",
      "Pinging server: 0\n",
      "Pinging server: 1\n",
      "Pinging server: 2\n",
      "Pinging server: 3\n",
      "Pinging server: 4\n",
      "Pinging server: 5\n",
      "Pinging server: 6\n",
      "Pinging server: 7\n",
      "Pinging server: 8\n",
      "Pinging server: 9\n"
     ]
    }
   ],
   "source": [
    "servers = [\"web01\", \"web02\", \"web03\"]\n",
    "\n",
    "for server in servers:\n",
    "    print(\"Pinging server:\", server)\n",
    "\n",
    "for char in \"SUCCESS\":\n",
    "    print(char)\n",
    "\n",
    "for idx in range(10):\n",
    "    print(\"Pinging server:\", idx)\n",
    "    "
   ]
  },
  {
   "cell_type": "markdown",
   "id": "dfa2bc68",
   "metadata": {},
   "source": [
    "## `while` Loops: Repeating While True\n",
    "\n",
    "`while` loops repeat a block of code as long as a condition remains `True`. This is useful when you don't know in advance how many times you'll need to repeat the action."
   ]
  },
  {
   "cell_type": "code",
   "execution_count": 7,
   "id": "4e2102bf",
   "metadata": {},
   "outputs": [
    {
     "name": "stdout",
     "output_type": "stream",
     "text": [
      "Attempting to reach server: 1\n",
      "Attempting to reach server: 2\n",
      "Attempting to reach server: 3\n",
      "Attempting to reach server: 4\n"
     ]
    }
   ],
   "source": [
    "connection_attempts = 0\n",
    "max_attempts = 5\n",
    "connected = False\n",
    "\n",
    "while not connected and connection_attempts < max_attempts:\n",
    "    print(f\"Attempting to reach server: {connection_attempts + 1}\")\n",
    "    # Simulating for the purposes of demonstration - Succeeds on 4th attempt\n",
    "    if connection_attempts == 3:\n",
    "        connected = True\n",
    "\n",
    "    connection_attempts += 1\n",
    "\n",
    "if not connected:\n",
    "    print(\"Failed to connect after maximum attempts.\")"
   ]
  },
  {
   "cell_type": "markdown",
   "id": "c53bec94",
   "metadata": {},
   "source": [
    "**Important:** The code inside the `while` loop must eventually make the condition `False` (e.g., by incrementing a counter or changing a flag), or you'll create an infinite loop."
   ]
  },
  {
   "cell_type": "markdown",
   "id": "725814ed",
   "metadata": {},
   "source": [
    "## Controlling Loop Flow: `break` and `continue`\n",
    "\n",
    "- **`break`:** Immediately exits the **innermost loop**. Useful when you've found what you need or hit an error.\n",
    "- **`continue`:** Skips the rest of the current iteration and moves to the next one. Useful for skipping items that don't meet criteria."
   ]
  },
  {
   "cell_type": "code",
   "execution_count": 9,
   "id": "73b9db6f",
   "metadata": {},
   "outputs": [
    {
     "name": "stdout",
     "output_type": "stream",
     "text": [
      "Checking user: guest\n",
      "Checking user: tester\n",
      "Checking user: admin01\n",
      "Admin user found: admin01. Stopping search.\n"
     ]
    }
   ],
   "source": [
    "users = [\"guest\", \"tester\", \"admin01\", \"admin02\", \"dev01\"]\n",
    "found_admin = None\n",
    "\n",
    "for user in users:\n",
    "    print(f\"Checking user: {user}\")\n",
    "    if user.startswith(\"admin\"):\n",
    "        found_admin = user\n",
    "        print(f\"Admin user found: {found_admin}. Stopping search.\")\n",
    "        break"
   ]
  },
  {
   "cell_type": "code",
   "execution_count": 10,
   "id": "34a0c102-0fd5-4b04-bbe0-5825cf2831a5",
   "metadata": {},
   "outputs": [
    {
     "name": "stdout",
     "output_type": "stream",
     "text": [
      "Skipping non-yaml file: nginx.conf\n",
      "Processing YAML config: app.yaml\n",
      "Processing YAML config: db.yaml\n",
      "Skipping non-yaml file: notes.txt\n"
     ]
    }
   ],
   "source": [
    "filenames = [\"nginx.conf\", \"app.yaml\", \"db.yaml\", \"notes.txt\"]\n",
    "\n",
    "for file in filenames:\n",
    "    if not file.endswith(\".yaml\"):\n",
    "        print(f\"Skipping non-yaml file: {file}\") \n",
    "        continue\n",
    "    print(f\"Processing YAML config: {file}\")"
   ]
  },
  {
   "cell_type": "markdown",
   "id": "1781c7be-15a3-4274-8de3-7a0827870816",
   "metadata": {},
   "source": [
    "## in/not in operator\n",
    "\n",
    "- The `in` operator in Python is a membership operator used to check if a value is part of a collection.\n",
    "\n",
    "| Operator | Description | Syntax |\n",
    "|--------|----------|------|\n",
    "| `in` | Returns True if the target value is present in a collection. Otherwise returns False. | value in collection |\n",
    "| `not in` | Returns True if the target value is not present in a collection. Otherwise returns False. | value not in collection |\n"
   ]
  },
  {
   "cell_type": "code",
   "execution_count": 1,
   "id": "95897c0d-03d8-40a6-a1a9-b890ac52385f",
   "metadata": {},
   "outputs": [
    {
     "name": "stdout",
     "output_type": "stream",
     "text": [
      "False\n",
      "False\n"
     ]
    }
   ],
   "source": [
    "# Using regular loop to check membership\n",
    "def is_member(item, collection):\n",
    "    for item in collection:\n",
    "        if item == collection:\n",
    "            return True\n",
    "    return False\n",
    "\n",
    "print(is_member(10, [1,2,3,4,5]))\n",
    "\n",
    "\n",
    "# Using Python's `in` operators\n",
    "# Returns True if target value is present, otherwise return False\n",
    "item = 10\n",
    "coll = [1,2,3,4,5]\n",
    "print(item in coll)  # False"
   ]
  }
 ],
 "metadata": {
  "kernelspec": {
   "display_name": "Python 3 (ipykernel)",
   "language": "python",
   "name": "python3"
  },
  "language_info": {
   "codemirror_mode": {
    "name": "ipython",
    "version": 3
   },
   "file_extension": ".py",
   "mimetype": "text/x-python",
   "name": "python",
   "nbconvert_exporter": "python",
   "pygments_lexer": "ipython3",
   "version": "3.12.9"
  }
 },
 "nbformat": 4,
 "nbformat_minor": 5
}
