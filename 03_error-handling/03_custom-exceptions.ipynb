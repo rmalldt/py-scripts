{
 "cells": [
  {
   "cell_type": "markdown",
   "id": "788b0eba",
   "metadata": {},
   "source": [
    "# Custom Exceptions: Tailoring Error Signals\n",
    "- Built-in exceptions are great, but often too generic for application-specific failures.  \n",
    "- A custom exception like `ServiceConnectionError` immediately conveys context compared to a plain `Exception`.  \n",
    "- Defining a base exception class groups related errors; subclasses add specificity for targeted handling.  \n",
    "- Catching `except BaseError:` handles all related issues, while `except SpecificError:` addresses one case precisely.\n",
    "\n",
    "## Simple Custom Exceptions (Inheritance)\n",
    "- Create a new exception by subclassing `Exception` or another exception class.  \n",
    "- Using `pass` is enough when no extra logic or attributes are needed.  \n",
    "- Catch the base class (`AutomationError`) to handle any related subclass errors in one block.  \n",
    "- Use subclasses (`FileProcessingError`, `APICallError`) when context-specific handling is required.  "
   ]
  },
  {
   "cell_type": "code",
   "execution_count": 3,
   "id": "50567d2e",
   "metadata": {},
   "outputs": [
    {
     "name": "stdout",
     "output_type": "stream",
     "text": [
      "File error: Failed to process file at path: nonexistent.csv\n"
     ]
    }
   ],
   "source": [
    "class AutomationError(Exception):\n",
    "    \"\"\"Base for all automation script errors.\"\"\"\n",
    "    pass\n",
    "\n",
    "\n",
    "class FileProcessingError(AutomationError):\n",
    "    \"\"\"Error during file processing stage.\"\"\"\n",
    "    pass\n",
    "\n",
    "\n",
    "class APICallError(AutomationError):\n",
    "    \"\"\"Error during an external API call.\"\"\"\n",
    "    pass\n",
    "\n",
    "\n",
    "def process_file(filepath):\n",
    "    raise FileProcessingError(f\"Failed to process file at path: {filepath}\")\n",
    "\n",
    "\n",
    "try:\n",
    "    process_file(\"nonexistent.csv\")\n",
    "except FileProcessingError as e:\n",
    "    print(f\"File error: {e}\")\n",
    "except AutomationError:\n",
    "    print(\"Other automation error occurred.\")\n"
   ]
  },
  {
   "cell_type": "markdown",
   "id": "16eb434e",
   "metadata": {},
   "source": [
    "## Adding Context with `__init__`\n",
    "- Override `__init__` in your exception class to capture **context** (e.g., filename, invalid value).  \n",
    "- Store custom attributes on `self` and build a clear message passed to `super().__init__()`.  \n",
    "- Inherit from a **built-in exception** (`ValueError`) when semantics align, allowing broad catches.  \n",
    "- Attribute access (`e.key_name`) provides extra debugging info in handlers.  "
   ]
  },
  {
   "cell_type": "code",
   "execution_count": 3,
   "id": "69be0bbf",
   "metadata": {},
   "outputs": [
    {
     "name": "stdout",
     "output_type": "stream",
     "text": [
      "Timeout cannot be negative for key 'timeout': received '-5'\n",
      "\t-> key: timeout\n",
      "\t-> value: -5\n"
     ]
    }
   ],
   "source": [
    "class ConfigValueError(ValueError):\n",
    "    \"\"\"Raised when a config value is invalid.\"\"\"\n",
    "\n",
    "    # Parameters key_name, invalid_value are instance attributes to store contexts\n",
    "    def __init__(self, key_name, invalid_value, message=\"Invalid configuration value\"):\n",
    "        self.key_name = key_name\n",
    "        self.invalid_value = invalid_value\n",
    "        full_message = f\"{message} for key '{key_name}': received '{invalid_value}'\"\n",
    "        super().__init__(full_message)\n",
    "\n",
    "\n",
    "try:\n",
    "    raise ConfigValueError(\"timeout\", -5, message=\"Timeout cannot be negative\")\n",
    "except ConfigValueError as e:\n",
    "    print(f\"{e}\")\n",
    "    print(f\"\\t-> key: {e.key_name}\")\n",
    "    print(f\"\\t-> value: {e.invalid_value}\")"
   ]
  },
  {
   "cell_type": "markdown",
   "id": "69982d77",
   "metadata": {},
   "source": [
    "## Raising and Catching Enhanced Custom Exceptions\n",
    "- Raise custom exceptions by instantiating them with relevant arguments: `raise MyError(arg1, arg2)`.  \n",
    "- In `except` blocks, catch specific exceptions and access their attributes for tailored recovery or logging.  \n",
    "- Fallback `except BaseError:` catches any related subclass if no more specific handler exists.  "
   ]
  },
  {
   "cell_type": "code",
   "execution_count": null,
   "id": "2d963c5e",
   "metadata": {},
   "outputs": [
    {
     "name": "stdout",
     "output_type": "stream",
     "text": [
      "came here\n",
      "Invalid environment 'dev'. Allowed values: ['staging', 'production']\n",
      "came here\n",
      "Package 'critical-lib' is missing on host server-production.\n",
      "Deployment to staging with package tool succeeded.\n"
     ]
    }
   ],
   "source": [
    "class DeploymentError(Exception):\n",
    "    \"\"\"Base class for deployment-related errors.\"\"\"\n",
    "    pass\n",
    "\n",
    "\n",
    "class InvalidEnvironmentError(DeploymentError):\n",
    "    \"\"\"Raised when environment is invalid.\"\"\"\n",
    "    def __init__(self, env_name, allowed_envs):\n",
    "        self.env_name = env_name\n",
    "        self.allowed_envs = allowed_envs\n",
    "        super().__init__(f\"Invalid environment '{env_name}'. Allowed values: {allowed_envs}\")\n",
    "\n",
    "\n",
    "class PackageMissingError(DeploymentError):\n",
    "    \"\"\"Raised when required packages are missing.\"\"\"\n",
    "    def __init__(self, package_name, host):\n",
    "        self.package_name = package_name\n",
    "        self.host = host\n",
    "        super().__init__(f\"Package '{package_name}' is missing on host {host}.\")\n",
    "\n",
    "\n",
    "def deploy_app(environment, package):\n",
    "    allowed_envs = [\"staging\", \"production\"]\n",
    "\n",
    "    # We can pass the context values to the custom exception\n",
    "    if environment not in allowed_envs:\n",
    "        raise InvalidEnvironmentError(environment, allowed_envs)\n",
    "\n",
    "    # We can pass the context values to the custom exception\n",
    "    if environment == \"production\" and package == \"critical-lib\":\n",
    "        raise PackageMissingError(package, f\"server-{environment}\")\n",
    "\n",
    "    print(f\"Deployment to {environment} with package {package} succeeded.\")\n",
    "\n",
    "\n",
    "for env, pkg in [(\"dev\", \"tool\"), (\"production\", \"critical-lib\"), (\"staging\", \"tool\")]:\n",
    "    try:\n",
    "        deploy_app(env, pkg)\n",
    "    except DeploymentError as e:\n",
    "        print(e)\n"
   ]
  },
  {
   "cell_type": "markdown",
   "id": "ed19c76b-18ae-43c6-894c-840738c69140",
   "metadata": {},
   "source": []
  },
  {
   "cell_type": "markdown",
   "id": "6167aa3a-fc16-4c0c-9b81-1c0287461802",
   "metadata": {},
   "source": [
    "## Hands-on Exercise"
   ]
  },
  {
   "cell_type": "code",
   "execution_count": 18,
   "id": "af375b44-9a8a-4b1d-b088-596aa8ecaf0a",
   "metadata": {},
   "outputs": [
    {
     "name": "stdout",
     "output_type": "stream",
     "text": [
      "Config valid: 1024MB\n",
      "Error: Memory limit 128 is outside the allowed range (256-4096).\n",
      "Error: Mandatory key 'memory_limit_mb' is missing.\n",
      "Error: Configuration must be a dictionary.\n"
     ]
    }
   ],
   "source": [
    "def validate_config(config_data):\n",
    "    if not isinstance(config_data, dict):\n",
    "        raise TypeError(\"Configuration must be a dictionary.\")\n",
    " \n",
    "    mem_limit = config_data.get(\"memory_limit_mb\")\n",
    "    if mem_limit is None:\n",
    "        raise ValueError(\"Mandatory key 'memory_limit_mb' is missing.\")\n",
    " \n",
    "    if not (isinstance(mem_limit, int) and 256 <= mem_limit <= 4096):\n",
    "        raise ValueError(f\"Memory limit {mem_limit} is outside the allowed range (256-4096).\")\n",
    " \n",
    "    print(f\"Config valid: {mem_limit}MB\")\n",
    " \n",
    " \n",
    "configs = [\n",
    "    {\"memory_limit_mb\": 1024},\n",
    "    {\"memory_limit_mb\": 128},\n",
    "    {\"cpu_cores\": 4},\n",
    "    \"memory_limit_mb: 512\"\n",
    "]\n",
    " \n",
    "for config in configs:\n",
    "    try:\n",
    "        validate_config(config)\n",
    "    except (ValueError, TypeError) as e:\n",
    "        print(f\"Error: {e}\")"
   ]
  },
  {
   "cell_type": "code",
   "execution_count": 6,
   "id": "e4752453-84e4-4937-bbe5-b75c54af81d5",
   "metadata": {},
   "outputs": [
    {
     "name": "stdout",
     "output_type": "stream",
     "text": [
      "Caught Provision Error: Cannot write to protected path: /root/data.bin\n"
     ]
    }
   ],
   "source": [
    "class ProvisionError(Exception):\n",
    "    \"\"\"Base class for provisioning failures.\"\"\"\n",
    "    pass\n",
    "\n",
    "\n",
    "class DiskSpaceError(ProvisionError):\n",
    "    \"\"\"Raised when there is not enough disk space.\"\"\"\n",
    "    def __init__(self, required, available):\n",
    "        super().__init__(f\"Not enough disk. Required: {required}GB, Available: {available}GB\")\n",
    "\n",
    "\n",
    "class PermissionsError(ProvisionError):\n",
    "    \"\"\"Raised due to file system permission issues.\"\"\"\n",
    "    pass\n",
    "\n",
    "\n",
    "def provision_file(size_gb, path):\n",
    "    if size_gb > 100:\n",
    "        raise DiskSpaceError(required=size_gb, available=100)\n",
    "    if \"/root/\" in path:\n",
    "        raise PermissionsError(f\"Cannot write to protected path: {path}\")\n",
    "    print(\"Provisioning successful.\")\n",
    "\n",
    "\n",
    "try:\n",
    "    provision_file(size_gb=50, path=\"/root/data.bin\")\n",
    "except DiskSpaceError as e:\n",
    "    print(f\"Caught Disk Error: {e}\")\n",
    "except ProvisionError as e:\n",
    "    print(f\"Caught Provision Error: {e}\")\n",
    "except Exception:\n",
    "    print(\"Caught a generic exception.\")"
   ]
  },
  {
   "cell_type": "code",
   "execution_count": 11,
   "id": "9878cb56-3057-4dbe-8865-ff87d8b0de7f",
   "metadata": {},
   "outputs": [
    {
     "name": "stdout",
     "output_type": "stream",
     "text": [
      "Syntax error on line 2: Missing '=' assignment\n",
      "-> Problematic text: 'port'\n"
     ]
    }
   ],
   "source": [
    "class ConfigSyntaxError(ValueError):\n",
    "    def __init__(self, message, line_num, text):\n",
    "        self.line = line_num\n",
    "        self.text = text\n",
    "        full_msg = f\"Syntax error on line {line_num}: {message}\"\n",
    "        super().__init__(full_msg)\n",
    " \n",
    "def parse_config(lines):\n",
    "    for i, line in enumerate(lines, 1):\n",
    "        if \"=\" not in line:\n",
    "            raise ConfigSyntaxError(\"Missing '=' assignment\", i, line)\n",
    "    return \"Parsed OK\"\n",
    " \n",
    "config_text = [\"host=server.local\", \"port\", \"timeout=30\"]\n",
    " \n",
    "try:\n",
    "    parse_config(config_text)\n",
    "except ConfigSyntaxError as e:\n",
    "    print(e)\n",
    "    print(f\"-> Problematic text: '{e.text}'\")\n"
   ]
  },
  {
   "cell_type": "code",
   "execution_count": null,
   "id": "be436cc5-7c60-4306-a805-c46a5a8537be",
   "metadata": {},
   "outputs": [],
   "source": []
  }
 ],
 "metadata": {
  "kernelspec": {
   "display_name": ".venv (3.12.9)",
   "language": "python",
   "name": "python3"
  },
  "language_info": {
   "codemirror_mode": {
    "name": "ipython",
    "version": 3
   },
   "file_extension": ".py",
   "mimetype": "text/x-python",
   "name": "python",
   "nbconvert_exporter": "python",
   "pygments_lexer": "ipython3",
   "version": "3.12.9"
  }
 },
 "nbformat": 4,
 "nbformat_minor": 5
}
