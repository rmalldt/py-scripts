{
 "cells": [
  {
   "cell_type": "markdown",
   "id": "2eeccb23",
   "metadata": {},
   "source": [
    "# Common Built‑in Exceptions\n",
    "- Python ships with a rich hierarchy of **exception classes**; most automation errors fall into a small, predictable subset.  \n",
    "- All ordinary **run‑time exceptions** inherit from `Exception`, but subclasses convey *why* something failed (e.g., file missing vs. wrong type).  \n",
    "- Catching overly broad bases like `Exception` **hides root causes** and can **mask bugs—prefer** the narrowest class you can handle.  \n",
    "- Understanding the inheritance tree lets you decide when a single `except` can cover many related problems (e.g., `OSError`).  "
   ]
  },
  {
   "cell_type": "code",
   "execution_count": 56,
   "id": "a58e40cd-c300-4120-a605-c38b470d744e",
   "metadata": {},
   "outputs": [
    {
     "name": "stdout",
     "output_type": "stream",
     "text": [
      "- ArithmeticError\n",
      "\t- FloatingPointError\n",
      "\t- OverflowError\n",
      "\t- ZeroDivisionError\n",
      "- AssertionError\n",
      "- AttributeError\n",
      "- BufferError\n",
      "- EOFError\n",
      "- ImportError\n",
      "\t- ModuleNotFoundError\n",
      "- LookupError\n",
      "\t- IndexError\n",
      "\t- KeyError\n",
      "- MemoryError\n",
      "- NameError\n",
      "\t- UnboundLocalError\n",
      "- OSError\n",
      "\t- BlockingIOError\n",
      "\t- ChildProcessError\n",
      "\t- ConnectionError\n",
      "\t- FileExistsError\n",
      "\t- FileNotFoundError\n",
      "\t- InterruptedError\n",
      "\t- IsADirectoryError\n",
      "\t- NotADirectoryError\n",
      "\t- PermissionError\n",
      "\t- ProcessLookupError\n",
      "\t- TimeoutError\n",
      "\t- BrokenPipeError\n",
      "\t- ConnectionAbortedError\n",
      "\t- ConnectionRefusedError\n",
      "\t- ConnectionResetError\n",
      "- ReferenceError\n",
      "- RuntimeError\n",
      "\t- NotImplementedError\n",
      "\t- RecursionError\n",
      "- StopAsyncIteration\n",
      "- StopIteration\n",
      "- SyntaxError\n",
      "\t- IndentationError\n",
      "\t- TabError\n",
      "- SystemError\n",
      "- TypeError\n",
      "- ValueError\n",
      "\t- UnicodeError\n",
      "\t- UnicodeDecodeError\n",
      "\t- UnicodeEncodeError\n",
      "\t- UnicodeTranslateError\n",
      "- Warning\n",
      "\t- BytesWarning\n",
      "\t- DeprecationWarning\n",
      "\t- EncodingWarning\n",
      "\t- FutureWarning\n",
      "\t- ImportWarning\n",
      "\t- PendingDeprecationWarning\n",
      "\t- ResourceWarning\n",
      "\t- RuntimeWarning\n",
      "\t- SyntaxWarning\n",
      "\t- UnicodeWarning\n",
      "\t- UserWarning\n",
      "- FloatingPointError\n",
      "- OverflowError\n",
      "- ZeroDivisionError\n",
      "- BytesWarning\n",
      "- DeprecationWarning\n",
      "- EncodingWarning\n",
      "- FutureWarning\n",
      "- ImportWarning\n",
      "- PendingDeprecationWarning\n",
      "- ResourceWarning\n",
      "- RuntimeWarning\n",
      "- SyntaxWarning\n",
      "- UnicodeWarning\n",
      "- UserWarning\n",
      "- BlockingIOError\n",
      "- ChildProcessError\n",
      "- ConnectionError\n",
      "\t- BrokenPipeError\n",
      "\t- ConnectionAbortedError\n",
      "\t- ConnectionRefusedError\n",
      "\t- ConnectionResetError\n",
      "- FileExistsError\n",
      "- FileNotFoundError\n",
      "- InterruptedError\n",
      "- IsADirectoryError\n",
      "- NotADirectoryError\n",
      "- PermissionError\n",
      "- ProcessLookupError\n",
      "- TimeoutError\n",
      "- IndentationError\n",
      "\t- TabError\n",
      "- IndexError\n",
      "- KeyError\n",
      "- ModuleNotFoundError\n",
      "- NotImplementedError\n",
      "- RecursionError\n",
      "- UnboundLocalError\n",
      "- UnicodeError\n",
      "\t- UnicodeDecodeError\n",
      "\t- UnicodeEncodeError\n",
      "\t- UnicodeTranslateError\n",
      "- BrokenPipeError\n",
      "- ConnectionAbortedError\n",
      "- ConnectionRefusedError\n",
      "- ConnectionResetError\n",
      "- TabError\n",
      "- UnicodeDecodeError\n",
      "- UnicodeEncodeError\n",
      "- UnicodeTranslateError\n",
      "- ExceptionGroup\n",
      "- EnvironmentError\n",
      "\t- BlockingIOError\n",
      "\t- ChildProcessError\n",
      "\t- ConnectionError\n",
      "\t- FileExistsError\n",
      "\t- FileNotFoundError\n",
      "\t- InterruptedError\n",
      "\t- IsADirectoryError\n",
      "\t- NotADirectoryError\n",
      "\t- PermissionError\n",
      "\t- ProcessLookupError\n",
      "\t- TimeoutError\n",
      "\t- BrokenPipeError\n",
      "\t- ConnectionAbortedError\n",
      "\t- ConnectionRefusedError\n",
      "\t- ConnectionResetError\n",
      "- IOError\n",
      "\t- BlockingIOError\n",
      "\t- ChildProcessError\n",
      "\t- ConnectionError\n",
      "\t- FileExistsError\n",
      "\t- FileNotFoundError\n",
      "\t- InterruptedError\n",
      "\t- IsADirectoryError\n",
      "\t- NotADirectoryError\n",
      "\t- PermissionError\n",
      "\t- ProcessLookupError\n",
      "\t- TimeoutError\n",
      "\t- BrokenPipeError\n",
      "\t- ConnectionAbortedError\n",
      "\t- ConnectionRefusedError\n",
      "\t- ConnectionResetError\n"
     ]
    }
   ],
   "source": [
    "import inspect, builtins\n",
    "\n",
    "def show_tree(base, level=0, max_depth=1):\n",
    "    # Base case\n",
    "    if level > max_depth:\n",
    "        return\n",
    "\n",
    "    for name, obj in vars(builtins).items():\n",
    "        if inspect.isclass(obj) and issubclass(obj, base) and obj is not base:\n",
    "            print(\"\\t\" * level + f\"- {name}\")\n",
    "            show_tree(obj, level + 1, max_depth)\n",
    "\n",
    "show_tree(Exception, max_depth=1)"
   ]
  },
  {
   "cell_type": "markdown",
   "id": "79f172d9",
   "metadata": {},
   "source": [
    "## `OSError` Family: Filesystem & Network Issues\n",
    "- Signals problems interacting with the **operating system**: files, permissions, paths, sockets.  \n",
    "- Subclasses such as `FileNotFoundError`, `PermissionError`, `IsADirectoryError`, `ConnectionRefusedError`, and `TimeoutError` offer granularity.  \n",
    "- Catch individual subclasses when you can recover differently (create a missing file, prompt for sudo, retry a connection).  \n",
    "- A single `except OSError` still groups all OS‑level failures when the response is the same (e.g., log and abort).  "
   ]
  },
  {
   "cell_type": "code",
   "execution_count": 7,
   "id": "74c88e06",
   "metadata": {},
   "outputs": [
    {
     "name": "stdout",
     "output_type": "stream",
     "text": [
      "File not found: [Errno 2] No such file or directory: 'nonexistent.txt'\n"
     ]
    }
   ],
   "source": [
    "try:\n",
    "    with open('nonexistent.txt', 'r') as file:\n",
    "        content = file.read()\n",
    "except FileNotFoundError as e:                           # try to catch more specific error\n",
    "    print(f\"File not found: {e}\")\n",
    "except PermissionError:                                  # try to catch more speicific error\n",
    "    print(\"Permission denied when accessing resources.\")\n",
    "except OSError as os_err:                                # catch all OSError\n",
    "    print(f\"General OS error: {os_err}\")"
   ]
  },
  {
   "cell_type": "markdown",
   "id": "2ad6093f",
   "metadata": {},
   "source": [
    "## `KeyError`: Missing Dictionary Keys\n",
    "- Raised when using `dict[key]` with a key that is absent.  \n",
    "- Frequent in config loading, JSON parsing, or environment variable maps.  \n",
    "- Mitigation patterns: `dict.get(key, default)`, membership tests (`if key in cfg`), or a tailored `except KeyError`.  \n",
    "- Treats missing data distinctly from a wrong value (`ValueError`) or wrong type (`TypeError`).  "
   ]
  },
  {
   "cell_type": "code",
   "execution_count": 5,
   "id": "be6e58bf",
   "metadata": {},
   "outputs": [
    {
     "name": "stdout",
     "output_type": "stream",
     "text": [
      "No required key 'api-key' available, not possible to call API.\n",
      "Making API call to endpoint /users with key: 12345\n"
     ]
    }
   ],
   "source": [
    "config = {\"host\": \"server1\", \"port\": 8080}\n",
    "config2 = {\"host\": \"server1\", \"port\": 8080, \"api-key\": \"12345\"}\n",
    "\n",
    "api_key = config.get(\"api-key\", \"\") # use config.get() to return default value if key is absent\n",
    "\n",
    "\n",
    "# Using conditionals (Look Before You Leap approach)\n",
    "def call_endpoint(config, endpoint):\n",
    "    \"\"\"Calls the specified endpoint of the configured host.\n",
    "\n",
    "    Args:\n",
    "        config (dict(str)): Dict containing host, port, and api-key\n",
    "        endpoint (str): The endpoint to hit\n",
    "    \"\"\"\n",
    "    if \"api-key\" in config:\n",
    "        print(f\"Making API call to endpoint {endpoint} with key: {config[\"api-key\"]}\")\n",
    "    else:\n",
    "        print(\"No api-key available, not possible to call API.\")\n",
    "\n",
    "\n",
    "# Using the exception (Easier to Ask for Forgiveness than Permission approach)\n",
    "def call_endpoint_exception(config, endpoint):\n",
    "    \"\"\"Calls the specified endpoint of the configured host.\n",
    "\n",
    "    Args:\n",
    "        config (dict(str)): Dict containing host, port, and api-key\n",
    "        endpoint (str): The endpoint to hit\n",
    "    \"\"\"\n",
    "    try:\n",
    "        print(f\"Making API call to endpoint {endpoint} with key: {config[\"api-key\"]}\")\n",
    "    except KeyError as missing_key:\n",
    "        print(f\"No required key {missing_key} available, not possible to call API.\")\n",
    "    \n",
    "\n",
    "# call_endpoint(config, \"/users\")\n",
    "# call_endpoint(config2, \"/users\")\n",
    "\n",
    "call_endpoint_exception(config, \"/users\")\n",
    "call_endpoint_exception(config2, \"/users\")"
   ]
  },
  {
   "cell_type": "markdown",
   "id": "caa99972",
   "metadata": {},
   "source": [
    "## `IndexError`: Sequence Index Out of Bounds\n",
    "- Triggered when list/tuple indices fall outside the valid range: **negative beyond the left edge** or **≥** `len(seq)`.  \n",
    "- Common during iterative processing of dynamic lists or user‑provided indexes.  \n",
    "- Prevent with **bounds checks** (`if i < len(seq)`), **safe iteration** (`for item in seq:`), or **catch and default**.  \n",
    "- Signals \"wrong position\" rather than \"wrong content\".  "
   ]
  },
  {
   "cell_type": "code",
   "execution_count": 44,
   "id": "64c6dcd7",
   "metadata": {},
   "outputs": [
    {
     "name": "stdout",
     "output_type": "stream",
     "text": [
      "Index error: list index out of range. List length is 2\n"
     ]
    }
   ],
   "source": [
    "servers = [\"web01\", \"web02\"]\n",
    "i = 2\n",
    "\n",
    "# LBYL approach\n",
    "if i < len(servers):\n",
    "    print(servers[i])\n",
    "\n",
    "# EAFP approach\n",
    "try:\n",
    "    print(servers[i])\n",
    "except IndexError as e:\n",
    "    print(f\"Index error: {e}. List length is {len(servers)}\")\n",
    "    "
   ]
  },
  {
   "cell_type": "markdown",
   "id": "f7950092",
   "metadata": {},
   "source": [
    "## `ValueError` vs. `TypeError`\n",
    "- **ValueError**: argument type is acceptable but content/value is invalid (e.g., `int(\"abc\")`).  \n",
    "- **TypeError**: operation applied to an object of the wrong type altogether (e.g., `len(5)` or `\"a\" + 3`).  \n",
    "- Distinguishing them clarifies whether to validate *content* or convert *types*.  \n",
    "- Catch them separately to craft precise user feedback.  "
   ]
  },
  {
   "cell_type": "code",
   "execution_count": 43,
   "id": "a5a0081b",
   "metadata": {},
   "outputs": [
    {
     "name": "stdout",
     "output_type": "stream",
     "text": [
      "Bad numeric string: invalid literal for int() with base 10: 'http'\n",
      "Type mismatch: can only concatenate str (not \"int\") to str\n"
     ]
    }
   ],
   "source": [
    "try:\n",
    "    #port = int(\"8080\") # OK\n",
    "    port = int(\"http\")  # ValueError, since literal must be a valid base-10 value\n",
    "except ValueError as e:\n",
    "    print(f\"Bad numeric string: {e}\")\n",
    "\n",
    "try:\n",
    "    total = \"Errors: \" + 5\n",
    "except TypeError as e:\n",
    "    print(f\"Type mismatch: {e}\")\n",
    "    "
   ]
  },
  {
   "cell_type": "markdown",
   "id": "5aab3bc2",
   "metadata": {},
   "source": [
    "## `AttributeError`: Missing Object Member\n",
    "- Raised when an attribute or method doesn't exist on the object referenced.  \n",
    "- Often results from typos, unexpected `None`, or polymorphic functions returning different types.  \n",
    "- Defensive techniques: `hasattr(obj, \"attr\")`, `if obj is not None:`, or narrow `except AttributeError`.  \n",
    "- Conveys \"object of this type doesn’t support that capability\".  "
   ]
  },
  {
   "cell_type": "code",
   "execution_count": 46,
   "id": "0aa95a17",
   "metadata": {},
   "outputs": [
    {
     "name": "stdout",
     "output_type": "stream",
     "text": [
      "Object has no attribute 'subtract'\n",
      "AttributeError caught: 'Calculator' object has no attribute 'subtract'.\n",
      "AttributeError caught: 'Calculator' object has no attribute 'result'.\n"
     ]
    }
   ],
   "source": [
    "class Calculator:\n",
    "    def add(self, a, b):\n",
    "        return a + b\n",
    "\n",
    "calc = Calculator()\n",
    "\n",
    "# LBYL approach\n",
    "if hasattr(calc, \"subtract\"):\n",
    "    print(calc.subtract(10, 5))\n",
    "else:\n",
    "    print(\"Object has no attribute 'subtract'\")\n",
    "\n",
    "\n",
    "# EAFP approach\n",
    "try:\n",
    "    print(calc.subtract(10, 5))\n",
    "except AttributeError as e:\n",
    "    print(f\"AttributeError caught: {e}.\")\n",
    "\n",
    "try:\n",
    "    print(calc.result)\n",
    "except AttributeError as e:\n",
    "    print(f\"AttributeError caught: {e}.\")"
   ]
  },
  {
   "cell_type": "markdown",
   "id": "6c1db2a7",
   "metadata": {},
   "source": [
    "## `ImportError` / `ModuleNotFoundError`\n",
    "- Raised when an `import` statement cannot locate a module/package.  \n",
    "- `ModuleNotFoundError` (Python 3.6+) is the specific subclass; catching `ImportError` also covers it.  \n",
    "- Causes: misspelling, package not installed, wrong virtual environment, or PYTHONPATH issues.  \n",
    "- Typical handling logs instructions and aborts early to avoid cascading failures.  "
   ]
  },
  {
   "cell_type": "code",
   "execution_count": 52,
   "id": "5018a9fc",
   "metadata": {},
   "outputs": [
    {
     "name": "stdout",
     "output_type": "stream",
     "text": [
      "Import failed: No module named 'non_existent_lib'. Is the library installed and the correct venv active?\n"
     ]
    }
   ],
   "source": [
    "try:\n",
    "    import non_existent_lib\n",
    "except ModuleNotFoundError as e:\n",
    "    print(f\"Import failed: {e}. Is the library installed and the correct venv active?\")\n",
    "    "
   ]
  },
  {
   "cell_type": "markdown",
   "id": "2b053555-e695-48ab-bd6f-7126f80de647",
   "metadata": {},
   "source": [
    "## Hands-on Exercise"
   ]
  },
  {
   "cell_type": "code",
   "execution_count": 1,
   "id": "eb3181ff-dc94-4710-a43f-0306f377457c",
   "metadata": {},
   "outputs": [
    {
     "name": "stdout",
     "output_type": "stream",
     "text": [
      "Initiating check...\n",
      "Check completed without errors.\n",
      "Finalizing check.\n",
      "Status: ['OK', 'SUCCESS', 'LOGGED']\n"
     ]
    }
   ],
   "source": [
    "def check_service_status(port):\n",
    "    print(\"Initiating check...\")\n",
    "    log = []\n",
    "    try:\n",
    "        if port == 80:\n",
    "            log.append(\"OK\")\n",
    "        elif port == 503:\n",
    "            raise ConnectionRefusedError(\"Service unavailable\")\n",
    "        else:\n",
    "            log.append(\"Unknown\")\n",
    "    except ConnectionRefusedError:\n",
    "        log.append(\"FAIL\")\n",
    "        print(\"Connection failed.\")\n",
    "    # Executes if `try` block executes successfully\n",
    "    else:\n",
    "        log.append(\"SUCCESS\")\n",
    "        print(\"Check completed without errors.\")\n",
    "    # Executes regardless of exceptions were raised or not\n",
    "    finally:\n",
    "        log.append(\"LOGGED\")\n",
    "        print(\"Finalizing check.\")\n",
    "    return log\n",
    "\n",
    "status = check_service_status(80)\n",
    "print(f\"Status: {status}\")"
   ]
  },
  {
   "cell_type": "code",
   "execution_count": 2,
   "id": "7ca7c589-9969-4228-b50d-76c2af4669dd",
   "metadata": {},
   "outputs": [
    {
     "name": "stdout",
     "output_type": "stream",
     "text": [
      "['101: alice', '102: system', 'ERROR: Invalid-Entry', 'ERROR: Missing-Data']\n"
     ]
    }
   ],
   "source": [
    "def summarize_logs(log_entries):\n",
    "    summary = []\n",
    "    for entry in log_entries:\n",
    "        try:  \n",
    "            user = entry.get('user', 'system')    # 'user' key is optional\n",
    "            event_id = entry['event_id']          # 'event_id' key is mandatory\n",
    "            summary.append(f\"{event_id}: {user}\")\n",
    "        except KeyError:\n",
    "            summary.append(\"ERROR: Missing-Data\")\n",
    "        except (TypeError, AttributeError):\n",
    "            summary.append(\"ERROR: Invalid-Entry\")\n",
    " \n",
    "    return summary\n",
    " \n",
    "logs = [\n",
    "    {'event_id': 101, 'user': 'alice'},\n",
    "    {'event_id': 102},\n",
    "    None,               # will raise TypeError as the code will attempt entry.get() \n",
    "    {'user': 'bob'}     # will raise KeyError as the code will attempt entry['event_id']\n",
    "]\n",
    " \n",
    "print(summarize_logs(logs))"
   ]
  },
  {
   "cell_type": "code",
   "execution_count": 69,
   "id": "03afccc6-5588-4637-b53c-fcf751e1adcb",
   "metadata": {},
   "outputs": [
    {
     "name": "stdout",
     "output_type": "stream",
     "text": [
      "Could not retrieve metric 'memory' for server 'srv-db-01' with error: 'memory' missing.\n"
     ]
    }
   ],
   "source": [
    "# Inefficient version\n",
    "def get_metric(data, server_id, metric_name):\n",
    "    try:\n",
    "        value = data[server_id][metric_name]\n",
    "        return f\"Metric '{metric_name}' on server '{server_id}' is {value}\"\n",
    "    except:\n",
    "        return f\"Could not retrieve metric '{metric_name}' for server '{server_id}'.\"\n",
    "\n",
    "\n",
    "server_data = {\n",
    "    \"srv-web-01\": {\"cpu\": 0.75, \"memory\": 0.5},\n",
    "    \"srv-db-01\": {\"cpu\": 0.4}\n",
    "}\n",
    "# print(get_metric(server_data, \"srv-db-01\", \"memory\"))\n",
    "\n",
    "# Appropriate version\n",
    "# Only excepting BaseException catches everhthing including SystemExit, KeyboardInterrupt and even SyntaxError.\n",
    "# Moreover, it will silently hide unrelated bugs such as TypeError if data was accidently passed as None.\n",
    "# The handler should be specific like KeyError, TypeError to only catch the expected errors.\n",
    "def get_metric_improved(data, server_id, metric_name):\n",
    "    try:\n",
    "        value = data[server_id][metric_name]\n",
    "        return f\"Metric '{metric_name}' on server '{server_id}' is {value}\"\n",
    "    except KeyError as key_missing:\n",
    "        return f\"Could not retrieve metric '{metric_name}' for server '{server_id}' with error: {key_missing} missing.\"\n",
    "    except TypeError as err:\n",
    "        return f\"Could not retrieve metric '{metric_name}' for server '{server_id}' with error: {err}.\"\n",
    "\n",
    "print(get_metric_improved(server_data, \"srv-db-01\", \"memory\"))\n"
   ]
  },
  {
   "cell_type": "markdown",
   "id": "4c99df79-a25a-4aa0-82cb-1bfd49c5c772",
   "metadata": {},
   "source": [
    "## Questions\n",
    "#### Question 1\n",
    "A script is being designed to process a list of hostnames. For each hostname, it will connect, download a configuration file, and parse it. The network is known to be unreliable, and some configuration files might be malformed or missing expected keys.\n",
    "\n",
    "Which of the following best describes the most Pythonic and robust design philosophy for this script?\n",
    "\n",
    "1. The **LYBL (Look Before You Leap)** approach where the script  first pings each host, then send a request to check if the file exists, then checks file permissions and only then attempts to download and parse it.\n",
    "2. The **EAFP (Easier to Ask for Forgiveness than Permission)** approach, where the script directly attempt to connect, download and parse the file inside a `try` block using specific `except` block to handle `ConnectionError`, `FileNotFoundError` or `KeyError` as they occur.\n",
    "\n",
    "**Answer:** Option 2 is preferred Pythonic approach for this scenario. It results in cleaner, more readable code by focusing the `try` block on the primary task (**happy path**). It robustly handles specific, expected errors in separate except blocks, clearly separating the main logic from error-handling logic.\n",
    "\n",
    "\n",
    "\n",
    "#### Question 2\n",
    "Which of the following is the most significant advantage of defining a custom exception hierarchy such as a base `ServiceError` with subclasses `AutheticationError` \n",
    "and `QuotaExceedError`?\n",
    "\n",
    "1. It automatically generates more detailed traceback messages than built-in exceptions.\n",
    "2. It allows the calling code to use a single `except ServiceError:` block to handle all service-related failures or to use specific `except AuthenticationError` blocks for targeted recovery logic.\n",
    "\n",
    "**Answer:** Option 2 because Callers can  handle errors at different levels of granularity such as:\n",
    "- catch specific subclass to retry/refresh token.\n",
    "- catch base class to perform generic logging and cleanup for any related failure.\n"
   ]
  },
  {
   "cell_type": "code",
   "execution_count": null,
   "id": "19fd4a74-ee6f-41cf-b556-14779e71d561",
   "metadata": {},
   "outputs": [],
   "source": []
  }
 ],
 "metadata": {
  "kernelspec": {
   "display_name": ".venv (3.12.9)",
   "language": "python",
   "name": "python3"
  },
  "language_info": {
   "codemirror_mode": {
    "name": "ipython",
    "version": 3
   },
   "file_extension": ".py",
   "mimetype": "text/x-python",
   "name": "python",
   "nbconvert_exporter": "python",
   "pygments_lexer": "ipython3",
   "version": "3.12.9"
  }
 },
 "nbformat": 4,
 "nbformat_minor": 5
}
