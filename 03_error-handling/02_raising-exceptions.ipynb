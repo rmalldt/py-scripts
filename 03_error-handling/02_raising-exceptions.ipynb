{
 "cells": [
  {
   "cell_type": "markdown",
   "id": "f41952bc",
   "metadata": {},
   "source": [
    "# Signaling Errors: The `raise` Statement\n",
    "- Functions sometimes encounter states they cannot handle and must signal failure clearly.  \n",
    "- Using `raise` triggers an **exception**, integrates with `try...except`, and **stops execution immediately**. \n",
    "- **Prefer exceptions over special return values** (`None`, `False`) to avoid ambiguous error handling.  \n",
    "- Raising early **enforces preconditions** and supports the **\"fail fast\"** principle. "
   ]
  },
  {
   "cell_type": "code",
   "execution_count": 3,
   "id": "ba4553af-86e3-46c0-8fab-1998a94d875c",
   "metadata": {},
   "outputs": [
    {
     "name": "stdout",
     "output_type": "stream",
     "text": [
      "There are no servers to process. Exiting...\n",
      "Processing 2 servers.\n"
     ]
    }
   ],
   "source": [
    "def process_servers(server_list: list):\n",
    "    if not isinstance(server_list, list):\n",
    "        #return None - BAD Practice, better to raise TypeError Exception\n",
    "        raise TypeError(\"Input 'server_list' must be of type list.\")\n",
    "\n",
    "    # GOOD practice - Handle edge cases without raising exception\n",
    "    if len(server_list) == 0:\n",
    "        print(\"There are no servers to process. Exiting...\")\n",
    "        return\n",
    "        \n",
    "    print(f\"Processing {len(server_list)} servers.\")\n",
    "\n",
    "# process_servers(\"abc\") # Uncommenting will raise TypeError\n",
    "process_servers([])\n",
    "process_servers([\"web01\", \"web02\"])"
   ]
  },
  {
   "cell_type": "markdown",
   "id": "695b8cf3",
   "metadata": {},
   "source": [
    "## Raising Built-in Exceptions\n",
    "- Built-in exception classes (e.g., `TypeError`, `ValueError`, `FileNotFoundError`) convey standard error semantics.  \n",
    "- Raise `TypeError` when the argument’s type is wrong; raise `ValueError` when its value is out of acceptable range.  \n",
    "- Use exceptions like `OSError`, `ConnectionError`, etc., when the built-in meaning matches your context.  \n",
    "- Always include a clear, informative message describing the failure.  "
   ]
  },
  {
   "cell_type": "code",
   "execution_count": 11,
   "id": "ad00b0c2",
   "metadata": {},
   "outputs": [
    {
     "name": "stdout",
     "output_type": "stream",
     "text": [
      "Replicas set to 5\n",
      "Caught error: Replica count must be between 0 and 100.\n",
      "Caught error: Replica count must be int or convertible to int, got str.\n",
      "Caught error: Replica count must be between 0 and 100.\n",
      "Replicas set to 5\n",
      "Replicas set to 5\n"
     ]
    }
   ],
   "source": [
    "def set_deployment_replicas(count):\n",
    "    \"\"\"Example: enforce input type and value boundaries with built-in Exceptions.\"\"\"\n",
    "    try:\n",
    "        parsed_count = int(count)\n",
    "    except (ValueError, TypeError):\n",
    "        raise TypeError(f\"Replica count must be int or convertible to int, got {type(count).__name__}\")\n",
    "\n",
    "    if parsed_count < 0 or parsed_count > 100:\n",
    "        raise ValueError(f\"Replica count must be between 0 and 100\")\n",
    "\n",
    "    print(f\"Replicas set to {parsed_count}\")\n",
    "\n",
    "for val in [5, -2, \"three\", 150, \"5\", 5.8]:\n",
    "    try:\n",
    "        set_deployment_replicas(val)\n",
    "    except (TypeError, ValueError) as e:\n",
    "        print(f\"Caught error: {e}.\")"
   ]
  },
  {
   "cell_type": "markdown",
   "id": "44c292e5-cd93-4489-8699-9e3cbb15db57",
   "metadata": {},
   "source": []
  },
  {
   "cell_type": "markdown",
   "id": "a762b66a-049d-496f-8dbb-7feb44a3adf5",
   "metadata": {},
   "source": [
    "## Hands-on Exercise"
   ]
  },
  {
   "cell_type": "code",
   "execution_count": 6,
   "id": "f593328a-d815-4994-b106-1fb1b9a50e47",
   "metadata": {},
   "outputs": [
    {
     "name": "stdout",
     "output_type": "stream",
     "text": [
      "No files to process\n"
     ]
    }
   ],
   "source": [
    "def process_files_data(file_paths: list[str]):\n",
    "    # Check argument type\n",
    "    if not isinstance(file_paths, list): \n",
    "        raise TypeError(\"Input must be a list of file paths\")\n",
    "        \n",
    "    # Check if the list is empty\n",
    "    if not file_paths:\n",
    "        print(\"No files to process\")\n",
    "        return\n",
    "    \n",
    "process_files_data([])\n",
    "process_files_data(['projects/project1', \"projects/project2\"])"
   ]
  },
  {
   "cell_type": "code",
   "execution_count": null,
   "id": "f670810d",
   "metadata": {},
   "outputs": [],
   "source": []
  }
 ],
 "metadata": {
  "kernelspec": {
   "display_name": ".venv (3.12.9)",
   "language": "python",
   "name": "python3"
  },
  "language_info": {
   "codemirror_mode": {
    "name": "ipython",
    "version": 3
   },
   "file_extension": ".py",
   "mimetype": "text/x-python",
   "name": "python",
   "nbconvert_exporter": "python",
   "pygments_lexer": "ipython3",
   "version": "3.12.9"
  }
 },
 "nbformat": 4,
 "nbformat_minor": 5
}
