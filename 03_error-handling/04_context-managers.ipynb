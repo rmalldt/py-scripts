{
 "cells": [
  {
   "cell_type": "markdown",
   "id": "a1d8401c-11d1-4438-8361-ee7ec64042ee",
   "metadata": {},
   "source": [
    "# Context Managers\n",
    "- When opening files or acquiring locks, **resources** must be **released** even if errors occur.  \n",
    "- Manual `try...finally` ensures cleanup but adds **boilerplate** and potential for mistakes.  \n",
    "- Forgetting to initialize the resource variable or to call cleanup in every exit path leads to **leaks**, **deadlocks**, or **corrupted data**.  \n",
    "- Cleaner patterns reduce noise and risk in automation scripts.  "
   ]
  },
  {
   "cell_type": "code",
   "execution_count": 3,
   "id": "9d3d30d2-7448-419f-bb64-0631c3240ae2",
   "metadata": {},
   "outputs": [
    {
     "name": "stdout",
     "output_type": "stream",
     "text": [
      "Error: division by zero\n",
      "Closing file.\n",
      "File closed: True\n"
     ]
    }
   ],
   "source": [
    "# Manual `try-catch` approach\n",
    "from typing import TextIO\n",
    "\n",
    "\n",
    "f: TextIO | None = None\n",
    "\n",
    "try:\n",
    "    f = open(\"my_log.txt\", \"w\")\n",
    "    f.write(\"First line\\n\")\n",
    "    result = 1 / 0              # simulate an error\n",
    "    f.write(\"Second line\\n\")\n",
    "except Exception as e:\n",
    "    print(f\"Error: {e}\")\n",
    "finally:\n",
    "    if f:\n",
    "        print(\"Closing file.\")\n",
    "        f.close()\n",
    "\n",
    "if f:\n",
    "    print(f\"File closed: {f.closed}\")"
   ]
  },
  {
   "cell_type": "markdown",
   "id": "3926db5a-0883-4053-bc6b-97fdad823ca0",
   "metadata": {},
   "source": [
    "## The `with` Statement Simplifies Cleanup\n",
    "- The `with` statement handles **setup** and **teardown** automatically for context managers.  \n",
    "- For file I/O, `with open(...) as f:` guarantees `f.close()` on block exit, even if an exception is raised.  \n",
    "- Syntax is concise and idiomatic, reducing boilerplate and improving readability.  \n",
    "\n",
    "## Common Context Manager Use cases\n",
    "- **Files:** `with open(...) as f:` for automatic file closing.  \n",
    "- **Locks:** `with threading.Lock():` acquires and releases locks safely.  \n",
    "- **Tempfiles/Dirs:** `with tempfile.TemporaryDirectory() as d:` creates and cleans up temporary directories.  \n",
    "- Context managers from the standard library cover most resource-management needs.  "
   ]
  },
  {
   "cell_type": "code",
   "execution_count": 6,
   "id": "580c450b-2061-4758-8aef-3caea2b4b0ac",
   "metadata": {},
   "outputs": [
    {
     "name": "stdout",
     "output_type": "stream",
     "text": [
      "Error: division by zero\n",
      "File closed: True\n"
     ]
    }
   ],
   "source": [
    "f: TextIO | None = None\n",
    "\n",
    "try:\n",
    "    with open(\"my_log.txt\", \"w\") as f:\n",
    "        f.write(\"First line\\n\")\n",
    "        result = 1 / 0               # simulate an error\n",
    "        f.write(\"Second line\\n\")\n",
    "except Exception as e:\n",
    "    print(f\"Error: {e}\")\n",
    "\n",
    "if f:\n",
    "    print(f\"File closed: {f.closed}\")"
   ]
  },
  {
   "cell_type": "markdown",
   "id": "a2a0eb47",
   "metadata": {},
   "source": []
  },
  {
   "cell_type": "code",
   "execution_count": 1,
   "id": "696ddcba-6e93-4436-9dbf-0dff25ab1e8f",
   "metadata": {},
   "outputs": [
    {
     "name": "stdout",
     "output_type": "stream",
     "text": [
      "Created temp dir: /var/folders/zj/9tldhkbd6fd8zdsrfj84167c0000gn/T/tmp1xfqptoq\n",
      "Files inside temp dir: ['test.txt']\n",
      "Dir path: /var/folders/zj/9tldhkbd6fd8zdsrfj84167c0000gn/T/tmp1xfqptoq\n",
      "Expected error accessing removed directory: [Errno 2] No such file or directory: '/var/folders/zj/9tldhkbd6fd8zdsrfj84167c0000gn/T/tmp1xfqptoq'\n"
     ]
    }
   ],
   "source": [
    "import tempfile, os\n",
    "\n",
    "dir_name = None\n",
    "\n",
    "with tempfile.TemporaryDirectory() as tempdir:\n",
    "    print(f\"Created temp dir: {tempdir}\")\n",
    "    \n",
    "    dir_name = tempdir\n",
    "    test_file = os.path.join(tempdir, \"test.txt\")\n",
    "\n",
    "    with open(test_file, \"w\") as file:\n",
    "        file.write(\"Hello from temp directory.\")\n",
    "\n",
    "    print(f\"Files inside temp dir: {os.listdir(tempdir)}\")\n",
    "\n",
    "\n",
    "print(f\"Dir path: {dir_name}\")       # just prints the dir path (str), not the actual dir\n",
    "try:\n",
    "    contents = os.listdir(dir_name)  # actual dir no longer exist outside the 'with' block\n",
    "    print(f\"Contents of {dir_name}: {contents}\")\n",
    "except FileNotFoundError as e:\n",
    "    print(f\"Expected error accessing removed directory: {e}\")"
   ]
  },
  {
   "cell_type": "code",
   "execution_count": null,
   "id": "9a91e2b0-17af-40ee-8e88-a79164af1bb1",
   "metadata": {},
   "outputs": [],
   "source": []
  }
 ],
 "metadata": {
  "kernelspec": {
   "display_name": ".venv (3.12.9)",
   "language": "python",
   "name": "python3"
  },
  "language_info": {
   "codemirror_mode": {
    "name": "ipython",
    "version": 3
   },
   "file_extension": ".py",
   "mimetype": "text/x-python",
   "name": "python",
   "nbconvert_exporter": "python",
   "pygments_lexer": "ipython3",
   "version": "3.12.9"
  }
 },
 "nbformat": 4,
 "nbformat_minor": 5
}
