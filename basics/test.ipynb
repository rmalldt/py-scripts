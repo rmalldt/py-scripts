{
 "cells": [
  {
   "cell_type": "code",
   "execution_count": null,
   "id": "2652fe98",
   "metadata": {},
   "outputs": [
    {
     "name": "stdout",
     "output_type": "stream",
     "text": [
      "['a', 'b']\n",
      "us-east-1\n",
      "['us-east-1', 'eu-west-1', 'ap-southeast-2', 'us-west-2']\n",
      "['us-east-1', 'eu-central-1', 'ap-southeast-2', 'us-west-2']\n"
     ]
    }
   ],
   "source": [
    "# Lists\n",
    "def mutate_list(l: list):\n",
    "    l.pop()\n",
    "    \n",
    "mlist = [\"a\", \"b\", \"c\"]\n",
    "mutate_list(mlist)\n",
    "print(mlist)\n",
    "\n",
    "deployment_targets = ['us-east-1', 'eu-west-1', 'ap-southeast-2']\n",
    "print(deployment_targets[0])\n",
    "deployment_targets.append('us-west-2')\n",
    "print(deployment_targets)\n",
    "deployment_targets[1] = 'eu-central-1'\n",
    "print(deployment_targets)"
   ]
  },
  {
   "cell_type": "code",
   "execution_count": 1,
   "id": "80f23c1c",
   "metadata": {},
   "outputs": [
    {
     "name": "stdout",
     "output_type": "stream",
     "text": [
      "('localhost', 8080)\n"
     ]
    }
   ],
   "source": [
    "# Tuples\n",
    "service_endpoints = ('localhost', 8080)\n",
    "print(service_endpoints)"
   ]
  },
  {
   "cell_type": "code",
   "execution_count": 27,
   "id": "b1ebda55",
   "metadata": {},
   "outputs": [
    {
     "name": "stdout",
     "output_type": "stream",
     "text": [
      "{1, 2, 3, 4, 5}\n",
      "{1, 2, 3, 4, 5}\n",
      "{'1', '5', '4', '3', '2'}\n",
      "{0, 2, 4, 6, 8}\n",
      "[1, 2, 3, 4, 5]\n",
      "{1, 2, 3, 5}\n",
      "False\n",
      "All packages:  {'numpy', 'terraform', 'pip', 'ansible', 'docker'}\n",
      "Common packages:  {'docker', 'pip'}\n",
      "Missing packages: {'ansible', 'terraform'}\n",
      "Extra packages: {'numpy'}\n",
      "{'pip', 'ansible', 'docker', 'numpy', 'terraform'}\n"
     ]
    }
   ],
   "source": [
    "# Set\n",
    "# Create Set\n",
    "nums = {1,2,3,4,5}\n",
    "print(nums)\n",
    "\n",
    "numbers = set([1,2,3,4,5])\n",
    "print(numbers)\n",
    "\n",
    "snums = set(\"12345\") # string literal\n",
    "print(snums)\n",
    "\n",
    "mrange = set(range(0,10,2))\n",
    "print(mrange)\n",
    "\n",
    "#set_of_list = set([['a', 'b'], ['x','y']]) # throw TypeError, list is not hashable\n",
    "#print(set_of_list)  \n",
    "\n",
    "# List to Set and vice-versa\n",
    "mlist = [1,2,3,4,4,4,5,5]\n",
    "mset = set(mlist)\n",
    "nodup_list = list(mset)\n",
    "print(nodup_list)\n",
    "\n",
    "mset.discard(4)\n",
    "print(mset)\n",
    "\n",
    "# mset.remove(4) # throws KeyError\n",
    "\n",
    "required_packages= {'pip', 'docker', 'terraform', 'ansible'}\n",
    "installed_packages = {'pip', 'docker', 'numpy'}\n",
    "print('terraform' in installed_packages)\n",
    "\n",
    "print(f\"All packages:  {required_packages | installed_packages}\")\n",
    "print(f\"Common packages:  {required_packages & installed_packages}\")\n",
    "print(f\"Missing packages: {required_packages - installed_packages}\")\n",
    "print(f\"Extra packages: {installed_packages - required_packages}\")\n",
    "\n",
    "# Add elements from other sets to create a union but 'update'\n",
    "# is more efficient than 'union' because union returns new set\n",
    "# each time while update just updates the same set.\n",
    "installed_packages.update(['terraform', 'ansible'])\n",
    "print(installed_packages)\n"
   ]
  },
  {
   "cell_type": "code",
   "execution_count": 43,
   "id": "a382d23b",
   "metadata": {},
   "outputs": [
    {
     "name": "stdout",
     "output_type": "stream",
     "text": [
      "10\n",
      "N/A\n",
      "{'id': 10, 'name': 'Jim', 'dept': 'IT', 'project': 'Cards', 'duration': 35}\n",
      "{'id': 10, 'name': 'Jim', 'dept': 'IT', 'project': 'Cards', 'duration': 35, 'manager_id': 8, 'manager_name': 'Kale'}\n",
      "True\n",
      "id 10\n",
      "name Jim\n",
      "dept IT\n",
      "project Cards\n",
      "duration 35\n",
      "manager_id 8\n",
      "manager_name Kale\n"
     ]
    }
   ],
   "source": [
    "# Dictionary\n",
    "info = {\n",
    "    \"id\": 10,\n",
    "    \"name\": \"Jim\",\n",
    "    \"dept\": \"IT\",\n",
    "}\n",
    "\n",
    "# Get value\n",
    "print(info[\"id\"])\n",
    "print(info.get(\"project\", \"N/A\"))\n",
    "\n",
    "\n",
    "# Set new item\n",
    "info['project'] = \"Cards\"\n",
    "info.setdefault(\"duration\", 35)\n",
    "print(info)\n",
    "\n",
    "\n",
    "# Combine two dictionaries\n",
    "manager = {\n",
    "    \"manager_id\": 8,\n",
    "    \"manager_name\": \"Kale\"\n",
    "}\n",
    "\n",
    "combined = info | manager\n",
    "print(combined)\n",
    "\n",
    "\n",
    "# Membership\n",
    "print('id' in info)\n",
    "\n",
    "\n",
    "for key, value in combined.items():\n",
    "    print(key, value)\n",
    "\n",
    "\n",
    "\n",
    "\n",
    "\n"
   ]
  },
  {
   "cell_type": "code",
   "execution_count": null,
   "id": "fefaedf3",
   "metadata": {},
   "outputs": [],
   "source": []
  }
 ],
 "metadata": {
  "kernelspec": {
   "display_name": ".venv",
   "language": "python",
   "name": "python3"
  },
  "language_info": {
   "codemirror_mode": {
    "name": "ipython",
    "version": 3
   },
   "file_extension": ".py",
   "mimetype": "text/x-python",
   "name": "python",
   "nbconvert_exporter": "python",
   "pygments_lexer": "ipython3",
   "version": "3.12.9"
  }
 },
 "nbformat": 4,
 "nbformat_minor": 5
}
