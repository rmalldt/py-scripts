{
 "cells": [
  {
   "cell_type": "markdown",
   "id": "0e8532b7-2784-4ab3-b053-2fd127368779",
   "metadata": {},
   "source": [
    "# Stacking Decorators: Applying Multiple Layers\n",
    "\n",
    "- Python lets you attach more than one decorator to a single function by writing multiple `@decorator` lines above the `def`.  \n",
    "- Each decorator contributes a distinct slice of behaviour (logging, timing, caching, auth checks) keeping the core function clean.\n",
    "\n",
    "## Application vs. Execution Order\n",
    "\n",
    "- **Decoration happens bottom‑up** when the function is defined:  \n",
    "  1. Decorator nearest the `def` wraps the original first.  \n",
    "  2. Each line above wraps the result of the previous decoration.  \n",
    "- **Execution happens top‑down** (outside‑in) when the decorated function is called: the outermost wrapper runs first, then calls the inner wrapper, and so on until the original function runs.\n",
    "\n",
    "## Order Matters\n",
    "\n",
    "- Swapping decorator order changes both side‑effects and final result if wrappers transform the return value."
   ]
  },
  {
   "cell_type": "code",
   "execution_count": null,
   "id": "c4e8bb8b-1719-4158-b465-af7ff8806754",
   "metadata": {},
   "outputs": [],
   "source": []
  },
  {
   "cell_type": "code",
   "execution_count": 5,
   "id": "6719ee97-9eb4-486b-b738-a867698fe893",
   "metadata": {},
   "outputs": [
    {
     "name": "stdout",
     "output_type": "stream",
     "text": [
      "--- Call foo() (A outside, B inside) ---\n",
      "A before\n",
      "B before\n",
      "  >>> inside foo\n",
      "B after\n",
      "A after\n",
      "\n",
      "--- Call bar() (B outside, A inside) ---\n",
      "B before\n",
      "A before\n",
      "  >>> inside bar\n",
      "A after\n",
      "B after\n"
     ]
    }
   ],
   "source": []
  },
  {
   "cell_type": "code",
   "execution_count": null,
   "id": "1a323899-7968-4735-85f9-a5dfa09ac27d",
   "metadata": {},
   "outputs": [],
   "source": []
  },
  {
   "cell_type": "code",
   "execution_count": 5,
   "id": "0e3d2682-85e2-4b63-ab1a-fced5066aee0",
   "metadata": {},
   "outputs": [
    {
     "name": "stdout",
     "output_type": "stream",
     "text": [
      "A before\n",
      "B before\n",
      "  >>> inside function foo\n",
      "B after\n",
      "A after\n",
      "----\n",
      "B before\n",
      "A before\n",
      "  >>> inside function bar\n",
      "A after\n",
      "B after\n"
     ]
    }
   ],
   "source": [
    "from functools import wraps\n",
    "\n",
    "def decorator_A(func):\n",
    "    @wraps(func)\n",
    "    def wrapper(*args, **kwargs):\n",
    "        print(\"A before\")\n",
    "        result = func(*args, **kwargs)\n",
    "        print(\"A after\")\n",
    "        return result\n",
    "    return wrapper\n",
    "\n",
    "\n",
    "def decorator_B(func):\n",
    "    @wraps(func)\n",
    "    def wrapper(*args, **kwargs):\n",
    "        print(\"B before\")\n",
    "        result = func(*args, **kwargs)\n",
    "        print(\"B after\")\n",
    "        return result\n",
    "    return wrapper\n",
    "\n",
    "\n",
    "# The execution starts from the outermost function i.e. decorator_A\n",
    "@decorator_A # then, this wraps the returned function by decorator_B and returns the final function\n",
    "@decorator_B # first, this wraps the target function and returns the new function\n",
    "def foo():\n",
    "    print(\"  >>> inside function foo\")\n",
    "\n",
    "\n",
    "@decorator_B\n",
    "@decorator_A\n",
    "def bar():\n",
    "    print(\"  >>> inside function bar\")\n",
    "\n",
    "\n",
    "foo()\n",
    "\n",
    "print(\"----\")\n",
    "\n",
    "bar()"
   ]
  },
  {
   "cell_type": "markdown",
   "id": "c8d61510-3cb5-4753-afaa-ed336818acb0",
   "metadata": {},
   "source": [
    "## Hands-on Exercise"
   ]
  },
  {
   "cell_type": "code",
   "execution_count": 19,
   "id": "c5174993-9364-416c-9152-a18d604c4fa0",
   "metadata": {},
   "outputs": [
    {
     "name": "stdout",
     "output_type": "stream",
     "text": [
      "ENTERING\n",
      "......TASK RUNNING......\n",
      "Result in log_exit: None\n",
      "EXITING\n",
      "Result in log_enter: None\n"
     ]
    }
   ],
   "source": [
    "from functools import wraps\n",
    " \n",
    "def log_enter(func):\n",
    "    @wraps(func)\n",
    "    def wrapper(*args, **kwargs):\n",
    "        print(\"ENTERING\")\n",
    "        result = func(*args, **kwargs)\n",
    "        print(f\"Result in log_enter: {result}\")\n",
    "        return result\n",
    " \n",
    "    return wrapper\n",
    " \n",
    "def log_exit(func):\n",
    "    @wraps(func)\n",
    "    def wrapper(*args, **kwargs):\n",
    "        result = func(*args, **kwargs)\n",
    "        print(f\"Result in log_exit: {result}\")\n",
    "        print(\"EXITING\")\n",
    "        return result\n",
    " \n",
    "    return wrapper\n",
    " \n",
    "@log_enter\n",
    "@log_exit\n",
    "def perform_task():\n",
    "    print(\"......TASK RUNNING......\")\n",
    " \n",
    "perform_task()"
   ]
  },
  {
   "cell_type": "code",
   "execution_count": null,
   "id": "db490fb9-eaeb-46c9-9f02-60a96a2a5c4b",
   "metadata": {},
   "outputs": [],
   "source": []
  }
 ],
 "metadata": {
  "kernelspec": {
   "display_name": "Python 3 (ipykernel)",
   "language": "python",
   "name": "python3"
  },
  "language_info": {
   "codemirror_mode": {
    "name": "ipython",
    "version": 3
   },
   "file_extension": ".py",
   "mimetype": "text/x-python",
   "name": "python",
   "nbconvert_exporter": "python",
   "pygments_lexer": "ipython3",
   "version": "3.12.9"
  }
 },
 "nbformat": 4,
 "nbformat_minor": 5
}
