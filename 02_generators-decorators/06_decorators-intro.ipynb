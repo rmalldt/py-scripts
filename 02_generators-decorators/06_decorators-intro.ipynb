{
 "cells": [
  {
   "cell_type": "markdown",
   "id": "a9fd5d4a-00b4-401a-ae0a-62cb7e8a3032",
   "metadata": {},
   "source": [
    "## Why First‑Class Functions Matter for Decorators\n",
    "\n",
    "- **Decorators** are simply functions that take **another function**, wrap it, and return a new function.  \n",
    "- That entire mechanism only works because Python lets us treat functions as data.  "
   ]
  },
  {
   "cell_type": "markdown",
   "id": "4eb9ce3e-364c-4fa3-8c6c-49c3e9792477",
   "metadata": {},
   "source": [
    "## Enhancing Functions: Decorators\n",
    "\n",
    "- A **decorator** is a **callable** that takes another function, adds behaviour before and/or after it runs, and returns a new callable.  \n",
    "- They solve cross‑cutting concerns such as logging, timing, permission checks, or retries without cluttering core logic.  \n",
    "- The magic `@decorator_name` syntax is shorthand for passing the target function to the decorator and re‑binding the original name to the returned wrapper."
   ]
  },
  {
   "cell_type": "markdown",
   "id": "a829acfe-8464-4702-85e6-9885c1e1b63c",
   "metadata": {},
   "source": [
    "## Decorator Anatomy (Manual View)\n",
    "\n",
    "- **Outer decorator function** accepts the **target function** and creates a **wrapper** inside it.  \n",
    "- The wrapper usually takes `*args, **kwargs` so it can handle any signature.  \n",
    "- Wrapper executes optional \"before\" code, calls the original, maybe does \"after\" code, and returns the original’s result.  \n",
    "- Returning the wrapper from the decorator completes the transformation.\n",
    "\n",
    "Using decorators:\n",
    "- Manually wrapping illustrates what `@` syntax really does behind the scenes.\n",
    "- This approach is clear but repetitive: `@` eliminates the manual reassignment step.  "
   ]
  },
  {
   "cell_type": "code",
   "execution_count": 14,
   "id": "6bdc65c1-1957-45d9-bd0e-f373b9e76611",
   "metadata": {},
   "outputs": [
    {
     "name": "stdout",
     "output_type": "stream",
     "text": [
      "Running a simple task...\n",
      "simple_task took 0.305s\n"
     ]
    }
   ],
   "source": [
    "import time\n",
    "\n",
    "# Target function\n",
    "def simple_task(sleep_duration):\n",
    "    time.sleep(sleep_duration)\n",
    "    print(\"Running a simple task...\")\n",
    "\n",
    "# Decorator function returns the Wrapper function\n",
    "def timing_decorator(original_function):\n",
    "    # The Wrapper function wraps the target function then, decorates and executes it\n",
    "    def wrapper(*args, **kwargs):\n",
    "        start = time.perf_counter()\n",
    "        result = original_function(*args, **kwargs) # calls target function\n",
    "        duration = time.perf_counter() - start\n",
    "        print(f\"{original_function.__name__} took {duration:.3f}s\")\n",
    "        return result\n",
    "\n",
    "    return wrapper\n",
    "\n",
    "simple_task = timing_decorator(simple_task)\n",
    "simple_task(0.3)"
   ]
  },
  {
   "cell_type": "markdown",
   "id": "d7da6365-88cd-484a-94eb-dbd3b48ab185",
   "metadata": {},
   "source": [
    "## The `@` Syntax\n",
    "\n",
    "- Placing `@decorator_name` directly above `def my_func():` triggers `my_func = decorator_name(my_func)` at *definition* time.  \n",
    "- After that line is executed, `my_func` refers to the wrapper returned by the decorator, so callers automatically get enhanced behaviour.  \n",
    "- This keeps the decoration visible and close to the function definition, improving readability.  "
   ]
  },
  {
   "cell_type": "code",
   "execution_count": 15,
   "id": "f5763005-acce-4f00-b741-c85a10b73ea5",
   "metadata": {},
   "outputs": [
    {
     "name": "stdout",
     "output_type": "stream",
     "text": [
      "Running another task...\n",
      "another_task took 0.000s\n"
     ]
    }
   ],
   "source": [
    "@timing_decorator\n",
    "def another_task():\n",
    "    print(\"Running another task...\")\n",
    "\n",
    "another_task()\n",
    "\n",
    "# Behind the scene:\n",
    "# - another_task = timing_decorator(another_task)\n",
    "# - another_task refers to the wrapper function returned by the decorator.\n"
   ]
  },
  {
   "cell_type": "markdown",
   "id": "13ad163a-8414-406d-abb4-f5febbbadd96",
   "metadata": {},
   "source": [
    "## Configurable Decorators: Decorators with Arguments\n",
    "\n",
    "- A **basic decorator** adds fixed behavior; sometimes you need to *configure* that behaviour (e.g. how many retries, which log level).  \n",
    "- You cannot pass options directly to a plain `@decorator`, because that decorator receives only the **target function**.  \n",
    "- Solution: call a *factory* that takes options and returns a decorator, then apply it with `@factory(option=value)`.  "
   ]
  },
  {
   "cell_type": "code",
   "execution_count": 5,
   "id": "65701e29-c6d9-4dd8-af8a-53fa3f77ce5c",
   "metadata": {},
   "outputs": [],
   "source": [
    "def timing_decorator(original_function):\n",
    "    def wrapper(*args, **kwargs):\n",
    "        start = time.perf_counter()\n",
    "        result = original_function(*args, **kwargs)\n",
    "        duration = time.perf_counter() - start\n",
    "        print(f\"{original_function.__name__} took {duration:.3f}s\")\n",
    "        return result\n",
    "\n",
    "    return wrapper"
   ]
  },
  {
   "cell_type": "markdown",
   "id": "4895b8b9-fee5-4e6f-8774-3e78050a537c",
   "metadata": {},
   "source": [
    "## The Decorator Factory Pattern\n",
    "\n",
    "- **Factory function** receives configuration arguments and returns the **actual decorator**.  \n",
    "- The actual **decorator** still takes the **target function** and builds a **wrapper**.  \n",
    "- The wrapper can access both the factory’s configuration (via a closure) and the call‑time `*args / **kwargs` for the target function.  \n",
    "- Three nested layers keep concerns separated: configuration ➜ decoration ➜ runtime.\n",
    "\n",
    "### Applying Decorators with Arguments\n",
    "\n",
    "- Use `@factory(arg1, arg2…)` above the function definition.  \n",
    "- At *definition* time Python calls the factory, gets back a decorator, and applies that decorator to the function.  \n",
    "- Callers of the function automatically get the behaviour configured by the factory.\n",
    "\n",
    "## Example: Retry Decorator Factory\n",
    "\n",
    "- A practical DevOps scenario: retry a flaky operation a configurable number of times.  \n",
    "- The factory takes `max_attempts`; the wrapper loops until success or until attempts are exhausted, re‑raising the last error.  "
   ]
  },
  {
   "cell_type": "code",
   "execution_count": 96,
   "id": "401dda8e-94f3-4046-96d0-22d95461c912",
   "metadata": {},
   "outputs": [
    {
     "name": "stdout",
     "output_type": "stream",
     "text": [
      "Attempt 1/4\n",
      " Error: Flaky failure\n",
      "Attempt 2/4\n",
      " Error: Flaky failure\n",
      "Attempt 3/4\n",
      "Result: Success!\n"
     ]
    }
   ],
   "source": [
    "import random\n",
    "from functools import wraps\n",
    "\n",
    "def retry(max_attempts=3):\n",
    "    def decorator(func):\n",
    "        def wrapper(*args, **kwargs):\n",
    "            for attempt in range(1, max_attempts + 1):\n",
    "                try:\n",
    "                    print(f\"Attempt {attempt}/{max_attempts}\")\n",
    "                    return func(*args, **kwargs)\n",
    "                except Exception as e:\n",
    "                    print(f\" Error: {e}\")\n",
    "                    if attempt == max_attempts:\n",
    "                        raise # raise Error when all attempts are made\n",
    "        return wrapper # decorator returns the wrapper function\n",
    "        \n",
    "    return decorator # factory returns the decorator function\n",
    "\n",
    "\n",
    "# retry(4) is a factory function\n",
    "# - First, retry(5) is called which must return a decorator.\n",
    "# - The decorator then receives the function to be decorated.\n",
    "# - Then, the decorator returns the wrapper function.\n",
    "@retry(4)\n",
    "def sometimes_fails():\n",
    "    if random.random() < 0.7:\n",
    "        raise RuntimeError(\"Flaky failure\")\n",
    "    return \"Success!\"\n",
    "\n",
    "print(f\"Result: {sometimes_fails()}\")\n"
   ]
  },
  {
   "cell_type": "markdown",
   "id": "1e04568a-1492-4037-a238-72d7cd1d8e5c",
   "metadata": {},
   "source": []
  },
  {
   "cell_type": "markdown",
   "id": "8d41b862-390a-4662-a8a3-634becb6fef5",
   "metadata": {},
   "source": [
    "## Hands-on Exercise"
   ]
  },
  {
   "cell_type": "code",
   "execution_count": 97,
   "id": "f2a66132-0f83-46ae-9f08-3291a54f2897",
   "metadata": {},
   "outputs": [
    {
     "name": "stdout",
     "output_type": "stream",
     "text": [
      "Permission denied. Requires 'admin'.\n",
      "Final result: None\n"
     ]
    }
   ],
   "source": [
    "from functools import wraps\n",
    " \n",
    "CURRENT_USER = {\"username\": \"prod-agent\", \"role\": \"viewer\"}\n",
    "\n",
    "\n",
    "def require_role(required_role):\n",
    "    def decorator(func):\n",
    "        @wraps(func)\n",
    "        def wrapper(*args, **kwargs):\n",
    "            if CURRENT_USER.get(\"role\") == required_role:\n",
    "                print(\"Permission granted.\")\n",
    "                return func(*args, **kwargs)\n",
    "            else:\n",
    "                print(f\"Permission denied. Requires '{required_role}'.\")\n",
    "                return None\n",
    "        return wrapper\n",
    "    return decorator\n",
    "\n",
    "\n",
    "@require_role(required_role=\"admin\")\n",
    "def deploy_service(service_name):\n",
    "    print(f\"Deploying service: {service_name}\")\n",
    "    return \"SUCCESS\"\n",
    "\n",
    "\n",
    "result = deploy_service(\"user-database\")\n",
    "print(f\"Final result: {result}\")"
   ]
  },
  {
   "cell_type": "code",
   "execution_count": null,
   "id": "d0be4de9-1491-4989-9033-9b8b35cb2e95",
   "metadata": {},
   "outputs": [],
   "source": []
  }
 ],
 "metadata": {
  "kernelspec": {
   "display_name": ".venv (3.12.9)",
   "language": "python",
   "name": "python3"
  },
  "language_info": {
   "codemirror_mode": {
    "name": "ipython",
    "version": 3
   },
   "file_extension": ".py",
   "mimetype": "text/x-python",
   "name": "python",
   "nbconvert_exporter": "python",
   "pygments_lexer": "ipython3",
   "version": "3.12.9"
  }
 },
 "nbformat": 4,
 "nbformat_minor": 5
}
