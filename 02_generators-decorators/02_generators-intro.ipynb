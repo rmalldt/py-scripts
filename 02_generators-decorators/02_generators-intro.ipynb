{
 "cells": [
  {
   "cell_type": "markdown",
   "id": "56238708-d927-46f5-8545-d6e11a21d6ac",
   "metadata": {},
   "source": [
    "# Generators\n",
    "\n",
    "- Writing a class-based iterator requires `__iter__()` and `__next__()`, plus manual state management and `StopIteration` handling.  \n",
    "- Generator functions let you express the same logic in plain Python functions, using `yield` to produce values **one at a time**.  \n",
    "- Any function with `yield` becomes a generator: calling it returns a **generator object (an iterator)** without running its body immediately.  "
   ]
  },
  {
   "cell_type": "code",
   "execution_count": 1,
   "id": "47e78505-6a4b-47c0-8a13-db36b5615ea3",
   "metadata": {},
   "outputs": [
    {
     "name": "stdout",
     "output_type": "stream",
     "text": [
      "Returned object: <generator object count_up_to at 0x104365380> of type <class 'generator'>\n",
      "First call to next outside of for loop.\n",
      "Generator function started...\n",
      "Yielding 1\n",
      "1\n",
      "Remaining output from for loop.\n",
      "Resumed after yielding 1.\n",
      "Yielding 2\n",
      "2\n",
      "Resumed after yielding 2.\n",
      "Yielding 3\n",
      "3\n",
      "Resumed after yielding 3.\n",
      "Generator function finished.\n"
     ]
    }
   ],
   "source": [
    "def count_up_to(limit):\n",
    "    \"\"\"Generates numbers from 1 up to (and including) the limit.\n",
    "\n",
    "    Args:\n",
    "        limit (int): The upper limit for counting.\n",
    "\n",
    "    Returns:\n",
    "        generator(int): The generator to lazily count up to limit.\n",
    "    \"\"\"\n",
    "    print(\"Generator function started...\")\n",
    "    n = 1\n",
    "    while n <= limit:\n",
    "        print(f\"Yielding {n}\")\n",
    "        yield n\n",
    "        print(f\"Resumed after yielding {n}.\")\n",
    "        n += 1\n",
    "    print(\"Generator function finished.\")\n",
    "\n",
    "# Generator function immediately returns Generator object (Iterator) that we can iterate manually\n",
    "count_gen = count_up_to(3)\n",
    "print(f\"Returned object: {count_gen} of type {type(count_gen)}\")\n",
    "\n",
    "# The value is only yield on calling next()\n",
    "print(\"First call to next outside of for loop.\")\n",
    "num = next(count_gen)\n",
    "print(num)\n",
    "\n",
    "# Iterate the remaining values (for loop calls next() internally)\n",
    "print(\"Remaining output from for loop.\")\n",
    "for number in count_gen:\n",
    "    print(number)\n",
    "    "
   ]
  },
  {
   "cell_type": "markdown",
   "id": "e7bb393f-9f72-482f-ac6b-c591d1d50fa1",
   "metadata": {},
   "source": [
    "## Generator Functions & the `yield` Keyword\n",
    "\n",
    "- A function becomes a generator by including `yield`; no other boilerplate is needed.  \n",
    "- Calling a generator function returns an object that implements `__iter__()` and `__next__()`.  \n",
    "- The code inside runs only when iteration begins (e.g., in a `for` loop or via `next()`). The `for loop` **calls** `next()` **internally**."
   ]
  },
  {
   "cell_type": "code",
   "execution_count": 8,
   "id": "a773d052-6124-4cf5-a44f-370a06797e19",
   "metadata": {},
   "outputs": [
    {
     "name": "stdout",
     "output_type": "stream",
     "text": [
      "Generator object created: <generator object filter_evens at 0x104366340>\n",
      "filter_evens: starting\n",
      "filter_evens: yielding 0\n",
      "Received even: 0\n",
      "filter_evens: yielding 2\n",
      "Received even: 2\n",
      "filter_evens: yielding 4\n",
      "Received even: 4\n",
      "filter_evens: finished\n",
      "Using list comprehension: [0, 2, 4]\n"
     ]
    }
   ],
   "source": [
    "def filter_evens(data):\n",
    "    \"\"\"Yield only the even items from the input sequence.\n",
    "\n",
    "    Args:\n",
    "        data (iterable(int or float)): The data to iterate through and filter.\n",
    "\n",
    "    Returns:\n",
    "        generator(int or float): A generator object that yields the even items.\n",
    "    \"\"\"\n",
    "    print(\"filter_evens: starting\")\n",
    "    for item in data:\n",
    "        if item % 2 == 0:\n",
    "            print(f\"filter_evens: yielding {item}\")\n",
    "            # yield returns the value and goes to suspended state,\n",
    "            # then wakes up and continues from where it left in the next iteration.\n",
    "            # `yield` which returns one item at a time which makes our computation more memory efficient\n",
    "            yield item\n",
    "    print(\"filter_evens: finished\")\n",
    "\n",
    "evens_from_range = filter_evens(range(6))\n",
    "print(f\"Generator object created: {evens_from_range}\")\n",
    "for num in evens_from_range:\n",
    "    print(f\"Received even: {num}\")\n",
    "\n",
    "# List Comprehension\n",
    "def using_list_comprehension(data):\n",
    "    # The list is build eagerly in memory before it is returned and the entire list is returned\n",
    "    # unlike generator which only returns one value at a time (lazy evaluation)\n",
    "    return [item for item in data if item % 2 == 0]\n",
    "\n",
    "evens = using_list_comprehension((0,1,2,3,4,5))\n",
    "print(f\"Using list comprehension: {evens}\")\n",
    "\n"
   ]
  },
  {
   "cell_type": "markdown",
   "id": "7becb90a-3e6d-4117-ae16-f8746c744e44",
   "metadata": {},
   "source": [
    "## How `yield` Works: Pause and Resume\n",
    "\n",
    "- On each `next()` or **loop iteration**, execution runs until it hits `yield`, returns the value, then pauses with all **local state intact**.  \n",
    "- The next `next()` call resumes immediately after the `yield`, preserving variables and the instruction pointer.  \n",
    "- When the function ends (no more `yield`), a `StopIteration` is raised automatically.  "
   ]
  },
  {
   "cell_type": "code",
   "execution_count": 9,
   "id": "dca0853e-c7fc-49c0-b210-b3faa09b7c3b",
   "metadata": {},
   "outputs": [
    {
     "name": "stdout",
     "output_type": "stream",
     "text": [
      "Generator started\n",
      "1\n",
      "Generator resumed after yielding 1.\n",
      "2\n",
      "Generator resumed after yielding 2.\n",
      "3\n"
     ]
    }
   ],
   "source": [
    "def demo_three_yields():\n",
    "    \"\"\"Demonstrate how having multiple yield statements work.\"\"\"\n",
    "    print(\"Generator started\")\n",
    "    yield 1\n",
    "    print(\"Generator resumed after yielding 1.\")\n",
    "    yield 2\n",
    "    print(\"Generator resumed after yielding 2.\")\n",
    "    yield 3\n",
    "    print(\"Generator finished.\")\n",
    "\n",
    "demo_gen = demo_three_yields()\n",
    "\n",
    "print(next(demo_gen))\n",
    "print(next(demo_gen))\n",
    "print(next(demo_gen))\n",
    "# print(next(demo_gen)) # raises a StopIteration Exception because there are no more yields"
   ]
  },
  {
   "cell_type": "markdown",
   "id": "5df4f188-3b91-44b9-892a-a6230a9ad22f",
   "metadata": {},
   "source": [
    "## Generator State\n",
    "\n",
    "- Generators keep their local variables alive between yields, making explicit state objects unnecessary.  \n",
    "- This persistent state allows infinite or long-running sequences without full data storage.  "
   ]
  },
  {
   "cell_type": "code",
   "execution_count": 10,
   "id": "aab0eccc-81ba-4087-af69-7da00f95519c",
   "metadata": {},
   "outputs": [
    {
     "name": "stdout",
     "output_type": "stream",
     "text": [
      "First call to next outside of for loop.\n",
      "Generator function started...\n",
      "Yielding 1\n",
      "1\n",
      "Second call to next outside of for loop - now the value yielded is 2.\n",
      "Resumed after yielding 1.\n",
      "Yielding 2\n",
      "2\n",
      "Remaining output from for loop - prints from 3 onwards.\n",
      "Resumed after yielding 2.\n",
      "Yielding 3\n",
      "3\n",
      "Resumed after yielding 3.\n",
      "Yielding 4\n",
      "4\n",
      "Resumed after yielding 4.\n",
      "Yielding 5\n",
      "5\n",
      "Resumed after yielding 5.\n",
      "Generator function finished.\n"
     ]
    }
   ],
   "source": [
    "count_gen = count_up_to(5)\n",
    "\n",
    "print(\"First call to next outside of for loop.\")\n",
    "print(next(count_gen))\n",
    "\n",
    "print(\"Second call to next outside of for loop - now the value yielded is 2.\")\n",
    "print(next(count_gen))\n",
    "\n",
    "print(\"Remaining output from for loop - prints from 3 onwards.\")\n",
    "for number in count_gen:\n",
    "    print(number)"
   ]
  },
  {
   "cell_type": "code",
   "execution_count": 4,
   "id": "99fae2be-c457-4d44-aa05-75dd5713e2c5",
   "metadata": {},
   "outputs": [
    {
     "name": "stdout",
     "output_type": "stream",
     "text": [
      "Generator function started...\n",
      "Yielding 1\n",
      "Resumed after yielding 1.\n",
      "Yielding 2\n",
      " - 1:2\n",
      "Resumed after yielding 2.\n",
      "Yielding 3\n",
      " - 1:3\n",
      "Resumed after yielding 3.\n",
      "Generator function finished.\n",
      "\n",
      "---------- Using separate generators for outer and inner loops ----------\n",
      "Generator function started...\n",
      "Yielding 1\n",
      "Generator function started...\n",
      "Yielding 1\n",
      " - 1:1\n",
      "Resumed after yielding 1.\n",
      "Yielding 2\n",
      " - 1:2\n",
      "Resumed after yielding 2.\n",
      "Yielding 3\n",
      " - 1:3\n",
      "Resumed after yielding 3.\n",
      "Generator function finished.\n",
      "Resumed after yielding 1.\n",
      "Yielding 2\n",
      "Generator function started...\n",
      "Yielding 1\n",
      " - 2:1\n",
      "Resumed after yielding 1.\n",
      "Yielding 2\n",
      " - 2:2\n",
      "Resumed after yielding 2.\n",
      "Yielding 3\n",
      " - 2:3\n",
      "Resumed after yielding 3.\n",
      "Generator function finished.\n",
      "Resumed after yielding 2.\n",
      "Yielding 3\n",
      "Generator function started...\n",
      "Yielding 1\n",
      " - 3:1\n",
      "Resumed after yielding 1.\n",
      "Yielding 2\n",
      " - 3:2\n",
      "Resumed after yielding 2.\n",
      "Yielding 3\n",
      " - 3:3\n",
      "Resumed after yielding 3.\n",
      "Generator function finished.\n",
      "Resumed after yielding 3.\n",
      "Generator function finished.\n"
     ]
    }
   ],
   "source": [
    "def count_up_to(limit):\n",
    "    \"\"\"Generates numbers from 1 up to (and including) the limit.\n",
    "\n",
    "    Args:\n",
    "        limit (int): The upper limit for counting.\n",
    "\n",
    "    Returns:\n",
    "        generator(int): The generator to lazily count up to limit.\n",
    "    \"\"\"\n",
    "    print(\"Generator function started...\")\n",
    "    n = 1\n",
    "    while n <= limit:\n",
    "        print(f\"Yielding {n}\")\n",
    "        yield n\n",
    "        print(f\"Resumed after yielding {n}.\")\n",
    "        n += 1\n",
    "    print(\"Generator function finished.\")\n",
    "\n",
    "count_gen = count_up_to(3)\n",
    "\n",
    "# Since generators have state, using the same generator object in nested loops can lead to issues.\n",
    "# The inner for loop will complete the iteration, and the outer for loop will have a single pass\n",
    "# since both the loops are using the same generator.\n",
    "for num in count_gen:\n",
    "    for num2 in count_gen:\n",
    "        print(f\" - {num}:{num2}\")\n",
    "\n",
    "print()\n",
    "print(\"---------- Using separate generators for outer and inner loops ----------\")\n",
    "\n",
    "# The solution to this is to use separate generator objects.\n",
    "for num in count_up_to(3):\n",
    "    for num2 in count_up_to(3):\n",
    "        print(f\" - {num}:{num2}\")"
   ]
  },
  {
   "cell_type": "markdown",
   "id": "ba0fbcd7-a2f2-4fa3-9f1e-f025fe5e9b61",
   "metadata": {},
   "source": [
    "## Exhaustion\n",
    "\n",
    "- Once a generator’s code path completes (falls off the end or hits `return`), further `next()` calls immediately raise `StopIteration`.  \n",
    "- A `for loop` over an exhausted generator does nothing on subsequent passes—you must call the function again for a fresh iterator.  "
   ]
  },
  {
   "cell_type": "code",
   "execution_count": 5,
   "id": "12b59ac1-b1ef-4d0d-b47e-a2b94f38ecc5",
   "metadata": {},
   "outputs": [
    {
     "name": "stdout",
     "output_type": "stream",
     "text": [
      "Generator function started...\n",
      "Yielding 1\n",
      "1\n",
      "Resumed after yielding 1.\n",
      "Yielding 2\n",
      "2\n",
      "Resumed after yielding 2.\n",
      "Generator function finished.\n",
      "Generator function raised StopIteration exception\n"
     ]
    }
   ],
   "source": [
    "def count_up_to(limit):\n",
    "    \"\"\"Generates numbers from 1 up to (and including) the limit.\n",
    "\n",
    "    Args:\n",
    "        limit (int): The upper limit for counting.\n",
    "\n",
    "    Returns:\n",
    "        generator(int): The generator to lazily count up to limit.\n",
    "    \"\"\"\n",
    "    print(\"Generator function started...\")\n",
    "    n = 1\n",
    "    while n <= limit:\n",
    "        print(f\"Yielding {n}\")\n",
    "        yield n\n",
    "        print(f\"Resumed after yielding {n}.\")\n",
    "        n += 1\n",
    "    print(\"Generator function finished.\")\n",
    "\n",
    "\n",
    "count_gen = count_up_to(2)\n",
    "print(next(count_gen))\n",
    "print(next(count_gen))\n",
    "\n",
    "try:\n",
    "    print(next(count_gen)) # will raise StopIteration exception\n",
    "except StopIteration:\n",
    "    print(\"Generator function raised StopIteration exception\")\n",
    "\n",
    "# Nothing will happen because the generator is already exhausted\n",
    "for number in count_gen:\n",
    "    print(number)"
   ]
  },
  {
   "cell_type": "code",
   "execution_count": null,
   "id": "d62f0579-b6f9-44b2-80e3-783ff520b3a9",
   "metadata": {},
   "outputs": [],
   "source": []
  }
 ],
 "metadata": {
  "kernelspec": {
   "display_name": "Python 3 (ipykernel)",
   "language": "python",
   "name": "python3"
  },
  "language_info": {
   "codemirror_mode": {
    "name": "ipython",
    "version": 3
   },
   "file_extension": ".py",
   "mimetype": "text/x-python",
   "name": "python",
   "nbconvert_exporter": "python",
   "pygments_lexer": "ipython3",
   "version": "3.12.9"
  }
 },
 "nbformat": 4,
 "nbformat_minor": 5
}
