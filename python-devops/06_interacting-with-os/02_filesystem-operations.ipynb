{
 "cells": [
  {
   "cell_type": "markdown",
   "id": "75498774-9207-44cf-a5ee-e76ddfdedd3a",
   "metadata": {},
   "source": [
    "# Filesystem Operations (os & shutil)\n",
    "\n",
    "- DevOps scripts often need to **create**, **delete**, **copy**, and **move** files and directories as part of automation workflows.  \n",
    "- The `os` module provides **low-level filesystem functions**, while `shutil` offers **higher-level operations** like copying and recursive removal.  \n",
    "- These tools work hand-in-hand with `pathlib` (for path manipulation) to build robust file management scripts.\n",
    " \n",
    "## Listing Directory Contents\n",
    "\n",
    "- Use `os.listdir(path)` to get a list of entry names (files and subdirectories) in a directory.  \n",
    "- Use `Path(path).iterdir()` to iterate over `Path` objects, which you can query further with methods like `.is_file()` or `.is_dir()`.  \n",
    "- `os.listdir` returns a plain list of strings; `iterdir()` yields full `Path` objects, making downstream operations more convenient.  "
   ]
  },
  {
   "cell_type": "code",
   "execution_count": 14,
   "id": "6da1ba08-a588-4f4b-9c07-e444466f810d",
   "metadata": {},
   "outputs": [
    {
     "name": "stdout",
     "output_type": "stream",
     "text": [
      "---------- List contents using os.listdir(temp_listing_dir)\n",
      "file1.txt\n",
      "subdir\n",
      "file2.log\n",
      "---------- List contents using Path(temp_listing_dir).iterdir()\n",
      "temp_listing_dir/file1.txt\n",
      "temp_listing_dir/subdir\n",
      "temp_listing_dir/file2.log\n"
     ]
    }
   ],
   "source": [
    "import os\n",
    "from pathlib import Path\n",
    "import shutil\n",
    "\n",
    "\"\"\"\n",
    "Directory structure:\n",
    "\n",
    "temp_listing_dir/\n",
    "├── file1.txt\n",
    "├── file2.log\n",
    "└── subdir/\n",
    "    └── subfile.py\n",
    "\n",
    "\"\"\"\n",
    "\n",
    "# Create dir and files using Path\n",
    "tmp_path = Path(\"temp_listing_dir\")\n",
    "tmp_path.mkdir(exist_ok=True)       # create dir and also prevent Exception if the dir already exists\n",
    "(tmp_path / \"file1.txt\").touch()\n",
    "(tmp_path / \"file2.log\").touch()\n",
    "(tmp_path / \"subdir\").mkdir(exist_ok=True)\n",
    "(tmp_path / \"subdir\" / \"subfile.py\").touch()\n",
    "\n",
    "# List dir contents\n",
    "print(f\"---------- List contents using os.listdir({tmp_path})\")\n",
    "for name in os.listdir(tmp_path):\n",
    "    print(name)\n",
    "\n",
    "print(f\"---------- List contents using Path({tmp_path}).iterdir()\")\n",
    "for entry in tmp_path.iterdir():\n",
    "    print(entry)\n",
    "\n",
    "# Delete dir\n",
    "shutil.rmtree(tmp_path)"
   ]
  },
  {
   "cell_type": "markdown",
   "id": "150d585e",
   "metadata": {},
   "source": [
    "## Creating Directories\n",
    "\n",
    "- `os.mkdir(path)` creates a single directory and fails if parents don’t exist or if it already exists.  \n",
    "- `os.makedirs(path, exist_ok=False)` creates all intermediate directories; set `exist_ok=True` to ignore existing leaf.  \n",
    "- `Path(path).mkdir(parents=True, exist_ok=True)` is the pathlib equivalent for recursive, idempotent creation.  "
   ]
  },
  {
   "cell_type": "code",
   "execution_count": 30,
   "id": "b50229d7-ce3f-4667-81b7-25ac8aefd080",
   "metadata": {},
   "outputs": [
    {
     "name": "stdout",
     "output_type": "stream",
     "text": [
      "Created my_single_dir: True\n",
      "Created nested path parent/child/grandchild: True\n"
     ]
    }
   ],
   "source": [
    "from pathlib import Path\n",
    "import shutil\n",
    "\n",
    "single = Path(\"my_single_dir\")\n",
    "\n",
    "try:\n",
    "    single.mkdir(exist_ok=True)\n",
    "    print(f\"Created {single}: {single.exists()}\")\n",
    "finally:\n",
    "    if single.exists():\n",
    "        single.rmdir()\n",
    "\n",
    "nested = Path(\"parent/child/grandchild\")\n",
    "nested.mkdir(parents=True, exist_ok=True)\n",
    "print(f\"Created nested path {nested}: {nested.exists()}\")\n",
    "\n",
    "shutil.rmtree(\"parent\")"
   ]
  },
  {
   "cell_type": "markdown",
   "id": "1142cbf2",
   "metadata": {},
   "source": [
    "## Removing Files and Directories\n",
    "\n",
    "- `os.remove(path)` or `Path(path).unlink()` deletes a single file and raises if missing (unless `missing_ok=True`).  \n",
    "- `os.rmdir(path)` or `Path(path).rmdir()` removes an **empty** directory only.  \n",
    "- `shutil.rmtree(path)` recursively deletes a directory tree and all contents; use with extreme caution.  "
   ]
  },
  {
   "cell_type": "code",
   "execution_count": 38,
   "id": "16e439e9",
   "metadata": {},
   "outputs": [
    {
     "name": "stdout",
     "output_type": "stream",
     "text": [
      "Removed file temp_file.txt. Exists? False\n",
      "Removed dir empty_dir. Exists? False\n",
      "Removed \"tree_root\" recursively. Exists? False\n"
     ]
    }
   ],
   "source": [
    "from pathlib import Path\n",
    "import shutil\n",
    "\n",
    "\"\"\"\n",
    "Directory structure:\n",
    "\n",
    ".\n",
    "├── temp_file.txt\n",
    "├── empty_dir/\n",
    "└── tree_root/\n",
    "    └── child/\n",
    "        └── inner.txt\n",
    "\"\"\"\n",
    "\n",
    "temp_file = Path(\"temp_file.txt\")\n",
    "temp_file.touch()\n",
    "\n",
    "empty_dir = Path(\"empty_dir\")\n",
    "empty_dir.mkdir(exist_ok=True)\n",
    "\n",
    "tree = Path(\"tree_root/child\")\n",
    "tree.mkdir(parents=True, exist_ok=True)\n",
    "(tree / \"inner.txt\").touch()\n",
    "\n",
    "temp_file.unlink()\n",
    "print(f\"Removed file {temp_file}. Exists? {temp_file.exists()}\")\n",
    "empty_dir.rmdir()\n",
    "print(f\"Removed dir {empty_dir}. Exists? {empty_dir.exists()}\")\n",
    "\n",
    "shutil.rmtree(\"tree_root\")\n",
    "print(f\"Removed \\\"tree_root\\\" recursively. Exists? {tree.exists()}\")"
   ]
  },
  {
   "cell_type": "markdown",
   "id": "e27bd5a5",
   "metadata": {},
   "source": [
    "## Copying Files and Directories\n",
    "\n",
    "- `shutil.copy(src, dst)` copies a file but does not preserve metadata like timestamps or permissions.  \n",
    "- `shutil.copy2(src, dst)` copies files **and** attempts to preserve metadata.  \n",
    "- `shutil.copytree(src_dir, dst_dir, dirs_exist_ok=False)` recursively copies an entire directory tree.  "
   ]
  },
  {
   "cell_type": "code",
   "execution_count": 44,
   "id": "94061dc2",
   "metadata": {},
   "outputs": [],
   "source": [
    "import shutil\n",
    "from pathlib import Path\n",
    "\n",
    "\"\"\"\n",
    "Directory structure:\n",
    "\n",
    "src_copy/\n",
    "├── a.txt\n",
    "└── sub/\n",
    "    └── b.txt\n",
    "\"\"\"\n",
    "\n",
    "src = Path(\"src_copy\")\n",
    "src.mkdir(exist_ok=True)\n",
    "(src / \"a.txt\").write_text(\"A\")\n",
    "(src / \"sub\").mkdir(exist_ok=True)\n",
    "(src / \"sub\" / \"b.txt\").write_text(\"B\")\n",
    "\n",
    "dest_file = Path(\"copied_a.txt\")\n",
    "dest_file_metadata = Path(\"copied_a_metadata.txt\")\n",
    "shutil.copy(src / \"a.txt\", dest_file)\n",
    "shutil.copy2(src / \"a.txt\", dest_file_metadata)\n",
    "\n",
    "dest_dir = Path(\"copied_src\")\n",
    "\n",
    "if dest_dir.exists():\n",
    "    shutil.rmtree(dest_dir)\n",
    "\n",
    "shutil.copytree(src, dest_dir)\n",
    "\n",
    "shutil.rmtree(\"src_copy\")\n",
    "shutil.rmtree(dest_dir)\n",
    "dest_file.unlink()\n",
    "dest_file_metadata.unlink()"
   ]
  },
  {
   "cell_type": "markdown",
   "id": "0a26bbf7",
   "metadata": {},
   "source": [
    "## Moving Files and Directories\n",
    "\n",
    "- Use `shutil.move(src, dst)` to move or rename files and directories in one step.  \n",
    "- If `dst` is an existing directory, `src` is moved **into** it; if `dst` names a file, `src` is renamed there.  \n",
    "- Moving across filesystems may involve a copy-and-delete under the hood.  "
   ]
  },
  {
   "cell_type": "code",
   "execution_count": 64,
   "id": "5704b344",
   "metadata": {},
   "outputs": [],
   "source": [
    "import shutil\n",
    "from pathlib import Path\n",
    "\n",
    "\"\"\"\n",
    "Directory structure:\n",
    "\n",
    ".\n",
    "├── move_me.txt\n",
    "├── move_dir/\n",
    "│   └── inside.txt\n",
    "└── dest_folder/\n",
    "\"\"\"\n",
    "\n",
    "file_src = Path(\"move_me.txt\")\n",
    "file_src.write_text(\"Moving file.\")\n",
    "\n",
    "dir_src = Path(\"move_dir\")\n",
    "dir_src.mkdir(exist_ok=True)\n",
    "(dir_src / \"inside.txt\").write_text(\"Inside source dir.\")\n",
    "\n",
    "dest_dir = Path(\"dest_folder\")\n",
    "dest_dir.mkdir(exist_ok=True)\n",
    "\n",
    "try:\n",
    "    shutil.move(file_src, dest_dir)\n",
    "except Exception as e:\n",
    "    print(f\"Error occurred: {e}\")\n",
    "\n",
    "file_src2 = dest_dir / file_src.name\n",
    "new_name = Path(\"renamed.txt\")\n",
    "shutil.move(file_src2, new_name)\n",
    "\n",
    "try:\n",
    "    shutil.move(dir_src, dest_dir)\n",
    "except Exception as e:\n",
    "    print(f\"Error occurred: {e}\")\n",
    "\n",
    "shutil.rmtree(dest_dir)\n",
    "if new_name.exists():\n",
    "    new_name.unlink()"
   ]
  },
  {
   "cell_type": "markdown",
   "id": "ead2d714",
   "metadata": {},
   "source": [
    "## Common Pitfalls & How to Avoid Them\n",
    "\n",
    "- **PermissionError:** Operations fail if the script lacks rights. Ensure correct ownership or run with appropriate privileges.  \n",
    "- **Non-empty Directories:** `os.rmdir()` and `Path.rmdir()` only remove empty dirs. Use `shutil.rmtree()` for recursive deletion, but do so carefully.  \n",
    "- **Existing Destinations:** `shutil.copytree()` errors if the target exists unless `dirs_exist_ok=True`. Consider pre-cleanup or that flag.  \n",
    "- **Irreversible Deletions:** There is no undo for `os.remove`, `os.rmdir`, or `shutil.rmtree()`. Add confirmation or dry-run modes when deleting!"
   ]
  },
  {
   "cell_type": "markdown",
   "id": "4ec3255f",
   "metadata": {},
   "source": []
  }
 ],
 "metadata": {
  "kernelspec": {
   "display_name": "Python 3 (ipykernel)",
   "language": "python",
   "name": "python3"
  },
  "language_info": {
   "codemirror_mode": {
    "name": "ipython",
    "version": 3
   },
   "file_extension": ".py",
   "mimetype": "text/x-python",
   "name": "python",
   "nbconvert_exporter": "python",
   "pygments_lexer": "ipython3",
   "version": "3.12.9"
  }
 },
 "nbformat": 4,
 "nbformat_minor": 5
}
