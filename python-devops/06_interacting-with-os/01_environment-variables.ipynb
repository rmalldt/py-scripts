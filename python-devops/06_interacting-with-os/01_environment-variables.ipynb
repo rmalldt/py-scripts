{
 "cells": [
  {
   "cell_type": "markdown",
   "id": "75498774-9207-44cf-a5ee-e76ddfdedd3a",
   "metadata": {},
   "source": [
    "# Working with Environment Variables\n",
    "\n",
    "- Environment variables are **dynamic**, **named** values provided by the **operating system** to **running processes**, enabling configuration of behavior without code modifications.\n",
    "- They allow applications to adapt across **development**, **staging**, and **production** environments by externalizing configuration data such as API keys, file paths, and feature flags.\n",
    "- Python’s `os` module offers simple interfaces to access and manage these variables, promoting separation of code and configuration."
   ]
  },
  {
   "cell_type": "code",
   "execution_count": 29,
   "id": "6da1ba08-a588-4f4b-9c07-e444466f810d",
   "metadata": {},
   "outputs": [
    {
     "name": "stdout",
     "output_type": "stream",
     "text": [
      "HOME = /Users/rupeshmall\n",
      "SHELL = /bin/zsh\n",
      "We have 61 environment variables available!\n",
      "ANDROID_HOME\n",
      "COMMAND_MODE\n",
      "CONDA_EXE\n",
      "CONDA_PYTHON_EXE\n",
      "CONDA_SHLVL\n"
     ]
    }
   ],
   "source": [
    "import os\n",
    "\n",
    "for key in [\"HOME\", \"SHELL\"]:\n",
    "    value = os.getenv(key)\n",
    "    print(f\"{key} = {value if value else \"Not set\"}\")\n",
    "\n",
    "env_keys = list(os.environ.keys())\n",
    "print(f\"We have {len(env_keys)} environment variables available!\")\n",
    "\n",
    "for key in env_keys[:5]:\n",
    "    print(key)"
   ]
  },
  {
   "cell_type": "markdown",
   "id": "150d585e",
   "metadata": {},
   "source": [
    "## Accessing Environment Variables with `os.getenv()`\n",
    "\n",
    "- The `os.getenv` function retrieves the **value** of an **environment variable** by **key**, returning None or a provided default if the key is not found.\n",
    "- It prevents `KeyError` exceptions by offering a safe access pattern for optional configuration settings.\n",
    "- **Since environment variables are always strings, any expected non-string types require explicit conversion after retrieval.**"
   ]
  },
  {
   "cell_type": "code",
   "execution_count": null,
   "id": "b50229d7-ce3f-4667-81b7-25ac8aefd080",
   "metadata": {},
   "outputs": [
    {
     "name": "stdout",
     "output_type": "stream",
     "text": [
      "API key found for APP_API_KEY: ab12... (masked) \n",
      "APP key not set for DEBUG_MODE.\n",
      "hello\n"
     ]
    }
   ],
   "source": [
    "import os \n",
    "\n",
    "os.environ[\"APP_API_KEY\"] = \"ab12cd34\"\n",
    "\n",
    "env_keys = [\"APP_API_KEY\", \"DEBUG_MODE\"]\n",
    "for key in env_keys:\n",
    "    api_key = os.getenv(key, False) # return default value if environment variable not found\n",
    "    if api_key and type(api_key) == str:\n",
    "        print(f\"API key found for {key}: {api_key[:4]}... (masked) \")\n",
    "    else:\n",
    "        print(f\"APP key not set for {key}.\")\n"
   ]
  },
  {
   "cell_type": "markdown",
   "id": "1142cbf2",
   "metadata": {},
   "source": [
    "## Accessing Environment Variables with `os.environ`\n",
    "\n",
    "- `os.environ` behaves like a **dictionary mapping environment variable names to their string values**.\n",
    "- Accessing a missing key via `os.environ['KEY']` raises a `KeyError`, making it suitable for mandatory variables.\n",
    "- One should guard against missing keys by checking membership or catching `KeyError` to handle critical configuration errors."
   ]
  },
  {
   "cell_type": "code",
   "execution_count": 18,
   "id": "16e439e9",
   "metadata": {},
   "outputs": [
    {
     "name": "stdout",
     "output_type": "stream",
     "text": [
      "/Library/Java/JavaVirtualMachines/jdk-17.jdk/Contents/Home\n"
     ]
    }
   ],
   "source": [
    "import os\n",
    "\n",
    "try:\n",
    "    java_home = os.environ[\"JAVA_HOME\"]\n",
    "    print(java_home)\n",
    "except KeyError:\n",
    "    print(\"JAVA_HOME environment variable not set.\")\n"
   ]
  },
  {
   "cell_type": "markdown",
   "id": "e27bd5a5",
   "metadata": {},
   "source": [
    "## Setting Environment Variables Within Python\n",
    "\n",
    "- While environment variables are typically set externally, `os.environ` can be modified at runtime to affect the current process and its children.\n",
    "- Assigning to `os.environ['KEY']` makes the variable available to any subprocesses spawned by the script.\n",
    "- Deleting an entry from `os.environ` removes it for subsequent operations within the process, but changes do not persist after the script exits."
   ]
  },
  {
   "cell_type": "code",
   "execution_count": 28,
   "id": "f27457c5-12cd-48bf-a208-f28f1e156655",
   "metadata": {},
   "outputs": [
    {
     "name": "stdout",
     "output_type": "stream",
     "text": [
      "Initial MY_CUSTOM_VAR: None\n",
      "Set MY_CUSTOM_VAR: SetByOurScript\n",
      "Child sees MY_CUSTOM_VAR: SetByOurScript\n",
      "After deletion, MY_CUSTOM_VAR: None\n"
     ]
    }
   ],
   "source": [
    "import os\n",
    "import sys\n",
    "import subprocess\n",
    "\n",
    "# Check if env var is set\n",
    "print(f\"Initial MY_CUSTOM_VAR: {os.getenv(\"MY_CUSTOM_VAR\")}\")\n",
    "\n",
    "# Set env var\n",
    "os.environ[\"MY_CUSTOM_VAR\"] = \"SetByOurScript\"\n",
    "print(f\"Set MY_CUSTOM_VAR: {os.getenv(\"MY_CUSTOM_VAR\")}\")\n",
    "\n",
    "# Spawn subprocess\n",
    "result = subprocess.run([\n",
    "    sys.executable,     # python executable\n",
    "    \"-c\",               # content flag\n",
    "    \"\"\"import os        \n",
    "print(f\"Child sees MY_CUSTOM_VAR: {os.getenv(\"MY_CUSTOM_VAR\")}\")\"\"\"  \n",
    "])\n",
    "\n",
    "# Print the result of subprocess in stdout\n",
    "result.stdout\n",
    "\n",
    "# Delete the env var\n",
    "del os.environ[\"MY_CUSTOM_VAR\"]\n",
    "print(f\"After deletion, MY_CUSTOM_VAR: {os.getenv(\"MY_CUSTOM_VAR\")}\")"
   ]
  },
  {
   "cell_type": "markdown",
   "id": "bba1fb00-9bec-4cbb-910e-f966891c99de",
   "metadata": {},
   "source": [
    "## Using dotenv to Manage Local Environment Files\n",
    "- The **python-dotenv** library lets you keep sensitive and environment-specific values in a `.env` file instead of the **shell**.\n",
    "- A **.env** file lives alongside your script and contains lines like `KEY=value`; it's loaded at runtime into `os.environ`.\n",
    "- Install with `pip install python-dotenv==1.1.0`, then call `load_dotenv()` before any `os.getenv` calls.\n",
    "- This approach keeps your shell clean and makes it easy to commit example `.env.example` files without secrets.\n",
    "- Remember **never commit** actual `.env` files with real secrets! Add them to `.gitignore`."
   ]
  },
  {
   "cell_type": "code",
   "execution_count": 6,
   "id": "94061dc2",
   "metadata": {},
   "outputs": [
    {
     "name": "stdout",
     "output_type": "stream",
     "text": [
      "Retrieved MY_VAR with value abc123hello\n"
     ]
    }
   ],
   "source": [
    "import os\n",
    "from dotenv import load_dotenv\n",
    "\n",
    "# Load environment variables from `.env` file\n",
    "load_dotenv(\"./.env\")\n",
    "\n",
    "env_value = os.getenv(\"MY_DOTENV_VAR\")\n",
    "print(f\"Retrieved MY_VAR with value {env_value}\")"
   ]
  },
  {
   "cell_type": "markdown",
   "id": "0a26bbf7",
   "metadata": {},
   "source": [
    "## Common Pitfalls & How to Avoid Them\n",
    "\n",
    "- Environment variable names are always **case-sensitive** in Python, regardless of the underlying OS; inconsistent casing leads to unexpected missing values.\n",
    "- Forgetting that all environment variable values are strings can cause type errors; always convert to the intended type like int or bool after retrieval.\n",
    "- Accessing a missing mandatory variable via os.environ raises KeyError; avoid unhandled errors by checking membership or catching exceptions.\n",
    "- Storing highly sensitive secrets in plain environment variables carries security risks; for production use, consider managed secrets solutions like Vault or AWS Secrets Manager."
   ]
  },
  {
   "cell_type": "code",
   "execution_count": 10,
   "id": "76f37418-d0ac-4739-86d1-03e7a912abaf",
   "metadata": {},
   "outputs": [
    {
     "name": "stdout",
     "output_type": "stream",
     "text": [
      "<class 'str'> 123\n"
     ]
    }
   ],
   "source": [
    "import os\n",
    "from dotenv import load_dotenv\n",
    "\n",
    "# Load environment variable from `.env` file and and make it overridable\n",
    "load_dotenv(\"./.env\")\n",
    "\n",
    "# NOTE: All environment variables are of `str` type. DO NOT forget to convert them to required type such as number.\n",
    "env_value = os.getenv(\"MY_NUMBER_VAR\")\n",
    "print(type(env_value), env_value)\n",
    "\n",
    "# print(number_dotenv_value + 45) # Uncommenting will raise TypeError because number_dotenv_value is a string!\n",
    "    "
   ]
  },
  {
   "cell_type": "code",
   "execution_count": null,
   "id": "2d8e93b5-644e-45c8-b652-9f18cc84a7b6",
   "metadata": {},
   "outputs": [],
   "source": []
  }
 ],
 "metadata": {
  "kernelspec": {
   "display_name": "Python 3 (ipykernel)",
   "language": "python",
   "name": "python3"
  },
  "language_info": {
   "codemirror_mode": {
    "name": "ipython",
    "version": 3
   },
   "file_extension": ".py",
   "mimetype": "text/x-python",
   "name": "python",
   "nbconvert_exporter": "python",
   "pygments_lexer": "ipython3",
   "version": "3.12.9"
  }
 },
 "nbformat": 4,
 "nbformat_minor": 5
}
