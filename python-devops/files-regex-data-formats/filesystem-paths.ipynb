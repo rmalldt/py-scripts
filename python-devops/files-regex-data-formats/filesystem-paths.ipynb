{
 "cells": [
  {
   "cell_type": "markdown",
   "id": "56238708-d927-46f5-8545-d6e11a21d6ac",
   "metadata": {},
   "source": [
    "# Working with Filesystem Paths in Python\n",
    "- Manipulating paths as plain strings is error-prone and OS-specific.  \n",
    "- `pathlib` provides an object-oriented, cross-platform way to handle paths.  \n",
    "- `Path` objects offer intuitive operators and methods for most filesystem tasks.\n",
    "\n",
    "## Limitations of String Paths and `os.path`\n",
    "- Using `os.path.join`, `os.path.exists`, etc., requires multiple function calls.  \n",
    "- Code readability suffers when paths are manipulated as plain strings.  \n",
    "- OS differences (\"/\" vs \"\\\\\" separators) must be handled explicitly.\n",
    "\n",
    "## Creating and Combining `Path` Objects\n",
    "- Import `Path` from `pathlib`.  \n",
    "- Create `Path` objects for directories and files.  \n",
    "- Use the `/` operator to join path components cleanly.  "
   ]
  },
  {
   "cell_type": "code",
   "execution_count": 3,
   "id": "dca0853e-c7fc-49c0-b210-b3faa09b7c3b",
   "metadata": {},
   "outputs": [
    {
     "name": "stdout",
     "output_type": "stream",
     "text": [
      ". <class 'pathlib._local.PosixPath'>\n",
      "/Users/lauromueller/Documents/courses/python-devops/code/files-regex-data-formats/settings.yaml\n"
     ]
    }
   ],
   "source": [
    "from pathlib import Path\n",
    "\n",
    "config_dir = Path(\".\")\n",
    "filename = \"settings.yaml\"\n",
    "\n",
    "print(config_dir, type(config_dir))\n",
    "\n",
    "config_path = config_dir / filename\n",
    "print(config_path.resolve())"
   ]
  },
  {
   "cell_type": "markdown",
   "id": "5df4f188-3b91-44b9-892a-a6230a9ad22f",
   "metadata": {},
   "source": [
    "## Inspecting Path Properties\n",
    "- `.exists()`, `.is_file()`, `.is_dir()` check path state.  \n",
    "- `.parent`, `.name`, `.stem`, `.suffix` expose components.  \n",
    "- `.resolve()` returns the absolute, canonical path.  "
   ]
  },
  {
   "cell_type": "code",
   "execution_count": 8,
   "id": "aab0eccc-81ba-4087-af69-7da00f95519c",
   "metadata": {},
   "outputs": [
    {
     "name": "stdout",
     "output_type": "stream",
     "text": [
      "Exists: False\n",
      "Is file? False\n",
      "Is directory? False\n",
      "Parent: /var/log/app\n",
      "Name: service.log\n",
      "Stem: service\n",
      "Suffix: .log\n",
      "Resolved absolute path: /private/var/log/app/service.log\n"
     ]
    }
   ],
   "source": [
    "service_log = Path(\"/var/log/app/service.log\")\n",
    "\n",
    "print(f\"Exists: {service_log.exists()}\")\n",
    "print(f\"Is file? {service_log.is_file()}\")\n",
    "print(f\"Is directory? {service_log.is_dir()}\")\n",
    "print(f\"Parent: {service_log.parent}\")\n",
    "print(f\"Name: {service_log.name}\")\n",
    "print(f\"Stem: {service_log.stem}\")\n",
    "print(f\"Suffix: {service_log.suffix}\")\n",
    "print(f\"Resolved absolute path: {service_log.resolve()}\")"
   ]
  },
  {
   "cell_type": "markdown",
   "id": "ba0fbcd7-a2f2-4fa3-9f1e-f025fe5e9b61",
   "metadata": {},
   "source": [
    "## Listing Directory Contents\n",
    "- `.iterdir()` yields immediate children of a directory.  \n",
    "- `.glob(pattern)` finds entries matching a shell-style pattern.  \n",
    "- Use `\"**/*.ext\"` in `glob` for recursive searches.  "
   ]
  },
  {
   "cell_type": "code",
   "execution_count": 12,
   "id": "0980e1cd-fe00-4f92-8ec6-766835289a3a",
   "metadata": {},
   "outputs": [
    {
     "name": "stdout",
     "output_type": "stream",
     "text": [
      "Immediate children:\n",
      "  error-handling - True\n",
      "  requirements.txt - False\n",
      "  generators-decorators - True\n",
      "  python-fundamentals - True\n",
      "  .gitignore - False\n",
      "Python files recursively:\n",
      "  ../error-handling/built-in-exceptions.ipynb\n",
      "  ../error-handling/custom-context-managers.ipynb\n",
      "  ../error-handling/custom-exceptions.ipynb\n",
      "  ../error-handling/raising-exceptions.ipynb\n",
      "  ../error-handling/context-managers.ipynb\n",
      "  ../generators-decorators/decorators-intro.ipynb\n",
      "  ../generators-decorators/lazy-pipelines.ipynb\n",
      "  ../generators-decorators/stacking-decorators.ipynb\n",
      "  ../generators-decorators/functions-first-class-citizens.ipynb\n",
      "  ../generators-decorators/generators-intro.ipynb\n",
      "  ../generators-decorators/functools-wraps.ipynb\n"
     ]
    }
   ],
   "source": [
    "course_parent = Path(\"..\")\n",
    "\n",
    "print(\"Immediate children:\")\n",
    "\n",
    "for i, child in enumerate(course_parent.iterdir()):\n",
    "    print(f\"  {child.name} - {child.is_dir()}\")\n",
    "    if i >= 4: break\n",
    "\n",
    "print(\"Python files recursively:\")\n",
    "\n",
    "for i, child in enumerate(course_parent.glob(\"**/*.ipynb\")):\n",
    "    print(f\"  {child}\")\n",
    "    if i >= 10: break"
   ]
  },
  {
   "cell_type": "markdown",
   "id": "d25a3145-bff1-4aa5-962f-eedbfbb29700",
   "metadata": {},
   "source": [
    "## Reading and Writing Files with `Path`\n",
    "- `.write_text()` and `.read_text()` handle simple text I/O.  \n",
    "- Use `p.open(mode=\"a\")` for more control (e.g., appending, binary mode).  \n",
    "- Path methods automatically manage file open/close.  "
   ]
  },
  {
   "cell_type": "code",
   "execution_count": 16,
   "id": "271f0aa0-26fe-48f6-94f8-aee210bec5bc",
   "metadata": {},
   "outputs": [
    {
     "name": "stdout",
     "output_type": "stream",
     "text": [
      "Read back: Hello, from pathlib!\n",
      "Read back: Hello, from pathlib!\n",
      "Appended line!\n"
     ]
    }
   ],
   "source": [
    "test_file = Path(\"demo.txt\")\n",
    "\n",
    "test_file.write_text(\"Hello, from pathlib!\", encoding=\"utf-8\")\n",
    "print(f\"Read back: {test_file.read_text(encoding=\"utf-8\")}\")\n",
    "\n",
    "with test_file.open(mode=\"a\", encoding=\"utf-8\") as file:\n",
    "    file.write(\"\\nAppended line!\")\n",
    "\n",
    "print(f\"Read back: {test_file.read_text(encoding=\"utf-8\")}\")\n",
    "\n",
    "test_file.unlink()"
   ]
  },
  {
   "cell_type": "code",
   "execution_count": null,
   "id": "12b59ac1-b1ef-4d0d-b47e-a2b94f38ecc5",
   "metadata": {},
   "outputs": [],
   "source": []
  }
 ],
 "metadata": {
  "kernelspec": {
   "display_name": "Python 3 (ipykernel)",
   "language": "python",
   "name": "python3"
  },
  "language_info": {
   "codemirror_mode": {
    "name": "ipython",
    "version": 3
   },
   "file_extension": ".py",
   "mimetype": "text/x-python",
   "name": "python",
   "nbconvert_exporter": "python",
   "pygments_lexer": "ipython3",
   "version": "3.13.3"
  }
 },
 "nbformat": 4,
 "nbformat_minor": 5
}
