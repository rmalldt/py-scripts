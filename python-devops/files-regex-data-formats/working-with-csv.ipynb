{
 "cells": [
  {
   "cell_type": "markdown",
   "id": "56238708-d927-46f5-8545-d6e11a21d6ac",
   "metadata": {},
   "source": [
    "# Working with CSV files\n",
    "- CSV (Comma Separated Values) is a plain-text tabular format where each line is a row and fields are delimited (commonly by commas).  \n",
    "- Widely used for spreadsheets, database exports, DevOps reports or inventories.  \n",
    "- Python’s built-in `csv` module handles reading, writing, quoting, delimiters, headers, and dialects.  \n",
    "- Always open files with `newline=''` and `encoding='utf-8'` for cross-platform consistency.\n",
    "\n",
    "## CSV Format Basics\n",
    "- Each row represents a record; fields separated by a delimiter (comma by default).  \n",
    "- Optional header row defines column names.  \n",
    "- Fields containing delimiters, quotes, or newlines must be quoted (usually with double quotes).  \n",
    "- Alternative delimiters (tabs, semicolons) and quoting conventions are supported via dialects and parameters.\n",
    "\n",
    "## Reading CSV files with `csv.reader`\n",
    "- Iterates over rows, returning each as a list of strings.  \n",
    "- Use `next(reader)` to skip or extract the header.  \n",
    "- Accepts `delimiter`, `quotechar`, and other formatting parameters.\n"
   ]
  },
  {
   "cell_type": "code",
   "execution_count": 24,
   "id": "47e78505-6a4b-47c0-8a13-db36b5615ea3",
   "metadata": {},
   "outputs": [
    {
     "name": "stdout",
     "output_type": "stream",
     "text": [
      "Header: ['hostname', 'ip_address', 'role', 'status', 'tags']\n",
      "Row 1: ['web01', '10.0.1.5', 'webserver', 'running', 'frontend,prod']\n",
      "Row 2: ['db01', '10.0.2.10', 'database', 'maintenance', 'backend,staging']\n"
     ]
    }
   ],
   "source": [
    "import csv\n",
    "from pathlib import Path\n",
    "\n",
    "csv_path = Path(\"servers.csv\")\n",
    "\n",
    "with csv_path.open(\"r\", encoding=\"utf-8\", newline=\"\") as file:\n",
    "    reader = csv.reader(file)\n",
    "    header = next(reader)\n",
    "    print(f\"Header: {header}\")\n",
    "\n",
    "    for idx, row in enumerate(reader, start=1):\n",
    "        print(f\"Row {idx}: {row}\")"
   ]
  },
  {
   "cell_type": "markdown",
   "id": "e7bb393f-9f72-482f-ac6b-c591d1d50fa1",
   "metadata": {},
   "source": [
    "## Reading with `csv.DictReader`\n",
    "- Reads rows into dictionaries using the header row as keys.  \n",
    "- Access fields by column name instead of index.\n",
    "- Optional `fieldnames` argument overrides header names."
   ]
  },
  {
   "cell_type": "code",
   "execution_count": 25,
   "id": "a773d052-6124-4cf5-a44f-370a06797e19",
   "metadata": {},
   "outputs": [
    {
     "name": "stdout",
     "output_type": "stream",
     "text": [
      "Fieldnames: ['hostname', 'ip_address', 'role', 'status', 'tags']\n",
      "Record 1: {'hostname': 'web01', 'ip_address': '10.0.1.5', 'role': 'webserver', 'status': 'running', 'tags': 'frontend,prod'}\n",
      "Record 2: {'hostname': 'db01', 'ip_address': '10.0.2.10', 'role': 'database', 'status': 'maintenance', 'tags': 'backend,staging'}\n"
     ]
    }
   ],
   "source": [
    "import csv\n",
    "from pathlib import Path\n",
    "\n",
    "csv_path = Path(\"servers.csv\")\n",
    "\n",
    "with csv_path.open(\"r\", encoding=\"utf-8\", newline=\"\") as file:\n",
    "    dict_reader = csv.DictReader(file)\n",
    "    print(f\"Fieldnames: {dict_reader.fieldnames}\")\n",
    "\n",
    "    for idx, record in enumerate(dict_reader, start=1):\n",
    "        print(f\"Record {idx}: {record}\")"
   ]
  },
  {
   "cell_type": "markdown",
   "id": "7becb90a-3e6d-4117-ae16-f8746c744e44",
   "metadata": {},
   "source": [
    "## Writing with `csv.writer`\n",
    "- Write rows from lists using `.writerow()` or `.writerows()`.  \n",
    "- Open file with `newline=''` to avoid blank lines.  \n",
    "- Control delimiter and quoting via parameters."
   ]
  },
  {
   "cell_type": "code",
   "execution_count": 26,
   "id": "dca0853e-c7fc-49c0-b210-b3faa09b7c3b",
   "metadata": {},
   "outputs": [],
   "source": [
    "import csv\n",
    "from pathlib import Path\n",
    "\n",
    "data = [\n",
    "    [\"hostname\", \"ip_address\", \"role\"],\n",
    "    [\"web02\", \"10.0.1.6\", \"webserver\"],\n",
    "    [\"app01\", \"10.0.3.15\", \"application\"],\n",
    "]\n",
    "\n",
    "out_path = Path(\"output_basic.csv\")\n",
    "\n",
    "with out_path.open(\"w\", encoding=\"utf-8\", newline=\"\") as file:\n",
    "    writer = csv.writer(file)\n",
    "    writer.writerows(data)"
   ]
  },
  {
   "cell_type": "markdown",
   "id": "861b38d3",
   "metadata": {},
   "source": [
    "## Writing with `csv.DictWriter`\n",
    "- Write dictionaries using `fieldnames` to define header and column order.  \n",
    "- Call `.writeheader()` before `.writerows()`.  "
   ]
  },
  {
   "cell_type": "code",
   "execution_count": 27,
   "id": "12b59ac1-b1ef-4d0d-b47e-a2b94f38ecc5",
   "metadata": {},
   "outputs": [],
   "source": [
    "import csv\n",
    "from pathlib import Path\n",
    "\n",
    "records = [\n",
    "    {\n",
    "        \"host\": \"web01\",\n",
    "        \"port\": \"80\",\n",
    "        \"status\": \"running\"\n",
    "    },\n",
    "    {\n",
    "        \"host\": \"db02\",\n",
    "        \"status\": \"maintenance\",\n",
    "        \"tags\": \"prod,finance\"\n",
    "    }\n",
    "]\n",
    "\n",
    "out_dict_path = Path(\"output_dict.csv\")\n",
    "fieldnames = set()\n",
    "\n",
    "for record in records:\n",
    "    fieldnames = fieldnames | record.keys()\n",
    "\n",
    "with out_dict_path.open(\"w\", encoding=\"utf-8\", newline=\"\") as file:\n",
    "    writer = csv.DictWriter(\n",
    "        file,\n",
    "        fieldnames=fieldnames,\n",
    "        restval=\"undefined\",\n",
    "        extrasaction=\"ignore\"\n",
    "    )\n",
    "    writer.writeheader()\n",
    "    writer.writerows(records)"
   ]
  },
  {
   "cell_type": "code",
   "execution_count": null,
   "id": "e81ef9e8",
   "metadata": {},
   "outputs": [],
   "source": []
  }
 ],
 "metadata": {
  "kernelspec": {
   "display_name": "Python 3 (ipykernel)",
   "language": "python",
   "name": "python3"
  },
  "language_info": {
   "codemirror_mode": {
    "name": "ipython",
    "version": 3
   },
   "file_extension": ".py",
   "mimetype": "text/x-python",
   "name": "python",
   "nbconvert_exporter": "python",
   "pygments_lexer": "ipython3",
   "version": "3.13.3"
  }
 },
 "nbformat": 4,
 "nbformat_minor": 5
}
