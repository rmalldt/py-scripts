{
 "cells": [
  {
   "cell_type": "markdown",
   "id": "56238708-d927-46f5-8545-d6e11a21d6ac",
   "metadata": {},
   "source": [
    "# Capturing Groups and Back-References\n",
    "- Regex lets you check for patterns, but often you need to **extract** pieces of the match (e.g., IP vs port).\n",
    "- Capturing groups, defined with `()`, let you isolate and retrieve substrings from a match.\n",
    "- Named groups improve readability by giving meaningful labels instead of relying on group numbers.\n",
    "- Non-capturing groups `(?:…)` let you apply grouping logic without cluttering captures.\n",
    "- Back-references allow you to match the same text twice (or more) within one pattern.\n",
    "\n",
    "## Capturing Groups\n",
    "- Parentheses `()` both group and **capture** the matched text inside them.\n",
    "- Groups are numbered by their opening `(`, starting at 1; group 0 is the entire match.\n",
    "- Use `match.group(n)` for a single group or `match.groups()` to get all captures as a tuple.\n",
    "- Capturing is essential when you need to feed specific substrings into further processing."
   ]
  },
  {
   "cell_type": "code",
   "execution_count": 33,
   "id": "47e78505-6a4b-47c0-8a13-db36b5615ea3",
   "metadata": {},
   "outputs": [
    {
     "name": "stdout",
     "output_type": "stream",
     "text": [
      "Full match: Level=ERROR User=admin Action=login_fail IP=10.0.0.5\n",
      "Level: ERROR\n",
      "User: admin\n",
      "IP: 10.0.0.5\n",
      "All groups: ('ERROR', 'admin', '10.0.0.5')\n"
     ]
    }
   ],
   "source": [
    "import re\n",
    "\n",
    "log_entry = \"Ts=2023-10-27T12:00:00Z Level=ERROR User=admin Action=login_fail IP=10.0.0.5\"\n",
    "\n",
    "# Our goal:\n",
    "# 1. Group 1: The log level\n",
    "# 2. Group 2: The user name\n",
    "# 2. Group 3: The IP address\n",
    "\n",
    "pattern = r\"Level=(\\w+)\\s+User=(\\w+).*?\\s+IP=([\\d\\.]+)\"\n",
    "\n",
    "match = re.search(pattern, log_entry)\n",
    "\n",
    "if match:\n",
    "    print(f\"Full match: {match.group(0)}\")\n",
    "    print(f\"Level: {match.group(1)}\")\n",
    "    print(f\"User: {match.group(2)}\")\n",
    "    print(f\"IP: {match.group(3)}\")\n",
    "    print(f\"All groups: {match.groups()}\")"
   ]
  },
  {
   "cell_type": "markdown",
   "id": "e7bb393f-9f72-482f-ac6b-c591d1d50fa1",
   "metadata": {},
   "source": [
    "## Named Capturing Groups\n",
    "- Syntax: `(?P<name>pattern)` assigns a label to a capturing group.\n",
    "- Access by name: `match.group('name')` makes code self-documenting.\n",
    "- `match.groupdict()` returns a dict of all named captures.\n",
    "- You can still use numeric indices if needed, but names help avoid off-by-one errors."
   ]
  },
  {
   "cell_type": "code",
   "execution_count": 35,
   "id": "a773d052-6124-4cf5-a44f-370a06797e19",
   "metadata": {},
   "outputs": [
    {
     "name": "stdout",
     "output_type": "stream",
     "text": [
      "Full match: Level=ERROR User=admin Action=login_fail IP=10.0.0.5\n",
      "Level: ERROR\n",
      "User: admin\n",
      "IP: 10.0.0.5\n",
      "All groups: ('ERROR', 'admin', '10.0.0.5')\n",
      "Group dictionary: {'level': 'ERROR', 'user': 'admin', 'ip': '10.0.0.5'}\n"
     ]
    }
   ],
   "source": [
    "import re\n",
    "\n",
    "log_entry = \"Ts=2023-10-27T12:00:00Z Level=ERROR User=admin Action=login_fail IP=10.0.0.5\"\n",
    "\n",
    "# Add labels to:\n",
    "# 1. Group 1: The log level\n",
    "# 2. Group 2: The user name\n",
    "# 2. Group 3: The IP address\n",
    "\n",
    "pattern = r\"Level=(?P<level>\\w+)\\s+User=(?P<user>\\w+).*?\\s+IP=(?P<ip>[\\d\\.]+)\"\n",
    "\n",
    "match = re.search(pattern, log_entry)\n",
    "\n",
    "if match:\n",
    "    print(f\"Full match: {match.group(0)}\")\n",
    "    print(f\"Level: {match.group(\"level\")}\")\n",
    "    print(f\"User: {match.group(\"user\")}\")\n",
    "    print(f\"IP: {match.group(\"ip\")}\")\n",
    "    print(f\"All groups: {match.groups()}\")\n",
    "    print(f\"Group dictionary: {match.groupdict()}\")"
   ]
  },
  {
   "cell_type": "markdown",
   "id": "7becb90a-3e6d-4117-ae16-f8746c744e44",
   "metadata": {},
   "source": [
    "## Non-Capturing Groups\n",
    "- Use `(?:pattern)` when you need grouping for quantifiers or alternation **without** capturing.\n",
    "- Keeps your capture numbers focused on what you actually want.\n",
    "- Prevents unwanted `None` entries in `match.groups()` when using optional parts."
   ]
  },
  {
   "cell_type": "code",
   "execution_count": 51,
   "id": "dca0853e-c7fc-49c0-b210-b3faa09b7c3b",
   "metadata": {},
   "outputs": [
    {
     "name": "stdout",
     "output_type": "stream",
     "text": [
      "('report', 'OK')\n",
      "('report', 'OK')\n"
     ]
    }
   ],
   "source": [
    "import re\n",
    "\n",
    "log_line1 = \"report.txt Status: OK\"\n",
    "log_line2 = \"report Status: OK\"\n",
    "\n",
    "# Our goal:\n",
    "# 1. Group 1: The stem of the filename, with .txt being an optional string\n",
    "# 2. Group 2: The status code\n",
    "\n",
    "pattern = r\"^(.+?)(?:\\.txt)?\\s+Status:\\s+(.+)$\"\n",
    "\n",
    "match_line1 = re.search(pattern, log_line1)\n",
    "match_line2 = re.search(pattern, log_line2)\n",
    "\n",
    "if match_line1: print(match_line1.groups())\n",
    "if match_line2: print(match_line2.groups())"
   ]
  },
  {
   "cell_type": "markdown",
   "id": "5df4f188-3b91-44b9-892a-a6230a9ad22f",
   "metadata": {},
   "source": [
    "## Back-references\n",
    "- Refer back to a previous capture using `\\1`, `\\2`, … or `(?P=name)` for named groups.\n",
    "- Useful for matching repeated words or balanced constructs (e.g., open/close tags).\n",
    "- Can make patterns more complex but powerful for advanced text validation."
   ]
  },
  {
   "cell_type": "code",
   "execution_count": 61,
   "id": "aab0eccc-81ba-4087-af69-7da00f95519c",
   "metadata": {},
   "outputs": [
    {
     "name": "stdout",
     "output_type": "stream",
     "text": [
      "Doubled words: ['This', 'test']\n",
      "Doubled words: ['This', 'test']\n",
      "Tags: [('p', 'Paragraph'), ('b', 'Bold')]\n"
     ]
    }
   ],
   "source": [
    "import re\n",
    "\n",
    "text = \"This this is a test test.\"\n",
    "pattern_numbers = r\"(?i)\\b(\\w+)\\s+\\1\\b\"\n",
    "pattern_labels = r\"(?i)\\b(?P<word>\\w+)\\s+(?P=word)\\b\"\n",
    "\n",
    "print(f\"Doubled words: {re.findall(pattern_numbers, text)}\")\n",
    "print(f\"Doubled words: {re.findall(pattern_labels, text)}\")\n",
    "\n",
    "html = \"<p>Paragraph</p> <b>Bold</b>\"\n",
    "pattern_tags = r\"<(\\w+)>(.*?)</\\1>\"\n",
    "\n",
    "print(f\"Tags: {re.findall(pattern_tags, html)}\")"
   ]
  },
  {
   "cell_type": "code",
   "execution_count": null,
   "id": "12b59ac1-b1ef-4d0d-b47e-a2b94f38ecc5",
   "metadata": {},
   "outputs": [],
   "source": []
  }
 ],
 "metadata": {
  "kernelspec": {
   "display_name": "Python 3 (ipykernel)",
   "language": "python",
   "name": "python3"
  },
  "language_info": {
   "codemirror_mode": {
    "name": "ipython",
    "version": 3
   },
   "file_extension": ".py",
   "mimetype": "text/x-python",
   "name": "python",
   "nbconvert_exporter": "python",
   "pygments_lexer": "ipython3",
   "version": "3.13.3"
  }
 },
 "nbformat": 4,
 "nbformat_minor": 5
}
