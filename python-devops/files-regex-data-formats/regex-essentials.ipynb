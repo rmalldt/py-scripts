{
 "cells": [
  {
   "cell_type": "markdown",
   "id": "56238708-d927-46f5-8545-d6e11a21d6ac",
   "metadata": {},
   "source": [
    "# Regex Essentials: Overview\n",
    "- Regular expressions (regex) are a language for defining text search patterns.  \n",
    "- Python’s `re` module provides functions like `search` (find anywhere) and `match` (anchored at start).  \n",
    "- Patterns include literals, metacharacters (`. ^ $ * + ? [] \\`), character classes (`\\d`, `\\w`, `\\s`), and quantifiers (`*`, `+`, `?`, `{n,m}`).  \n",
    "- Greedy quantifiers (`*`, `+`) match as much as possible; non-greedy (`*?`, `+?`) as little as possible.\n",
    "\n",
    "## Introduction to `re.search()` vs `re.match()`\n",
    "- `re.search(pattern, text)` scans the entire string for the first occurrence.  \n",
    "- `re.match(pattern, text)` checks only at the beginning of the string.\n",
    "- `re.findall()` and `re.finditer()` let you retrieve every occurrence of a pattern.   \n",
    "- Always use raw strings (`r\"...\"`) to define regex patterns, avoiding Python string escapes interfering with regex."
   ]
  },
  {
   "cell_type": "code",
   "execution_count": 25,
   "id": "47e78505-6a4b-47c0-8a13-db36b5615ea3",
   "metadata": {},
   "outputs": [
    {
     "name": "stdout",
     "output_type": "stream",
     "text": [
      "search 'WARN': True\n",
      "match 'WARN': True\n"
     ]
    }
   ],
   "source": [
    "import re\n",
    "\n",
    "line = \"WARN: Disk usage at 91%\"\n",
    "pattern = r\"WARN\"\n",
    "\n",
    "print(f\"search '{pattern}':\", bool(re.search(pattern, line)))\n",
    "print(f\"match '{pattern}':\", bool(re.match(pattern, line)))"
   ]
  },
  {
   "cell_type": "markdown",
   "id": "e7bb393f-9f72-482f-ac6b-c591d1d50fa1",
   "metadata": {},
   "source": [
    "## Common Metacharacters\n",
    "- `.` matches any character (except newline).  \n",
    "- `^` anchors at start of string.  \n",
    "- `$` anchors at end of string.  \n",
    "- `[]` defines a set or range of characters, e.g. `[A-Z]`.  \n",
    "- `\\` escapes metacharacters or introduces special sequences."
   ]
  },
  {
   "cell_type": "code",
   "execution_count": 36,
   "id": "a773d052-6124-4cf5-a44f-370a06797e19",
   "metadata": {},
   "outputs": [
    {
     "name": "stdout",
     "output_type": "stream",
     "text": [
      "Dot matches any character: ['code', 'cxge']\n",
      "Start anchor (finds): ['Error']\n",
      "Start anchor (does not find): []\n",
      "End anchor: ['cxge']\n",
      "Character set: ['E', 'E1234']\n"
     ]
    }
   ],
   "source": [
    "import re\n",
    "\n",
    "test = \"Error code: E1234. cxge\"\n",
    "\n",
    "print(f\"Dot matches any character: {re.findall(r\"c..e\", test)}\")\n",
    "print(f\"Start anchor (finds): {re.findall(r\"^Error\", test)}\")\n",
    "print(f\"Start anchor (does not find): {re.findall(r\"^E1234\", test)}\")\n",
    "print(f\"End anchor: {re.findall(r\"cxge$\", test)}\")\n",
    "print(f\"Character set: {re.findall(r\"[E0-9]+\", test)}\")"
   ]
  },
  {
   "cell_type": "markdown",
   "id": "7becb90a-3e6d-4117-ae16-f8746c744e44",
   "metadata": {},
   "source": [
    "## Special Sequences\n",
    "- `\\d` digit (0–9), `\\D` non-digit.  \n",
    "- `\\w` word character (letters, digits, underscore), `\\W` non-word.  \n",
    "- `\\s` whitespace, `\\S` non-whitespace.  \n",
    "- `\\b` word boundary (zero-width match)."
   ]
  },
  {
   "cell_type": "code",
   "execution_count": 42,
   "id": "dca0853e-c7fc-49c0-b210-b3faa09b7c3b",
   "metadata": {},
   "outputs": [
    {
     "name": "stdout",
     "output_type": "stream",
     "text": [
      "Digits: ['1024']\n",
      "Word characters: ['The', 'cat', 'scattered', '1024', 'catalogues']\n",
      "Whitespace: [' ', ' ', ' ', ' ']\n",
      "Word boundary: ['cat']\n"
     ]
    }
   ],
   "source": [
    "import re\n",
    "\n",
    "text = \"The cat scattered 1024 catalogues.\"\n",
    "\n",
    "print(f\"Digits: {re.findall(r\"\\d+\", text)}\")\n",
    "print(f\"Word characters: {re.findall(r\"\\w+\", text)}\")\n",
    "print(f\"Whitespace: {re.findall(r\"\\s+\", text)}\")\n",
    "print(f\"Word boundary: {re.findall(r\"\\bcat\\b\", text)}\")"
   ]
  },
  {
   "cell_type": "markdown",
   "id": "9417217d-fe02-43ab-a824-faba312e69db",
   "metadata": {},
   "source": [
    "## Quantifier Cheat-Sheet\n",
    "\n",
    "| Quantifier | Meaning                                 | Greedy? | Non-greedy form  | Meaning                                  |\n",
    "|------------|-----------------------------------------|---------|------------------|------------------------------------------|\n",
    "| `?`        | 0 or 1 of the preceding token           | Yes     | `??`             | as few as possible (0 or 1)              |\n",
    "| `*`        | 0 or more of the preceding token        | Yes     | `*?`             | as few as possible (including zero)      |\n",
    "| `+`        | 1 or more of the preceding token        | Yes     | `+?`             | as few as possible (at least one)        |\n",
    "| `{n}`      | exactly n of the preceding token        | -       | -                | -                                        |\n",
    "| `{n,}`     | n or more of the preceding token        | Yes     | `{n,}?`          | n or more, but as few as possible        |\n",
    "| `{n,m}`    | between n and m of the preceding token  | Yes     | `{n,m}?`         | between n and m, but as few as possible  |"
   ]
  },
  {
   "cell_type": "code",
   "execution_count": 61,
   "id": "e440f11c-bb93-485f-b05c-896dbc25fc85",
   "metadata": {},
   "outputs": [
    {
     "name": "stdout",
     "output_type": "stream",
     "text": [
      "['a', 'a', 'a', 'a', '']\n",
      "['aaaa', '']\n",
      "['aaaa']\n",
      "['aa', 'aa']\n",
      "['aaa', 'a']\n",
      "Non-greedy a*: ['', 'a', '', 'a', '', 'a', '', 'a', '']\n",
      "Non-greedy a+: ['a', 'a', 'a', 'a']\n",
      "Non-greedy a{1,3}?: ['a', 'a', 'a', 'a']\n"
     ]
    }
   ],
   "source": [
    "import re\n",
    "\n",
    "text = \"aaaa\"\n",
    "\n",
    "print(re.findall(r\"a?\", text))\n",
    "print(re.findall(r\"a*\", text))\n",
    "print(re.findall(r\"a+\", text))\n",
    "print(re.findall(r\"a{2}\", text))\n",
    "print(re.findall(r\"a{1,3}\", text))\n",
    "\n",
    "print(f\"Non-greedy a*: {re.findall(r\"a*?\", text)}\")\n",
    "print(f\"Non-greedy a+: {re.findall(r\"a+?\", text)}\")\n",
    "print(f\"Non-greedy a{{1,3}}?: {re.findall(r\"a{1,3}?\", text)}\")"
   ]
  },
  {
   "cell_type": "markdown",
   "id": "5df4f188-3b91-44b9-892a-a6230a9ad22f",
   "metadata": {},
   "source": [
    "## Quantifiers & Greedy vs Non-Greedy\n",
    "- `*` / `+` / `{n,}` are greedy: match as much as possible.  \n",
    "- Append `?` (`*?` / `+?` / `{n,}?`) to make them non-greedy: match as little as possible.  \n",
    "- Greedy quantifiers match the longest possible string that satisfies the pattern. Adding a `?` after them makes them non-greedy (or lazy), matching the shortest possible string."
   ]
  },
  {
   "cell_type": "code",
   "execution_count": 68,
   "id": "12b59ac1-b1ef-4d0d-b47e-a2b94f38ecc5",
   "metadata": {},
   "outputs": [
    {
     "name": "stdout",
     "output_type": "stream",
     "text": [
      "Greedy: ['<p>One</p><p>Two</p><></>']\n",
      "Non-greedy: ['<p>', '</p>', '<p>', '</p>', '<>', '</>']\n"
     ]
    }
   ],
   "source": [
    "import re\n",
    "\n",
    "html = \"<p>One</p><p>Two</p><></>\"\n",
    "\n",
    "print(f\"Greedy: {re.findall(r\"<.*>\", html)}\")\n",
    "print(f\"Non-greedy: {re.findall(r\"<.*?>\", html)}\")"
   ]
  },
  {
   "cell_type": "code",
   "execution_count": null,
   "id": "441b2068-a6c3-49c2-904f-3e7bfc982a0f",
   "metadata": {},
   "outputs": [],
   "source": []
  }
 ],
 "metadata": {
  "kernelspec": {
   "display_name": "Python 3 (ipykernel)",
   "language": "python",
   "name": "python3"
  },
  "language_info": {
   "codemirror_mode": {
    "name": "ipython",
    "version": 3
   },
   "file_extension": ".py",
   "mimetype": "text/x-python",
   "name": "python",
   "nbconvert_exporter": "python",
   "pygments_lexer": "ipython3",
   "version": "3.13.3"
  }
 },
 "nbformat": 4,
 "nbformat_minor": 5
}
