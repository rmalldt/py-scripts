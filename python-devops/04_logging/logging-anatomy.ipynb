{
 "cells": [
  {
   "cell_type": "markdown",
   "id": "4529be93-ad54-4a84-b0e0-319cd11f4c00",
   "metadata": {},
   "source": [
    "# Python Logging Anatomy\n",
    "- Python’s `logging` module has five core components: **Loggers**, **Log Records**, **Handlers**, **Formatters** and **Filters**.  \n",
    "- **Loggers** are hierarchical objects your code calls to emit messages at various severity levels.  \n",
    "- Each call to a logger creates a **LogRecord** capturing metadata: level, message, timestamp, source, thread/process IDs, exception info, etc.  \n",
    "- **Handlers** attached to loggers dispatch records to destinations (console, files, network).  \n",
    "- **Formatters** define how a `LogRecord` is rendered into the final string emitted by a handler.  "
   ]
  },
  {
   "cell_type": "code",
   "execution_count": 16,
   "id": "ff37d05e-1d78-4800-bbbb-0b2a6f338997",
   "metadata": {},
   "outputs": [
    {
     "name": "stdout",
     "output_type": "stream",
     "text": [
      "Root logger: name=root, level=WARNING\n",
      "App logger: name=app, level=NOTSET, parent=root\n",
      "Network logger: name=app.network, level=NOTSET, parent=app\n"
     ]
    }
   ],
   "source": [
    "import logging\n",
    "\n",
    "root_logger = logging.getLogger()\n",
    "print(f\"Root logger: name={root_logger.name}, level={logging.getLevelName(root_logger.level)}\")\n",
    "\n",
    "app_logger = logging.getLogger(\"app\")\n",
    "print(f\"App logger: name={app_logger.name}, level={logging.getLevelName(app_logger.level)}, parent={app_logger.parent.name}\")\n",
    "\n",
    "network_logger = logging.getLogger(\"app.network\")\n",
    "print(f\"Network logger: name={network_logger.name}, level={logging.getLevelName(network_logger.level)}, parent={network_logger.parent.name}\")"
   ]
  },
  {
   "cell_type": "markdown",
   "id": "a2a91eb2-627b-4801-9063-b43ac9ee9886",
   "metadata": {},
   "source": [
    "## Log Records\n",
    "- Each logging call (`logger.info()`, `logger.error()`, etc.) creates a **LogRecord** object behind the scenes.  \n",
    "- A `LogRecord` includes attributes such as `name`, `levelno`, `levelname`, `pathname`, `lineno`, `funcName`, `asctime`, `message`, plus any user-supplied `extra` data.  \n",
    "- Handlers and formatters use these attributes to filter and render the log entry."
   ]
  },
  {
   "cell_type": "code",
   "execution_count": 18,
   "id": "843fee5b-ed1c-4ac3-b755-089bf19cf6aa",
   "metadata": {},
   "outputs": [
    {
     "name": "stdout",
     "output_type": "stream",
     "text": [
      "LogRecord contents:\n",
      "    name => app.network\n",
      "    levelname => ERROR\n",
      "    pathname => /path/to/file.py\n",
      "    msg => My log message\n"
     ]
    }
   ],
   "source": [
    "from logging import LogRecord\n",
    "\n",
    "record = LogRecord(\n",
    "    name=\"app.network\",\n",
    "    level=logging.ERROR,\n",
    "    pathname=\"/path/to/file.py\",\n",
    "    lineno=43,\n",
    "    msg=\"My log message\",\n",
    "    args=(),\n",
    "    exc_info=None\n",
    ")\n",
    "\n",
    "print(\"LogRecord contents:\")\n",
    "\n",
    "for attr in (\"name\", \"levelname\", \"pathname\", \"msg\"):\n",
    "    print(f\"    {attr} => {getattr(record, attr)}\")"
   ]
  },
  {
   "cell_type": "markdown",
   "id": "c87d0213-5d68-4cdc-9023-3f9bacac407c",
   "metadata": {},
   "source": [
    "## Handlers\n",
    "- **Handlers** determine *where* log records are sent (console, file, network, etc.).  \n",
    "- Each handler has its own level: it filters out any record whose level is below its threshold.  \n",
    "- Common handlers include:  \n",
    "  - `StreamHandler` (console),  \n",
    "  - `FileHandler` (single file),  \n",
    "  - `RotatingFileHandler`,  \n",
    "  - `TimedRotatingFileHandler`,  \n",
    "  - `SysLogHandler`,  \n",
    "  - `HTTPHandler`,  \n",
    "  - `NullHandler`.  "
   ]
  },
  {
   "cell_type": "code",
   "execution_count": 53,
   "id": "cefda16a-c802-4bfc-adaa-733bdd3792a0",
   "metadata": {},
   "outputs": [
    {
     "name": "stdout",
     "output_type": "stream",
     "text": [
      "Info message: will show\n",
      "Warning message: will show\n",
      "Error message: will show\n"
     ]
    }
   ],
   "source": [
    "import sys\n",
    "\n",
    "demo_logger = logging.getLogger(\"handler_demo\")\n",
    "demo_logger.setLevel(logging.INFO)\n",
    "demo_logger.handlers.clear()\n",
    "\n",
    "stream_handler = logging.StreamHandler(sys.stdout)\n",
    "stream_handler.setLevel(logging.DEBUG)\n",
    "demo_logger.addHandler(stream_handler)\n",
    "\n",
    "demo_logger.debug(\"Debug message: will not show\")\n",
    "demo_logger.info(\"Info message: will show\")\n",
    "demo_logger.warning(\"Warning message: will show\")\n",
    "demo_logger.error(\"Error message: will show\")"
   ]
  },
  {
   "cell_type": "markdown",
   "id": "7f3da4e4-bec7-4f5d-877d-cf7f53caf814",
   "metadata": {},
   "source": [
    "## Formatters\n",
    "- **Formatters** specify the layout of the final log message string.  \n",
    "- You define a format string using `%(attribute)s` or `%(attribute)d` placeholders.  \n",
    "- Common attributes: `asctime`, `levelname`, `name`, `message`, `filename`, `lineno`, `funcName`, `process`, `thread`.  "
   ]
  },
  {
   "cell_type": "code",
   "execution_count": 54,
   "id": "d38b58c4-1816-4e13-9e35-b600adde4a44",
   "metadata": {},
   "outputs": [
    {
     "name": "stdout",
     "output_type": "stream",
     "text": [
      "2025-05-15 11:30:38 - handler_demo - WARNING - Formatted warning\n"
     ]
    }
   ],
   "source": [
    "formatter = logging.Formatter(\n",
    "    \"%(asctime)s - %(name)s - %(levelname)s - %(message)s\",\n",
    "    datefmt=\"%Y-%m-%d %H:%M:%S\"\n",
    ")\n",
    "\n",
    "stream_handler.setFormatter(formatter)\n",
    "\n",
    "demo_logger.warning(\"Formatted warning\")"
   ]
  },
  {
   "cell_type": "code",
   "execution_count": null,
   "id": "056021be-55f9-4941-a86a-f10f41fbb6c8",
   "metadata": {},
   "outputs": [],
   "source": []
  }
 ],
 "metadata": {
  "kernelspec": {
   "display_name": "Python 3 (ipykernel)",
   "language": "python",
   "name": "python3"
  },
  "language_info": {
   "codemirror_mode": {
    "name": "ipython",
    "version": 3
   },
   "file_extension": ".py",
   "mimetype": "text/x-python",
   "name": "python",
   "nbconvert_exporter": "python",
   "pygments_lexer": "ipython3",
   "version": "3.13.3"
  }
 },
 "nbformat": 4,
 "nbformat_minor": 5
}
