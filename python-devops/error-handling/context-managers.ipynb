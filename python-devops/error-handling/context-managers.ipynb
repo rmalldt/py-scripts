{
 "cells": [
  {
   "cell_type": "markdown",
   "id": "a1d8401c-11d1-4438-8361-ee7ec64042ee",
   "metadata": {},
   "source": [
    "# Context Managers\n",
    "- When opening files or acquiring locks, resources must be released even if errors occur.  \n",
    "- Manual `try...finally` ensures cleanup but adds boilerplate and potential for mistakes.  \n",
    "- Forgetting to initialize the resource variable or to call cleanup in every exit path leads to leaks, deadlocks, or corrupted data.  \n",
    "- Cleaner patterns reduce noise and risk in automation scripts.  "
   ]
  },
  {
   "cell_type": "code",
   "execution_count": 14,
   "id": "9d3d30d2-7448-419f-bb64-0631c3240ae2",
   "metadata": {},
   "outputs": [
    {
     "name": "stdout",
     "output_type": "stream",
     "text": [
      "Error has occurred.\n",
      "Closing file\n",
      "File closed: True\n"
     ]
    }
   ],
   "source": [
    "f = None\n",
    "\n",
    "try:\n",
    "    f = open(\"my_log.txt\", \"w\")\n",
    "    f.write(\"First line\\n\")\n",
    "    # Simulate an error\n",
    "    result = 1 / 0\n",
    "    f.write(\"Second line\\n\")\n",
    "except:\n",
    "    print(\"Error has occurred.\")\n",
    "finally:\n",
    "    if f:\n",
    "        print(\"Closing file.\")\n",
    "        f.close()\n",
    "\n",
    "print(f\"File closed: {f.closed}\")"
   ]
  },
  {
   "cell_type": "markdown",
   "id": "3926db5a-0883-4053-bc6b-97fdad823ca0",
   "metadata": {},
   "source": [
    "## The `with` Statement Simplifies Cleanup\n",
    "- The `with` statement handles setup and teardown automatically for context managers.  \n",
    "- For file I/O, `with open(...) as f:` guarantees `f.close()` on block exit, even if an exception is raised.  \n",
    "- Syntax is concise and idiomatic, reducing boilerplate and improving readability.  \n",
    "\n",
    "## Common Context Manager Examples\n",
    "- **Files:** `with open(...) as f:` for automatic file closing.  \n",
    "- **Locks:** `with threading.Lock():` acquires and releases locks safely.  \n",
    "- **Tempfiles/Dirs:** `with tempfile.TemporaryDirectory() as d:` creates and cleans up temporary directories.  \n",
    "- Context managers from the standard library cover most resource-management needs.  "
   ]
  },
  {
   "cell_type": "code",
   "execution_count": 1,
   "id": "580c450b-2061-4758-8aef-3caea2b4b0ac",
   "metadata": {},
   "outputs": [
    {
     "name": "stdout",
     "output_type": "stream",
     "text": [
      "Error has occurred.\n",
      "File closed: True\n"
     ]
    }
   ],
   "source": [
    "f = None\n",
    "\n",
    "try:\n",
    "    with open(\"my_log.txt\", \"w\") as f:\n",
    "        f.write(\"First line\\n\")\n",
    "        # Simulate an error\n",
    "        result = 1 / 0\n",
    "        f.write(\"Second line\\n\")\n",
    "except:\n",
    "    print(\"Error has occurred.\")\n",
    "\n",
    "print(f\"File closed: {f.closed}\")"
   ]
  },
  {
   "cell_type": "code",
   "execution_count": 8,
   "id": "696ddcba-6e93-4436-9dbf-0dff25ab1e8f",
   "metadata": {},
   "outputs": [
    {
     "name": "stdout",
     "output_type": "stream",
     "text": [
      "Created temp dir: /var/folders/mj/cbl0hyj553x1hg303r5syl5r0000gn/T/tmpah0oizsu\n",
      "Files inside temp dir: ['test.txt']\n",
      "Expected error accessing removed directory: [Errno 2] No such file or directory: '/var/folders/mj/cbl0hyj553x1hg303r5syl5r0000gn/T/tmpah0oizsu'\n"
     ]
    }
   ],
   "source": [
    "import tempfile, os\n",
    "\n",
    "dir_name = None\n",
    "\n",
    "with tempfile.TemporaryDirectory() as tempdir:\n",
    "    print(f\"Created temp dir: {tempdir}\")\n",
    "    \n",
    "    dir_name = tempdir\n",
    "    test_file = os.path.join(tempdir, \"test.txt\")\n",
    "\n",
    "    with open(test_file, \"w\") as file:\n",
    "        file.write(\"Hello from temp directory.\")\n",
    "\n",
    "    print(f\"Files inside temp dir: {os.listdir(tempdir)}\")\n",
    "\n",
    "try:\n",
    "    contents = os.listdir(dir_name)\n",
    "    print(f\"Contents of {dir_name}: {contents}\")\n",
    "except FileNotFoundError as e:\n",
    "    print(f\"Expected error accessing removed directory: {e}\")"
   ]
  },
  {
   "cell_type": "code",
   "execution_count": null,
   "id": "9a91e2b0-17af-40ee-8e88-a79164af1bb1",
   "metadata": {},
   "outputs": [],
   "source": []
  }
 ],
 "metadata": {
  "kernelspec": {
   "display_name": "Python 3 (ipykernel)",
   "language": "python",
   "name": "python3"
  },
  "language_info": {
   "codemirror_mode": {
    "name": "ipython",
    "version": 3
   },
   "file_extension": ".py",
   "mimetype": "text/x-python",
   "name": "python",
   "nbconvert_exporter": "python",
   "pygments_lexer": "ipython3",
   "version": "3.13.3"
  }
 },
 "nbformat": 4,
 "nbformat_minor": 5
}
