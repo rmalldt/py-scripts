{
 "cells": [
  {
   "cell_type": "markdown",
   "id": "2eeccb23",
   "metadata": {},
   "source": [
    "# Common Built‑in Exceptions\n",
    "- Python ships with a rich hierarchy of exception classes; most automation errors fall into a small, predictable subset.  \n",
    "- All ordinary run‑time exceptions inherit from `Exception`, but subclasses convey *why* something failed (e.g., file missing vs. wrong type).  \n",
    "- Catching overly broad bases like `Exception` hides root causes and can mask bugs—prefer the narrowest class you can handle.  \n",
    "- Understanding the inheritance tree lets you decide when a single `except` can cover many related problems (e.g., `OSError`).  "
   ]
  },
  {
   "cell_type": "code",
   "execution_count": 16,
   "id": "a58e40cd-c300-4120-a605-c38b470d744e",
   "metadata": {},
   "outputs": [
    {
     "name": "stdout",
     "output_type": "stream",
     "text": [
      "- ArithmeticError\n",
      "\t- FloatingPointError\n",
      "\t- OverflowError\n",
      "\t- ZeroDivisionError\n",
      "- AssertionError\n",
      "- AttributeError\n",
      "- BufferError\n",
      "- EOFError\n",
      "- ImportError\n",
      "\t- ModuleNotFoundError\n",
      "- LookupError\n",
      "\t- IndexError\n",
      "\t- KeyError\n",
      "- MemoryError\n",
      "- NameError\n",
      "\t- UnboundLocalError\n",
      "- OSError\n",
      "\t- BlockingIOError\n",
      "\t- ChildProcessError\n",
      "\t- ConnectionError\n",
      "\t- FileExistsError\n",
      "\t- FileNotFoundError\n",
      "\t- InterruptedError\n",
      "\t- IsADirectoryError\n",
      "\t- NotADirectoryError\n",
      "\t- PermissionError\n",
      "\t- ProcessLookupError\n",
      "\t- TimeoutError\n",
      "\t- BrokenPipeError\n",
      "\t- ConnectionAbortedError\n",
      "\t- ConnectionRefusedError\n",
      "\t- ConnectionResetError\n",
      "- ReferenceError\n",
      "- RuntimeError\n",
      "\t- NotImplementedError\n",
      "\t- PythonFinalizationError\n",
      "\t- RecursionError\n",
      "- StopAsyncIteration\n",
      "- StopIteration\n",
      "- SyntaxError\n",
      "\t- IndentationError\n",
      "\t- _IncompleteInputError\n",
      "\t- TabError\n",
      "- SystemError\n",
      "- TypeError\n",
      "- ValueError\n",
      "\t- UnicodeError\n",
      "\t- UnicodeDecodeError\n",
      "\t- UnicodeEncodeError\n",
      "\t- UnicodeTranslateError\n",
      "- Warning\n",
      "\t- BytesWarning\n",
      "\t- DeprecationWarning\n",
      "\t- EncodingWarning\n",
      "\t- FutureWarning\n",
      "\t- ImportWarning\n",
      "\t- PendingDeprecationWarning\n",
      "\t- ResourceWarning\n",
      "\t- RuntimeWarning\n",
      "\t- SyntaxWarning\n",
      "\t- UnicodeWarning\n",
      "\t- UserWarning\n",
      "- FloatingPointError\n",
      "- OverflowError\n",
      "- ZeroDivisionError\n",
      "- BytesWarning\n",
      "- DeprecationWarning\n",
      "- EncodingWarning\n",
      "- FutureWarning\n",
      "- ImportWarning\n",
      "- PendingDeprecationWarning\n",
      "- ResourceWarning\n",
      "- RuntimeWarning\n",
      "- SyntaxWarning\n",
      "- UnicodeWarning\n",
      "- UserWarning\n",
      "- BlockingIOError\n",
      "- ChildProcessError\n",
      "- ConnectionError\n",
      "\t- BrokenPipeError\n",
      "\t- ConnectionAbortedError\n",
      "\t- ConnectionRefusedError\n",
      "\t- ConnectionResetError\n",
      "- FileExistsError\n",
      "- FileNotFoundError\n",
      "- InterruptedError\n",
      "- IsADirectoryError\n",
      "- NotADirectoryError\n",
      "- PermissionError\n",
      "- ProcessLookupError\n",
      "- TimeoutError\n",
      "- IndentationError\n",
      "\t- TabError\n",
      "- _IncompleteInputError\n",
      "- IndexError\n",
      "- KeyError\n",
      "- ModuleNotFoundError\n",
      "- NotImplementedError\n",
      "- PythonFinalizationError\n",
      "- RecursionError\n",
      "- UnboundLocalError\n",
      "- UnicodeError\n",
      "\t- UnicodeDecodeError\n",
      "\t- UnicodeEncodeError\n",
      "\t- UnicodeTranslateError\n",
      "- BrokenPipeError\n",
      "- ConnectionAbortedError\n",
      "- ConnectionRefusedError\n",
      "- ConnectionResetError\n",
      "- TabError\n",
      "- UnicodeDecodeError\n",
      "- UnicodeEncodeError\n",
      "- UnicodeTranslateError\n",
      "- ExceptionGroup\n",
      "- EnvironmentError\n",
      "\t- BlockingIOError\n",
      "\t- ChildProcessError\n",
      "\t- ConnectionError\n",
      "\t- FileExistsError\n",
      "\t- FileNotFoundError\n",
      "\t- InterruptedError\n",
      "\t- IsADirectoryError\n",
      "\t- NotADirectoryError\n",
      "\t- PermissionError\n",
      "\t- ProcessLookupError\n",
      "\t- TimeoutError\n",
      "\t- BrokenPipeError\n",
      "\t- ConnectionAbortedError\n",
      "\t- ConnectionRefusedError\n",
      "\t- ConnectionResetError\n",
      "- IOError\n",
      "\t- BlockingIOError\n",
      "\t- ChildProcessError\n",
      "\t- ConnectionError\n",
      "\t- FileExistsError\n",
      "\t- FileNotFoundError\n",
      "\t- InterruptedError\n",
      "\t- IsADirectoryError\n",
      "\t- NotADirectoryError\n",
      "\t- PermissionError\n",
      "\t- ProcessLookupError\n",
      "\t- TimeoutError\n",
      "\t- BrokenPipeError\n",
      "\t- ConnectionAbortedError\n",
      "\t- ConnectionRefusedError\n",
      "\t- ConnectionResetError\n"
     ]
    }
   ],
   "source": [
    "import inspect, builtins\n",
    "\n",
    "def show_tree(base, level=0, max_depth=1):\n",
    "    if level > max_depth:\n",
    "        return\n",
    "\n",
    "    for name, obj in vars(builtins).items():\n",
    "        if inspect.isclass(obj) and issubclass(obj, base) and obj is not base:\n",
    "            print(\"\\t\" * level + f\"- {name}\")\n",
    "            show_tree(obj, level + 1, max_depth)\n",
    "\n",
    "show_tree(Exception, max_depth=1)"
   ]
  },
  {
   "cell_type": "markdown",
   "id": "79f172d9",
   "metadata": {},
   "source": [
    "## `OSError` Family: Filesystem & Network Issues\n",
    "- Signals problems interacting with the operating system: files, permissions, sockets, paths.  \n",
    "- Subclasses such as `FileNotFoundError`, `PermissionError`, `IsADirectoryError`, `ConnectionRefusedError`, and `TimeoutError` offer granularity.  \n",
    "- Catch individual subclasses when you can recover differently (create a missing file, prompt for sudo, retry a connection).  \n",
    "- A single `except OSError` still groups all OS‑level failures when the response is the same (e.g., log and abort).  "
   ]
  },
  {
   "cell_type": "code",
   "execution_count": 28,
   "id": "74c88e06",
   "metadata": {},
   "outputs": [
    {
     "name": "stdout",
     "output_type": "stream",
     "text": [
      "File not found\n"
     ]
    }
   ],
   "source": [
    "try:\n",
    "    with open('nonexistent.txt', 'r') as file:\n",
    "        content = file.read()\n",
    "except FileNotFoundError as e:\n",
    "    print(\"File not found\")\n",
    "except PermissionError:\n",
    "    print(\"Permission denied when accessing resources.\")\n",
    "except OSError as os_err:\n",
    "    print(f\"General OS error: {os_err}\")"
   ]
  },
  {
   "cell_type": "markdown",
   "id": "2ad6093f",
   "metadata": {},
   "source": [
    "## `KeyError`: Missing Dictionary Keys\n",
    "- Raised when using `dict[key]` with a key that is absent.  \n",
    "- Frequent in config loading, JSON parsing, or environment variable maps.  \n",
    "- Mitigation patterns: `dict.get(key, default)`, membership tests (`if key in cfg`), or a tailored `except KeyError`.  \n",
    "- Treats missing data distinctly from a wrong value (`ValueError`) or wrong type (`TypeError`).  "
   ]
  },
  {
   "cell_type": "code",
   "execution_count": 37,
   "id": "be6e58bf",
   "metadata": {},
   "outputs": [
    {
     "name": "stdout",
     "output_type": "stream",
     "text": [
      "API Key: \n",
      "No api-key available, not possible to call API.\n",
      "Making API call to endpoint /users with key: 12345\n",
      "No required key 'api-key' available, not possible to call API.\n",
      "Making API call to endpoint /users with key: 12345\n"
     ]
    }
   ],
   "source": [
    "config = {\"host\": \"server1\", \"port\": 8080}\n",
    "config2 = {\"host\": \"server1\", \"port\": 8080, \"api-key\": \"12345\"}\n",
    "\n",
    "api_key = config.get(\"api-key\", \"\")\n",
    "print(f\"API Key: {api_key}\")\n",
    "\n",
    "def call_endpoint(config, endpoint):\n",
    "    \"\"\"Calls the specified endpoint of the configured host.\n",
    "\n",
    "    Args:\n",
    "        config (dict(str)): Dict containing host, port, and api-key\n",
    "        endpoint (str): The endpoint to hit\n",
    "    \"\"\"\n",
    "    if \"api-key\" in config:\n",
    "        print(f\"Making API call to endpoint {endpoint} with key: {config[\"api-key\"]}\")\n",
    "    else:\n",
    "        print(\"No api-key available, not possible to call API.\")\n",
    "\n",
    "def call_endpoint_exception(config, endpoint):\n",
    "    \"\"\"Calls the specified endpoint of the configured host.\n",
    "\n",
    "    Args:\n",
    "        config (dict(str)): Dict containing host, port, and api-key\n",
    "        endpoint (str): The endpoint to hit\n",
    "    \"\"\"\n",
    "    try:\n",
    "        print(f\"Making API call to endpoint {endpoint} with key: {config[\"api-key\"]}\")\n",
    "    except KeyError as missing_key:\n",
    "        print(f\"No required key {missing_key} available, not possible to call API.\")\n",
    "\n",
    "call_endpoint(config, \"/users\")\n",
    "call_endpoint(config2, \"/users\")\n",
    "\n",
    "call_endpoint_exception(config, \"/users\")\n",
    "call_endpoint_exception(config2, \"/users\")"
   ]
  },
  {
   "cell_type": "markdown",
   "id": "caa99972",
   "metadata": {},
   "source": [
    "## `IndexError`: Sequence Index Out of Bounds\n",
    "- Triggered when list/tuple indices fall outside the valid range: negative beyond the left edge or ≥ `len(seq)`.  \n",
    "- Common during iterative processing of dynamic lists or user‑provided indexes.  \n",
    "- Prevent with bounds checks (`if i < len(seq)`), safe iteration (`for item in seq:`), or catch and default.  \n",
    "- Signals \"wrong position\" rather than \"wrong content\".  "
   ]
  },
  {
   "cell_type": "code",
   "execution_count": 45,
   "id": "64c6dcd7",
   "metadata": {},
   "outputs": [
    {
     "name": "stdout",
     "output_type": "stream",
     "text": [
      "Index error: list index out of range. List length is 2\n"
     ]
    }
   ],
   "source": [
    "servers = [\"web01\", \"web02\"]\n",
    "\n",
    "i = 2\n",
    "\n",
    "if i < len(servers):\n",
    "    print(servers[i])\n",
    "\n",
    "try:\n",
    "    print(servers[i])\n",
    "except IndexError as e:\n",
    "    print(f\"Index error: {e}. List length is {len(servers)}\")"
   ]
  },
  {
   "cell_type": "markdown",
   "id": "f7950092",
   "metadata": {},
   "source": [
    "## `ValueError` vs. `TypeError`\n",
    "- **ValueError**: argument type is acceptable but content/value is invalid (e.g., `int(\"abc\")`).  \n",
    "- **TypeError**: operation applied to an object of the wrong type altogether (e.g., `len(5)` or `\"a\" + 3`).  \n",
    "- Distinguishing them clarifies whether to validate *content* or convert *types*.  \n",
    "- Catch them separately to craft precise user feedback.  "
   ]
  },
  {
   "cell_type": "code",
   "execution_count": 51,
   "id": "a5a0081b",
   "metadata": {},
   "outputs": [
    {
     "name": "stdout",
     "output_type": "stream",
     "text": [
      "Bad numeric string: invalid literal for int() with base 10: 'http'\n",
      "Type mismatch: can only concatenate str (not \"int\") to str\n"
     ]
    }
   ],
   "source": [
    "try:\n",
    "    port = int(\"http\") # ValueError, since literal must be a valid base-10 value\n",
    "except ValueError as e:\n",
    "    print(f\"Bad numeric string: {e}\")\n",
    "\n",
    "try:\n",
    "    total = \"Errors: \" + 5\n",
    "except TypeError as e:\n",
    "    print(f\"Type mismatch: {e}\")"
   ]
  },
  {
   "cell_type": "markdown",
   "id": "5aab3bc2",
   "metadata": {},
   "source": [
    "## `AttributeError`: Missing Object Member\n",
    "- Raised when an attribute or method doesn't exist on the object referenced.  \n",
    "- Often results from typos, unexpected `None`, or polymorphic functions returning different types.  \n",
    "- Defensive techniques: `hasattr(obj, \"attr\")`, `if obj is not None:`, or narrow `except AttributeError`.  \n",
    "- Conveys \"object of this type doesn’t support that capability\".  "
   ]
  },
  {
   "cell_type": "code",
   "execution_count": 60,
   "id": "0aa95a17",
   "metadata": {},
   "outputs": [
    {
     "name": "stdout",
     "output_type": "stream",
     "text": [
      "Object has no attribute 'subtract'\n",
      "AttributeError caught: 'Calculator' object has no attribute 'subtract'.\n",
      "AttributeError caught: 'Calculator' object has no attribute 'result'.\n"
     ]
    }
   ],
   "source": [
    "class Calculator:\n",
    "    def add(self, a, b):\n",
    "        return a + b\n",
    "\n",
    "calc = Calculator()\n",
    "\n",
    "if hasattr(calc, \"subtract\"):\n",
    "    print(calc.subtract(10, 5))\n",
    "else:\n",
    "    print(\"Object has no attribute 'subtract'\")\n",
    "\n",
    "try:\n",
    "    print(calc.subtract(10, 5))\n",
    "except AttributeError as e:\n",
    "    print(f\"AttributeError caught: {e}.\")\n",
    "\n",
    "try:\n",
    "    print(calc.result)\n",
    "except AttributeError as e:\n",
    "    print(f\"AttributeError caught: {e}.\")"
   ]
  },
  {
   "cell_type": "markdown",
   "id": "6c1db2a7",
   "metadata": {},
   "source": [
    "## `ImportError` / `ModuleNotFoundError`\n",
    "- Raised when an `import` statement cannot locate a module/package.  \n",
    "- `ModuleNotFoundError` (Python 3.6+) is the specific subclass; catching `ImportError` also covers it.  \n",
    "- Causes: misspelling, package not installed, wrong virtual environment, or PYTHONPATH issues.  \n",
    "- Typical handling logs instructions and aborts early to avoid cascading failures.  "
   ]
  },
  {
   "cell_type": "code",
   "execution_count": 62,
   "id": "5018a9fc",
   "metadata": {},
   "outputs": [
    {
     "name": "stdout",
     "output_type": "stream",
     "text": [
      "Import failed: No module named 'non_existent_lib'. Is the library installed and the correct venv active?\n"
     ]
    }
   ],
   "source": [
    "try:\n",
    "    import non_existent_lib\n",
    "except ModuleNotFoundError as e:\n",
    "    print(f\"Import failed: {e}. Is the library installed and the correct venv active?\")"
   ]
  },
  {
   "cell_type": "code",
   "execution_count": null,
   "id": "2af3e6bf",
   "metadata": {},
   "outputs": [],
   "source": []
  }
 ],
 "metadata": {
  "kernelspec": {
   "display_name": "Python 3 (ipykernel)",
   "language": "python",
   "name": "python3"
  },
  "language_info": {
   "codemirror_mode": {
    "name": "ipython",
    "version": 3
   },
   "file_extension": ".py",
   "mimetype": "text/x-python",
   "name": "python",
   "nbconvert_exporter": "python",
   "pygments_lexer": "ipython3",
   "version": "3.13.3"
  }
 },
 "nbformat": 4,
 "nbformat_minor": 5
}
