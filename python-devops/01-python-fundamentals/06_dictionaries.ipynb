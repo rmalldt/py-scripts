{
 "cells": [
  {
   "cell_type": "markdown",
   "id": "673d5858",
   "metadata": {},
   "source": [
    "# Dictionaries (`dict`)\n",
    "\n",
    "Dictionaries are mutable, insertion-ordered collections of key-value pairs. Keys must be unique and immutable; values can be of any type."
   ]
  },
  {
   "cell_type": "markdown",
   "id": "8e1f18ff",
   "metadata": {},
   "source": [
    "## Characteristics and Use Cases\n",
    "- Insertion-ordered (Python 3.7+)\n",
    "- Mutable: add, remove, or change key-value pairs\n",
    "- Fast lookups by key\n",
    "- Ideal for configuration data, JSON-like structures, and lookups"
   ]
  },
  {
   "cell_type": "markdown",
   "id": "d241bd89-adc5-456e-818d-6b93a887c149",
   "metadata": {},
   "source": [
    "## Dictionary Operations Overview\n",
    "\n",
    "Dictionaries in Python support a variety of operations for efficient data manipulation:\n",
    "\n",
    "- **Length**: Use `len(my_dictionary)` to get the number of key-value pairs.\n",
    "- **Accessing Keys, Values, and Items**: Use `my_dictionary.keys()`, `my_dictionary.values()`, and `my_dictionary.items()` to retrieve keys, values, or key-value pairs.\n",
    "- **Membership Test**: Check if a key exists using `'key' in my_dictionary`.\n",
    "- **Get with Default**: Use `my_dictionary.get('key', default)` to safely retrieve a value with a fallback.\n",
    "- **Setdefault**: Add a key with a default value if it doesn't exist using `my_dictionary.setdefault(key, default)`.\n",
    "- **Pop and Popitem**: Remove a specific key with `my_dictionary.pop(key)` or remove an arbitrary key-value pair with `my_dictionary.popitem()`.\n",
    "- **Merging**: Combine dictionaries using the `|` operator (Python 3.9+) or `update()` method.\n",
    "- **Fromkeys**: Create a new dictionary with specified keys and a default value using `dict.fromkeys(keys, value)`.\n",
    "- **Clear**: Remove all items from the dictionary with `my_dictionary.clear()`."
   ]
  },
  {
   "cell_type": "code",
   "execution_count": 34,
   "id": "773e70a5",
   "metadata": {},
   "outputs": [
    {
     "name": "stdout",
     "output_type": "stream",
     "text": [
      "{'a': 1, 'b': 2, 'c': 3}\n",
      "Length: 3\n",
      "Keys: dict_keys(['a', 'b', 'c'])\n",
      "Values: dict_values([1, 2, 3])\n",
      "Items: dict_items([('a', 1), ('b', 2), ('c', 3)])\n",
      "<class 'tuple'>\n",
      "<class 'tuple'>\n",
      "<class 'tuple'>\n",
      "- a: 1\n",
      "- b: 2\n",
      "- c: 3\n",
      "'b' is in my_dictionary? True\n",
      "'d' is in my_dictionary? False\n",
      "1 is in my_dictionary? False\n",
      "1 is in values of my_dictionary? True\n",
      "'b': 2\n",
      "'b': 2\n",
      "'e' without default: None\n",
      "'e' with default: -1\n",
      "{'a': 1, 'b': 2, 'c': 3, 'd': 4}\n",
      "Removed value: 1\n",
      "Removed value: ('d', 4)\n",
      "Removed value: ('c', 3)\n"
     ]
    }
   ],
   "source": [
    "my_dictionary = {'a': 1, 'b': 2, 'c': 3}\n",
    "print(my_dictionary)\n",
    "\n",
    "print(f\"Length: {len(my_dictionary)}\")\n",
    "\n",
    "# Keys, Values, and Items\n",
    "print(f\"Keys: {my_dictionary.keys()}\")\n",
    "print(f\"Values: {my_dictionary.values()}\")\n",
    "print(f\"Items: {my_dictionary.items()}\")\n",
    "\n",
    "for item in my_dictionary.items():\n",
    "    print(type(item))\n",
    "\n",
    "for key, value in my_dictionary.items():\n",
    "    print(f\"- {key}: {value}\")\n",
    "\n",
    "# Membership test\n",
    "print(f\"'b' is in my_dictionary? {\"b\" in my_dictionary}\")\n",
    "print(f\"'d' is in my_dictionary? {\"d\" in my_dictionary}\")\n",
    "print(f\"1 is in my_dictionary? {1 in my_dictionary}\")\n",
    "print(f\"1 is in values of my_dictionary? {1 in set(my_dictionary.values())}\")\n",
    "\n",
    "# Accessing elements\n",
    "print(\"'b':\", my_dictionary[\"b\"]) # Will raise KeyError if key is not present in the dictionary\n",
    "print(\"'b':\", my_dictionary.get(\"b\")) # Will not raise KeyError\n",
    "print(\"'e' without default:\", my_dictionary.get(\"e\"))\n",
    "print(\"'e' with default:\", my_dictionary.get(\"e\", -1))\n",
    "\n",
    "my_dictionary.setdefault(\"d\", 4)\n",
    "print(my_dictionary)\n",
    "\n",
    "# Removing elements\n",
    "removed = my_dictionary.pop(\"a\")\n",
    "print(f\"Removed value: {removed}\")\n",
    "removed = my_dictionary.popitem()\n",
    "print(f\"Removed value: {removed}\")\n",
    "removed = my_dictionary.popitem()\n",
    "print(f\"Removed value: {removed}\")"
   ]
  },
  {
   "cell_type": "code",
   "execution_count": 40,
   "id": "7b169d2c-9993-49a4-854c-50cda3b0b955",
   "metadata": {},
   "outputs": [
    {
     "name": "stdout",
     "output_type": "stream",
     "text": [
      "{'Environment': 'Production', 'Owner': 'Finance', 'CostCenter': '12345'}\n",
      "{'Environment': 'Production', 'Owner': 'Finance', 'CostCenter': '12345'}\n",
      "{'one': 0, 'two': 0}\n",
      "{}\n"
     ]
    }
   ],
   "source": [
    "# Merging of dictionaries\n",
    "default_tags = {\n",
    "    \"Environment\": \"Production\",\n",
    "    \"Owner\": \"Finance\",\n",
    "    \"CostCenter\": \"10000\"\n",
    "}\n",
    "\n",
    "custom_tags = {\n",
    "    \"CostCenter\": \"12345\"\n",
    "}\n",
    "\n",
    "merged_tags = default_tags | custom_tags\n",
    "print(merged_tags)\n",
    "default_tags.update(custom_tags)\n",
    "print(default_tags)\n",
    "\n",
    "# Creating new dictionary based on a set of keys\n",
    "new_dict = dict.fromkeys(['one', 'two', 'one'], 0)\n",
    "print(new_dict)\n",
    "\n",
    "new_dict.clear()\n",
    "print(new_dict)"
   ]
  },
  {
   "cell_type": "markdown",
   "id": "753e157d",
   "metadata": {},
   "source": [
    "## Adding and Updating Items\n",
    "- `server_config['port'] = 8080`  # Update existing key\n",
    "- `server_config['environment'] = 'production'`  # Add new key-value pair"
   ]
  },
  {
   "cell_type": "code",
   "execution_count": 41,
   "id": "5673b794",
   "metadata": {},
   "outputs": [
    {
     "name": "stdout",
     "output_type": "stream",
     "text": [
      "{'Environment': 'Production', 'Owner': 'Finance', 'CostCenter': '12345', 'Project': 'Python for DevOps'}\n"
     ]
    }
   ],
   "source": [
    "tags = {\n",
    "    \"Environment\": \"Production\",\n",
    "    \"Owner\": \"Finance\",\n",
    "    \"CostCenter\": \"10000\"\n",
    "}\n",
    "\n",
    "tags[\"CostCenter\"] = \"12345\"\n",
    "tags[\"Project\"] = \"Python for DevOps\"\n",
    "\n",
    "print(tags)"
   ]
  },
  {
   "cell_type": "markdown",
   "id": "e69298a8",
   "metadata": {},
   "source": [
    "## Hands-on Exercise\n",
    "Practice creating and manipulating dictionaries:\n",
    "1. Create a `server_info` dict with keys: `'id'`, `'ip_address'`, `'state'`, and `'tags'` (a dictionary of tag keys and tag values)\n",
    "2. Print the server's `'state'`\n",
    "3. Safely get `'instance_type'` with default `'t2.micro'`\n",
    "4. Change `'state'` to `'stopped'`\n",
    "5. Add a new tag to `tags` dictionary\n",
    "6. Iterate over the dictionary with `.items()` to display key-value pairs"
   ]
  },
  {
   "cell_type": "code",
   "execution_count": 49,
   "id": "64295288-0e18-41fa-b7f4-0e893ac36b28",
   "metadata": {},
   "outputs": [
    {
     "name": "stdout",
     "output_type": "stream",
     "text": [
      "Server state: running\n",
      "Instance type: t2.micro\n",
      "{'id': 'web01', 'ip_address': '192.168.1.1', 'state': 'stopped', 'tags': {'environment': 'production', 'owner': 'engineering'}}\n",
      "{'id': 'web01', 'ip_address': '192.168.1.1', 'state': 'stopped', 'tags': {'environment': 'production', 'owner': 'engineering', 'region': 'eu-central-1'}}\n",
      "- id: web01\n",
      "- ip_address: 192.168.1.1\n",
      "- state: stopped\n",
      "- tags: {'environment': 'production', 'owner': 'engineering', 'region': 'eu-central-1'}\n"
     ]
    }
   ],
   "source": [
    "server_info = {\n",
    "    \"id\": \"web01\",\n",
    "    \"ip_address\": \"192.168.1.1\",\n",
    "    \"state\": \"running\",\n",
    "    \"tags\": {\n",
    "        \"environment\": \"production\",\n",
    "        \"owner\": \"engineering\"\n",
    "    }\n",
    "}\n",
    "\n",
    "print(\"Server state:\", server_info.get(\"state\"))\n",
    "\n",
    "instance_type = server_info.get(\"instance_type\", \"t2.micro\")\n",
    "print(\"Instance type:\", instance_type)\n",
    "\n",
    "server_info[\"state\"] = \"stopped\"\n",
    "print(server_info)\n",
    "\n",
    "server_info[\"tags\"][\"region\"] = \"eu-central-1\"\n",
    "print(server_info)\n",
    "\n",
    "for key, value in server_info.items():\n",
    "    print(f\"- {key}: {value}\")"
   ]
  },
  {
   "cell_type": "code",
   "execution_count": null,
   "id": "ea4c6ee1-d417-4d6d-84eb-c971f6fbe63a",
   "metadata": {},
   "outputs": [],
   "source": []
  }
 ],
 "metadata": {
  "kernelspec": {
   "display_name": "Python 3 (ipykernel)",
   "language": "python",
   "name": "python3"
  },
  "language_info": {
   "codemirror_mode": {
    "name": "ipython",
    "version": 3
   },
   "file_extension": ".py",
   "mimetype": "text/x-python",
   "name": "python",
   "nbconvert_exporter": "python",
   "pygments_lexer": "ipython3",
   "version": "3.12.9"
  }
 },
 "nbformat": 4,
 "nbformat_minor": 5
}
