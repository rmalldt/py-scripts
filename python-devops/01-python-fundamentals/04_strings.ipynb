{
 "cells": [
  {
   "cell_type": "markdown",
   "id": "369af8d8-d881-4b2a-8ab8-7d0256d7d358",
   "metadata": {},
   "source": [
    "# Strings"
   ]
  },
  {
   "cell_type": "markdown",
   "id": "7845c5c4",
   "metadata": {},
   "source": [
    "## String Manipulation\n",
    "\n",
    "- Strings are ordered, immutable sequences of characters.\n",
    "- Use single or double quotes consistently; triple quotes for multi-line strings or docstrings."
   ]
  },
  {
   "cell_type": "code",
   "execution_count": 18,
   "id": "5071b74a",
   "metadata": {},
   "outputs": [
    {
     "name": "stdout",
     "output_type": "stream",
     "text": [
      "\n",
      "I will not be indented\n",
      "    I will be indented\n",
      "\n"
     ]
    }
   ],
   "source": [
    "single_line_str = \"Double quoted\"\n",
    "single_line_str2 = 'Single quoted'\n",
    "\n",
    "command_template = \"\"\"\n",
    "I will not be indented\n",
    "    I will be indented\n",
    "\"\"\"\n",
    "\n",
    "print(command_template)"
   ]
  },
  {
   "cell_type": "markdown",
   "id": "34371c3e",
   "metadata": {},
   "source": [
    "## Format Output using f-string\n",
    "\n",
    "**Tip:** f-strings allow inline expression evaluation and formatting, making string construction concise and readable."
   ]
  },
  {
   "cell_type": "code",
   "execution_count": 28,
   "id": "b1b1007b",
   "metadata": {},
   "outputs": [
    {
     "name": "stdout",
     "output_type": "stream",
     "text": [
      "Result: 3.5\n",
      "Result: 3.5\n"
     ]
    }
   ],
   "source": [
    "math_division = 7/2\n",
    "print(f\"Result: {math_division}\")\n",
    "print(f\"Result: {7/2}\")"
   ]
  },
  {
   "cell_type": "markdown",
   "id": "53d76649",
   "metadata": {},
   "source": [
    "### Common Operations and Essential String Methods\n",
    "\n",
    "- Concatenation (`+`): Joins strings.\n",
    "- Length (`len()`): Gets the number of characters.\n",
    "- Indexing (`[]`): Access a character by position (0-based).\n",
    "- Slicing (`[:]`): Extract substrings.\n",
    "- `.lower() / .upper()`\n",
    "- `.strip() / .lstrip() / .rstrip()`\n",
    "- `.startswith() / .endswith()`\n",
    "- `.split() / .join()`\n",
    "- `.replace()`"
   ]
  },
  {
   "cell_type": "code",
   "execution_count": 46,
   "id": "b30131e9",
   "metadata": {
    "scrolled": true
   },
   "outputs": [
    {
     "name": "stdout",
     "output_type": "stream",
     "text": [
      "     Python for DevOps    \n",
      "Result of .strip(): Python for DevOps\n",
      "Result of .lstrip(): Python for DevOps    \n",
      "Result of .rstrip():      Python for DevOps\n",
      "Result of .upper():      PYTHON FOR DEVOPS    \n",
      "Result of .lower():      python for devops    \n",
      "True\n",
      "True\n",
      "path parts: ['', 'usr', 'local', 'bin']\n",
      "joined path paths: \\usr\\local\\bin\n",
      "/usr/local/bin/python\n",
      "14\n",
      "r\n",
      "r/local\n",
      "r/local/bin\n",
      "/usr/local\n"
     ]
    }
   ],
   "source": [
    "course_title = \"     Python for DevOps    \"\n",
    "print(course_title)\n",
    "print(f\"Result of .strip(): {course_title.strip()}\")\n",
    "print(f\"Result of .lstrip(): {course_title.lstrip()}\")\n",
    "print(f\"Result of .rstrip(): {course_title.rstrip()}\")\n",
    "print(f\"Result of .upper(): {course_title.upper()}\")\n",
    "print(f\"Result of .lower(): {course_title.lower()}\")\n",
    "\n",
    "filename = \"file.yaml\"\n",
    "print(filename.startswith(\"file\"))\n",
    "print(filename.endswith(\"yaml\"))\n",
    "\n",
    "path = \"/usr/local/bin\"\n",
    "path_parts = path.split(\"/\")\n",
    "print(f\"path parts: {path_parts}\")\n",
    "print(f\"joined path paths: {\"\\\\\".join(path_parts)}\")\n",
    "\n",
    "print(path + \"/python\")\n",
    "print(len(path))\n",
    "print(path[3])\n",
    "print(path[3:10])\n",
    "print(path[3:])\n",
    "print(path[:10])"
   ]
  },
  {
   "cell_type": "markdown",
   "id": "bd325a2b-71d3-4434-96c1-4d5c2a426877",
   "metadata": {},
   "source": [
    "### String Immutability\n",
    "\n",
    "Strings are immutable, meaning you cannot change a string in place; operations that seem to modify a string actually create and return a new string object."
   ]
  },
  {
   "cell_type": "code",
   "execution_count": 50,
   "id": "23ea841e",
   "metadata": {},
   "outputs": [
    {
     "name": "stdout",
     "output_type": "stream",
     "text": [
      "     Python for DevOps    \n",
      "Result of .strip(): Python for DevOps\n",
      "Result of .lstrip(): Python for DevOps    \n",
      "Result of .rstrip():      Python for DevOps\n",
      "Result of .upper():      PYTHON FOR DEVOPS    \n",
      "Result of .lower():      python for devops    \n",
      "     Python for DevOps    \n"
     ]
    }
   ],
   "source": [
    "course_title = \"     Python for DevOps    \"\n",
    "print(course_title)\n",
    "print(f\"Result of .strip(): {course_title.strip()}\")\n",
    "print(f\"Result of .lstrip(): {course_title.lstrip()}\")\n",
    "print(f\"Result of .rstrip(): {course_title.rstrip()}\")\n",
    "print(f\"Result of .upper(): {course_title.upper()}\")\n",
    "print(f\"Result of .lower(): {course_title.lower()}\")\n",
    "print(course_title)"
   ]
  },
  {
   "cell_type": "markdown",
   "id": "c113ccfa-1e07-447e-9312-dda2678bd984",
   "metadata": {},
   "source": [
    "## Exercise: Calculate Disk Usage Percentage\n",
    "\n",
    "In this exercise you’ll combine basic arithmetic with f‑string formatting to report disk usage for a server.\n",
    "\n",
    "Objectives:\n",
    "- Given the variables below, compute the disk usage percentage.\n",
    "- Print the raw percentage value.\n",
    "- Build a human‑readable summary string:\n",
    "  - Convert the server name to uppercase.\n",
    "  - Include the number of CPU cores and amount of RAM.\n",
    "  - Show the disk usage percentage rounded to one decimal place.\n",
    "- Print a summary containing the server name in uppercase, the number of CPU cores, the memory, and the disk usage).\n",
    "- Finally, use the `.2%` format specifier in an f‑string to display the usage with two decimal places and a percent sign.\n"
   ]
  },
  {
   "cell_type": "code",
   "execution_count": 56,
   "id": "146c476b",
   "metadata": {},
   "outputs": [
    {
     "name": "stdout",
     "output_type": "stream",
     "text": [
      "70.0\n",
      "Server 'WEBSERVER-03' (4 cores, 8.0GB RAM) Disk usage: 0.7\n",
      "Server 'WEBSERVER-03' (4 cores, 8.0GB RAM) Disk usage: 70.00%\n"
     ]
    }
   ],
   "source": [
    "server_name = \"webserver-03\"\n",
    "cpu_cores = 4\n",
    "memory_gb = 8.0\n",
    "disk_total_gb = 500\n",
    "disk_used_gb = 350\n",
    "\n",
    "disk_usage_percentage = disk_used_gb / disk_total_gb\n",
    "print(disk_usage_percentage)\n",
    "\n",
    "summary = f\"Server '{server_name.upper()}' ({cpu_cores} cores, {memory_gb}GB RAM) Disk usage: {disk_usage_percentage}\"\n",
    "print(summary)\n",
    "\n",
    "summary_formatted = f\"Server '{server_name.upper()}' ({cpu_cores} cores, {memory_gb}GB RAM) Disk usage: {disk_usage_percentage:.2%}\"\n",
    "print(summary_formatted)"
   ]
  },
  {
   "cell_type": "markdown",
   "id": "b4fc2b99-de2d-4071-a4c1-ba3c1c909914",
   "metadata": {},
   "source": [
    "## Hands-on Exercise"
   ]
  },
  {
   "cell_type": "code",
   "execution_count": 1,
   "id": "acd47647-7504-4ab5-b095-a373a9ba4557",
   "metadata": {},
   "outputs": [
    {
     "name": "stdout",
     "output_type": "stream",
     "text": [
      "Double quote string\n",
      "There is no difference between \"single\" and \"double\" quote strings in Python\n",
      "Hello there\n",
      "First line\n",
      "Second line\n",
      "Third line\n",
      "1\t2\t3\n",
      "Hello, my name is \"Jim\" and I'm going to walk you through the project.\n",
      "This is first line\n",
      "    The second line\n",
      "    The third line\n",
      "C:\\Users\\tim\\notes.txt\n",
      "C:\\Users\\tim\\notes.txt\n"
     ]
    }
   ],
   "source": [
    "def string_concepts():\n",
    "    # ----- Single and double quote strings\n",
    "    print(\"Double quote string\")\n",
    "    print(\n",
    "        'There is no difference between \"single\" and \"double\" quote strings in Python'\n",
    "    )\n",
    "\n",
    "    # ----- String concatenation\n",
    "    print(\"Hello\" + \" \" + \"there\")\n",
    "\n",
    "    # ----- Escape Character: Newline, tab and Quote\n",
    "    # Newlines\n",
    "    splitString = \"First line\\nSecond line\\nThird line\"\n",
    "    print(splitString)\n",
    "\n",
    "    # Tabs\n",
    "    tabbedstring = \"1\\t2\\t3\"\n",
    "    print(tabbedstring)\n",
    "\n",
    "    # Quotes\n",
    "    anotherstring = (\n",
    "        \"\"\"Hello, my name is \"Jim\" and I'm going to walk you through the project.\"\"\"\n",
    "    )\n",
    "\n",
    "    print(anotherstring)\n",
    "    anotherstring = \"\"\"This is first line\n",
    "    The second line\n",
    "    The third line\"\"\"\n",
    "    print(anotherstring)\n",
    "\n",
    "    # ----- Escape the escape characters\n",
    "    print(\n",
    "        \"C:\\\\Users\\\\tim\\\\notes.txt\"\n",
    "    )  # use double backslash to escape the escape chars\n",
    "    print(r\"C:\\Users\\tim\\notes.txt\")  # use \"r\" raw string to escape the escape chars\n",
    "\n",
    "string_concepts()\n"
   ]
  },
  {
   "cell_type": "code",
   "execution_count": 8,
   "id": "df80d49c-dbef-4ef6-84be-a7f5dc5b3feb",
   "metadata": {},
   "outputs": [
    {
     "name": "stdout",
     "output_type": "stream",
     "text": [
      "Please enter your name:  Jim\n"
     ]
    },
    {
     "name": "stdout",
     "output_type": "stream",
     "text": [
      "Hello Jim\n"
     ]
    }
   ],
   "source": [
    "# ------------------ String Input from console\n",
    "def get_string_input():\n",
    "    greeting = \"Hello\"\n",
    "    name = input(\"Please enter your name: \")\n",
    "    print(greeting + \" \" + name)\n",
    "\n",
    "get_string_input()\n"
   ]
  },
  {
   "cell_type": "code",
   "execution_count": 9,
   "id": "14f805f1-1484-4e6c-a837-bfeba4fe7768",
   "metadata": {},
   "outputs": [
    {
     "name": "stdout",
     "output_type": "stream",
     "text": [
      "w\n",
      "e\n",
      "u\n",
      "14\n",
      "Norweg\n",
      "wegian\n",
      "Blue\n",
      "Norwegian\n",
      "Norwegian Blue\n",
      "Bl\n",
      "Bl\n",
      "Blue\n",
      "Nre\n",
      "Nw\n",
      "NreinBu\n",
      "eulB naigewroN\n",
      "eulB naigewroN\n",
      "hello there Jim \n",
      "hello there Jim\n",
      "Hello Hello Hello Hello Hello \n",
      "True\n",
      "True\n",
      "False\n",
      "False\n",
      "ID: 1003\n",
      "ID: 1003 \n",
      "ID: 1003, Name: Jim\n",
      "ID: 1003\n",
      "    Name: Jim\n",
      "    Status: ID 1003 is active            \n",
      "    \n",
      "Number  1 squared is 1.00   and cubed is 1.00    \n",
      "Number  2 squared is 4.00   and cubed is 8.00    \n",
      "Number  3 squared is 9.00   and cubed is 27.00   \n",
      "Number  4 squared is 16.00  and cubed is 64.00   \n"
     ]
    }
   ],
   "source": [
    "# ------------------ String Operations\n",
    "def string_operations():\n",
    "    parrot = \"Norwegian Blue\"\n",
    "\n",
    "    # ----- Access element via index\n",
    "    print(parrot[3])  # w\n",
    "\n",
    "    # Access element from back via negative index\n",
    "    print(parrot[-1])  # e\n",
    "    print(parrot[-2])  # u\n",
    "\n",
    "    # ----- String length\n",
    "    print(len(parrot))  # 14\n",
    "\n",
    "    # ----- Slice (Subtrings) - start index is inclusive and stop index is exclusive\n",
    "    print(parrot[0:6])  # Norweg\n",
    "    print(parrot[3:9])  # wegian\n",
    "    print(parrot[10:])  # Blue\n",
    "    print(parrot[:9])  # Norwegian, default start index is 0\n",
    "    print(parrot[:])  # Norwegian Blue, default start and stop indexes\n",
    "\n",
    "    # Slice with negative index\n",
    "    print(parrot[-4:-2])  # Bl\n",
    "    print(parrot[-4:12])  # Bl\n",
    "    print(parrot[-4:])  # Blue\n",
    "\n",
    "    # Slice with steps\n",
    "    print(parrot[0:6:2])  # Nre, 0: start index, 6: stop index, 2: step\n",
    "    print(parrot[0:6:3])  # Nw, 0: start index, 6: stop index, 3: step\n",
    "    print(parrot[0::2])  # NreinBu, 0: start index, default stop index, 2: step\n",
    "\n",
    "    # Slice backwards\n",
    "    strLen = len(parrot)\n",
    "    print(parrot[13::-1])  # eulB naigewroN, default stop index\n",
    "    print(parrot[::-1])  # eulB naigewroN, default start and stop index\n",
    "\n",
    "    # ----- Concatenation\n",
    "    str1 = \"hello \"\n",
    "    str2 = \"there \"\n",
    "    str3 = \"Jim \"\n",
    "    print(str1 + str2 + str3)  # hello there Jim\n",
    "    print(\"hello \" \"there \" \"Jim\")  # hello there Jim\n",
    "\n",
    "    # Concatenate using multiply\n",
    "    print(\"Hello \" * 5)  # Hello Hello Hello Hello Hello\n",
    "\n",
    "    # Check substring using 'in'\n",
    "    today = \"friday\"\n",
    "    print(\"day\" in today)  # True\n",
    "    print(\"fri\" in today)  # True\n",
    "    print(\"wed\" in today)  # False\n",
    "    print(\"thur\" in today)  # False\n",
    "\n",
    "    # ----- Convert number to string\n",
    "    # Number and string can't be concatenated because in the presence of number\n",
    "    # '+' operator tries to add instead of concatenate\n",
    "\n",
    "    # Convert number to string using str function\n",
    "    id = 1003\n",
    "    print(\"ID: \" + str(id))\n",
    "    print(\"ID: {0} \".format(id))\n",
    "\n",
    "    # ----- String format replacement field (OLD APPROACH)\n",
    "    name = \"Jim\"\n",
    "    print(\"ID: {0}, Name: {1}\".format(id, name))\n",
    "\n",
    "    print(\n",
    "        \"\"\"ID: {0}\n",
    "    Name: {1}\n",
    "    Status: ID {0} is active            \n",
    "    \"\"\".format(\n",
    "            id, name\n",
    "        )\n",
    "    )\n",
    "\n",
    "    # String format field width, alignment and precision\n",
    "    # String replacement part {1:<6.2f} breakdown:\n",
    "    #   1 second parameter\n",
    "    #   :<6 field width, left aligned\n",
    "    #   .2f precision\n",
    "    for i in range(1, 5):\n",
    "        print(\n",
    "            \"Number {0:2} squared is {1:<6.2f} and cubed is {2:<8.2f}\".format(\n",
    "                i, i**2, i**3\n",
    "            )\n",
    "        )\n",
    "string_operations()"
   ]
  },
  {
   "cell_type": "code",
   "execution_count": 10,
   "id": "0667a298-d88e-48af-a048-cc0ebd5dc612",
   "metadata": {},
   "outputs": [
    {
     "name": "stdout",
     "output_type": "stream",
     "text": [
      "Id: 1005, Name: Jim\n",
      "Number 1 squared is 1.00   and cubed is 1.00    \n",
      "Number 2 squared is 4.00   and cubed is 8.00    \n",
      "Number 3 squared is 9.00   and cubed is 27.00   \n",
      "Number 4 squared is 16.00  and cubed is 64.00   \n"
     ]
    }
   ],
   "source": [
    "# ------------------ f string (MODERN APPROACH and RECOMMENDED)\n",
    "def string_format():\n",
    "    id = 1005\n",
    "    name = \"Jim\"\n",
    "    print(f\"Id: {id}, Name: {name}\")\n",
    "\n",
    "    for i in range(1, 5):\n",
    "        # :<6 field width,left aligned\n",
    "        # .2f precision\n",
    "        print(f\"Number {i} squared is {i ** 2:<6.2f} and cubed is {i ** 3:<8.2f}\")\n",
    "\n",
    "string_format()"
   ]
  },
  {
   "cell_type": "code",
   "execution_count": 12,
   "id": "9f4226d1-342e-4cba-b8f2-91c3e653edd5",
   "metadata": {},
   "outputs": [
    {
     "name": "stdout",
     "output_type": "stream",
     "text": [
      "Hello\n",
      "there,\n",
      "how\n",
      "are\n",
      "you?\n",
      "Fender, Ibanez, Gibson, PRS, Kiesel\n"
     ]
    }
   ],
   "source": [
    "# ------------------ split() and join()\n",
    "\n",
    "# split() returns a list\n",
    "def split_items():\n",
    "    sentence = \"Hello there, how are you?\"\n",
    "    words = sentence.split(sep=\" \")\n",
    "\n",
    "    for word in words:\n",
    "        print(word)\n",
    "\n",
    "\n",
    "split_items()\n",
    "\n",
    "\n",
    "# join() returns a single string\n",
    "def join_items():\n",
    "    guitars = [\"Fender\", \"Ibanez\", \"Gibson\", \"PRS\", \"Kiesel\"]\n",
    "    separator = \", \"\n",
    "\n",
    "    result_str = separator.join(guitars)\n",
    "    print(result_str)  # Fender, Ibanez, Gibson, PRS, Kiesel\n",
    "\n",
    "join_items()"
   ]
  },
  {
   "cell_type": "code",
   "execution_count": 14,
   "id": "6ea237fb-5c9f-4a2e-8f3f-33d7b4d7ce34",
   "metadata": {},
   "outputs": [
    {
     "name": "stdout",
     "output_type": "stream",
     "text": [
      "Count: 3\n",
      "Find: 1\n",
      "Find: 1\n",
      "RFind: 10\n",
      "Lowercase: hello there\n",
      "Uppercase: HELLO THERE\n",
      "Capitalize: Hello there\n",
      "----hello there-----\n",
      "Strip: kale.com\n",
      "LStrip: kale.com     \n",
      "RStrip:    kale.com\n",
      "Split: ['apple', 'ball', 'cat']\n",
      "Partition: ('Result ', '=', ' 10')\n",
      "Formatmap: Employee name: Jim, ID: 18\n",
      "Starts with:  True\n",
      "Ends with:  True\n",
      "Is alpha: False\n",
      "Is alphanumeric: False\n",
      "Is space: True\n",
      "Is ASCII: True\n",
      "Is digit: True\n",
      "Is decimal: True\n",
      "Is decimal: True\n",
      "Is numeric: True\n"
     ]
    }
   ],
   "source": [
    "# ------------------ String Methods\n",
    "\n",
    "def string_methods():\n",
    "    str = \"hello there\"\n",
    "\n",
    "    # ----- Count\n",
    "    print(\"Count:\", str.count(\"e\"))\n",
    "\n",
    "    # ----- Find\n",
    "    # Returns the first index in the string where specified substring is found\n",
    "    # within the specified range (end index is exclusive)\n",
    "    print(\"Find:\", str.find(\"e\", 0, 11))\n",
    "\n",
    "    # Returns the first index in the string where specified substring is found\n",
    "    print(\"Find:\", str.find(\"e\"))\n",
    "\n",
    "    # Returns the last index in the string where specified substring is found\n",
    "    print(\"RFind:\", str.rfind(\"e\"))\n",
    "\n",
    "    # ----- Lowercase, Uppercase and Capitalize\n",
    "    print(\"Lowercase:\", str.casefold())\n",
    "    print(\"Uppercase:\", str.upper())\n",
    "    print(\"Capitalize:\", str.capitalize())\n",
    "\n",
    "    # ----- Formatting\n",
    "    print(str.center(20, \"-\"))\n",
    "\n",
    "    # Remove whitespace from start and end\n",
    "    print(\"Strip:\", \"   kale.com     \".strip())\n",
    "    print(\"LStrip:\", \"   kale.com     \".lstrip())\n",
    "    print(\"RStrip:\", \"   kale.com     \".rstrip())\n",
    "\n",
    "    # Splits string with the specified char\n",
    "    print(\"Split:\", \"apple,ball,cat\".split(\",\"))\n",
    "\n",
    "    # Searches for the specified string and returns\n",
    "    #   - everything before match\n",
    "    #   - the match\n",
    "    #   - everything after match\n",
    "    print(\"Partition:\", \"Result = 10\".partition(\"=\"))\n",
    "\n",
    "    # Formats the specified values of a dictionary and insert them inside the string's placeholder\n",
    "    values = {\"name\": \"Jim\", \"id\": 18}\n",
    "    text = \"Employee name: {name}, ID: {id}\"\n",
    "    print(\"Formatmap:\", text.format_map(values))\n",
    "\n",
    "    # ----- Checks\n",
    "    print(\"Starts with: \", str.startswith(\"hello\"))\n",
    "    print(\"Ends with: \", str.endswith(\"re\"))\n",
    "\n",
    "    # Returns true if all chars are alphabet\n",
    "    print(\"Is alpha:\", str.isalpha())\n",
    "\n",
    "    # Returns true if all chars are alphanumeric\n",
    "    print(\"Is alphanumeric:\", str.isalnum())\n",
    "\n",
    "    # Check if space\n",
    "    print(\"Is space:\", \" \".isspace())\n",
    "\n",
    "    # Returns true if string is empty or all chars are ASCII\n",
    "    print(\"Is ASCII:\", str.isascii())\n",
    "\n",
    "    # Returns true if all chars are digit\n",
    "    print(\"Is digit:\", \"123\".isdigit())\n",
    "\n",
    "    # Returns true if all chars are decimal\n",
    "    print(\"Is decimal:\", \"\\u0030\".isdecimal())\n",
    "    print(\"Is decimal:\", \"10\".isdecimal())\n",
    "\n",
    "    # Returns true if all chars are numeric\n",
    "    print(\"Is numeric:\", \"123\".isnumeric())\n",
    "\n",
    "string_methods()"
   ]
  },
  {
   "cell_type": "code",
   "execution_count": null,
   "id": "f3936782-7ea2-44cc-a1bf-96785010b215",
   "metadata": {},
   "outputs": [],
   "source": []
  }
 ],
 "metadata": {
  "kernelspec": {
   "display_name": "Python 3 (ipykernel)",
   "language": "python",
   "name": "python3"
  },
  "language_info": {
   "codemirror_mode": {
    "name": "ipython",
    "version": 3
   },
   "file_extension": ".py",
   "mimetype": "text/x-python",
   "name": "python",
   "nbconvert_exporter": "python",
   "pygments_lexer": "ipython3",
   "version": "3.12.9"
  }
 },
 "nbformat": 4,
 "nbformat_minor": 5
}
