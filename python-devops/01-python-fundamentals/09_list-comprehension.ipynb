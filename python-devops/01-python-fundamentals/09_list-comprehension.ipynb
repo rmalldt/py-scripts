{
 "cells": [
  {
   "cell_type": "markdown",
   "id": "a57d26ce",
   "metadata": {},
   "source": [
    "# Concise Iteration: List Comprehensions\n",
    "\n",
    "- Simple `for` loops to create lists can be verbose. We can leverage list comprehensions to define the list contents directly within square brackets, obtaining a more compact syntax.\n",
    "\n",
    "<img src=\"../images/comprehension1.png\" alt=\"illustration\" height=\"300\">\n",
    "\n",
    "List comprehension in 2 parts:\n",
    "\n",
    "- The first part is the expression that we want to return i.e. `number ** 2`.\n",
    "- The second part is an iteration over a sequence. It is identical to the `for` loop except we don't need the colon at the end."
   ]
  },
  {
   "cell_type": "code",
   "execution_count": 2,
   "id": "0bc29d4d",
   "metadata": {},
   "outputs": [
    {
     "name": "stdout",
     "output_type": "stream",
     "text": [
      "[1, 4, 9, 16]\n",
      "[1, 4, 9, 16]\n"
     ]
    }
   ],
   "source": [
    "# Example: Double items using a for loop\n",
    "numbers = [1, 2, 3, 4]\n",
    "squares = []\n",
    "for item in numbers:\n",
    "    squares.append(item ** 2)\n",
    "\n",
    "print(squares)\n",
    "\n",
    "# Using comprehension\n",
    "squares_comprehension = [number ** 2 for number in numbers]\n",
    "print(squares_comprehension)"
   ]
  },
  {
   "cell_type": "markdown",
   "id": "f9746b6d",
   "metadata": {},
   "source": [
    "## List Comprehension Syntax\n",
    "\n",
    "- Syntax: `[<expression> for <item> in <iterable>]`\n",
    "- `[]` indicates a new list is created eagerly.\n",
    "- `<expression>` is applied to each item.\n",
    "- `for <item> in <iterable>` defines the loop."
   ]
  },
  {
   "cell_type": "code",
   "execution_count": 8,
   "id": "716cb804",
   "metadata": {},
   "outputs": [
    {
     "name": "stdout",
     "output_type": "stream",
     "text": [
      "['WEB', 'DB', 'BACKEND']\n"
     ]
    }
   ],
   "source": [
    "servers = [\"web\", \"db\", \"backend\"]\n",
    "uppercase_servers = [server.upper() for server in servers]\n",
    "print(uppercase_servers)"
   ]
  },
  {
   "cell_type": "markdown",
   "id": "d1e1c765",
   "metadata": {},
   "source": [
    "## Filtering with `if` in Comprehensions\n",
    "\n",
    "- Purpose: Include only items meeting a condition.\n",
    "- Syntax: `[<expression> for <item> in <iterable> if <condition>]`.\n",
    "- The condition filters items before expression is evaluated.\n",
    "\n",
    "<img src=\"../images/filtercomprehension.png\" alt=\"illustration\" height=\"300\">"
   ]
  },
  {
   "cell_type": "code",
   "execution_count": 10,
   "id": "d82281a3",
   "metadata": {},
   "outputs": [
    {
     "name": "stdout",
     "output_type": "stream",
     "text": [
      "[11, 9, 3]\n"
     ]
    }
   ],
   "source": [
    "numbers = [1, 5, 10, 8, 2, 15]\n",
    "even_numbers = [num + 1 for num in numbers if num % 2 == 0]\n",
    "print(even_numbers)"
   ]
  },
  {
   "cell_type": "markdown",
   "id": "beb64197",
   "metadata": {},
   "source": [
    "## Set and Dictionary Comprehensions\n",
    "\n",
    "- Set comprehension uses `{}` and produces unique items.\n",
    "- Dictionary comprehension uses `{key: value ...}`.\n",
    "- Both evaluated eagerly like list comprehensions."
   ]
  },
  {
   "cell_type": "code",
   "execution_count": 18,
   "id": "51c28a23",
   "metadata": {},
   "outputs": [
    {
     "name": "stdout",
     "output_type": "stream",
     "text": [
      "{16, 1, 4, 9}\n",
      "{'web': '192.168.1.0', 'backend': '192.168.1.1'}\n"
     ]
    }
   ],
   "source": [
    "numbers = [1, 2, 3, 2, 4, 1, 3]\n",
    "unique_squares = {x * x for x in numbers}\n",
    "print(unique_squares)\n",
    "\n",
    "servers = [\"web\", \"backend\"]\n",
    "server_ips = {server: f\"192.168.1.{i}\" for i, server in enumerate(servers)}\n",
    "print(server_ips)"
   ]
  },
  {
   "cell_type": "markdown",
   "id": "efa888c4",
   "metadata": {},
   "source": [
    "# Conditional Expression (Ternary Operator)\n",
    "\n",
    "- Purpose: Apply different expressions based on a condition within the comprehension.\n",
    "- Syntax: `<value_if_true> if <condition> else <value_if_false>` inside the comprehension.\n",
    "- Places the ternary before the `for` clause.\n",
    "\n",
    "<img src=\"../images/conditionalcomprehension.png\" alt=\"illustration\" height=\"300\">"
   ]
  },
  {
   "cell_type": "code",
   "execution_count": null,
   "id": "6e7bdc52",
   "metadata": {},
   "outputs": [
    {
     "name": "stdout",
     "output_type": "stream",
     "text": [
      "['FAIL', 'FAIL', 'PASS', 'PASS', 'FAIL', 'PASS']\n"
     ]
    }
   ],
   "source": [
    "numbers = [1, 5, 10, 8, 2, 15]\n",
    "categories = [\"PASS\" if num >= 8 else \"FAIL\" for num in numbers]\n",
    "print(categories)"
   ]
  },
  {
   "cell_type": "markdown",
   "id": "6a6eb3a8",
   "metadata": {},
   "source": [
    "## Nested Comprehension\n",
    "\n",
    "<img src=\"../images/nestedcomprehension1.png\" alt=\"illustration\" height=\"300\"> <br>\n",
    "\n",
    "Above, the comprehension contains 2 iterations:\n",
    "- The `first iterator` returns each burger. E.g., beef, then chicken, finally spicy bean \n",
    "- The `second iterator` returns topping for each burger. E.g., iterates over all toppings for beef. Once all the toppings have been iterated, the `first iterator` move on to next burger - **chicken**  \n",
    "\n",
    "\n",
    "<img src=\"../images/nestedcomprehension2.png\" alt=\"illustration\" height=\"300\"> <br>\n",
    "\n",
    "Above, the comprehension contains 2 iterations:\n",
    "- First, the `outer iterator` is executed that iterates over the each topping.\n",
    "- Then, the `inner iterator` is executed that iterates over the each burger."
   ]
  },
  {
   "cell_type": "code",
   "execution_count": 10,
   "id": "989ace57",
   "metadata": {},
   "outputs": [
    {
     "name": "stdout",
     "output_type": "stream",
     "text": [
      "('beef', 'cheese')\n",
      "('beef', 'egg')\n",
      "('beef', 'beans')\n",
      "('beef', 'spam')\n",
      "('chicken', 'cheese')\n",
      "('chicken', 'egg')\n",
      "('chicken', 'beans')\n",
      "('chicken', 'spam')\n",
      "('spicy beans', 'cheese')\n",
      "('spicy beans', 'egg')\n",
      "('spicy beans', 'beans')\n",
      "('spicy beans', 'spam')\n",
      "----------------\n",
      "[('beef', 'cheese'), ('chicken', 'cheese'), ('spicy beans', 'cheese')]\n",
      "[('beef', 'egg'), ('chicken', 'egg'), ('spicy beans', 'egg')]\n",
      "[('beef', 'beans'), ('chicken', 'beans'), ('spicy beans', 'beans')]\n",
      "[('beef', 'spam'), ('chicken', 'spam'), ('spicy beans', 'spam')]\n"
     ]
    }
   ],
   "source": [
    "burgers = [\"beef\", \"chicken\", \"spicy beans\"]\n",
    "toppings = [\"cheese\", \"egg\", \"beans\", \"spam\"]\n",
    "\n",
    "meals = [(burger, topping) for burger in burgers for topping in toppings]\n",
    "for meal in meals:\n",
    "    print(meal)\n",
    "\n",
    "print(\"----------------\")\n",
    "\n",
    "nested = [[(burger, topping) for burger in burgers] for topping in toppings]\n",
    "for meal in nested:\n",
    "    print(meal)\n",
    "    "
   ]
  },
  {
   "cell_type": "markdown",
   "id": "01ae785b",
   "metadata": {},
   "source": [
    "## Hands-on Exercise"
   ]
  },
  {
   "cell_type": "code",
   "execution_count": 1,
   "id": "416db3f9-e822-41cf-84b3-8323a6be6e5a",
   "metadata": {},
   "outputs": [
    {
     "name": "stdout",
     "output_type": "stream",
     "text": [
      "[2, 4, 6, 8, 10]\n",
      "[2, 4, 6, 8, 10]\n",
      "['WEB', 'DB', 'BACKEND']\n",
      "{2, 4, 6, 8, 10}\n",
      "{'web': '192.168.1.0', 'backend': '192.168.1.1'}\n",
      "{'primary-db': 'db01.prod', 'replica-db': 'db02.prod'}\n",
      "[10, 18, 2]\n",
      "['prod.yml', 'app.yaml', 'dev.yml']\n",
      "['FAIL', 'PASS']\n",
      "{'sv-1': 'USA', 'sv-2': 'Europe', 'sv-3': 'USA'}\n"
     ]
    }
   ],
   "source": [
    "# ----- Loops\n",
    "numbers = [1,2,3,4,5]\n",
    "doubles = []\n",
    "for num in numbers:\n",
    "    doubles.append(num * 2)\n",
    "print(doubles)\n",
    "\n",
    "# ----- List comprehension\n",
    "doubles_list= [num * 2 for num in numbers]\n",
    "print(doubles_list)\n",
    "\n",
    "servers = [\"web\", \"db\", \"backend\"]\n",
    "uppercase_server = [server.upper() for server in servers]\n",
    "print(uppercase_server)\n",
    "\n",
    "# ----- Set comprehension\n",
    "doubles_set = {num * 2 for num in numbers}\n",
    "print(doubles_set)\n",
    "\n",
    "# ----- Dictionary comprehension\n",
    "servers = [\"web\", \"backend\"]\n",
    "servers_ips = {server: f\"192.168.1.{i}\" for i, server in enumerate(servers)}\n",
    "print(servers_ips)\n",
    "\n",
    "roles = ['primary-db', 'replica-db', 'cache']\n",
    "hosts = ['db01.prod', 'db02.prod']\n",
    "server_map = {role: host for role, host in zip(roles, hosts)}\n",
    "print(server_map)\n",
    "\n",
    "\n",
    "# ----- Comprehension with IF condition\n",
    "numlist = [1,5,10,18,2,17]\n",
    "# IF condition executes first which filters the numbers\n",
    "# Then, the expression returns the filtered numbers.\n",
    "evens = [num for num in numlist if num % 2 == 0]\n",
    "print(evens)\n",
    "\n",
    "filenames = [\"PROD.YML\", \"settings.json\", \"app.yaml\", \"DEV.YML\"]\n",
    "# IF condition executes first which converts the filename to lowercase and filters the filenames\n",
    "# Then, the expression returns the filtered list in lowercase.\n",
    "filtered_files = [f.lower() for f in filenames if f.lower().endswith((\".yaml\", \".yml\"))]\n",
    "print(filtered_files)\n",
    "\n",
    "\n",
    "# ----- Comprehension with ternary operator\n",
    "nlist = [1,5,9,2,1,10]\n",
    "categories = [\"PASS\" if num >=8 else \"FAIL\" for num in nlist if num % 2 == 0]\n",
    "print(categories)\n",
    "\n",
    "\n",
    "servers = [('sv-1', 'us-east-1'), ('sv-2', 'eu-west-1'), ('sv-3', 'us-west-2')]\n",
    "server_categories = {\n",
    "    name: \"USA\" if region.startswith('us-') else \"Europe\"\n",
    "    for name, region in servers\n",
    "}\n",
    "\n",
    "print(server_categories)"
   ]
  },
  {
   "cell_type": "code",
   "execution_count": null,
   "id": "e719d6eb-e07e-491c-9f8c-66c47bdce73f",
   "metadata": {},
   "outputs": [],
   "source": []
  }
 ],
 "metadata": {
  "kernelspec": {
   "display_name": ".venv (3.12.9)",
   "language": "python",
   "name": "python3"
  },
  "language_info": {
   "codemirror_mode": {
    "name": "ipython",
    "version": 3
   },
   "file_extension": ".py",
   "mimetype": "text/x-python",
   "name": "python",
   "nbconvert_exporter": "python",
   "pygments_lexer": "ipython3",
   "version": "3.12.9"
  }
 },
 "nbformat": 4,
 "nbformat_minor": 5
}
