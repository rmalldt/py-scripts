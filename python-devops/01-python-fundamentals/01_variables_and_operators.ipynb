{
 "cells": [
  {
   "cell_type": "markdown",
   "id": "ae130a49-55c0-439c-be2a-2a1bd97450d6",
   "metadata": {},
   "source": [
    "## Variables: Naming Values\n",
    "\n",
    "- **Assignment:** Use the equals sign (`=`) to label values. Example: `config_path = \"/etc/app.conf\"`.\n",
    "- **Naming Guidelines:**\n",
    "  - Must start with a letter or underscore (`_`) and can contain letters, numbers, and underscores.\n",
    "  - Use `snake_case` for readability (e.g., `max_retries`).\n",
    "- **Purpose:** Store data like file paths, server counts, status messages, API keys, configurations.\n",
    "- **Typing:** Python uses dynamic typing, which means we don't need to explicitly declare the variable type, and we can assign values with different types to the same variable (not recommended!)"
   ]
  },
  {
   "cell_type": "code",
   "execution_count": 5,
   "id": "f8866add-e45a-4386-8f78-950ad893e7c5",
   "metadata": {},
   "outputs": [],
   "source": [
    "var1 = \"hello\""
   ]
  },
  {
   "cell_type": "code",
   "execution_count": 7,
   "id": "f8014d7c-3a47-451d-809a-cf29ca94af75",
   "metadata": {},
   "outputs": [
    {
     "data": {
      "text/plain": [
       "'hello'"
      ]
     },
     "execution_count": 7,
     "metadata": {},
     "output_type": "execute_result"
    }
   ],
   "source": [
    "var1"
   ]
  },
  {
   "cell_type": "code",
   "execution_count": 8,
   "id": "3a98bc67-d26f-4bd8-bd74-83b339610c27",
   "metadata": {},
   "outputs": [
    {
     "name": "stdout",
     "output_type": "stream",
     "text": [
      "<class 'int'>\n"
     ]
    }
   ],
   "source": [
    "item = 101\n",
    "print(type(item))"
   ]
  },
  {
   "cell_type": "code",
   "execution_count": 9,
   "id": "ed2294c5-7078-4c52-88b7-290fe1995a30",
   "metadata": {},
   "outputs": [
    {
     "name": "stdout",
     "output_type": "stream",
     "text": [
      "<class 'str'>\n"
     ]
    }
   ],
   "source": [
    "# Never do that! Don't assign a value of a different type to the same variable!\n",
    "item = \"Code 101\"\n",
    "print(type(item))"
   ]
  },
  {
   "cell_type": "markdown",
   "id": "6b16f100",
   "metadata": {},
   "source": [
    "# Comments\n",
    "Python code may be readable, but comments and docstrings explain intent, rationale, and usage. Comments (`#`) are ignored by the interpreter; docstrings (`\"\"\"...\"\"\"`) are accessible via `__doc__` (we'll come back to docstrings later, when we discuss functions)."
   ]
  },
  {
   "cell_type": "markdown",
   "id": "59e626c7",
   "metadata": {},
   "source": [
    "## Single-Line Comments (#)\n",
    "Use `#` to comment single lines or inline code. Best for explaining *why*, adding TODO/FIXME markers, or temporarily disabling code."
   ]
  },
  {
   "cell_type": "code",
   "execution_count": 1,
   "id": "010e26ac",
   "metadata": {},
   "outputs": [],
   "source": [
    "# Example of a single-line comment\n",
    "error_code = 0\n",
    "\n",
    "# TODO: handle case when argument is None "
   ]
  },
  {
   "cell_type": "markdown",
   "id": "752d45ce",
   "metadata": {},
   "source": [
    "## Multi-Line / Block Comments\n",
    "Prefix each line with `#` to comment out blocks of code. Useful for disabling sections or annotating complex logic. It's also possible to wrap multiline comments between triple single-quotes (`'''...'''`) or between triple double-quotes (`\"\"\"...\"\"\"`), but this is not their original intended usage."
   ]
  },
  {
   "cell_type": "code",
   "execution_count": 2,
   "id": "49b32a4e",
   "metadata": {},
   "outputs": [],
   "source": [
    "# if True:\n",
    "#     print(\"I will execute\")"
   ]
  },
  {
   "cell_type": "markdown",
   "id": "6da65237-ecf9-452d-82ed-0bf5224be036",
   "metadata": {},
   "source": [
    "## Operators\n",
    "\n",
    "**ARLB MCW**\n",
    "\n",
    "### Arithmetic Operators\n",
    "\n",
    "| Operator | Description    | Example |\n",
    "|----------|----------------|---------|\n",
    "| +        | Addition       | a + b   |\n",
    "| -        | Subtraction    | a - b   |\n",
    "| *        | Multiplication | a * b   |\n",
    "| /        | Division       | a / b   |\n",
    "| //       | Floor division | a // b  |\n",
    "| **       | Exponentiation | a**b    |\n",
    "| %        | Modulo         | a % b   |\n",
    "\n",
    "\n",
    "### Relational Operators\n",
    "\n",
    "| Operator | Description                                                                              | Example    |\n",
    "|----------|------------------------------------------------------------------------------------------|------------|\n",
    "| ==       | Equal to                                                                                 | a == b     |\n",
    "| !=       | Not equal to                                                                             | a != b     |\n",
    "| <        | Less than                                                                                | a < b      |\n",
    "| <=       | Less than or equal to                                                                    | a <= b     |\n",
    "| >        | Greater than                                                                             | a > b      |\n",
    "| >=       | Greater than or equal to                                                                 | a >= b     |\n",
    "| is       | True if x and y hold a reference to the same in-memory object. False otherwise           | x is y     |\n",
    "| is not   | True if x points to an object different from the object that y point to. False otherwise | x is not y |\n",
    "\n",
    "\n",
    "### Logical Operators\n",
    "\n",
    "| Operator | Description                                     | Example |\n",
    "|----------|-------------------------------------------------|---------|\n",
    "| and      | True if both x and y are True. False otherwise  | x and y |\n",
    "| or       | True if either x and y is True. False otherwise | x or y  |\n",
    "| not      | True if x is False. False if x is True          | not x   |\n",
    "\n",
    "\n",
    "### Bitwise Operators\n",
    "\n",
    "| Operator | Description        | Example |\n",
    "|----------|--------------------|---------|\n",
    "| &        | Binary AND         | a & b   |\n",
    "| \\|       | Binary OR          | a | b   |\n",
    "| ~        | Binary NOT         | ~a      |\n",
    "| ^        | Binary XOR         | a ^ b   |\n",
    "| <<       | Binary Left-shift  | a << n  |\n",
    "| >>       | Binary Right-shift | a >> n  |\n",
    "\n",
    "\n",
    "### Membership Operators\n",
    "\n",
    "| Operator | Description                                                 | Example       |\n",
    "|----------|-------------------------------------------------------------|---------------|\n",
    "| in       | True if value is present in collection. False otherwise     | x in coll     |\n",
    "| not in   | True if value is not present in collection. False otherwise | x not in coll |\n",
    "\n",
    "\n",
    "### Concatenation and Repetition Operators\n",
    "\n",
    "| Operator | Description                                                     | Example     |\n",
    "|----------|-----------------------------------------------------------------|-------------|\n",
    "| +        | A new sequence containing all the items from both operands      | seq1 + seq2 |\n",
    "| *        | A new sequence containing the items of 'seq' repeated 'n' times | seq * n     |\n",
    "\n",
    "\n",
    "### Walrus Operator\n",
    "\n",
    "| Operator | Description                                                      | Example                |\n",
    "|----------|------------------------------------------------------------------|------------------------|\n",
    "| :=       | Assigns result to a variable and returns the expression's result | variable := expression |\n",
    "\n",
    "```python\n",
    "def validate_len(s):\n",
    "    if (n := len(s)) < 10:\n",
    "        print(f\"Length {n} is too short, needs at least 10\")\n",
    "    else:\n",
    "        print(f\"Length {n} is OK\")\n",
    "```\n"
   ]
  },
  {
   "cell_type": "markdown",
   "id": "27190eb3",
   "metadata": {},
   "source": [
    "## Data Types"
   ]
  },
  {
   "cell_type": "code",
   "execution_count": 3,
   "id": "bfff34a5-4c50-4dac-a13e-f87129f507b2",
   "metadata": {},
   "outputs": [
    {
     "name": "stdout",
     "output_type": "stream",
     "text": [
      "<class 'bool'>\n",
      "<class 'int'>\n",
      "<class 'float'>\n",
      "<class 'complex'>\n",
      "<class 'str'>\n",
      "<class 'list'>\n",
      "<class 'tuple'>\n",
      "<class 'range'>\n",
      "<class 'dict'>\n",
      "<class 'set'>\n",
      "<class 'frozenset'>\n",
      "<class 'bytes'>\n",
      "<class 'bytearray'>\n",
      "<class 'memoryview'>\n",
      "<class 'NoneType'>\n",
      "15\n",
      "hello\n"
     ]
    }
   ],
   "source": [
    "# ------------------ Boolean type\n",
    "isActive = True  # bool\n",
    "print(type(isActive))\n",
    "\n",
    "# ------------------ Numeric types\n",
    "# int\n",
    "num = 12\n",
    "print(type(num))\n",
    "\n",
    "# float\n",
    "myFloat = 12.45\n",
    "print(type(myFloat))\n",
    "\n",
    "# complex\n",
    "mcomplex = 1j\n",
    "print(type(mcomplex))\n",
    "\n",
    "# ------------------ Sequence types\n",
    "\n",
    "# str\n",
    "name = \"Jim\"\n",
    "print(type(name))\n",
    "\n",
    "# list\n",
    "# - mutable (can add, remove, modify elements)\n",
    "# - useful to store dynamic collections\n",
    "# - slower than tuple\n",
    "mstrs = [\"apple\", \"ball\", \"cat\"]  # list\n",
    "print(type(mstrs))\n",
    "\n",
    "# tuple\n",
    "# - immutable (cannot add, remove, modify element after creation)\n",
    "# - useful to store fixed-sized data\n",
    "# - faster than list\n",
    "# - duplicates allowed\n",
    "# - ordered\n",
    "# - hashable and indexable\n",
    "mtuples = (\"apple\", \"ball\", \"cat\")\n",
    "print(type(mtuples))\n",
    "\n",
    "# range\n",
    "mrange = range(5)\n",
    "print(type(mrange))\n",
    "\n",
    "# ------------------ Dict types\n",
    "mdict = {\"name\": \"Jim\", \"id\": 10}\n",
    "print(type(mdict))\n",
    "\n",
    "# ------------------ Set types\n",
    "# set\n",
    "mset = {\"apple\", \"ball\", \"cat\"}\n",
    "print(type(mset))\n",
    "\n",
    "# frozenset\n",
    "mfrozenset = frozenset({\"apple\", \"ball\", \"cat\"})\n",
    "print(type(mfrozenset))\n",
    "\n",
    "# ------------------ Binary types\n",
    "# bytes\n",
    "mbyte = b\"Hello\"\n",
    "print(type(mbyte))\n",
    "\n",
    "# bytesarray\n",
    "mbytearr = bytearray(5)\n",
    "print(type(mbytearr))\n",
    "\n",
    "# memoryview\n",
    "mmemoryview = memoryview(bytes(5))\n",
    "print(type(mmemoryview))\n",
    "\n",
    "# ------------------ None type\n",
    "none = None\n",
    "print(type(none))\n",
    "\n",
    "\n",
    "# ------------------ Python has\n",
    "# - strong typing\n",
    "# - dynamic typing (no need to declare types)\n",
    "# - type safety (enforced at runtime)\n",
    "# - type inference (implicit at runtime)\n",
    "\n",
    "# Strongly typed language\n",
    "x = 10\n",
    "y = \"5\"\n",
    "# print(x + y) # TypeError: can't concatenate int and str\n",
    "print(x + int(y))  # 15\n",
    "\n",
    "# Dynamically typed language\n",
    "a = 10  # a is an int\n",
    "a = \"hello\"  # a is a str\n",
    "print(a)\n"
   ]
  },
  {
   "cell_type": "code",
   "execution_count": null,
   "id": "2761ae46",
   "metadata": {},
   "outputs": [],
   "source": []
  }
 ],
 "metadata": {
  "kernelspec": {
   "display_name": ".venv (3.12.9)",
   "language": "python",
   "name": "python3"
  },
  "language_info": {
   "codemirror_mode": {
    "name": "ipython",
    "version": 3
   },
   "file_extension": ".py",
   "mimetype": "text/x-python",
   "name": "python",
   "nbconvert_exporter": "python",
   "pygments_lexer": "ipython3",
   "version": "3.12.9"
  }
 },
 "nbformat": 4,
 "nbformat_minor": 5
}
