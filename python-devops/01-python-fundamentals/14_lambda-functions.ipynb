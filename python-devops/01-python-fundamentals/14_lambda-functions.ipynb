{
 "cells": [
  {
   "cell_type": "markdown",
   "id": "47cc9276",
   "metadata": {},
   "source": [
    "# Lambda Functions\n",
    "- Python functions defined with `def` allow multiple statements, clear naming, and support for docstrings, making them ideal for complex or reusable logic.  \n",
    "- In many cases, you need a **simple, single-expression function** to pass directly to another function without the ceremony of a full definition.  \n",
    "- The `lambda` keyword lets you create small, anonymous functions inline, avoiding the verbosity of a `def` for trivial operations.  \n",
    "- These one-line functions are particularly handy when you want to supply custom behavior to built-in higher-order functions without polluting your namespace with one-off function names.  "
   ]
  },
  {
   "cell_type": "markdown",
   "id": "06eb567a",
   "metadata": {},
   "source": [
    "## Syntax of a lambda Function\n",
    "- A `lambda` function follows the exact pattern: `lambda <arguments>: <expression>`, where the expression result is **implicitly returned**.  \n",
    "- The `lambda` keyword introduces the function, `<arguments>` lists its parameters, and a colon separates them from the single expression body.  \n",
    "- You cannot include multiple statements, loops, or traditional `if/else` blocks: **only a single expression** or **a ternary expression**.  \n",
    "- Compared to a `def` function, a `lambda` is nameless and concise, making it ideal for inline usage where defining a named function would be overkill.  "
   ]
  },
  {
   "cell_type": "code",
   "execution_count": 1,
   "id": "3a0057ff-0504-4123-8c94-1210774e4177",
   "metadata": {},
   "outputs": [
    {
     "name": "stdout",
     "output_type": "stream",
     "text": [
      "25\n",
      "7\n"
     ]
    }
   ],
   "source": [
    "# Do not assign lambda to a variable, it is not PEP 8 compliant\n",
    "square = lambda x: x * x \n",
    "print(square(5))\n",
    "\n",
    "# The lambdas are normally passed directly to functions\n",
    "print((lambda a, b: a + b)(3, 4)) # calling lambda inline"
   ]
  },
  {
   "cell_type": "markdown",
   "id": "fc925a20-8894-4c87-9157-7f3e19c75fb4",
   "metadata": {},
   "source": [
    "## Custom Sorting with sorted()\n",
    "- The built-in `sorted()` function accepts an optional `key` parameter, which should be a function that returns a **comparison key** for each element.  \n",
    "- Using a `lambda` for the `key` argument lets you define the sorting logic inline without a separate function definition.  \n",
    "- This approach keeps your code concise and focused, especially when the key logic is a simple attribute extraction or computation.  \n",
    "- When you need more complex sorting logic, you can still fall back to a named `def` function for clarity.  "
   ]
  },
  {
   "cell_type": "code",
   "execution_count": 7,
   "id": "2be63c6e",
   "metadata": {},
   "outputs": [
    {
     "name": "stdout",
     "output_type": "stream",
     "text": [
      "Default sort: [('api-gateway', 2), ('cache', 5), ('database', 1), ('web-app', 3)]\n",
      "Sorting by replica count - standard function: [('database', 1), ('api-gateway', 2), ('web-app', 3), ('cache', 5)]\n",
      "Sorting by replica count - lambda function: [('database', 1), ('api-gateway', 2), ('web-app', 3), ('cache', 5)]\n",
      "[{'country': 'China', 'gold': 38, 'silver': 32, 'bronze': 18, 'rank': 2}, {'country': 'Great Britain', 'gold': 22, 'silver': 21, 'bronze': 22, 'rank': 4}, {'country': 'Japan', 'gold': 27, 'silver': 14, 'bronze': 17, 'rank': 3}, {'country': 'ROC', 'gold': 20, 'silver': 28, 'bronze': 23, 'rank': 5}, {'country': 'United States', 'gold': 39, 'silver': 41, 'bronze': 33, 'rank': 1}]\n"
     ]
    }
   ],
   "source": [
    "\n",
    "services = [(\"web-app\", 3), (\"database\", 1), (\"cache\", 5), (\"api-gateway\", 2)]\n",
    "print(f\"Default sort: {sorted(services)}\")\n",
    "\n",
    "def get_replica_count(svc_tuple):\n",
    "    return svc_tuple[1]\n",
    "\n",
    "print(f\"Sorting by replica count - standard function: {sorted(services, key=get_replica_count)}\")\n",
    "print(f\"Sorting by replica count - lambda function: {sorted(services, key=lambda svc: svc[1])}\")\n",
    "\n",
    "\n",
    "medal_table = [\n",
    "    {'country': 'United States', 'gold': 39, 'silver': 41, 'bronze': 33, 'rank': 1},\n",
    "    {'country': 'China', 'gold': 38, 'silver': 32, 'bronze': 18, 'rank': 2},\n",
    "    {'country': 'Japan', 'gold': 27, 'silver': 14, 'bronze': 17, 'rank': 3},\n",
    "    {'country': 'Great Britain', 'gold': 22, 'silver': 21, 'bronze': 22, 'rank': 4},\n",
    "    {'country': 'ROC', 'gold': 20, 'silver': 28, 'bronze': 23, 'rank': 5},\n",
    "]\n",
    "\n",
    "medal_table.sort(key=lambda d: d['country'])\n",
    "print(medal_table)"
   ]
  },
  {
   "cell_type": "markdown",
   "id": "47fa7649-8417-43f8-86f2-4ef6f22a0a12",
   "metadata": {},
   "source": [
    "## Transforming Data with map()\n",
    "- The `map(function, iterable)` built-in applies a given function to each item in an iterable, producing an iterator of results.  \n",
    "- Using a `lambda` with `map` lets you specify simple transformations inline without an extra function definition.  \n",
    "- Although list comprehensions are often preferred for readability, `map` with a `lambda` can be concise when you already need an iterator or want to emphasize the function-application nature.  \n",
    "- Remember that `map` returns a lazy iterator; convert it to a list if you need to access all results at once.  "
   ]
  },
  {
   "cell_type": "code",
   "execution_count": 17,
   "id": "d197dc77-f1a8-4171-ab38-93f2e5ea1009",
   "metadata": {},
   "outputs": [
    {
     "name": "stdout",
     "output_type": "stream",
     "text": [
      "[2, 4, 6, 8]\n",
      "['Port 80 is open', 'Port 443 is open', 'Port 8080 is open', 'Port 22 is open']\n",
      "['Port 80 is open', 'Port 443 is open', 'Port 8080 is open', 'Port 22 is open']\n"
     ]
    }
   ],
   "source": [
    "my_numbers = [1, 2, 3, 4]\n",
    "mapped = list(map(lambda num: num * 2, my_numbers))\n",
    "print(mapped)\n",
    "\n",
    "ports = [80, 443, 8080, 22]\n",
    "port_descriptions = list(map(lambda port: f\"Port {port} is open\", ports))\n",
    "print(port_descriptions)\n",
    "\n",
    "# Using comprehension\n",
    "port_descriptions_comprehension = [f\"Port {port} is open\" for port in ports]\n",
    "print(port_descriptions_comprehension)\n"
   ]
  },
  {
   "cell_type": "markdown",
   "id": "dfa2bc68",
   "metadata": {},
   "source": [
    "## Filtering Data with filter()\n",
    "- The `filter(function, iterable)` built-in yields only those items for which the function returns `True`.  \n",
    "- A `lambda` in `filter` is perfect for inline tests, such as checking attributes or simple conditions.  \n",
    "- As with `map`, `filter` returns an iterator, so wrap it in `list()` to evaluate immediately if needed.  \n",
    "- While list comprehensions can express filtering more idiomatically in modern Python, `filter` remains a clear demonstration of higher-order function usage.  "
   ]
  },
  {
   "cell_type": "code",
   "execution_count": 21,
   "id": "4e2102bf",
   "metadata": {},
   "outputs": [
    {
     "name": "stdout",
     "output_type": "stream",
     "text": [
      "[80, 443, 22]\n",
      "[80, 443, 22]\n"
     ]
    }
   ],
   "source": [
    "ports = [80, 443, 8080, 22, 5432]\n",
    "privileged_ports = list(filter(lambda port: port < 1024, ports))\n",
    "print(privileged_ports)\n",
    "\n",
    "# Using comprehension\n",
    "privileged_comprehension = [port for port in ports if port < 1024]\n",
    "print(privileged_comprehension)\n"
   ]
  },
  {
   "cell_type": "markdown",
   "id": "10322d03",
   "metadata": {},
   "source": [
    "## all / any\n",
    "- Syntax: `all(<iterable>)`\n",
    "- Syntax: `any(<iterable>)`"
   ]
  },
  {
   "cell_type": "code",
   "execution_count": null,
   "id": "550ee4c4",
   "metadata": {},
   "outputs": [
    {
     "name": "stdout",
     "output_type": "stream",
     "text": [
      "All keys present\n",
      "Some key matched\n"
     ]
    }
   ],
   "source": [
    "# Using all \n",
    "config = {\n",
    "    \"service_name\": \"auth\",\n",
    "    \"env\": \"prod\",\n",
    "    \"port\": 8080   \n",
    "}\n",
    "\n",
    "# First, the outer loop is executed that iterates through the items i.e. for key in (...)\n",
    "# For each key, it takes the key and checks if it is in 'config' i.e. key in config\n",
    "if all(key in config for key in ('service_name', 'env', 'port')):\n",
    "    print(\"All keys present\")\n",
    "else:\n",
    "    print('Keys missing')\n",
    "\n",
    "\n",
    "# Using any\n",
    "settings = {\n",
    "    \"id\": 'web-01',\n",
    "    # \"machine\": \"ec2\"\n",
    "}\n",
    "\n",
    "if any(key in settings for key in ('id', 'machine', 'region')):\n",
    "    print('Some key matched')\n",
    "else:\n",
    "    print(\"No key matched\")\n"
   ]
  },
  {
   "cell_type": "code",
   "execution_count": null,
   "id": "6b2c55a0",
   "metadata": {},
   "outputs": [],
   "source": []
  }
 ],
 "metadata": {
  "kernelspec": {
   "display_name": ".venv (3.12.9)",
   "language": "python",
   "name": "python3"
  },
  "language_info": {
   "codemirror_mode": {
    "name": "ipython",
    "version": 3
   },
   "file_extension": ".py",
   "mimetype": "text/x-python",
   "name": "python",
   "nbconvert_exporter": "python",
   "pygments_lexer": "ipython3",
   "version": "3.12.9"
  }
 },
 "nbformat": 4,
 "nbformat_minor": 5
}
