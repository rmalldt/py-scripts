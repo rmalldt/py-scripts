{
 "cells": [
  {
   "cell_type": "markdown",
   "id": "680f778a",
   "metadata": {},
   "source": [
    "# Python Functions for DevOps\n",
    "\n",
    "Functions package reusable code into named blocks, improving modularity, readability, and testability. They prevent duplication (DRY) and make scripts easier to maintain."
   ]
  },
  {
   "cell_type": "markdown",
   "id": "40a5ebe5",
   "metadata": {},
   "source": [
    "## Defining a Function (`def`)\n",
    "\n",
    "Use `def name(params):` followed by an indented block. An optional `\"\"\"docstring\"\"\"` explains purpose, parameters, and return value."
   ]
  },
  {
   "cell_type": "code",
   "execution_count": 6,
   "id": "48eb5604",
   "metadata": {},
   "outputs": [
    {
     "name": "stdout",
     "output_type": "stream",
     "text": [
      "Hello, Alice!\n"
     ]
    }
   ],
   "source": [
    "def greet_user(name):\n",
    "    \"\"\"Greets the user by name.\n",
    "\n",
    "    Args:\n",
    "        name (str): The user to greet\n",
    "    \"\"\"\n",
    "\n",
    "    print(f\"Hello, {name}!\")\n",
    "\n",
    "greet_user(\"Alice\")"
   ]
  },
  {
   "cell_type": "markdown",
   "id": "e334507b",
   "metadata": {},
   "source": [
    "## Calling a Function\n",
    "\n",
    "Invoke via `name(args)`. Control jumps into the function body and (optionally) returns a value back."
   ]
  },
  {
   "cell_type": "code",
   "execution_count": 6,
   "id": "5af445cb",
   "metadata": {},
   "outputs": [
    {
     "name": "stdout",
     "output_type": "stream",
     "text": [
      "Generated number: 2\n"
     ]
    }
   ],
   "source": [
    "import random\n",
    "\n",
    "def random_number(min_val, max_val):\n",
    "    \"\"\"Generates an integer between min_val and max_val\n",
    "\n",
    "    Args:\n",
    "        min_val (int): The lower boundary of the interval\n",
    "        max_val (int): The upper boundary of the interval\n",
    "\n",
    "    Returns:\n",
    "        int: The generated random number\n",
    "    \"\"\"\n",
    "    return random.randint(min_val, max_val)\n",
    "\n",
    "generated_number = random_number(0, 10)\n",
    "print(f\"Generated number: {generated_number}\")"
   ]
  },
  {
   "cell_type": "markdown",
   "id": "6c79dc44",
   "metadata": {},
   "source": [
    "## Parameters vs Arguments\n",
    "\n",
    "**Summary:** Parameters are named in the `def` signature; arguments are the actual values passed when calling."
   ]
  },
  {
   "cell_type": "code",
   "execution_count": null,
   "id": "66a62166",
   "metadata": {},
   "outputs": [],
   "source": [
    "generated_number = random_number(-1, 100)"
   ]
  },
  {
   "cell_type": "markdown",
   "id": "058a5f6f",
   "metadata": {},
   "source": [
    "## Positional vs Keyword Arguments\n",
    "\n",
    "Positional args match by order; keyword args match by name and can be out of order. Positional arguments must come first."
   ]
  },
  {
   "cell_type": "code",
   "execution_count": 12,
   "id": "ebcf2032",
   "metadata": {},
   "outputs": [
    {
     "name": "stdout",
     "output_type": "stream",
     "text": [
      "Checking nginx for running...\n",
      "Checking running for nginx...\n",
      "Checking nginx for running...\n",
      "Checking nginx for running...\n"
     ]
    },
    {
     "data": {
      "text/plain": [
       "True"
      ]
     },
     "execution_count": 12,
     "metadata": {},
     "output_type": "execute_result"
    }
   ],
   "source": [
    "def check_service_status(service_name, expected_status):\n",
    "    print(f\"Checking {service_name} for {expected_status}...\")\n",
    "    return True\n",
    "\n",
    "check_service_status(\"nginx\", \"running\")\n",
    "check_service_status(\"running\", \"nginx\")\n",
    "\n",
    "check_service_status(service_name=\"nginx\", expected_status=\"running\")\n",
    "check_service_status(expected_status=\"running\", service_name=\"nginx\")\n",
    "\n",
    "# Positional arguments must come before keyword arguments\n",
    "# check_service_status(service_name=\"nginx\", \"running\") # Uncommenting raises a SyntaxError"
   ]
  },
  {
   "cell_type": "markdown",
   "id": "2713f3d3",
   "metadata": {},
   "source": [
    "## Default Parameter Values\n",
    "\n",
    "It's possible to give parameters default values in the signature (`param=default`), making them optional."
   ]
  },
  {
   "cell_type": "code",
   "execution_count": 19,
   "id": "6adc06d4",
   "metadata": {},
   "outputs": [
    {
     "name": "stdout",
     "output_type": "stream",
     "text": [
      "Connect to host web01 on port 22 (timeout 30)\n",
      "Connect to host web02 on port 443 (timeout 60)\n",
      "Connect to host web03 on port 60 (timeout 30)\n",
      "Connect to host web03 on port 22 (timeout 60)\n"
     ]
    }
   ],
   "source": [
    "def connect(host, port=22, timeout=30):\n",
    "    print(f\"Connect to host {host} on port {port} (timeout {timeout})\")\n",
    "\n",
    "connect(\"web01\")\n",
    "connect(\"web02\", 443, 60)\n",
    "\n",
    "# When wanting to set the value of timeout but use the default value of port\n",
    "# We need to use keyword arguments, since positional arguments would be\n",
    "# incorrectly mapped\n",
    "\n",
    "# Bad exaple - see how port is set to 60 and timeout remains 30\n",
    "connect(\"web03\", 60)\n",
    "\n",
    "# Good example - both values are set as we expect\n",
    "connect(\"web03\", timeout=60)"
   ]
  },
  {
   "cell_type": "markdown",
   "id": "7b57ea7d",
   "metadata": {},
   "source": [
    "## Docstrings – Documenting Functions\n",
    "\n",
    "The first string in a function is its docstring, explaining purpose, `Args:` and `Returns:`. Used by `help()` and IDEs. Observing the following conventions is considered good practice:\n",
    "1. One-line summary\n",
    "2. Blank line\n",
    "3. Detailed description (optional)\n",
    "4. `Args:` section for parameters\n",
    "5. `Returns:` section for return values\n",
    "6. `Raises:` section for exceptions"
   ]
  },
  {
   "cell_type": "code",
   "execution_count": 7,
   "id": "840e3b40",
   "metadata": {},
   "outputs": [
    {
     "name": "stdout",
     "output_type": "stream",
     "text": [
      "True\n",
      "False\n",
      "False\n"
     ]
    }
   ],
   "source": [
    "import socket\n",
    "\n",
    "def check_port(host, port, timeout=5):\n",
    "    \"\"\"Checks if a TCP port is open on a given host.\n",
    "    \n",
    "    Args:\n",
    "        host (str): Hostname or IP address.\n",
    "        port (int): TCP port number.\n",
    "        timeout (int, option): Connection timeout in seconds. Defaults to 5.\n",
    "        \n",
    "    Returns:\n",
    "        bool: True if the port is open, False otherwise.\n",
    "    \"\"\"\n",
    "\n",
    "    try:\n",
    "        with socket.create_connection((host, port), timeout):\n",
    "            return True\n",
    "    except Exception:\n",
    "        return False\n",
    "\n",
    "print(check_port(\"www.google.com\", 443))\n",
    "\n",
    "# Port 22 is not open, should return False\n",
    "print(check_port(\"www.google.com\", 22))\n",
    "\n",
    "# Host does not exist, should return False\n",
    "print(check_port(\"www.afbdoaubfdoabdfoubaf.com\", 22))"
   ]
  },
  {
   "cell_type": "markdown",
   "id": "2fabedfb",
   "metadata": {},
   "source": [
    "## Hands‑on Exercises\n",
    "\n",
    "Complete the following three exercises to practice defining and using functions."
   ]
  },
  {
   "cell_type": "markdown",
   "id": "8a59ed0a",
   "metadata": {},
   "source": [
    "### Exercise 1: Greet Multiple Users\n",
    "\n",
    "Define a function `greet_users(names)` that takes a list of user names and prints a personalized greeting for each.\n",
    "\n",
    "Example input: `['Alice', 'Bob', 'Charlie']`\n",
    "\n",
    "Example output:\n",
    "```\n",
    "\"Hello, Alice!\"\n",
    "\"Hello, Bob!\"\n",
    "\"Hello, Charlie!\"\n",
    "```"
   ]
  },
  {
   "cell_type": "code",
   "execution_count": 22,
   "id": "3aa3d109",
   "metadata": {},
   "outputs": [
    {
     "name": "stdout",
     "output_type": "stream",
     "text": [
      "Hello, Alice!\n",
      "Hello, Bob!\n",
      "Hello, Charlie!\n"
     ]
    }
   ],
   "source": [
    "def greet_users(names):\n",
    "    \"\"\"Greets a list of users by name.\n",
    "\n",
    "    Args:\n",
    "        names (list(str)): The list of users to greet.\n",
    "    \"\"\"\n",
    "\n",
    "    for name in names:\n",
    "        print(f\"Hello, {name}!\")\n",
    "\n",
    "greet_users([\"Alice\", \"Bob\", \"Charlie\"])"
   ]
  },
  {
   "cell_type": "markdown",
   "id": "924018f8",
   "metadata": {},
   "source": [
    "### Exercise 2: Sum of Even Numbers\n",
    "\n",
    "Define a function `sum_even(numbers)` that takes a list of integers and returns the sum of all even numbers.\n",
    "\n",
    "Test with `[1, 2, 3, 4, 5, 6]` (should return `12`)."
   ]
  },
  {
   "cell_type": "code",
   "execution_count": 31,
   "id": "7e90edc0",
   "metadata": {},
   "outputs": [
    {
     "name": "stdout",
     "output_type": "stream",
     "text": [
      "12\n"
     ]
    }
   ],
   "source": [
    "def sum_even(numbers):\n",
    "    \"\"\"Calculates the sum of even numbers from a list.\n",
    "\n",
    "    Args:\n",
    "        numbers (list(int)): The list of numbers to evaluate.\n",
    "\n",
    "    Returns:\n",
    "        int: The sum of the even numbers.\n",
    "    \"\"\"\n",
    "    return sum(x for x in numbers if x % 2 == 0)\n",
    "\n",
    "print(sum_even([1, 2, 3, 4, 5, 6]))"
   ]
  },
  {
   "cell_type": "markdown",
   "id": "4217dbda",
   "metadata": {},
   "source": [
    "### Exercise 3: Fibonacci Sequence Generator\n",
    "\n",
    "Define a function `fibonacci(n)` that returns a list of the first `n` Fibonacci numbers.\n",
    "\n",
    "Example: `fibonacci(5)` should return `[0, 1, 1, 2, 3]`."
   ]
  },
  {
   "cell_type": "code",
   "execution_count": 36,
   "id": "1b9035f3",
   "metadata": {},
   "outputs": [
    {
     "name": "stdout",
     "output_type": "stream",
     "text": [
      "[0, 1, 1, 2, 3, 5, 8, 13, 21, 34]\n",
      "[0]\n"
     ]
    }
   ],
   "source": [
    "def fibonacci(n):\n",
    "    \"\"\"Calculates the first n Fibonacci numbers.\n",
    "\n",
    "    Args:\n",
    "        n (int): The amount of numbers to calculate.\n",
    "\n",
    "    Returns:\n",
    "        list(int): The first n Fibonacci numbers.\n",
    "    \"\"\"\n",
    "    seq = [0, 1]\n",
    "\n",
    "    for _ in range(2, n):\n",
    "        seq.append(seq[-1] + seq[-2])\n",
    "\n",
    "    return seq[:n]\n",
    "\n",
    "print(fibonacci(10))\n",
    "print(fibonacci(1))"
   ]
  },
  {
   "cell_type": "markdown",
   "id": "0188e8c9",
   "metadata": {},
   "source": [
    "### Exercise 4: Validate configurations"
   ]
  },
  {
   "cell_type": "code",
   "execution_count": null,
   "id": "b2c7b208-ffe6-4197-8fc6-8a57d0a89415",
   "metadata": {},
   "outputs": [
    {
     "name": "stdout",
     "output_type": "stream",
     "text": [
      "True\n",
      "False\n"
     ]
    }
   ],
   "source": [
    "def validate_config(config: dict) -> bool:\n",
    "    \"\"\"\n",
    "    Validates a configuration dictionary against a set of rules.\n",
    "\n",
    "    A valid configuration must have:\n",
    "    - Required keys: 'service_name', 'env', 'port'.\n",
    "    - 'env' must be one of 'dev', 'staging', 'prod'.\n",
    "    - 'service_name' must be a non-empty string.\n",
    "    - 'port' must be an integer between 1 and 65535.\n",
    "\n",
    "    Args:\n",
    "        config: A dictionary containing configuration parameters.\n",
    "\n",
    "    Returns:\n",
    "        True if the configuration is valid, False otherwise.\n",
    "    \"\"\"\n",
    "    required_keys = {\"service_name\", \"env\", \"port\"}\n",
    "\n",
    "    # Check if all required keys are present.\n",
    "    if not required_keys.issubset(config.keys()):\n",
    "        return False\n",
    "\n",
    "    # Check if the `env` value is valid.\n",
    "    if config['env'] not in {\"dev\", \"staging\", \"prod\"}:\n",
    "        return False\n",
    "    \n",
    "    # Check if the `service_name` is non-empty string\n",
    "    if not isinstance(config['service_name'], str) or not config['service_name'].strip():\n",
    "        return False\n",
    "\n",
    "    # Check if `port` is an integer between 1 and 65535\n",
    "    port = config['port']\n",
    "    if not isinstance(port, int) or not (1 <= port <= 65535):\n",
    "        return False\n",
    "\n",
    "    return True\n",
    "\n",
    "valid_config = {\n",
    "    \"service_name\": \"auth-service\",\n",
    "    \"env\": \"prod\",\n",
    "    \"port\": 8080\n",
    "}\n",
    "print(validate_config(valid_config))\n",
    "\n",
    "valid_config = {\n",
    "    \"service_name\": \"\",\n",
    "    \"env\": \"qa\",\n",
    "    \"port\": 65234\n",
    "}\n",
    "print(validate_config(valid_config))"
   ]
  },
  {
   "cell_type": "code",
   "execution_count": null,
   "id": "8e622db1-d6d0-42fa-8f20-c3ababb66254",
   "metadata": {},
   "outputs": [],
   "source": []
  }
 ],
 "metadata": {
  "kernelspec": {
   "display_name": "Python 3 (ipykernel)",
   "language": "python",
   "name": "python3"
  },
  "language_info": {
   "codemirror_mode": {
    "name": "ipython",
    "version": 3
   },
   "file_extension": ".py",
   "mimetype": "text/x-python",
   "name": "python",
   "nbconvert_exporter": "python",
   "pygments_lexer": "ipython3",
   "version": "3.12.9"
  }
 },
 "nbformat": 4,
 "nbformat_minor": 5
}
