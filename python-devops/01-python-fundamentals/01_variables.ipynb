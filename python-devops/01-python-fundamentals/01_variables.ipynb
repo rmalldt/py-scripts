{
 "cells": [
  {
   "cell_type": "markdown",
   "id": "ae130a49-55c0-439c-be2a-2a1bd97450d6",
   "metadata": {},
   "source": [
    "## Variables: Naming Values\n",
    "\n",
    "- **Assignment:** Use the equals sign (`=`) to label values. Example: `config_path = \"/etc/app.conf\"`.\n",
    "- **Naming Guidelines:**\n",
    "  - Must start with a letter or underscore (`_`) and can contain letters, numbers, and underscores.\n",
    "  - Use `snake_case` for readability (e.g., `max_retries`).\n",
    "- **Purpose:** Store data like file paths, server counts, status messages, API keys, configurations.\n",
    "- **Typing:** Python uses dynamic typing, which means we don't need to explicitly declare the variable type, and we can assign values with different types to the same variable (not recommended!)"
   ]
  },
  {
   "cell_type": "code",
   "execution_count": 5,
   "id": "f8866add-e45a-4386-8f78-950ad893e7c5",
   "metadata": {},
   "outputs": [],
   "source": [
    "var1 = \"hello\""
   ]
  },
  {
   "cell_type": "code",
   "execution_count": 7,
   "id": "f8014d7c-3a47-451d-809a-cf29ca94af75",
   "metadata": {},
   "outputs": [
    {
     "data": {
      "text/plain": [
       "'hello'"
      ]
     },
     "execution_count": 7,
     "metadata": {},
     "output_type": "execute_result"
    }
   ],
   "source": [
    "var1"
   ]
  },
  {
   "cell_type": "code",
   "execution_count": 8,
   "id": "3a98bc67-d26f-4bd8-bd74-83b339610c27",
   "metadata": {},
   "outputs": [
    {
     "name": "stdout",
     "output_type": "stream",
     "text": [
      "<class 'int'>\n"
     ]
    }
   ],
   "source": [
    "item = 101\n",
    "print(type(item))"
   ]
  },
  {
   "cell_type": "code",
   "execution_count": 9,
   "id": "ed2294c5-7078-4c52-88b7-290fe1995a30",
   "metadata": {},
   "outputs": [
    {
     "name": "stdout",
     "output_type": "stream",
     "text": [
      "<class 'str'>\n"
     ]
    }
   ],
   "source": [
    "# Never do that! Don't assign a value of a different type to the same variable!\n",
    "item = \"Code 101\"\n",
    "print(type(item))"
   ]
  }
 ],
 "metadata": {
  "kernelspec": {
   "display_name": "Python 3 (ipykernel)",
   "language": "python",
   "name": "python3"
  },
  "language_info": {
   "codemirror_mode": {
    "name": "ipython",
    "version": 3
   },
   "file_extension": ".py",
   "mimetype": "text/x-python",
   "name": "python",
   "nbconvert_exporter": "python",
   "pygments_lexer": "ipython3",
   "version": "3.12.9"
  }
 },
 "nbformat": 4,
 "nbformat_minor": 5
}
