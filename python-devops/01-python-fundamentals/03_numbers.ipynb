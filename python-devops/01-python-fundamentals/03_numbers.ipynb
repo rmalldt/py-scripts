{
 "cells": [
  {
   "cell_type": "markdown",
   "id": "cfa68eb0-7d14-408c-8fbe-9193f570325b",
   "metadata": {},
   "source": [
    "## Numbers (`int` and `float`)\n",
    "\n",
    "- **int:** Whole numbers (e.g., `10`, `1024`). No overflow due to arbitrary precision.\n",
    "- **float:** Numbers with decimals (e.g., `3.14159`). Uses IEEE 754 representation; small precision differences possible."
   ]
  },
  {
   "cell_type": "code",
   "execution_count": 33,
   "id": "44afd4c3-cf45-4a88-b1fd-e3b3216ee622",
   "metadata": {},
   "outputs": [
    {
     "name": "stdout",
     "output_type": "stream",
     "text": [
      "<class 'float'>\n",
      "When comparing floats directly, we may run into precision issues:\n",
      "0.1 * 3 == 0.3:  False\n",
      "To tackle this, we can use the math.isclose() function:\n",
      "math.isclose(0.1 * 3, 0.3):  True\n"
     ]
    }
   ],
   "source": [
    "import math\n",
    "\n",
    "print(type(1.0))\n",
    "\n",
    "print(\"When comparing floats directly, we may run into precision issues:\")\n",
    "print(\"0.1 * 3 == 0.3: \", 0.1 * 3 == 0.3)\n",
    "print(\"To tackle this, we can use the math.isclose() function:\")\n",
    "print(\"math.isclose(0.1 * 3, 0.3): \", math.isclose(0.1 * 3, 0.3))"
   ]
  },
  {
   "cell_type": "markdown",
   "id": "9d82ef7e-1eac-46c3-88e6-d4acedf45ffe",
   "metadata": {},
   "source": [
    "## Arithmetic Operations\n",
    "\n",
    "- `+`, `-`, `*`, `/`\n",
    "- `/` true division → float\n",
    "- `//` floor division → integer or float\n",
    "- `%` modulo → remainder\n",
    "- `**` → power"
   ]
  },
  {
   "cell_type": "code",
   "execution_count": 34,
   "id": "9672fcdd-f9e6-41bb-85e1-07b7ba40b810",
   "metadata": {},
   "outputs": [
    {
     "name": "stdout",
     "output_type": "stream",
     "text": [
      "4.0\n",
      "<class 'float'>\n",
      "1.6666666666666667\n",
      "4\n",
      "<class 'int'>\n",
      "1\n",
      "1.0\n",
      "2\n"
     ]
    }
   ],
   "source": [
    "print(8/2)\n",
    "print(type(8/2))\n",
    "print(5/3)\n",
    "print(8//2)\n",
    "print(type(8//2))\n",
    "print(5//3)\n",
    "print(5//3.0)\n",
    "print(5%3) # 1 as the result, and 2 remaining"
   ]
  },
  {
   "cell_type": "code",
   "execution_count": null,
   "id": "680e077a-e23f-4ad7-a7c0-8866628fa5cd",
   "metadata": {},
   "outputs": [],
   "source": []
  }
 ],
 "metadata": {
  "kernelspec": {
   "display_name": "Python 3 (ipykernel)",
   "language": "python",
   "name": "python3"
  },
  "language_info": {
   "codemirror_mode": {
    "name": "ipython",
    "version": 3
   },
   "file_extension": ".py",
   "mimetype": "text/x-python",
   "name": "python",
   "nbconvert_exporter": "python",
   "pygments_lexer": "ipython3",
   "version": "3.12.9"
  }
 },
 "nbformat": 4,
 "nbformat_minor": 5
}
