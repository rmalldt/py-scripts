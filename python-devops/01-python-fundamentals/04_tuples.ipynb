{
 "cells": [
  {
   "cell_type": "markdown",
   "id": "8e2da9b6",
   "metadata": {},
   "source": [
    "# Tuples (`tuple`)\n",
    "\n",
    "Tuples are ordered, immutable sequences defined with parentheses `()`. Once created, their contents cannot be changed."
   ]
  },
  {
   "cell_type": "markdown",
   "id": "21108156",
   "metadata": {},
   "source": [
    "## Characteristics and Use Cases\n",
    "- Ordered: items maintain position\n",
    "- Immutable: cannot add, remove, or change after creation\n",
    "- Useful for fixed records like coordinates, version numbers, or as dictionary keys"
   ]
  },
  {
   "cell_type": "code",
   "execution_count": 12,
   "id": "5ad35df9",
   "metadata": {},
   "outputs": [
    {
     "name": "stdout",
     "output_type": "stream",
     "text": [
      "<class 'tuple'>\n",
      "<class 'tuple'>\n",
      "Host: 127.0.0.1\n",
      "(0, 0)\n",
      "<class 'tuple'>\n"
     ]
    }
   ],
   "source": [
    "host_port = (\"127.0.0.1\", 3000)\n",
    "red_rgb = (255, 0, 0)\n",
    "tuple_single_value = (\"only-value\",) # To create a single-item tuple, add a trailing comma\n",
    "print(type(host_port))\n",
    "print(type(tuple_single_value))\n",
    "\n",
    "print(f\"Host: {host_port[0]}\")\n",
    "print(red_rgb[-2:])\n",
    "print(type(red_rgb[-2:]))\n",
    "\n",
    "# host_port[0] = \"192.168.1.1\" # Uncommenting will raise a TypeError because tuples are immutable"
   ]
  },
  {
   "cell_type": "markdown",
   "id": "49687e99",
   "metadata": {},
   "source": [
    "## Hands-on Exercise\n",
    "1. Create a tuple `service_endpoint` with hostname and port values.\n",
    "2. Print the hostname and port.\n",
    "3. Attempt to modify an element (commented out to avoid error)."
   ]
  },
  {
   "cell_type": "code",
   "execution_count": 13,
   "id": "d48b5545-7c66-4d1e-b3f3-bca5ccb5211e",
   "metadata": {},
   "outputs": [
    {
     "name": "stdout",
     "output_type": "stream",
     "text": [
      "Hostname: auth-server.dev.local\n",
      "Port: 80\n"
     ]
    }
   ],
   "source": [
    "service_endpoint = (\"auth-server.dev.local\", 80)\n",
    "print(f\"Hostname: {service_endpoint[0]}\")\n",
    "print(f\"Port: {service_endpoint[1]}\")\n",
    "\n",
    "# service_endpoint[1] = 443 # Uncommenting will raise a TypeError because tuples are immutable"
   ]
  },
  {
   "cell_type": "code",
   "execution_count": null,
   "id": "a162aac2-ef4b-42ea-bd6e-4763d537ebb3",
   "metadata": {},
   "outputs": [],
   "source": []
  }
 ],
 "metadata": {
  "kernelspec": {
   "display_name": "Python 3 (ipykernel)",
   "language": "python",
   "name": "python3"
  },
  "language_info": {
   "codemirror_mode": {
    "name": "ipython",
    "version": 3
   },
   "file_extension": ".py",
   "mimetype": "text/x-python",
   "name": "python",
   "nbconvert_exporter": "python",
   "pygments_lexer": "ipython3",
   "version": "3.12.9"
  }
 },
 "nbformat": 4,
 "nbformat_minor": 5
}
