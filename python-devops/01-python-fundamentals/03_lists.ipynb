{
 "cells": [
  {
   "cell_type": "markdown",
   "id": "92cc7603",
   "metadata": {},
   "source": [
    "# Lists (`list`)\n",
    "\n",
    "Lists are ordered, mutable sequences defined with square brackets `[]`. You can add, remove, or change items after creation."
   ]
  },
  {
   "cell_type": "markdown",
   "id": "dec16828",
   "metadata": {},
   "source": [
    "## Characteristics and Use Cases\n",
    "- Ordered: items maintain position\n",
    "- Mutable: `.append()`, `.insert()`, `.pop()`, `.remove()`\n",
    "- Ideal for storing sequences where order matters and contents change (e.g., list of servers, deployment steps)\n",
    "\n",
    "## Accessing Items and Slicing\n",
    "- Access single elements with `my_list[index]` (0-based). Use negative indices like `my_list[-1]` for the last item.\n",
    "- Slice with `my_list[start:stop]` to get a sub-list from `start` up to (but not including) `stop`.\n",
    "- Use three-parameter slicing `my_list[start:stop:step]` for stepping, e.g., `my_list[::2]` selects every other element.\n",
    "- Omitting `start` or `stop` defaults to the beginning or end of the list respectively, and slicing returns a new list without modifying the original."
   ]
  },
  {
   "cell_type": "code",
   "execution_count": 36,
   "id": "a926ed1b-4d48-46e5-93e6-706e763878c9",
   "metadata": {},
   "outputs": [
    {
     "name": "stdout",
     "output_type": "stream",
     "text": [
      "<class 'str'>\n",
      "<class 'int'>\n",
      "<class 'bool'>\n",
      "web01\n",
      "web03\n",
      "web02\n",
      "['web01', 'web02']\n",
      "['web02', 'web03']\n",
      "['web02', 'web03']\n",
      "['web01', 'web02', 'web03']\n"
     ]
    }
   ],
   "source": [
    "servers = [\"web01\", \"web02\", \"web03\"]\n",
    "mixed_list = [\"config.yaml\", 8080, True]\n",
    "\n",
    "for item in mixed_list:\n",
    "    print(type(item))\n",
    "\n",
    "print(servers[0])\n",
    "# print(servers[3]) # Commenting this out will raise an IndexError Exception\n",
    "print(servers[-1])\n",
    "print(servers[-2])\n",
    "\n",
    "# Slicing\n",
    "print(servers[:2]) # Will print only elements at indexes 0 and 1\n",
    "print(servers[1:]) # Will print only elements at indexes 1 and 2\n",
    "print(servers[-2:]) # Will print only the second to last and last elements\n",
    "# Slicing does not alter the original list\n",
    "print(servers)"
   ]
  },
  {
   "cell_type": "code",
   "execution_count": 51,
   "id": "c3cb2082-2372-4e77-996e-a44fa192ec0b",
   "metadata": {},
   "outputs": [
    {
     "name": "stdout",
     "output_type": "stream",
     "text": [
      "[80, 443, 8080, 5000]\n",
      "[80, 3000, 443, 8080, 5000]\n",
      "[3000, 443, 8080, 5000]\n",
      "[3000, 443, 5000]\n",
      "8080\n",
      "['a', 'b']\n"
     ]
    }
   ],
   "source": [
    "# Mutating lists\n",
    "ports = [80, 443, 8080]\n",
    "ports.append(5000)\n",
    "print(ports)\n",
    "ports.insert(1, 3000)\n",
    "print(ports)\n",
    "ports.remove(80)\n",
    "print(ports)\n",
    "removed_value = ports.pop(2)\n",
    "print(ports)\n",
    "print(removed_value)\n",
    "\n",
    "# Example to show how mutating lists can lead to side-effects outside of\n",
    "# the scope of the code that modifies the list.\n",
    "def mutate_list(l):\n",
    "    l.pop()\n",
    "\n",
    "new_list = [\"a\", \"b\", \"c\"]\n",
    "mutate_list(new_list)\n",
    "print(new_list)"
   ]
  },
  {
   "cell_type": "markdown",
   "id": "2a604ab0",
   "metadata": {},
   "source": [
    "## Hands-on Exercise\n",
    "1. Create a list `deployment_targets` with values `['us-east-1', 'eu-west-1', 'ap-southeast-2']`\n",
    "2. Print the first target\n",
    "3. Append `'us-west-2'`\n",
    "4. Change the second element to `'eu-central-1'`\n",
    "5. Print the list after each step"
   ]
  },
  {
   "cell_type": "code",
   "execution_count": 52,
   "id": "01c35747-c9fd-45b5-97bb-193beb4f958f",
   "metadata": {},
   "outputs": [
    {
     "name": "stdout",
     "output_type": "stream",
     "text": [
      "us-east-1\n",
      "['us-east-1', 'eu-west-1', 'ap-southeast-2', 'us-west-2']\n",
      "['us-east-1', 'eu-central-1', 'ap-southeast-2', 'us-west-2']\n"
     ]
    }
   ],
   "source": [
    "deployment_targets = [\"us-east-1\", \"eu-west-1\", \"ap-southeast-2\"]\n",
    "print(deployment_targets[0])\n",
    "deployment_targets.append(\"us-west-2\")\n",
    "print(deployment_targets)\n",
    "deployment_targets[1] = \"eu-central-1\"\n",
    "print(deployment_targets)"
   ]
  }
 ],
 "metadata": {
  "kernelspec": {
   "display_name": "Python 3 (ipykernel)",
   "language": "python",
   "name": "python3"
  },
  "language_info": {
   "codemirror_mode": {
    "name": "ipython",
    "version": 3
   },
   "file_extension": ".py",
   "mimetype": "text/x-python",
   "name": "python",
   "nbconvert_exporter": "python",
   "pygments_lexer": "ipython3",
   "version": "3.12.9"
  }
 },
 "nbformat": 4,
 "nbformat_minor": 5
}
