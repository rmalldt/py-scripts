{
 "cells": [
  {
   "cell_type": "markdown",
   "id": "92cc7603",
   "metadata": {},
   "source": [
    "# Lists (`list`)\n",
    "\n",
    "Lists are ordered, mutable sequences defined with square brackets `[]`. You can add, remove, or change items after creation."
   ]
  },
  {
   "cell_type": "markdown",
   "id": "dec16828",
   "metadata": {},
   "source": [
    "## Characteristics and Use Cases\n",
    "- Ordered: items maintain position\n",
    "- Mutable: `.append()`, `.insert()`, `.pop()`, `.remove()`\n",
    "- Ideal for storing sequences where order matters and contents change (e.g., list of servers, deployment steps)\n",
    "\n",
    "## Accessing Items and Slicing\n",
    "- Access single elements with `my_list[index]` (0-based). Use negative indices like `my_list[-1]` for the last item.\n",
    "- Slice with `my_list[start:stop]` to get a sub-list from `start` up to (but not including) `stop`.\n",
    "- Use three-parameter slicing `my_list[start:stop:step]` for stepping, e.g., `my_list[::2]` selects every other element.\n",
    "- Omitting `start` or `stop` defaults to the beginning or end of the list respectively, and slicing returns a new list without modifying the original."
   ]
  },
  {
   "cell_type": "code",
   "execution_count": 36,
   "id": "a926ed1b-4d48-46e5-93e6-706e763878c9",
   "metadata": {},
   "outputs": [
    {
     "name": "stdout",
     "output_type": "stream",
     "text": [
      "<class 'str'>\n",
      "<class 'int'>\n",
      "<class 'bool'>\n",
      "web01\n",
      "web03\n",
      "web02\n",
      "['web01', 'web02']\n",
      "['web02', 'web03']\n",
      "['web02', 'web03']\n",
      "['web01', 'web02', 'web03']\n"
     ]
    }
   ],
   "source": [
    "servers = [\"web01\", \"web02\", \"web03\"]\n",
    "mixed_list = [\"config.yaml\", 8080, True]\n",
    "\n",
    "for item in mixed_list:\n",
    "    print(type(item))\n",
    "\n",
    "print(servers[0])\n",
    "# print(servers[3]) # Commenting this out will raise an IndexError Exception\n",
    "print(servers[-1])\n",
    "print(servers[-2])\n",
    "\n",
    "# Slicing\n",
    "print(servers[:2]) # Will print only elements at indexes 0 and 1\n",
    "print(servers[1:]) # Will print only elements at indexes 1 and 2\n",
    "print(servers[-2:]) # Will print only the second to last and last elements\n",
    "# Slicing does not alter the original list\n",
    "print(servers)"
   ]
  },
  {
   "cell_type": "markdown",
   "id": "706b9a9f",
   "metadata": {},
   "source": [
    "## List Operations"
   ]
  },
  {
   "cell_type": "code",
   "execution_count": null,
   "id": "c3cb2082-2372-4e77-996e-a44fa192ec0b",
   "metadata": {},
   "outputs": [
    {
     "name": "stdout",
     "output_type": "stream",
     "text": [
      "Len: 3\n",
      "apple\n",
      "['apple', 'orange']\n",
      "['apple', 'banana']\n",
      "orange\n",
      "Updated list: []\n",
      "Orange count: 0\n",
      "Updated list: ['apple']\n",
      "Updated list: ['grapes']\n",
      "Min: grapes\n",
      "Max: grapes\n",
      "['grapes']\n",
      "['grapes']\n",
      "Original list: []\n",
      "New list: ['grapes']\n"
     ]
    }
   ],
   "source": [
    "fruits = [\"apple\", \"orange\", \"banana\"]\n",
    "\n",
    "# Length\n",
    "print(f\"Len: {len(fruits)}\")\n",
    "\n",
    "# Index access and Slicing\n",
    "print(fruits[0])        # apple\n",
    "print(fruits[0:2])      # ['apple', 'orange']\n",
    "print(fruits[0:3:2])    # ['apple', 'banana']\n",
    "print(fruits[-2])       # orange\n",
    "\n",
    "fruits[0] = \"Guava\"     # set item\n",
    "del fruits[0]           # delete item\n",
    "del fruits[0:2]         # delete multiple items\n",
    "print(f\"Updated list: {fruits}\")\n",
    "\n",
    "# Count: Count the number occurences of given item in the list\n",
    "print(f\"Orange count: {fruits.count(\"orange\")}\")\n",
    "\n",
    "# Append and Extend\n",
    "fruits.append(\"strawberry\")         # add item to the end of the list\n",
    "fruits.extend([\"apple\", \"orange\"])  # add lists\n",
    "\n",
    "# Insert, Pop and Remove\n",
    "fruits.pop()                # remove last item\n",
    "fruits.pop(0)               # pop the item at the given index\n",
    "print(f\"Updated list: {fruits}\")\n",
    "fruits.insert(0, \"grapes\")  # insert at given index\n",
    "fruits.remove(\"apple\")      # remove first item whose value match\n",
    "print(f\"Updated list: {fruits}\")\n",
    "\n",
    "# Min and Max\n",
    "print(f\"Min: {min(fruits)}\")\n",
    "print(f\"Max: {max(fruits)}\")\n",
    "\n",
    "# Sort: Sort elements in place\n",
    "fruits.sort()\n",
    "print(fruits)\n",
    "\n",
    "# Reverse: Reverse elements in place\n",
    "fruits.reverse()\n",
    "print(fruits)\n",
    "\n",
    "# Copy: Return a shallow copy of the list\n",
    "new_list = fruits.copy()\n",
    "\n",
    "# Clear: Remove all items from the list\n",
    "fruits.clear()\n",
    "print(f\"Original list: {fruits}\")\n",
    "print(f\"New list: {new_list}\")\n"
   ]
  },
  {
   "cell_type": "markdown",
   "id": "f5246ae6",
   "metadata": {},
   "source": [
    "## Nested list"
   ]
  },
  {
   "cell_type": "code",
   "execution_count": 10,
   "id": "4a216a21",
   "metadata": {},
   "outputs": [
    {
     "name": "stdout",
     "output_type": "stream",
     "text": [
      "Nested lists: [[2, 4, 6, 8], [1, 3, 5, 7]]\n",
      "Iterating list: [2, 4, 6, 8]\n",
      "2\n",
      "4\n",
      "6\n",
      "8\n",
      "Iterating list: [1, 3, 5, 7]\n",
      "1\n",
      "3\n",
      "5\n",
      "7\n"
     ]
    }
   ],
   "source": [
    "\n",
    "even = [2, 4, 6, 8]\n",
    "odd = [1, 3, 5, 7]\n",
    "lists = [even, odd]\n",
    "print(f\"Nested lists: {lists}\")  # [[2, 4, 6, 8], [1, 3, 5, 7]]\n",
    "\n",
    "for list in lists:\n",
    "    print(f\"Iterating list: {list}\")\n",
    "    for value in list:\n",
    "        print(value)\n"
   ]
  },
  {
   "cell_type": "markdown",
   "id": "2a604ab0",
   "metadata": {},
   "source": [
    "## Hands-on Exercise\n",
    "1. Create a list `deployment_targets` with values `['us-east-1', 'eu-west-1', 'ap-southeast-2']`\n",
    "2. Print the first target\n",
    "3. Append `'us-west-2'`\n",
    "4. Change the second element to `'eu-central-1'`\n",
    "5. Print the list after each step"
   ]
  },
  {
   "cell_type": "code",
   "execution_count": 52,
   "id": "01c35747-c9fd-45b5-97bb-193beb4f958f",
   "metadata": {},
   "outputs": [
    {
     "name": "stdout",
     "output_type": "stream",
     "text": [
      "us-east-1\n",
      "['us-east-1', 'eu-west-1', 'ap-southeast-2', 'us-west-2']\n",
      "['us-east-1', 'eu-central-1', 'ap-southeast-2', 'us-west-2']\n"
     ]
    }
   ],
   "source": [
    "deployment_targets = [\"us-east-1\", \"eu-west-1\", \"ap-southeast-2\"]\n",
    "print(deployment_targets[0])\n",
    "deployment_targets.append(\"us-west-2\")\n",
    "print(deployment_targets)\n",
    "deployment_targets[1] = \"eu-central-1\"\n",
    "print(deployment_targets)"
   ]
  },
  {
   "cell_type": "code",
   "execution_count": null,
   "id": "81f70bbe",
   "metadata": {},
   "outputs": [],
   "source": [
    "# This function does not delete the right elements.\n",
    "# It prints [5, 100, 200, 220] instead of [100,200]\n",
    "# The problem is the list is mutated within the for loop and the\n",
    "# size of the list changes,so, the elements are skipped since the\n",
    "# indexes are already processed.\n",
    "def delete_unsafe():\n",
    "    min_limit = 100\n",
    "    max_limit = 200\n",
    "    data = [4, 5, 100, 200, 210, 220]  # sorted data\n",
    "    for index, value in enumerate(data):\n",
    "        if (value < min_limit) or (value > max_limit):\n",
    "            del data[index]\n",
    "    print(data)\n",
    "\n",
    "\n",
    "# ----- Solution for Sorted Sequence\n",
    "def delete_safe_ordered():\n",
    "    min_limit = 100\n",
    "    max_limit = 200\n",
    "    data = [4, 5, 100, 200, 210, 220]  # sorted data\n",
    "\n",
    "    stop = 0\n",
    "    # Range:\n",
    "    #   - start: 0\n",
    "    #   - stop: len(data) (last index is exclusive)\n",
    "    for index in range(0, len(data)):\n",
    "        if data[index] >= min_limit:\n",
    "            stop = index\n",
    "            break\n",
    "\n",
    "    print(f\"Min limit index: {stop}\")\n",
    "    del data[:stop]  # delete upto stop exclusive\n",
    "    print(data)\n",
    "\n",
    "    start = 0\n",
    "    # Range:\n",
    "    #   - start: len(data) - 1 (inclusive)\n",
    "    #   - stop: -1 (need to include the at 0 index)\n",
    "    #   - step: -1 (iterate backward where start is greater than stop)\n",
    "    for index in range(len(data) - 1, -1, -1):\n",
    "        if data[index] <= max_limit:\n",
    "            start = index + 1\n",
    "            break\n",
    "\n",
    "    print(f\"Max limit index: {stop}\")\n",
    "    del data[start:]  # delete from start+1 to end of list\n",
    "    print(data)\n",
    "\n",
    "\n",
    "# ----- Solution 1 for Unsorted Sequence\n",
    "def delete_safe_unordered():\n",
    "    min_limit = 100\n",
    "    max_limit = 200\n",
    "    data = [104, 101, 4, 105, 308, 103, 5, 107, 100, 306, 106]  # unsorted data\n",
    "\n",
    "    for index in range(len(data) - 1, -1, -1):\n",
    "        if data[index] < min_limit or data[index] > max_limit:\n",
    "            print(index, data[index])\n",
    "            del data[index]\n",
    "\n",
    "    print(data)\n",
    "\n",
    "# ----- Solution 2 for Unsorted Sequence using reversed()\n",
    "# Using builtin reversed(sequence) returns a reverse iterator\n",
    "# but the caveat is the index returned by reverse iterator\n",
    "# associate with the sequence in reverse order as follows:\n",
    "#   - last element       = index 0\n",
    "#   - second last elemet = index 1\n",
    "#   - so on...\n",
    "#   - first element      = index (length-1)\n",
    "#\n",
    "# BUT the sequence elements are still the 0 indexed i.e.\n",
    "#   - first element = index 0\n",
    "#   - second element = index 1\n",
    "#   - so on...\n",
    "#\n",
    "# To access the right element from sequence, we need to adjust the index\n",
    "# when accessing the element:\n",
    "#   - last index = len(sequence) - 1\n",
    "#   - correct index = last index - reversed index\n",
    "#\n",
    "# Using reversed() is tricky so, ONLY use it when absolutely necessary with CAUTION.\n",
    "# This approach is faster than using range().\n",
    "def delete_safe_unordered_reversed():\n",
    "    min_limit = 100\n",
    "    max_limit = 200\n",
    "    data = [104, 101, 4, 105, 308, 103, 5, 107, 100, 306, 106]  # unsorted data\n",
    "\n",
    "    last_index = len(data) - 1\n",
    "    for index, value in enumerate(reversed(data)):\n",
    "        if value < min_limit or value > max_limit:\n",
    "            print(last_index - index, data)\n",
    "            del data[last_index - index]\n",
    "\n",
    "    print(data)"
   ]
  },
  {
   "cell_type": "code",
   "execution_count": null,
   "id": "6ddce388",
   "metadata": {},
   "outputs": [],
   "source": []
  }
 ],
 "metadata": {
  "kernelspec": {
   "display_name": ".venv (3.12.9)",
   "language": "python",
   "name": "python3"
  },
  "language_info": {
   "codemirror_mode": {
    "name": "ipython",
    "version": 3
   },
   "file_extension": ".py",
   "mimetype": "text/x-python",
   "name": "python",
   "nbconvert_exporter": "python",
   "pygments_lexer": "ipython3",
   "version": "3.12.9"
  }
 },
 "nbformat": 4,
 "nbformat_minor": 5
}
