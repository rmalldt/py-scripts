{
 "cells": [
  {
   "cell_type": "markdown",
   "id": "2433795a-6fc7-4a32-8cef-e890fc82b161",
   "metadata": {},
   "source": [
    "## Configurable Decorators: Decorators with Arguments\n",
    "\n",
    "- A basic decorator adds fixed behavior; sometimes you need to *configure* that behaviour (e.g. how many retries, which log level).  \n",
    "- You cannot pass options directly to a plain `@decorator`, because that decorator receives only the target function.  \n",
    "- Solution: call a *factory* that takes options and returns a decorator, then apply it with `@factory(option=value)`.  "
   ]
  },
  {
   "cell_type": "code",
   "execution_count": null,
   "id": "294245b3-c5d8-4d85-8b99-e3b5863e86f9",
   "metadata": {},
   "outputs": [],
   "source": [
    "def timing_decorator(original_function):\n",
    "    def wrapper(*args, **kwargs):\n",
    "        start = time.perf_counter()\n",
    "        result = original_function(*args, **kwargs)\n",
    "        duration = time.perf_counter() - start\n",
    "        print(f\"{original_function.__name__} took {duration:.3f}s\")\n",
    "\n",
    "        return result\n",
    "\n",
    "    return wrapper"
   ]
  },
  {
   "cell_type": "markdown",
   "id": "5dc16139-088b-44aa-afd8-b7c2c664ab75",
   "metadata": {},
   "source": [
    "## The Decorator Factory Pattern\n",
    "\n",
    "- **Factory function** receives configuration arguments and returns the **actual decorator**.  \n",
    "- The actual **decorator** still takes the target function and builds a **wrapper**.  \n",
    "- The wrapper can access both the factory’s configuration (via a closure) and the call‑time `*args / **kwargs` for the target function.  \n",
    "- Three nested layers keep concerns separated: configuration ➜ decoration ➜ runtime.\n",
    "\n",
    "### Applying Decorators with Arguments\n",
    "\n",
    "- Use `@factory(arg1, arg2…)` above the function definition.  \n",
    "- At *definition* time Python calls the factory, gets back a decorator, and applies that decorator to the function.  \n",
    "- Callers of the function automatically get the behaviour configured by the factory.\n",
    "\n",
    "## Example: Retry Decorator Factory\n",
    "\n",
    "- A practical DevOps scenario: retry a flaky operation a configurable number of times.  \n",
    "- The factory takes `max_attempts`; the wrapper loops until success or until attempts are exhausted, re‑raising the last error.  "
   ]
  },
  {
   "cell_type": "code",
   "execution_count": 19,
   "id": "23014bc7-7dfe-45dd-a84d-c2bea1ae4944",
   "metadata": {},
   "outputs": [
    {
     "name": "stdout",
     "output_type": "stream",
     "text": [
      "Attempt 1/4\n",
      "Result: Success!\n"
     ]
    }
   ],
   "source": [
    "import random\n",
    "\n",
    "def retry(max_attempts=3):\n",
    "    def decorator(func):\n",
    "        def wrapper(*args, **kwargs):\n",
    "            for attempt in range(1, max_attempts + 1):\n",
    "                try:\n",
    "                    print(f\"Attempt {attempt}/{max_attempts}\")\n",
    "                    return func(*args, **kwargs)\n",
    "                except Exception as e:\n",
    "                    print(f\" Error: {e}\")\n",
    "                    if attempt == max_attempts:\n",
    "                        raise\n",
    "\n",
    "        return wrapper\n",
    "    return decorator\n",
    "\n",
    "@retry(4)\n",
    "def sometimes_fails():\n",
    "    if random.random() < 0.7:\n",
    "        raise RuntimeError(\"Flaky failure\")\n",
    "    return \"Success!\"\n",
    "\n",
    "print(f\"Result: {sometimes_fails()}\")"
   ]
  },
  {
   "cell_type": "code",
   "execution_count": null,
   "id": "20d39292-7ab1-46ec-96a7-e7e82ac284eb",
   "metadata": {},
   "outputs": [],
   "source": []
  }
 ],
 "metadata": {
  "kernelspec": {
   "display_name": "Python 3 (ipykernel)",
   "language": "python",
   "name": "python3"
  },
  "language_info": {
   "codemirror_mode": {
    "name": "ipython",
    "version": 3
   },
   "file_extension": ".py",
   "mimetype": "text/x-python",
   "name": "python",
   "nbconvert_exporter": "python",
   "pygments_lexer": "ipython3",
   "version": "3.13.3"
  }
 },
 "nbformat": 4,
 "nbformat_minor": 5
}
