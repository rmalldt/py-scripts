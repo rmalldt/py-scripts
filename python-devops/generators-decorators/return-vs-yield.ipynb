{
 "cells": [
  {
   "cell_type": "markdown",
   "id": "d25a3145-bff1-4aa5-962f-eedbfbb29700",
   "metadata": {},
   "source": [
    "# Functions: `return` vs `yield`\n",
    "\n",
    "- Regular functions execute immediately, run to completion, and return a single value (or `None`).  \n",
    "- Generator functions return an iterator immediately; their body runs incrementally as values are requested.  \n",
    "- Understanding this distinction is critical for choosing between eager and lazy workflows.\n",
    "\n",
    "## Regular Function (`return`) Recap\n",
    "\n",
    "- Calling a regular function runs its entire body before returning.  \n",
    "- A single `return` exits the function and discards all local state.  \n",
    "- Useful when you need to compute and return a complete result at once.  "
   ]
  },
  {
   "cell_type": "code",
   "execution_count": 7,
   "id": "271f0aa0-26fe-48f6-94f8-aee210bec5bc",
   "metadata": {},
   "outputs": [
    {
     "name": "stdout",
     "output_type": "stream",
     "text": [
      "Regular function started.\n",
      "\tAdding server-0\n",
      "\tAdding server-1\n",
      "\tAdding server-2\n",
      "Regular function finished.\n",
      "Returned list: ['server-0', 'server-1', 'server-2']\n"
     ]
    }
   ],
   "source": [
    "def get_list_of_servers():\n",
    "    print(\"Regular function started.\")\n",
    "    servers = []\n",
    "\n",
    "    for i in range(3):\n",
    "        server_name = f\"server-{i}\"\n",
    "        print(f\"\\tAdding {server_name}\")\n",
    "        servers.append(server_name)\n",
    "\n",
    "    print(\"Regular function finished.\")\n",
    "\n",
    "    return servers\n",
    "\n",
    "servers = get_list_of_servers()\n",
    "print(f\"Returned list: {servers}\")"
   ]
  },
  {
   "cell_type": "markdown",
   "id": "c835e1c0-e211-4dd2-9b64-141652f8e397",
   "metadata": {},
   "source": [
    "## Generator Function (`yield`) Recap\n",
    "\n",
    "- Calling a generator function returns a generator object without running its body.  \n",
    "- Each `yield` returns one value and pauses, preserving local variables until the next request.  \n",
    "- Ideal for producing sequences lazily, especially when the full list is large or unbounded."
   ]
  },
  {
   "cell_type": "code",
   "execution_count": 13,
   "id": "24fdd423-5b5a-4783-8a48-b2cb89f3d381",
   "metadata": {},
   "outputs": [
    {
     "name": "stdout",
     "output_type": "stream",
     "text": [
      "Generator function started.\n",
      "\tYielding server-0\n",
      "Server received: server-0\n",
      "\tYielding server-1\n",
      "Server received: server-1\n",
      "\tYielding server-2\n",
      "Server received: server-2\n",
      "Generator function finished.\n"
     ]
    }
   ],
   "source": [
    "def yield_servers(count):\n",
    "    print(\"Generator function started.\")\n",
    "\n",
    "    for i in range(count):\n",
    "        server_name = f\"server-{i}\"\n",
    "        print(f\"\\tYielding {server_name}\")\n",
    "        yield server_name\n",
    "\n",
    "    print(\"Generator function finished.\")\n",
    "\n",
    "servers_gen = yield_servers(3)\n",
    "\n",
    "for server in servers_gen:\n",
    "    print(f\"Server received: {server}\")"
   ]
  },
  {
   "cell_type": "markdown",
   "id": "79b5010d-1d69-4260-9a09-f73b4a2e5b61",
   "metadata": {},
   "source": [
    "## Hands-on Exercise: Generator vs Regular Function Comparison\n",
    "\n",
    "**Goal:** Contrast execution flow, timing, and return types of a regular function versus a generator function.\n",
    "\n",
    "**Tasks:**\n",
    "- Implement a regular function that builds and returns a list of data items with simulated work. The function should simulate a small delay when adding each item to the list.\n",
    "- Implement a generator function that yields data items one by one with simulated work. The generator should simulate a small delay when yielding each item.\n",
    "- Measure and print the duration of the function call and of the iteration for each approach.  "
   ]
  },
  {
   "cell_type": "code",
   "execution_count": 15,
   "id": "62f26849-af68-4920-b135-7cf8bd340093",
   "metadata": {},
   "outputs": [
    {
     "name": "stdout",
     "output_type": "stream",
     "text": [
      "REGULAR : Returned ['Data item 0.', 'Data item 1.', 'Data item 2.', 'Data item 3.', 'Data item 4.'] in 0.52s\n",
      "Received data Data item 0. in 0.10s\n",
      "Received data Data item 1. in 0.10s\n",
      "Received data Data item 2. in 0.10s\n",
      "Received data Data item 3. in 0.10s\n",
      "Received data Data item 4. in 0.10s\n"
     ]
    }
   ],
   "source": [
    "import time\n",
    "\n",
    "def load_data_eagerly(count, delay=0.1):\n",
    "    \"\"\"Simulates loading `count` items eagerly with a delay between each item.\n",
    "\n",
    "    Args:\n",
    "        count (int): The number of items to load\n",
    "        delay (float, defaults to 0.1): The delay between each item loaded, in seconds.\n",
    "\n",
    "    Returns:\n",
    "        list(str): The loaded items\n",
    "    \"\"\"\n",
    "    result = []\n",
    "    for i in range(count):\n",
    "        time.sleep(delay)\n",
    "        result.append(f\"Data item {i}.\")\n",
    "\n",
    "    return result\n",
    "\n",
    "t0 = time.time()\n",
    "data = load_data_eagerly(5)\n",
    "t1 = time.time()\n",
    "print(f\"REGULAR : Returned {data} in {t1-t0:.2f}s\")\n",
    "\n",
    "def load_data_lazily(count, delay=0.1):\n",
    "    \"\"\"Simulates loading `count` items lazily with a delay between each item.\n",
    "\n",
    "    Args:\n",
    "        count (int): The number of items to load\n",
    "        delay (float, defaults to 0.1): The delay between each item loaded, in seconds.\n",
    "\n",
    "    Returns:\n",
    "        generator(str): A generator that yields each data item.\n",
    "    \"\"\"\n",
    "    for i in range(count):\n",
    "        time.sleep(delay)\n",
    "        yield f\"Data item {i}.\"\n",
    "\n",
    "data_gen = load_data_lazily(5)\n",
    "\n",
    "while True:\n",
    "    t0 = time.time()\n",
    "    try:\n",
    "        item = next(data_gen)\n",
    "    except StopIteration:\n",
    "        break\n",
    "    t1 = time.time()\n",
    "    print(f\"Received data {item} in {t1-t0:.2f}s\")"
   ]
  },
  {
   "cell_type": "code",
   "execution_count": null,
   "id": "12b59ac1-b1ef-4d0d-b47e-a2b94f38ecc5",
   "metadata": {},
   "outputs": [],
   "source": []
  }
 ],
 "metadata": {
  "kernelspec": {
   "display_name": "Python 3 (ipykernel)",
   "language": "python",
   "name": "python3"
  },
  "language_info": {
   "codemirror_mode": {
    "name": "ipython",
    "version": 3
   },
   "file_extension": ".py",
   "mimetype": "text/x-python",
   "name": "python",
   "nbconvert_exporter": "python",
   "pygments_lexer": "ipython3",
   "version": "3.13.3"
  }
 },
 "nbformat": 4,
 "nbformat_minor": 5
}
