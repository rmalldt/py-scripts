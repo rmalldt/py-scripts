{
 "cells": [
  {
   "cell_type": "markdown",
   "id": "2614fc2e-2fb0-41b7-803f-0b4d5f6e3d4f",
   "metadata": {},
   "source": [
    "## Custom Resource Management: Writing Context Managers\n",
    "- Whenever you need custom setup/teardown logic, you can write your own Context Manager.\n",
    "- A context manager ensures that teardown always runs, even if errors occur in the block.  \n",
    "- Two approaches: implement `__enter__`/`__exit__` in a class or use the simpler generator-based decorator.  "
   ]
  },
  {
   "cell_type": "code",
   "execution_count": 4,
   "id": "7ade03fb-8d75-4295-ae76-df372248766a",
   "metadata": {},
   "outputs": [
    {
     "name": "stdout",
     "output_type": "stream",
     "text": [
      "Setup complete\n",
      "a simple value\n",
      "Inside the block\n",
      "Teardown\n",
      "<class 'ValueError'>\n",
      "Simulated problem\n",
      "<traceback object at 0x10dd90580>\n"
     ]
    }
   ],
   "source": [
    "class MyContextManager:\n",
    "    def __init__(self, timeout):\n",
    "        self.timeout = timeout\n",
    "\n",
    "    def __enter__(self):\n",
    "        print(\"Setup complete\")\n",
    "        return \"a simple value\"\n",
    "\n",
    "    def __exit__(self, exception_type, exception_value, traceback):\n",
    "        print(f\"Teardown\")\n",
    "\n",
    "        # Commenting out since we replaced *args for explicit\n",
    "        # exception_type, exception_value, traceback parameters\n",
    "        \n",
    "        # for arg in args:\n",
    "        #     print(arg)\n",
    "\n",
    "        return False\n",
    "\n",
    "with MyContextManager(timeout=30) as cm:\n",
    "    print(cm)\n",
    "    print(\"Inside the block\")\n",
    "    raise ValueError(\"Simulated problem\")"
   ]
  },
  {
   "cell_type": "markdown",
   "id": "45cd1b24-fb0d-417a-aebb-898f7de2f734",
   "metadata": {},
   "source": [
    "## The `@contextlib.contextmanager` Decorator\n",
    "- Provided by the `contextlib` module to turn a generator into a context manager.  \n",
    "- Decorated function needs exactly one `yield`.  \n",
    "- Code before `yield` runs as `__enter__`; code after (or in `finally`) runs as `__exit__`.  \n",
    "- Simplifies many common patterns without writing a full class.\n",
    "\n",
    "###  Generator Structure for `@contextmanager`\n",
    "- Wrap the `yield` in `try...finally` to ensure teardown even on errors.  \n",
    "- The value yielded is bound to `as var` in the `with` statement (if used).  \n",
    "- You can catch exceptions inside the generator if you want to suppress them."
   ]
  },
  {
   "cell_type": "code",
   "execution_count": 11,
   "id": "34e23855-05da-4ddc-8e0f-c5244267011e",
   "metadata": {},
   "outputs": [
    {
     "name": "stdout",
     "output_type": "stream",
     "text": [
      "Start: /Users/lauromueller/Documents/courses/python-devops/code/error-handling\n",
      "Changing into temp_dir\n",
      "Inside: /Users/lauromueller/Documents/courses/python-devops/code/error-handling/temp_dir\n",
      "Reverting to original dir: /Users/lauromueller/Documents/courses/python-devops/code/error-handling\n",
      "End: /Users/lauromueller/Documents/courses/python-devops/code/error-handling\n"
     ]
    }
   ],
   "source": [
    "import os\n",
    "from contextlib import contextmanager\n",
    "\n",
    "@contextmanager\n",
    "def change_directory(destination):\n",
    "    \"\"\"\n",
    "    Temporarily switch into destination. If the directory does not exist,\n",
    "    it is created just before the switch.\n",
    "\n",
    "    Args:\n",
    "        destination (str): Path to the directory that should become the working directory\n",
    "    \"\"\"\n",
    "\n",
    "    origin_dir = os.getcwd()\n",
    "\n",
    "    try:\n",
    "        print(f\"Changing into {destination}\")\n",
    "        os.makedirs(destination, exist_ok=True)\n",
    "        os.chdir(destination)\n",
    "        yield os.getcwd()\n",
    "    finally:\n",
    "        print(f\"Reverting to original dir: {origin_dir}\")\n",
    "        os.chdir(origin_dir)\n",
    "\n",
    "print(f\"Start: {os.getcwd()}\")\n",
    "\n",
    "with change_directory(\"temp_dir\") as new_dir:\n",
    "    print(f\"Inside: {new_dir}\")\n",
    "\n",
    "print(f\"End: {os.getcwd()}\")"
   ]
  },
  {
   "cell_type": "code",
   "execution_count": null,
   "id": "916f4c9c-bf71-4eef-ba11-88aad7c3813f",
   "metadata": {},
   "outputs": [],
   "source": []
  }
 ],
 "metadata": {
  "kernelspec": {
   "display_name": "Python 3 (ipykernel)",
   "language": "python",
   "name": "python3"
  },
  "language_info": {
   "codemirror_mode": {
    "name": "ipython",
    "version": 3
   },
   "file_extension": ".py",
   "mimetype": "text/x-python",
   "name": "python",
   "nbconvert_exporter": "python",
   "pygments_lexer": "ipython3",
   "version": "3.12.9"
  }
 },
 "nbformat": 4,
 "nbformat_minor": 5
}
