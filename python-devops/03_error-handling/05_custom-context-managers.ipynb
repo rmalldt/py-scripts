{
 "cells": [
  {
   "cell_type": "markdown",
   "id": "6728425d-565f-4aba-91de-07db2778e1ce",
   "metadata": {},
   "source": [
    "## The Context Manager Protocol\n",
    "\n",
    "We use the builtin `with ...:` for Context Manager.\n",
    "\n",
    "- Classes that implement the `__enter__(self)` and `__exit__(self, exc_type, exc_val, exc_tb)` methods can be used inside the `with` expression.\n",
    "- `__enter__` is used for setup, and its returned value will be **bound to** the `as` **target**.\n",
    "- `__exit__` will always run when the indented block under `with` finishes, regardless of whether an exception was raised or not. If it returns `True`, it suppresses exceptions otherwise, the raised exception will propagate.\n",
    "- Exception information is passed to the `__exit__` method through positional parameters.\n",
    "- Custom classes can implement these methods for tailored resource management."
   ]
  },
  {
   "cell_type": "code",
   "execution_count": 21,
   "id": "006f4cd5-7da5-4544-a0c1-4d430fe010c8",
   "metadata": {},
   "outputs": [
    {
     "name": "stdout",
     "output_type": "stream",
     "text": [
      "Entering\n",
      "Inside 'with', got: resource\n",
      "Exiting, exception=None\n"
     ]
    }
   ],
   "source": [
    "class DemoCM:\n",
    "    def __enter__(self):\n",
    "        print(\"Entering\")\n",
    "        return \"resource\"\n",
    "\n",
    "    def __exit__(self, exc_type, exc_val, exc_tb):\n",
    "        print(f\"Exiting, exception={exc_type}\")\n",
    "        return False; # returning False re-raises any exception\n",
    "\n",
    "try:\n",
    "    with DemoCM() as res:\n",
    "        print(f\"Inside 'with', got: {res}\") # returned value of '__enter__' will be bound to 'res' in this case\n",
    "        # As we exit this `with` block, control passes to __exit__ and is executed\n",
    "        \n",
    "        #raise RuntimeError(\"Test Error\")\n",
    "except Exception as e:\n",
    "    print(f\"Caught outside 'with': {e}\")\n",
    "    "
   ]
  },
  {
   "cell_type": "markdown",
   "id": "2614fc2e-2fb0-41b7-803f-0b4d5f6e3d4f",
   "metadata": {},
   "source": [
    "## Custom Resource Management: Writing Context Managers\n",
    "- Whenever you need custom setup/teardown logic, you can write your own Context Manager.\n",
    "- A context manager ensures that teardown always runs, even if errors occur in the block.  \n",
    "- Two approaches: implement `__enter__`/`__exit__` in a class or use the simpler generator-based decorator.  "
   ]
  },
  {
   "cell_type": "code",
   "execution_count": 27,
   "id": "7ade03fb-8d75-4295-ae76-df372248766a",
   "metadata": {},
   "outputs": [
    {
     "name": "stdout",
     "output_type": "stream",
     "text": [
      "Setup complete\n",
      "a simple value\n",
      "Inside the block\n",
      "Teardown\n",
      "Exception type: <class 'ValueError'>\n",
      "Exception value: Simulated problem\n",
      "Exception traceback: <traceback object at 0x10abdef80>\n"
     ]
    }
   ],
   "source": [
    "class MyContextManager:\n",
    "    def __init__(self, timeout):\n",
    "        self.timeout = timeout\n",
    "\n",
    "    def __enter__(self):\n",
    "        print(\"Setup complete\")\n",
    "        return \"a simple value\"\n",
    "\n",
    "    def __exit__(self, exc_type, exc_value, exc_traceback):\n",
    "        print(f\"Teardown\")\n",
    "        print(f\"Exception type: {exc_type}\")\n",
    "        print(f\"Exception value: {exc_value}\")\n",
    "        print(f\"Exception traceback: {exc_traceback}\")\n",
    "        return True # returning True supresses the Exception\n",
    "\n",
    "with MyContextManager(timeout=30) as cm:\n",
    "    print(cm)\n",
    "    print(\"Inside the block\")\n",
    "    raise ValueError(\"Simulated problem\")\n",
    "    # As we exit this `with` block, if there is any exception, the exception info is passed to __exit__ method"
   ]
  },
  {
   "cell_type": "markdown",
   "id": "45cd1b24-fb0d-417a-aebb-898f7de2f734",
   "metadata": {},
   "source": [
    "## The `@contextlib.contextmanager` Decorator\n",
    "- Provided by the `contextlib` module to turn a generator into a context manager.  \n",
    "- Decorated function needs exactly one `yield`.  \n",
    "- Code before `yield` runs as `__enter__`; code after (or in `finally`) runs as `__exit__`.  \n",
    "- Simplifies many common patterns without writing a full class.\n",
    "\n",
    "###  Generator Structure for `@contextmanager`\n",
    "- Wrap the `yield` in `try...finally` to ensure teardown even on errors.  \n",
    "- The value yielded is bound to `as var` in the `with` statement (if used).  \n",
    "- You can catch exceptions inside the generator if you want to suppress them."
   ]
  },
  {
   "cell_type": "code",
   "execution_count": null,
   "id": "34e23855-05da-4ddc-8e0f-c5244267011e",
   "metadata": {},
   "outputs": [
    {
     "name": "stdout",
     "output_type": "stream",
     "text": [
      "Start: /Users/lauromueller/Documents/courses/python-devops/code/error-handling\n",
      "Changing into temp_dir\n",
      "Inside: /Users/lauromueller/Documents/courses/python-devops/code/error-handling/temp_dir\n",
      "Reverting to original dir: /Users/lauromueller/Documents/courses/python-devops/code/error-handling\n",
      "End: /Users/lauromueller/Documents/courses/python-devops/code/error-handling\n"
     ]
    }
   ],
   "source": [
    "import os\n",
    "from contextlib import contextmanager\n",
    "\n",
    "@contextmanager\n",
    "def change_directory(destination):\n",
    "    \"\"\"\n",
    "    Temporarily switch into destination. If the directory does not exist,\n",
    "    it is created just before the switch.\n",
    "\n",
    "    Args:\n",
    "        destination (str): Path to the directory that should become the working directory\n",
    "    \"\"\"\n",
    "\n",
    "    origin_dir = os.getcwd()\n",
    "\n",
    "    try:\n",
    "        print(f\"Changing into {destination}\")\n",
    "        os.makedirs(destination, exist_ok=True) # do not raise if dir already exist\n",
    "        os.chdir(destination)\n",
    "        yield os.getcwd()\n",
    "    finally:\n",
    "        print(f\"Reverting to original dir: {origin_dir}\")\n",
    "        os.chdir(origin_dir)\n",
    "\n",
    "print(f\"Start: {os.getcwd()}\")\n",
    "\n",
    "with change_directory(\"temp_dir\") as new_dir:\n",
    "    print(f\"Inside: {new_dir}\")\n",
    "\n",
    "print(f\"End: {os.getcwd()}\")"
   ]
  },
  {
   "cell_type": "code",
   "execution_count": null,
   "id": "916f4c9c-bf71-4eef-ba11-88aad7c3813f",
   "metadata": {},
   "outputs": [],
   "source": []
  }
 ],
 "metadata": {
  "kernelspec": {
   "display_name": "Python 3 (ipykernel)",
   "language": "python",
   "name": "python3"
  },
  "language_info": {
   "codemirror_mode": {
    "name": "ipython",
    "version": 3
   },
   "file_extension": ".py",
   "mimetype": "text/x-python",
   "name": "python",
   "nbconvert_exporter": "python",
   "pygments_lexer": "ipython3",
   "version": "3.12.9"
  }
 },
 "nbformat": 4,
 "nbformat_minor": 5
}
