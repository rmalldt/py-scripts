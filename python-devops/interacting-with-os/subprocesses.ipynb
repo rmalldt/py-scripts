{
 "cells": [
  {
   "cell_type": "markdown",
   "id": "75498774-9207-44cf-a5ee-e76ddfdedd3a",
   "metadata": {},
   "source": [
    "# Running External Commands with `subprocess.run`\n",
    "\n",
    "- DevOps automation often requires invoking existing CLI tools or scripts to leverage their functionality without re-implementing it in Python.  \n",
    "- The `subprocess` module provides a secure and flexible interface to spawn child processes, control their input/output streams, and inspect their exit statuses.  \n",
    "- The modern recommended method is `subprocess.run()`, which combines execution, output capture, and error handling in a single call.  "
   ]
  },
  {
   "cell_type": "code",
   "execution_count": 1,
   "id": "6da1ba08-a588-4f4b-9c07-e444466f810d",
   "metadata": {},
   "outputs": [
    {
     "name": "stdout",
     "output_type": "stream",
     "text": [
      "Return code: 0\n",
      "Stdout: Hello from subprocess.\n"
     ]
    }
   ],
   "source": [
    "import subprocess\n",
    "import sys\n",
    "\n",
    "result = subprocess.run(\n",
    "    [sys.executable, \"-c\", \"print('Hello from subprocess.')\"],\n",
    "    capture_output=True,\n",
    "    text=True\n",
    ")\n",
    "\n",
    "print(f\"Return code: {result.returncode}\")\n",
    "print(f\"Stdout: {result.stdout.strip()}\")"
   ]
  },
  {
   "cell_type": "markdown",
   "id": "150d585e",
   "metadata": {},
   "source": [
    "## Why `subprocess`? The Old Ways\n",
    "\n",
    "- Older approaches like `os.system()` invoke a shell directly, making them vulnerable to injection and offering limited control over I/O streams.  \n",
    "- The `subprocess` module was introduced to provide finer control, better security, and a consistent API across platforms.  \n",
    "- Functions such as `subprocess.call()`, `check_output()`, and `Popen` exist, but `subprocess.run()` (Python 3.5+) simplifies most common use cases into one interface.  "
   ]
  },
  {
   "cell_type": "markdown",
   "id": "1142cbf2",
   "metadata": {},
   "source": [
    "## The subprocess.run() Function\n",
    "\n",
    "- `args` should be a list of strings where the first element is the command and the rest are its parameters.  \n",
    "- `capture_output=True` captures both `stdout` and `stderr` into the returned `CompletedProcess`.  \n",
    "- `text=True` decodes bytes into strings using the system’s default encoding.  \n",
    "- `check=True` raises a `CalledProcessError` for non-zero exit codes, allowing you to handle failures via exceptions.  \n",
    "- `shell=False` (the default) avoids invoking a shell, preventing injection vulnerabilities; use `shell=True` only if you fully control the command string.  \n",
    "- The returned `CompletedProcess` has attributes `args`, `returncode`, `stdout`, and `stderr` for introspection.  "
   ]
  },
  {
   "cell_type": "code",
   "execution_count": 5,
   "id": "16e439e9",
   "metadata": {},
   "outputs": [
    {
     "name": "stdout",
     "output_type": "stream",
     "text": [
      "Args: ['/Users/lauromueller/Documents/courses/python-devops/code/.venv/bin/python', '-c', 'print(\"Hello from subprocess\")\\ninvalid_function()']\n",
      "Stdout: Hello from subprocess\n",
      "Stderr: Traceback (most recent call last):\n",
      "  File \"<string>\", line 2, in <module>\n",
      "NameError: name 'invalid_function' is not defined\n",
      "Return code: 1\n"
     ]
    }
   ],
   "source": [
    "import subprocess\n",
    "import sys\n",
    "\n",
    "cmd = [\n",
    "    sys.executable,\n",
    "    \"-c\",\n",
    "    \"\"\"print(\"Hello from subprocess\")\n",
    "invalid_function()\"\"\"\n",
    "]\n",
    "\n",
    "result = subprocess.run(cmd, capture_output=True, text=True)\n",
    "print(f\"Args: {result.args}\")\n",
    "print(f\"Stdout: {result.stdout.strip()}\")\n",
    "print(f\"Stderr: {result.stderr.strip()}\")\n",
    "print(f\"Return code: {result.returncode}\")"
   ]
  },
  {
   "cell_type": "markdown",
   "id": "e27bd5a5",
   "metadata": {},
   "source": [
    "## Basic Command Execution\n",
    "\n",
    "- Construct your command as a list, choosing the tool and its arguments explicitly.  \n",
    "- Use `capture_output=True` and `text=True` to get human-readable strings.  \n",
    "- Inspect `result.returncode` to determine if the command succeeded (zero) or failed (non-zero).  "
   ]
  },
  {
   "cell_type": "code",
   "execution_count": 6,
   "id": "ce894926-dc04-4aae-80fa-67990cd459b6",
   "metadata": {},
   "outputs": [
    {
     "name": "stdout",
     "output_type": "stream",
     "text": [
      "Darwin Mac.fritz.box 24.4.0 Darwin Kernel Version 24.4.0: Fri Apr 11 18:33:40 PDT 2025; root:xnu-11417.101.15~117/RELEASE_ARM64_T6031 arm64\n"
     ]
    }
   ],
   "source": [
    "import subprocess\n",
    "import platform\n",
    "\n",
    "if platform.system() == \"Windows\":\n",
    "    cmd = [\"ver\"]\n",
    "else:\n",
    "    cmd = [\"uname\", \"-a\"]\n",
    "\n",
    "result = subprocess.run(cmd, capture_output=True, text=True)\n",
    "print(result.stdout.strip())"
   ]
  },
  {
   "cell_type": "markdown",
   "id": "4ec3255f",
   "metadata": {},
   "source": [
    "## Common Pitfalls & How to Avoid Them\n",
    "\n",
    "- Forgetting `capture_output=True` means `result.stdout` and `result.stderr` will be `None`, so you cannot inspect them.  \n",
    "- Omitting `text=True` leaves you with raw bytes that require manual decoding.  \n",
    "- Using `check=False` without checking `result.returncode` can let failures go unnoticed.  \n",
    "- Invoking a shell with `shell=True` and untrusted input enables injection attacks—always prefer `shell=False`.  "
   ]
  },
  {
   "cell_type": "code",
   "execution_count": null,
   "id": "0b50757c",
   "metadata": {},
   "outputs": [],
   "source": []
  },
  {
   "cell_type": "code",
   "execution_count": null,
   "id": "f8afef57",
   "metadata": {},
   "outputs": [],
   "source": []
  }
 ],
 "metadata": {
  "kernelspec": {
   "display_name": "Python 3 (ipykernel)",
   "language": "python",
   "name": "python3"
  },
  "language_info": {
   "codemirror_mode": {
    "name": "ipython",
    "version": 3
   },
   "file_extension": ".py",
   "mimetype": "text/x-python",
   "name": "python",
   "nbconvert_exporter": "python",
   "pygments_lexer": "ipython3",
   "version": "3.12.10"
  }
 },
 "nbformat": 4,
 "nbformat_minor": 5
}
