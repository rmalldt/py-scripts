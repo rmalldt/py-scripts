{
 "cells": [
  {
   "cell_type": "markdown",
   "id": "0e8532b7-2784-4ab3-b053-2fd127368779",
   "metadata": {},
   "source": [
    "# Stacking Decorators: Applying Multiple Layers\n",
    "\n",
    "- Python lets you attach more than one decorator to a single function by writing multiple `@decorator` lines above the `def`.  \n",
    "- Each decorator contributes a distinct slice of behaviour (logging, timing, caching, auth checks) keeping the core function clean.\n",
    "\n",
    "## Application vs. Execution Order\n",
    "\n",
    "- **Decoration happens bottom‑up** when the function is defined:  \n",
    "  1. Decorator nearest the `def` wraps the original first.  \n",
    "  2. Each line above wraps the result of the previous decoration.  \n",
    "- **Execution happens top‑down** (outside‑in) when the decorated function is called: the outermost wrapper runs first, then calls the inner wrapper, and so on until the original function runs.\n",
    "\n",
    "## Order Matters\n",
    "\n",
    "- Swapping decorator order changes both side‑effects and final result if wrappers transform the return value."
   ]
  },
  {
   "cell_type": "code",
   "execution_count": null,
   "id": "c4e8bb8b-1719-4158-b465-af7ff8806754",
   "metadata": {},
   "outputs": [],
   "source": []
  },
  {
   "cell_type": "code",
   "execution_count": 5,
   "id": "6719ee97-9eb4-486b-b738-a867698fe893",
   "metadata": {},
   "outputs": [
    {
     "name": "stdout",
     "output_type": "stream",
     "text": [
      "--- Call foo() (A outside, B inside) ---\n",
      "A before\n",
      "B before\n",
      "  >>> inside foo\n",
      "B after\n",
      "A after\n",
      "\n",
      "--- Call bar() (B outside, A inside) ---\n",
      "B before\n",
      "A before\n",
      "  >>> inside bar\n",
      "A after\n",
      "B after\n"
     ]
    }
   ],
   "source": []
  },
  {
   "cell_type": "code",
   "execution_count": null,
   "id": "1a323899-7968-4735-85f9-a5dfa09ac27d",
   "metadata": {},
   "outputs": [],
   "source": []
  },
  {
   "cell_type": "code",
   "execution_count": 9,
   "id": "0e3d2682-85e2-4b63-ab1a-fced5066aee0",
   "metadata": {},
   "outputs": [
    {
     "name": "stdout",
     "output_type": "stream",
     "text": [
      "A before\n",
      "B before\n",
      "  >>> inside function foo\n",
      "B after\n",
      "A after\n",
      "----\n",
      "B before\n",
      "A before\n",
      "  >>> inside function bar\n",
      "A after\n",
      "B after\n"
     ]
    }
   ],
   "source": [
    "from functools import wraps\n",
    "\n",
    "def decorator_A(func):\n",
    "    @wraps(func)\n",
    "    def wrapper(*args, **kwargs):\n",
    "        print(\"A before\")\n",
    "        result = func(*args, **kwargs)\n",
    "        print(\"A after\")\n",
    "        return result\n",
    "    return wrapper\n",
    "\n",
    "def decorator_B(func):\n",
    "    @wraps(func)\n",
    "    def wrapper(*args, **kwargs):\n",
    "        print(\"B before\")\n",
    "        result = func(*args, **kwargs)\n",
    "        print(\"B after\")\n",
    "        return result\n",
    "    return wrapper\n",
    "\n",
    "@decorator_A\n",
    "@decorator_B\n",
    "def foo():\n",
    "    print(\"  >>> inside function foo\")\n",
    "\n",
    "@decorator_B\n",
    "@decorator_A\n",
    "def bar():\n",
    "    print(\"  >>> inside function bar\")\n",
    "\n",
    "foo()\n",
    "\n",
    "print(\"----\")\n",
    "\n",
    "bar()"
   ]
  },
  {
   "cell_type": "code",
   "execution_count": null,
   "id": "596a4824-f7c1-416d-8a02-4653027cd0d3",
   "metadata": {},
   "outputs": [],
   "source": []
  }
 ],
 "metadata": {
  "kernelspec": {
   "display_name": "Python 3 (ipykernel)",
   "language": "python",
   "name": "python3"
  },
  "language_info": {
   "codemirror_mode": {
    "name": "ipython",
    "version": 3
   },
   "file_extension": ".py",
   "mimetype": "text/x-python",
   "name": "python",
   "nbconvert_exporter": "python",
   "pygments_lexer": "ipython3",
   "version": "3.13.3"
  }
 },
 "nbformat": 4,
 "nbformat_minor": 5
}
