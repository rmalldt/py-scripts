{
 "cells": [
  {
   "cell_type": "markdown",
   "id": "a0be8252-f1db-4526-a0c3-f51caa1a60cb",
   "metadata": {},
   "source": [
    "# Python Functions Are First‑Class Citizens\n",
    "\n",
    "- In Python, functions behave like any other object (strings, ints, lists).  \n",
    "- Because they are **\"first‑class\"**, we can:\n",
    "  - Bind them to new variable names\n",
    "  - Pass them around as function arguments\n",
    "  - Return them from other functions\n",
    "  - Stash them in data structures.  \n",
    "- This flexibility is the foundation for patterns such as callbacks, plugin registries, and decorators.\n",
    "\n",
    "## Assigning Functions to Variables\n",
    "\n",
    "- A variable can reference the function object itself, **not** its return value.  \n",
    "- Any name that points to the function can be used to call it.  \n",
    "- This is handy for creating aliases or late‑binding a function into another module."
   ]
  },
  {
   "cell_type": "code",
   "execution_count": 14,
   "id": "d264d4b3-d203-43ab-a082-95c191c01a96",
   "metadata": {},
   "outputs": [
    {
     "name": "stdout",
     "output_type": "stream",
     "text": [
      "True\n",
      "Hello, Alice!\n"
     ]
    }
   ],
   "source": [
    "def greet(name):\n",
    "    print(f\"Hello, {name}!\")\n",
    "\n",
    "\n",
    "say_hello = greet\n",
    "print(say_hello is greet)\n",
    "say_hello(\"Alice\")"
   ]
  },
  {
   "cell_type": "markdown",
   "id": "d2ef8b58-2393-4730-96c2-fdce64117e4a",
   "metadata": {},
   "source": [
    "## Passing Functions as Arguments\n",
    "\n",
    "- **Higher‑order functions** accept other callables to customize behavior.  \n",
    "- Classic examples: `sorted(key=...)`, event callbacks, retry helpers.  \n",
    "- Lets you build flexible pipelines without hard‑coding every step."
   ]
  },
  {
   "cell_type": "code",
   "execution_count": 13,
   "id": "6566b5fd-692b-45ff-9506-46a0d686658b",
   "metadata": {},
   "outputs": [
    {
     "name": "stdout",
     "output_type": "stream",
     "text": [
      "Applying add to (1, 2)\n",
      "3\n",
      "Applying mul to (1, 2, 3, 4)\n",
      "24\n"
     ]
    }
   ],
   "source": [
    "def apply_operation(operation, *operands):\n",
    "    print(f\"Applying {operation.__name__} to {operands}\")\n",
    "    return operation(*operands)\n",
    "\n",
    "\n",
    "def add(*numbers):\n",
    "    return sum(numbers)\n",
    "\n",
    "\n",
    "def mul(*numbers):\n",
    "    result = 1\n",
    "    for n in numbers:\n",
    "        result *= n\n",
    "    return result\n",
    "\n",
    "\n",
    "print(apply_operation(add, 1, 2))\n",
    "print(apply_operation(mul, 1, 2, 3, 4))\n"
   ]
  },
  {
   "cell_type": "markdown",
   "id": "3cae79e0-be1e-4fe6-8e9a-11cff0cc2089",
   "metadata": {},
   "source": [
    "## Returning Functions from Functions\n",
    "\n",
    "- A **factory function** can create and return a new, customized function.  \n",
    "- The returned function “remembers” variables from the factory’s scope: this is a **closure**.  \n",
    "- Great for building tailored validators, loggers, or API clients on the fly."
   ]
  },
  {
   "cell_type": "code",
   "execution_count": 15,
   "id": "5c07388b-f91a-4036-8dbf-4d90af790af1",
   "metadata": {},
   "outputs": [
    {
     "name": "stdout",
     "output_type": "stream",
     "text": [
      "Hitting endpoint /users with method GET and auth token alice-token\n",
      "Hitting endpoint /health with method GET and auth token bob-token\n"
     ]
    }
   ],
   "source": [
    "def create_api_client(auth_token):\n",
    "    def api_client(endpoint, method):\n",
    "        return f\"Hitting endpoint {endpoint} with method {method} and auth token {auth_token}\"\n",
    "        \n",
    "    return api_client  # return the funtion\n",
    "\n",
    "\n",
    "client1 = create_api_client(\"alice-token\")\n",
    "client2 = create_api_client(\"bob-token\")\n",
    "\n",
    "print(client1(\"/users\", \"GET\"))\n",
    "print(client2(\"/health\", \"GET\"))"
   ]
  },
  {
   "cell_type": "markdown",
   "id": "0b2c6aab-0ad2-4f39-991c-5dd88ee67b5f",
   "metadata": {},
   "source": [
    "## Storing Functions in Data Structures\n",
    "\n",
    "- Functions can live inside lists, dicts, sets, and other containers.  \n",
    "- Enables command dispatch tables, plugin registries, and processing pipelines."
   ]
  },
  {
   "cell_type": "markdown",
   "id": "1b83b22c-d2a6-454e-99e4-e83c1422ffb1",
   "metadata": {},
   "source": [
    "def task_A():\n",
    "    print(\"Running task A\")\n",
    "\n",
    "def task_B():\n",
    "    print(\"Running task B\")\n",
    "\n",
    "def task_C():\n",
    "    print(\"Running task C\")\n",
    "\n",
    "# Storing function in a list\n",
    "pipeline = [task_A, task_B, task_C]\n",
    "for task in pipeline:\n",
    "    task()\n",
    "\n",
    "# Storing function in a dict\n",
    "command_registry = {\n",
    "    \"start\": task_A,\n",
    "    \"process\": task_B,\n",
    "    \"stop\": task_C\n",
    "}\n",
    "command_registry[\"process\"]()"
   ]
  },
  {
   "cell_type": "markdown",
   "id": "890316c7-cc7c-45f3-a92b-8fabd431d126",
   "metadata": {},
   "source": [
    "## Hands-on Exercise"
   ]
  },
  {
   "cell_type": "code",
   "execution_count": 26,
   "id": "f23f4290-6ff6-4e3c-82ba-a8e4a91a6b7c",
   "metadata": {},
   "outputs": [
    {
     "name": "stdout",
     "output_type": "stream",
     "text": [
      "PROVISION: Virtual machine db-main-01 created\n"
     ]
    }
   ],
   "source": [
    "def provision_vm(hostname):\n",
    "    return f\"PROVISION: Virtual machine {hostname} created\"\n",
    "\n",
    "\n",
    "def deprovision_vm(hostname):\n",
    "    return f\"DEPROVISION: Virtual machine {hostname} destroyed\"\n",
    "\n",
    "\n",
    "def reboot_vm(hostname):\n",
    "    return f\"REBOOT: Virtual machine {hostname} restarting\"\n",
    "\n",
    "\n",
    "action_map = {\n",
    "    \"create\": provision_vm,\n",
    "    \"destroy\": deprovision_vm,\n",
    "    \"restart\": reboot_vm\n",
    "}\n",
    "\n",
    "command = \"create\"\n",
    "target = \"db-main-01\"\n",
    "\n",
    "if command in action_map:\n",
    "    action_func = action_map[command]\n",
    "    result = action_func(target)\n",
    "    print(result)\n",
    "else:\n",
    "    print(f\"Unknown command: {command}\")\n",
    "    "
   ]
  },
  {
   "cell_type": "code",
   "execution_count": null,
   "id": "58b20b14-74b9-41f0-a908-ff4f4eadd8fc",
   "metadata": {},
   "outputs": [],
   "source": []
  }
 ],
 "metadata": {
  "kernelspec": {
   "display_name": ".venv (3.12.9)",
   "language": "python",
   "name": "python3"
  },
  "language_info": {
   "codemirror_mode": {
    "name": "ipython",
    "version": 3
   },
   "file_extension": ".py",
   "mimetype": "text/x-python",
   "name": "python",
   "nbconvert_exporter": "python",
   "pygments_lexer": "ipython3",
   "version": "3.12.9"
  }
 },
 "nbformat": 4,
 "nbformat_minor": 5
}
