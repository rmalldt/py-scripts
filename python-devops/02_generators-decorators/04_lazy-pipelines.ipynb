{
 "cells": [
  {
   "cell_type": "markdown",
   "id": "75498774-9207-44cf-a5ee-e76ddfdedd3a",
   "metadata": {},
   "source": [
    "# Generators and Lazy Pipelines\n",
    "\n",
    "- You can chain generator functions to form **multi-stage data pipelines** that process items one at a time.  \n",
    "- **No intermediate lists** are built, so memory stays low even for very large streams.  \n",
    "- Each generator only holds its own minimal state and passes items downstream on demand.  \n",
    "\n",
    "## Memory Efficiency\n",
    "\n",
    "- Lazy iterables maintain only minimal state (like start, stop, step) regardless of total length.  \n",
    "- Eager collections (lists, tuples) grow in memory usage as you add items.  \n",
    "- Use `sys.getsizeof()` to inspect the in-memory size of objects themselves (not their contents).  "
   ]
  },
  {
   "cell_type": "code",
   "execution_count": 54,
   "id": "6da1ba08-a588-4f4b-9c07-e444466f810d",
   "metadata": {},
   "outputs": [
    {
     "name": "stdout",
     "output_type": "stream",
     "text": [
      "User user77 logged out\n",
      "User user75 logged out\n",
      "User user1 logged in\n",
      "User user85 logged in\n",
      "Generator object sizes (in bytes): 232 240 224\n"
     ]
    }
   ],
   "source": [
    "# 1. Ingest the log lines\n",
    "# 2. Filter log lines based on either level or message substring\n",
    "# 3. Extract and return only the message attribute of the logs\n",
    "\n",
    "# The pipeline avoids loading the entire log file into memory at once.\n",
    "# It processes the file line by line keeping memory usage at minimal \n",
    "# and constant regardless of the file size.\n",
    "\n",
    "import sys\n",
    "import json\n",
    "\n",
    "\n",
    "def read_logs(filepath):\n",
    "    \"\"\"Reads the contents of a file line by line.\n",
    "\n",
    "    Args:\n",
    "        filepath (str): The path where the file is located.\n",
    "\n",
    "    Returns:\n",
    "        generator (dict(str)): The json dictionary for the log line.\n",
    "    \"\"\"\n",
    "    with open(filepath, 'r') as file:\n",
    "        for line in file:\n",
    "            line = line.strip()\n",
    "            if not line:\n",
    "                continue\n",
    "            yield json.loads(line) # yield dict object\n",
    "\n",
    "\n",
    "def filter_logs(logs, level=None, message_substring=None):\n",
    "    \"\"\"Filters any iterable containing dictionaries by either level or message_substring (or both)\n",
    "\n",
    "    Args:\n",
    "        logs (iterable(dict)): Iterable containing the logs to be filtered.\n",
    "        level (str): The log level to filter. Defaults to None.\n",
    "        message_substring (str): The pattern to look for in messages to filter. Defaults to None.\n",
    "\n",
    "    Returns:\n",
    "        generator (dict(str)): The json dictionary for the filtered log.\n",
    "    \"\"\"\n",
    "    for log in logs:\n",
    "        if (\n",
    "            level is not None\n",
    "            and log.get(\"level\", \"\").lower() != level.lower()\n",
    "        ):\n",
    "            continue\n",
    "        \n",
    "        if (\n",
    "            message_substring is not None\n",
    "            and message_substring.lower() not in log.get(\"message\", \"\").lower()\n",
    "        ):\n",
    "            continue\n",
    "\n",
    "        yield log\n",
    "\n",
    "\n",
    "def extract_field(logs, field=\"message\"):\n",
    "    \"\"\"Extracts a specific field from any iterable containing dictionaries.\n",
    "\n",
    "    Args:\n",
    "        logs (iterable(dict)): Iterable containing the logs to be evaluated.\n",
    "        field (str): The field to return. Defaults to 'message'.\n",
    "\n",
    "    Returns:\n",
    "        generator (str): The value of the extracted field.\n",
    "    \"\"\"\n",
    "    for log in logs:\n",
    "        yield log.get(field, \"\").strip()\n",
    "\n",
    "\n",
    "def get_first_n(logs, n=10):\n",
    "    \"\"\"Extracts the first n items from the provided iterable.\n",
    "\n",
    "    Args:\n",
    "        logs (iterable(T)): Iterable from which items will be extracted.\n",
    "        n (int): The number of items to extract.\n",
    "\n",
    "    Returns:\n",
    "        generator (T): The item from the iterable.\n",
    "    \"\"\"\n",
    "    count = 0\n",
    "    for log in logs:\n",
    "        if count >= n:\n",
    "            break\n",
    "\n",
    "        yield log\n",
    "        count += 1\n",
    "\n",
    "\n",
    "logs_gen = read_logs(\"large_logs.txt\") \n",
    "filter_gen = filter_logs(logs_gen, level=\"INFO\",  message_substring=\"user\") \n",
    "extract_gen = extract_field(filter_gen, \"message\")\n",
    "\n",
    "\n",
    "for log in get_first_n(extract_gen, 4):\n",
    "    print(log)\n",
    "\n",
    "\n",
    "print(\"Generator object sizes (in bytes):\",\n",
    "      sys.getsizeof(logs_gen),\n",
    "      sys.getsizeof(filter_gen),\n",
    "      sys.getsizeof(extract_gen)\n",
    "     )"
   ]
  },
  {
   "cell_type": "markdown",
   "id": "6b5ada58-903b-4a5e-a08b-20623ec5d364",
   "metadata": {},
   "source": [
    "## Hands-on Exercise"
   ]
  },
  {
   "cell_type": "code",
   "execution_count": 62,
   "id": "dd1458c1-90c4-4570-8d15-c5aa0299eb64",
   "metadata": {},
   "outputs": [
    {
     "name": "stdout",
     "output_type": "stream",
     "text": [
      "Applying fees...\n",
      "Filtering...\n",
      "Parsing...\n",
      "[180.0, 135.0]\n"
     ]
    }
   ],
   "source": [
    "def parse_transactions(data):\n",
    "    print(\"Parsing...\")\n",
    "    for item in data:\n",
    "        parts = item.split(':')\n",
    "        yield (parts[0], int(parts[1]))\n",
    " \n",
    "def filter_high_value(transactions, min_value=100):\n",
    "    print(\"Filtering...\")\n",
    "    for _, amount in transactions:\n",
    "        if amount >= min_value:\n",
    "            yield amount\n",
    " \n",
    "def apply_fees(amounts, fee_percent=10):\n",
    "    print(\"Applying fees...\")\n",
    "    for amount in amounts:\n",
    "        yield amount - (amount * fee_percent / 100)\n",
    " \n",
    "raw_data = [\"TX01:50\", \"TX02:200\", \"TX03:150\", \"TX04:90\"]\n",
    " \n",
    "pipeline = apply_fees(filter_high_value(parse_transactions(raw_data)))\n",
    " \n",
    "result = list(pipeline)\n",
    "print(result)\n"
   ]
  },
  {
   "cell_type": "code",
   "execution_count": 85,
   "id": "f67534a0-ce39-4b39-8400-93a1ca383d1c",
   "metadata": {},
   "outputs": [
    {
     "name": "stdout",
     "output_type": "stream",
     "text": [
      "Found login for user: 101\n",
      "Found login for user: 103\n",
      "Found login for user: 105\n",
      "Total number of login events: 3\n"
     ]
    }
   ],
   "source": [
    "\n",
    "def get_login_events(all_events: list[dict]):\n",
    "    for event in all_events:\n",
    "        if event.get(\"type\") == \"login\":\n",
    "            print(f\"Found login for user: {event['user_id']}\")\n",
    "            yield event\n",
    " \n",
    "events = [\n",
    "    {\"user_id\": 101, \"type\": \"login\"},\n",
    "    {\"user_id\": 102, \"type\": \"page_view\"},\n",
    "    {\"user_id\": 103, \"type\": \"login\"},\n",
    "    {\"user_id\": 104, \"type\": \"logout\"},\n",
    "    {\"user_id\": 105, \"type\": \"login\"},\n",
    "]\n",
    " \n",
    "login_gen = get_login_events(events)\n",
    "\n",
    "# Perform an action on each login event\n",
    "count = 0\n",
    "for _ in login_gen:\n",
    "    count += 1\n",
    "    pass\n",
    "\n",
    "print(f\"Total number of login events: {count}\")\n",
    "\n",
    "# Alternatively, convert generator to list that can be reused\n",
    "# login_list = list(get_login_events(events))\n",
    "# print(f\"Count: {len(login_list)}\")\n",
    "\n"
   ]
  },
  {
   "cell_type": "code",
   "execution_count": 90,
   "id": "c054af86-99c6-439a-9368-ad679556ddba",
   "metadata": {},
   "outputs": [
    {
     "name": "stdout",
     "output_type": "stream",
     "text": [
      "--- Getting first item ---\n",
      "DOUBLER: Starting\n",
      "SOURCE: Starting\n",
      "SOURCE: Yielding 0\n",
      "DOUBLER: Processing 0\n",
      "Result: 0\n",
      "--- Getting second item ---\n",
      "SOURCE: Yielding 1\n",
      "DOUBLER: Processing 1\n",
      "Result: 2\n"
     ]
    }
   ],
   "source": [
    "def number_source(n):\n",
    "    print(\"SOURCE: Starting\")\n",
    "    for i in range(n):\n",
    "        print(f\"SOURCE: Yielding {i}\")\n",
    "        yield i\n",
    "    print(\"SOURCE: Finished\")\n",
    " \n",
    "def doubler(items):\n",
    "    print(\"DOUBLER: Starting\")\n",
    "    for item in items:\n",
    "        print(f\"DOUBLER: Processing {item}\")\n",
    "        yield item * 2\n",
    "    print(\"DOUBLER: Finished\")\n",
    " \n",
    "pipeline = doubler(number_source(2))\n",
    "print(\"--- Getting first item ---\")\n",
    "print(f\"Result: {next(pipeline)}\")\n",
    "print(\"--- Getting second item ---\")\n",
    "print(f\"Result: {next(pipeline)}\")\n",
    "    "
   ]
  },
  {
   "cell_type": "code",
   "execution_count": 103,
   "id": "25bf4e57-a73e-46c9-98c0-578710459f10",
   "metadata": {},
   "outputs": [
    {
     "name": "stdout",
     "output_type": "stream",
     "text": [
      "ALERT: High traffic from 2.2.2.2\n",
      "ALERT: High traffic from 3.3.3.3\n"
     ]
    }
   ],
   "source": [
    "def parse_logs(log_lines):\n",
    "    for line in log_lines:\n",
    "        parts = line.split()\n",
    "        if len(parts) == 2:\n",
    "            yield (parts[0], int(parts[1]))\n",
    " \n",
    "def filter_heavy_hitters(records):\n",
    "    # This function is not lazy\n",
    "    results = []\n",
    "    for ip, byte_count in records:\n",
    "        if byte_count > 1000:\n",
    "            yield ip\n",
    " \n",
    "def format_for_report(ip_addresses):\n",
    "    for ip in ip_addresses:\n",
    "        yield f\"ALERT: High traffic from {ip}\"\n",
    " \n",
    "# How the pipeline is used:\n",
    "logs = [\"1.1.1.1 500\", \"2.2.2.2 2500\", \"3.3.3.3 4000\"]\n",
    "records_gen = parse_logs(logs)\n",
    "heavy_ips = filter_heavy_hitters(records_gen)\n",
    "report_lines = format_for_report(heavy_ips)\n",
    "\n",
    "for ips in report_lines:\n",
    "    print(ips)"
   ]
  },
  {
   "cell_type": "code",
   "execution_count": null,
   "id": "6d70a7c7-6c2c-41b3-97a5-cae1d4ac1f14",
   "metadata": {},
   "outputs": [],
   "source": []
  },
  {
   "cell_type": "code",
   "execution_count": null,
   "id": "c67fd99c-0a4d-49c6-951b-e398503db3bc",
   "metadata": {},
   "outputs": [],
   "source": []
  }
 ],
 "metadata": {
  "kernelspec": {
   "display_name": "Python 3 (ipykernel)",
   "language": "python",
   "name": "python3"
  },
  "language_info": {
   "codemirror_mode": {
    "name": "ipython",
    "version": 3
   },
   "file_extension": ".py",
   "mimetype": "text/x-python",
   "name": "python",
   "nbconvert_exporter": "python",
   "pygments_lexer": "ipython3",
   "version": "3.12.9"
  }
 },
 "nbformat": 4,
 "nbformat_minor": 5
}
