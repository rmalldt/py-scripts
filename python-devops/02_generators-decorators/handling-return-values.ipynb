{
 "cells": [
  {
   "cell_type": "markdown",
   "id": "5875967c-0971-4821-b1b9-f1dc8e4dda1f",
   "metadata": {},
   "source": [
    "## Decorators & Return Values\n",
    "\n",
    "- A decorator’s wrapper replaces the original function, so if it forgets to return the original result the caller receives `None`.  \n",
    "- Many real‑world functions produce critical data (e.g. status strings, dictionaries, numeric results); the decorator must be **transparent** about that value.  \n",
    "- Fixing this means capturing the result of `func(*args, **kwargs)` inside the wrapper and returning it unchanged.  "
   ]
  },
  {
   "cell_type": "code",
   "execution_count": 11,
   "id": "432f44f0-1a6a-4285-b666-169ab4453c25",
   "metadata": {},
   "outputs": [
    {
     "name": "stdout",
     "output_type": "stream",
     "text": [
      "LOG: Calling add\n",
      "LOG: Finished add\n",
      "Result seen by caller: None\n"
     ]
    }
   ],
   "source": [
    "def log_calls_broken(func):\n",
    "    def wrapper(*args, **kwargs):\n",
    "        print(f\"LOG: Calling {func.__name__}\")\n",
    "        func(*args, **kwargs)\n",
    "        print(f\"LOG: Finished {func.__name__}\")\n",
    "    return wrapper\n",
    "\n",
    "@log_calls_broken\n",
    "def add(x, y):\n",
    "    return x + y\n",
    "\n",
    "print(f\"Result seen by caller: {add(2, 3)}\")"
   ]
  },
  {
   "cell_type": "markdown",
   "id": "6af663fc-c44b-45e3-ad7d-a29ab69693a9",
   "metadata": {},
   "source": [
    "## The Wrapper’s Responsibility\n",
    "\n",
    "- The wrapper is the public face of the decorated function; it must faithfully:  \n",
    "  - Call the original with all arguments.  \n",
    "  - Capture its return value.  \n",
    "  - Perform any extra behaviour (log, time, validate).  \n",
    "  - **Return** the captured value so callers remain unaware of the wrapper.  \n",
    "- Failure to return breaks contracts and causes subtle bugs.\n",
    "\n",
    "### Capturing return values\n",
    "- Capturing is a one‑liner: `value = func(*args, **kwargs)`.  \n",
    "- After post‑call logic, `return value` preserves behaviour.  \n",
    "- You can also inspect or transform `value` before returning if the decorator’s purpose demands it.   "
   ]
  },
  {
   "cell_type": "code",
   "execution_count": 12,
   "id": "ac78a336-0eba-4d18-9bc4-25f205e59962",
   "metadata": {},
   "outputs": [
    {
     "name": "stdout",
     "output_type": "stream",
     "text": [
      "LOG: Calling multiply\n",
      "LOG: Finished multiply\n",
      "Result seen by caller: 6\n"
     ]
    }
   ],
   "source": [
    "def log_calls(func):\n",
    "    def wrapper(*args, **kwargs):\n",
    "        print(f\"LOG: Calling {func.__name__}\")\n",
    "        value = func(*args, **kwargs)\n",
    "        print(f\"LOG: Finished {func.__name__}\")\n",
    "        return value\n",
    "    return wrapper\n",
    "\n",
    "@log_calls\n",
    "def multiply(a, b):\n",
    "    return a * b\n",
    "\n",
    "print(f\"Result seen by caller: {multiply(2, 3)}\")"
   ]
  },
  {
   "cell_type": "markdown",
   "id": "08f76c59-c36f-4c6e-be33-f713025717fa",
   "metadata": {},
   "source": [
    "## Handling Exceptions in Decorators\n",
    "\n",
    "- Wrappers often log exceptions for observability but should **re‑raise** them so callers can still handle or see errors.  \n",
    "- Use `try ... except ... raise` around the call; log inside the `except`, then re‑raise without arguments to preserve traceback.  \n",
    "- A decorator that swallows exceptions changes program semantics unless that is its explicit purpose (e.g. retry).  "
   ]
  },
  {
   "cell_type": "code",
   "execution_count": 13,
   "id": "6741543f-870a-4c2f-8049-5f71c2bcfde4",
   "metadata": {},
   "outputs": [
    {
     "name": "stdout",
     "output_type": "stream",
     "text": [
      "[ERROR] fail raised ValueError\n"
     ]
    },
    {
     "ename": "ValueError",
     "evalue": "simulated problem",
     "output_type": "error",
     "traceback": [
      "\u001b[31m---------------------------------------------------------------------------\u001b[39m",
      "\u001b[31mValueError\u001b[39m                                Traceback (most recent call last)",
      "\u001b[36mCell\u001b[39m\u001b[36m \u001b[39m\u001b[32mIn[13]\u001b[39m\u001b[32m, line 14\u001b[39m\n\u001b[32m     10\u001b[39m \u001b[38;5;129m@log_and_reraise\u001b[39m\n\u001b[32m     11\u001b[39m \u001b[38;5;28;01mdef\u001b[39;00m\u001b[38;5;250m \u001b[39m\u001b[34mfail\u001b[39m():\n\u001b[32m     12\u001b[39m     \u001b[38;5;28;01mraise\u001b[39;00m \u001b[38;5;167;01mValueError\u001b[39;00m(\u001b[33m\"\u001b[39m\u001b[33msimulated problem\u001b[39m\u001b[33m\"\u001b[39m)\n\u001b[32m---> \u001b[39m\u001b[32m14\u001b[39m \u001b[43mfail\u001b[49m\u001b[43m(\u001b[49m\u001b[43m)\u001b[49m\n",
      "\u001b[36mCell\u001b[39m\u001b[36m \u001b[39m\u001b[32mIn[13]\u001b[39m\u001b[32m, line 4\u001b[39m, in \u001b[36mlog_and_reraise.<locals>.wrapper\u001b[39m\u001b[34m(*args, **kwargs)\u001b[39m\n\u001b[32m      2\u001b[39m \u001b[38;5;28;01mdef\u001b[39;00m\u001b[38;5;250m \u001b[39m\u001b[34mwrapper\u001b[39m(*args, **kwargs):\n\u001b[32m      3\u001b[39m     \u001b[38;5;28;01mtry\u001b[39;00m:\n\u001b[32m----> \u001b[39m\u001b[32m4\u001b[39m         \u001b[38;5;28;01mreturn\u001b[39;00m \u001b[43mfunc\u001b[49m\u001b[43m(\u001b[49m\u001b[43m*\u001b[49m\u001b[43margs\u001b[49m\u001b[43m,\u001b[49m\u001b[43m \u001b[49m\u001b[43m*\u001b[49m\u001b[43m*\u001b[49m\u001b[43mkwargs\u001b[49m\u001b[43m)\u001b[49m\n\u001b[32m      5\u001b[39m     \u001b[38;5;28;01mexcept\u001b[39;00m \u001b[38;5;167;01mException\u001b[39;00m \u001b[38;5;28;01mas\u001b[39;00m err:\n\u001b[32m      6\u001b[39m         \u001b[38;5;28mprint\u001b[39m(\u001b[33mf\u001b[39m\u001b[33m\"\u001b[39m\u001b[33m[ERROR] \u001b[39m\u001b[38;5;132;01m{\u001b[39;00mfunc.\u001b[34m__name__\u001b[39m\u001b[38;5;132;01m}\u001b[39;00m\u001b[33m raised \u001b[39m\u001b[38;5;132;01m{\u001b[39;00merr.\u001b[34m__class__\u001b[39m.\u001b[34m__name__\u001b[39m\u001b[38;5;132;01m}\u001b[39;00m\u001b[33m\"\u001b[39m)\n",
      "\u001b[36mCell\u001b[39m\u001b[36m \u001b[39m\u001b[32mIn[13]\u001b[39m\u001b[32m, line 12\u001b[39m, in \u001b[36mfail\u001b[39m\u001b[34m()\u001b[39m\n\u001b[32m     10\u001b[39m \u001b[38;5;129m@log_and_reraise\u001b[39m\n\u001b[32m     11\u001b[39m \u001b[38;5;28;01mdef\u001b[39;00m\u001b[38;5;250m \u001b[39m\u001b[34mfail\u001b[39m():\n\u001b[32m---> \u001b[39m\u001b[32m12\u001b[39m     \u001b[38;5;28;01mraise\u001b[39;00m \u001b[38;5;167;01mValueError\u001b[39;00m(\u001b[33m\"\u001b[39m\u001b[33msimulated problem\u001b[39m\u001b[33m\"\u001b[39m)\n",
      "\u001b[31mValueError\u001b[39m: simulated problem"
     ]
    }
   ],
   "source": [
    "def log_and_reraise(func):\n",
    "    def wrapper(*args, **kwargs):\n",
    "        try:\n",
    "            return func(*args, **kwargs)\n",
    "        except Exception as err:\n",
    "            print(f\"[ERROR] {func.__name__} raised {err.__class__.__name__}\")\n",
    "            raise\n",
    "    return wrapper\n",
    "\n",
    "@log_and_reraise\n",
    "def fail():\n",
    "    raise ValueError(\"simulated problem\")\n",
    "\n",
    "fail()"
   ]
  },
  {
   "cell_type": "code",
   "execution_count": null,
   "id": "7074f501-92f7-46cc-aec6-2ec92e6dbe4e",
   "metadata": {},
   "outputs": [],
   "source": []
  }
 ],
 "metadata": {
  "kernelspec": {
   "display_name": "Python 3 (ipykernel)",
   "language": "python",
   "name": "python3"
  },
  "language_info": {
   "codemirror_mode": {
    "name": "ipython",
    "version": 3
   },
   "file_extension": ".py",
   "mimetype": "text/x-python",
   "name": "python",
   "nbconvert_exporter": "python",
   "pygments_lexer": "ipython3",
   "version": "3.13.3"
  }
 },
 "nbformat": 4,
 "nbformat_minor": 5
}
