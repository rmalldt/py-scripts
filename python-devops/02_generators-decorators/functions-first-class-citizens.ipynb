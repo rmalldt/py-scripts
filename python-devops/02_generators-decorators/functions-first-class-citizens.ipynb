{
 "cells": [
  {
   "cell_type": "markdown",
   "id": "a0be8252-f1db-4526-a0c3-f51caa1a60cb",
   "metadata": {},
   "source": [
    "# Python Functions Are First‑Class Citizens\n",
    "\n",
    "- In Python, functions behave like any other object (strings, ints, lists).  \n",
    "- Because they are \"first‑class\", we can:\n",
    "  - Bind them to new variable names\n",
    "  - Pass them around as arguments\n",
    "  - Return them from other functions\n",
    "  - Stash them in data structures.  \n",
    "- This flexibility is the foundation for patterns such as callbacks, plugin registries, and decorators.\n",
    "- \n",
    "## Assigning Functions to Variables\n",
    "\n",
    "- A variable can reference the function object itself, **not** its return value.  \n",
    "- Any name that points to the function can be used to call it.  \n",
    "- This is handy for creating aliases or late‑binding a function into another module."
   ]
  },
  {
   "cell_type": "code",
   "execution_count": 2,
   "id": "d264d4b3-d203-43ab-a082-95c191c01a96",
   "metadata": {},
   "outputs": [
    {
     "name": "stdout",
     "output_type": "stream",
     "text": [
      "True\n",
      "Hello, Alice!\n"
     ]
    }
   ],
   "source": [
    "def greet(name):\n",
    "    print(f\"Hello, {name}!\")\n",
    "\n",
    "say_hello = greet\n",
    "print(say_hello is greet)\n",
    "say_hello(\"Alice\")"
   ]
  },
  {
   "cell_type": "markdown",
   "id": "d2ef8b58-2393-4730-96c2-fdce64117e4a",
   "metadata": {},
   "source": [
    "## Passing Functions as Arguments\n",
    "\n",
    "- Higher‑order functions accept other callables to customize behavior.  \n",
    "- Classic examples: `sorted(key=...)`, event callbacks, retry helpers.  \n",
    "- Lets you build flexible pipelines without hard‑coding every step."
   ]
  },
  {
   "cell_type": "code",
   "execution_count": 9,
   "id": "6566b5fd-692b-45ff-9506-46a0d686658b",
   "metadata": {},
   "outputs": [
    {
     "name": "stdout",
     "output_type": "stream",
     "text": [
      "Applying add to (1, 2)\n",
      "3\n",
      "Applying mul to (1, 2, 3, 4)\n",
      "24\n"
     ]
    }
   ],
   "source": [
    "def apply_operation(operation, *operands):\n",
    "    print(f\"Applying {operation.__name__} to {operands}\")\n",
    "    return operation(*operands)\n",
    "\n",
    "def add(*numbers):\n",
    "    return sum(numbers)\n",
    "\n",
    "def mul(*numbers):\n",
    "    result = 1\n",
    "\n",
    "    for n in numbers:\n",
    "        result *= n\n",
    "\n",
    "    return result\n",
    "\n",
    "print(apply_operation(add, 1, 2))\n",
    "print(apply_operation(mul, 1, 2, 3, 4))"
   ]
  },
  {
   "cell_type": "markdown",
   "id": "3cae79e0-be1e-4fe6-8e9a-11cff0cc2089",
   "metadata": {},
   "source": [
    "## Returning Functions from Functions\n",
    "\n",
    "- A *factory* function can create and return a new, customized function.  \n",
    "- The returned function “remembers” variables from the factory’s scope: this is a **closure**.  \n",
    "- Great for building tailored validators, loggers, or API clients on the fly."
   ]
  },
  {
   "cell_type": "code",
   "execution_count": 12,
   "id": "5c07388b-f91a-4036-8dbf-4d90af790af1",
   "metadata": {},
   "outputs": [
    {
     "name": "stdout",
     "output_type": "stream",
     "text": [
      "Hitting endpoint /users with method GET and auth token alice-token\n",
      "Hitting endpoint /health with method GET and auth token bob-token\n"
     ]
    }
   ],
   "source": [
    "def create_api_client(auth_token):\n",
    "    def api_client(endpoint, method):\n",
    "        return f\"Hitting endpoint {endpoint} with method {method} and auth token {auth_token}\"\n",
    "\n",
    "    return api_client\n",
    "\n",
    "alice_api_client = create_api_client(\"alice-token\")\n",
    "bob_api_client = create_api_client(\"bob-token\")\n",
    "\n",
    "print(alice_api_client(\"/users\", \"GET\"))\n",
    "print(bob_api_client(\"/health\", \"GET\"))"
   ]
  },
  {
   "cell_type": "markdown",
   "id": "0b2c6aab-0ad2-4f39-991c-5dd88ee67b5f",
   "metadata": {},
   "source": [
    "## Storing Functions in Data Structures\n",
    "\n",
    "- Functions can live inside lists, dicts, sets, and other containers.  \n",
    "- Enables command dispatch tables, plugin registries, and processing pipelines."
   ]
  },
  {
   "cell_type": "code",
   "execution_count": 16,
   "id": "a4bf423f-8536-4034-9df6-599dd7062dbb",
   "metadata": {},
   "outputs": [
    {
     "name": "stdout",
     "output_type": "stream",
     "text": [
      "Running task B\n",
      "Running task A\n",
      "Running task C\n",
      "Running task B\n"
     ]
    }
   ],
   "source": [
    "def task_A():\n",
    "    print(\"Running task A\")\n",
    "\n",
    "def task_B():\n",
    "    print(\"Running task B\")\n",
    "\n",
    "def task_C():\n",
    "    print(\"Running task C\")\n",
    "\n",
    "pipeline = [task_B, task_A, task_C]\n",
    "\n",
    "for task in pipeline:\n",
    "    task()\n",
    "\n",
    "command_registry = {\n",
    "    \"start\": task_A,\n",
    "    \"process\": task_B,\n",
    "    \"stop\": task_C\n",
    "}\n",
    "command_registry[\"process\"]()"
   ]
  },
  {
   "cell_type": "markdown",
   "id": "2e5b2a0e-bb22-42cf-b41a-567859fa9136",
   "metadata": {},
   "source": [
    "## Why First‑Class Functions Matter for Decorators\n",
    "\n",
    "- **Decorators** are simply functions that *take another function*, wrap it, and return a new function.  \n",
    "- That entire mechanism only works because Python lets us treat functions as data.  \n",
    "- With this groundwork, we’re ready to explore decorator syntax (`@decorator`) next."
   ]
  },
  {
   "cell_type": "code",
   "execution_count": null,
   "id": "5dabe420-ca8a-43c9-acac-8b1d533e231e",
   "metadata": {},
   "outputs": [],
   "source": []
  }
 ],
 "metadata": {
  "kernelspec": {
   "display_name": "Python 3 (ipykernel)",
   "language": "python",
   "name": "python3"
  },
  "language_info": {
   "codemirror_mode": {
    "name": "ipython",
    "version": 3
   },
   "file_extension": ".py",
   "mimetype": "text/x-python",
   "name": "python",
   "nbconvert_exporter": "python",
   "pygments_lexer": "ipython3",
   "version": "3.13.3"
  }
 },
 "nbformat": 4,
 "nbformat_minor": 5
}
