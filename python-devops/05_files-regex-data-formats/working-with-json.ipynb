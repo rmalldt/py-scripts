{
 "cells": [
  {
   "cell_type": "markdown",
   "id": "56238708-d927-46f5-8545-d6e11a21d6ac",
   "metadata": {},
   "source": [
    "# Working with JSON files\n",
    "- JSON is the standard format for data exchange in web services and cloud APIs.\n",
    "- Python’s built-in `json` module provides functions to convert between JSON text and Python objects.\n",
    "- Key operations: parsing JSON from strings/files and serializing Python objects to JSON strings/files.\n",
    "\n",
    "## JSON Syntax and Python Mapping\n",
    "- JSON objects (`{}`) map to Python `dict`.\n",
    "- JSON arrays (`[]`) map to Python `list`.\n",
    "- JSON strings map to Python `str`, numbers to `int` or `float`.\n",
    "- `true`/`false` → `True`/`False`; `null` → `None`.\n",
    "- Keys in JSON objects must be double-quoted strings; no trailing commas.\n",
    "\n",
    "## Deserializing JSON\n",
    "- Use `json.loads()` to parse JSON **strings** into Python objects.\n",
    "- Raises `json.JSONDecodeError` on invalid JSON.\n",
    "- Common in DevOps for handling API response bodies."
   ]
  },
  {
   "cell_type": "code",
   "execution_count": 11,
   "id": "47e78505-6a4b-47c0-8a13-db36b5615ea3",
   "metadata": {},
   "outputs": [
    {
     "name": "stdout",
     "output_type": "stream",
     "text": [
      "Parsed data type: <class 'dict'>\n",
      "Instance ID: i-12345\n",
      "Tags: ['web', 'prod']\n"
     ]
    }
   ],
   "source": [
    "import json\n",
    "\n",
    "api_response_str = '{\"status\": \"active\", \"instance_id\": \"i-12345\", \"cores\": 4, \"tags\": [\"web\", \"prod\"]}'\n",
    "\n",
    "try:\n",
    "    data = json.loads(api_response_str)\n",
    "    print(f\"Parsed data type: {type(data)}\")\n",
    "    print(f\"Instance ID: {data.get(\"instance_id\", None)}\")\n",
    "    print(f\"Tags: {data.get(\"tags\", None)}\")\n",
    "except json.JSONDecodeError as e:\n",
    "    print(f\"Failed to parse JSON: {e}\")"
   ]
  },
  {
   "cell_type": "markdown",
   "id": "e7bb393f-9f72-482f-ac6b-c591d1d50fa1",
   "metadata": {},
   "source": [
    "## Parsing JSON Files\n",
    "- Use `json.load()` to read JSON from an open file object.\n",
    "- Always open files with `encoding='utf-8'` when dealing with JSON.\n",
    "- Wrap file operations in `with` to ensure proper closure."
   ]
  },
  {
   "cell_type": "code",
   "execution_count": 13,
   "id": "a773d052-6124-4cf5-a44f-370a06797e19",
   "metadata": {},
   "outputs": [
    {
     "name": "stdout",
     "output_type": "stream",
     "text": [
      "Service: database\n",
      "Enabled: True\n",
      "--------------------\n",
      "Service: cache\n",
      "Enabled: False\n",
      "--------------------\n",
      "Service: api\n",
      "Enabled: True\n",
      "--------------------\n"
     ]
    }
   ],
   "source": [
    "import json\n",
    "from pathlib import Path\n",
    "\n",
    "config_path = Path(\"service_config.json\")\n",
    "\n",
    "with config_path.open(\"r\", encoding=\"utf-8\") as file:\n",
    "    config_data = json.load(file)\n",
    "\n",
    "for config in config_data:\n",
    "    service_name = config.get(\"service\", None)\n",
    "\n",
    "    if service_name:\n",
    "        print(f\"Service: {service_name}\")\n",
    "        print(f\"Enabled: {config.get(\"enabled\", False)}\")\n",
    "        print('-' * 20)"
   ]
  },
  {
   "cell_type": "markdown",
   "id": "7becb90a-3e6d-4117-ae16-f8746c744e44",
   "metadata": {},
   "source": [
    "## Serializing Python objects to JSON Strings\n",
    "- Use `json.dumps()` to convert Python objects to JSON **strings**.\n",
    "- `indent` makes output human-readable; `sort_keys=True` orders keys alphabetically."
   ]
  },
  {
   "cell_type": "code",
   "execution_count": 15,
   "id": "dca0853e-c7fc-49c0-b210-b3faa09b7c3b",
   "metadata": {},
   "outputs": [
    {
     "name": "stdout",
     "output_type": "stream",
     "text": [
      "Simple JSON:\n",
      "{\"deployment\": \"frontend-v2\", \"replicas\": 3, \"ports\": [80, 443], \"health_check\": true, \"logs_enabled\": null}\n",
      "\n",
      "\n",
      "Pretty JSON:\n",
      "{\n",
      "  \"deployment\": \"frontend-v2\",\n",
      "  \"health_check\": true,\n",
      "  \"logs_enabled\": null,\n",
      "  \"ports\": [\n",
      "    80,\n",
      "    443\n",
      "  ],\n",
      "  \"replicas\": 3\n",
      "}\n"
     ]
    }
   ],
   "source": [
    "import json\n",
    "\n",
    "python_data = {\n",
    "    \"deployment\": \"frontend-v2\",\n",
    "    \"replicas\": 3,\n",
    "    \"ports\": [80, 443],\n",
    "    \"health_check\": True,\n",
    "    \"logs_enabled\": None\n",
    "}\n",
    "\n",
    "print(f\"Simple JSON:\\n{json.dumps(python_data)}\")\n",
    "print(\"\\n\")\n",
    "print(f\"Pretty JSON:\\n{json.dumps(python_data, indent=2, sort_keys=True)}\")"
   ]
  },
  {
   "cell_type": "markdown",
   "id": "5df4f188-3b91-44b9-892a-a6230a9ad22f",
   "metadata": {},
   "source": [
    "## Serializing Python objects to JSON Files\n",
    "- Use `json.dump()` to write Python objects directly to files.\n",
    "- Pass the file handle and optional `indent` for formatting."
   ]
  },
  {
   "cell_type": "code",
   "execution_count": 17,
   "id": "aab0eccc-81ba-4087-af69-7da00f95519c",
   "metadata": {},
   "outputs": [],
   "source": [
    "import json\n",
    "from pathlib import Path\n",
    "\n",
    "output = {\n",
    "    \"status\": \"complete\",\n",
    "    \"items_processed\": 1492,\n",
    "    \"errors\": []\n",
    "}\n",
    "output_path = Path(\"run_summary.json\")\n",
    "\n",
    "with output_path.open(\"w\", encoding=\"utf-8\") as file:\n",
    "    json.dump(output, file, indent=2)"
   ]
  },
  {
   "cell_type": "code",
   "execution_count": null,
   "id": "12b59ac1-b1ef-4d0d-b47e-a2b94f38ecc5",
   "metadata": {},
   "outputs": [],
   "source": []
  }
 ],
 "metadata": {
  "kernelspec": {
   "display_name": "Python 3 (ipykernel)",
   "language": "python",
   "name": "python3"
  },
  "language_info": {
   "codemirror_mode": {
    "name": "ipython",
    "version": 3
   },
   "file_extension": ".py",
   "mimetype": "text/x-python",
   "name": "python",
   "nbconvert_exporter": "python",
   "pygments_lexer": "ipython3",
   "version": "3.13.3"
  }
 },
 "nbformat": 4,
 "nbformat_minor": 5
}
