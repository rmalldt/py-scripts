{
 "cells": [
  {
   "cell_type": "markdown",
   "id": "56238708-d927-46f5-8545-d6e11a21d6ac",
   "metadata": {},
   "source": [
    "# Read/Write Text Files\n",
    "- Use `open()` to read/write text files with proper modes and encoding.  \n",
    "- Specify `encoding='utf-8'` for portability.  \n",
    "- Leverage `with` to ensure files close automatically.  \n",
    "- Read via iteration, `.read()`, `.readline()`, `.readlines()`.  \n",
    "- Write via `.write()` or `.writelines()`, managing newlines manually.\n",
    "\n",
    "\n",
    "| Method | Description |\n",
    "|--------|-------------|\n",
    "| read | Read from the underlying buffer (containing all the characters of the file) until we hit EOF and return string. |\n",
    "| readline | Read until newline or EOF (first line as single string). |\n",
    "| readlines | Returns a list of lines. |\n",
    "| write | Write the given bytes to the underlying stream and return number of bytes written. Line separators are not added, so specify separators, newline as needed. Cannot write numerical values, convert numbers to strings before writing. |\n",
    "| writelines | Write a list of lines to the stream. Line separators are not added, so specify separators, newline as needed. |\n"
   ]
  },
  {
   "cell_type": "code",
   "execution_count": 5,
   "id": "47e78505-6a4b-47c0-8a13-db36b5615ea3",
   "metadata": {},
   "outputs": [
    {
     "name": "stdout",
     "output_type": "stream",
     "text": [
      "Contents of file:\n",
      "Setting=Value\n",
      "Other=Another\n",
      "100\n"
     ]
    }
   ],
   "source": [
    "try:\n",
    "    with open(\"files/config.txt\", \"w\", encoding=\"utf-8\") as file:\n",
    "        file.write(\"Setting=Value\\n\") # add newline explicitly\n",
    "        file.write(\"Other=Another\\n\") # add newline explicitly\n",
    "        file.write(str(100))\n",
    "\n",
    "    with open(\"files/config.txt\", \"r\", encoding=\"utf-8\") as file:\n",
    "        content = file.read()\n",
    "        print(f\"Contents of file:\")\n",
    "        print(content)\n",
    "except OSError as e:\n",
    "    print(f\"File error: {e}\")"
   ]
  },
  {
   "cell_type": "markdown",
   "id": "e7bb393f-9f72-482f-ac6b-c591d1d50fa1",
   "metadata": {},
   "source": [
    "## File Modes\n",
    "- `'r'`: read text (default), error if file missing.  \n",
    "- `'w'`: write text, create or truncate.  \n",
    "- `'a'`: append text, create if missing.  \n",
    "- `'x'`: exclusive create, error if exists (good to prevent overwrites). Will raise `FileExistsError` if the file already exists.\n",
    "- `'b'`: binary mode variant (e.g. `'rb'`, `'wb'`).  \n",
    "- `'+'`: update mode, allows read/write (e.g. `'r+'`, `'w+'`).\n",
    "\n",
    "### Understanding `+`\n",
    "\n",
    "| Mode | Reads? | Writes? | Creates if missing? | Truncates on open? |\n",
    "|------|--------|---------|---------------------|--------------------|\n",
    "| r    | ✅      | ❌       | ❌                   | ❌                 |\n",
    "| r+   | ✅      | ✅       | ❌                   | ❌                 |\n",
    "| w    | ❌      | ✅       | ✅                   | ✅                 |\n",
    "| w+   | ✅      | ✅       | ✅                   | ✅                 |\n",
    "| a    | ❌      | ✅       | ✅                   | ❌                 |\n",
    "| a+   | ✅      | ✅       | ✅                   | ❌                 |"
   ]
  },
  {
   "cell_type": "code",
   "execution_count": 13,
   "id": "a773d052-6124-4cf5-a44f-370a06797e19",
   "metadata": {},
   "outputs": [
    {
     "name": "stdout",
     "output_type": "stream",
     "text": [
      "[Errno 17] File exists: 'files/mode_demo.txt'\n"
     ]
    }
   ],
   "source": [
    "from pathlib import Path\n",
    "\n",
    "path = Path(\"./files/mode_demo.txt\")\n",
    "\n",
    "with path.open(mode=\"w\", encoding=\"utf-8\") as file:\n",
    "    file.write(\"Initial line\\n\")\n",
    "\n",
    "with path.open(mode=\"a\", encoding=\"utf-8\") as file:\n",
    "    file.write(\"Appended line\\n\")\n",
    "\n",
    "try:\n",
    "    with path.open(mode=\"x\", encoding=\"utf-8\") as file:\n",
    "        file.write(\"This will fail if file exists\\n\")\n",
    "except FileExistsError as e:\n",
    "    print(e)"
   ]
  },
  {
   "cell_type": "markdown",
   "id": "7becb90a-3e6d-4117-ae16-f8746c744e44",
   "metadata": {},
   "source": [
    "## Reading Text Files\n",
    "- **Iteration:** `for line in f:`  \n",
    "  - **When to use:** Ideal for processing large files **line by line** without loading the entire file into memory; lazy and very memory-efficient.\n",
    "\n",
    "- **`f.read(size = -1)`**  \n",
    "  - `size` can be used to specify the maximum number of characters to read; if negative or omitted, reads **the entire file**.  \n",
    "  - **When to use:** When you need to grab a **chunk** of text (e.g. next 1024 chars). Good for bulk reads; but beware of high memory usage if you read the whole file at once.\n",
    "\n",
    "- **`f.readline(size = -1)`**  \n",
    "  - `size` can be used to specify the maximum number of characters to read from the line; if negative or omitted, reads **the full line** up to and including the newline.  \n",
    "  - **When to use:** When you want **one line** at a time but need to guard against overly long lines. Returns an empty string when you reach EOF.\n",
    "\n",
    "- **`f.readlines(hint = -1)`**  \n",
    "  - `hint` can be used to define the approximate total number of bytes to read; if negative or omitted, reads **all lines**.  \n",
    "  - **When to use:** When the file is small or moderate in size and you want a **list** of all lines for easy indexing or list comprehensions. Not recommended for very large files (may exhaust memory)."
   ]
  },
  {
   "cell_type": "code",
   "execution_count": 24,
   "id": "dca0853e-c7fc-49c0-b210-b3faa09b7c3b",
   "metadata": {},
   "outputs": [
    {
     "name": "stdout",
     "output_type": "stream",
     "text": [
      "Iteration for reading:\n",
      "\t-> First\n",
      "\t-> Second\n",
      "\t-> Third\n",
      "read() for reading:\n",
      "First\n",
      "Second\n",
      "Third\n",
      "\n",
      "readline() for reading:\n",
      "First\n",
      "\n",
      "readlines() for reading:\n",
      "['First\\n', 'Second\\n', 'Third\\n']\n"
     ]
    }
   ],
   "source": [
    "from pathlib import Path\n",
    "\n",
    "sample = Path(\"files/read_demo.txt\")\n",
    "sample.write_text(\"First\\nSecond\\nThird\\n\", encoding=\"utf-8\")\n",
    "\n",
    "print(\"Iteration for reading:\")\n",
    "with sample.open(mode=\"r\", encoding=\"utf-8\") as file:\n",
    "    for line in file:\n",
    "        # There is linebreak from newline char in each line in the original file\n",
    "        # and additionally, print() addds newline by default. So, use strip() to \n",
    "        # remove the newline char from the original text.\n",
    "        print(f\"\\t-> {line.strip()}\") \n",
    "\n",
    "        # Alternatively, set `end` char of `print`\n",
    "        #print(f\"\\t-> {line}\", end=\"\")\n",
    "\n",
    "print(\"read() for reading:\")\n",
    "with sample.open(mode=\"r\", encoding=\"utf-8\") as file:\n",
    "    print(file.read()) \n",
    "\n",
    "print(\"readline() for reading:\")\n",
    "with sample.open(mode=\"r\", encoding=\"utf-8\") as file:\n",
    "    print(file.readline())\n",
    "\n",
    "print(\"readlines() for reading:\")\n",
    "with sample.open(mode=\"r\", encoding=\"utf-8\") as file:\n",
    "    print(file.readlines())"
   ]
  },
  {
   "cell_type": "markdown",
   "id": "5df4f188-3b91-44b9-892a-a6230a9ad22f",
   "metadata": {},
   "source": [
    "## Writing Text Files\n",
    "- **`f.write(s)`**  \n",
    "  - `s` is the string to write; **does not** add a newline automatically.  \n",
    "  - **When to use:** When writing **single strings** or building content piece by piece. Returns the number of characters written, so you can verify success.\n",
    "\n",
    "- **`f.writelines(lines: Iterable[str]) -> None`**  \n",
    "  - `lines` can be any iterable of strings; **does not** add newlines for you.\n",
    "  - **When to use:** When you need to write a **batch** of strings at once (for example, a list of CSV rows). It's more efficient than multiple calls to `.write()`, but you must include `\\n` at the end of each string if you want line breaks."
   ]
  },
  {
   "cell_type": "code",
   "execution_count": 29,
   "id": "aab0eccc-81ba-4087-af69-7da00f95519c",
   "metadata": {},
   "outputs": [],
   "source": [
    "from pathlib import Path\n",
    "\n",
    "write_demo = Path(\"files/write_demo.txt\")\n",
    "\n",
    "with write_demo.open(mode=\"w\", encoding=\"utf-8\") as file:\n",
    "    file.write(\"Line A\\n\") # add newline explicitly\n",
    "    file.write(\"Line B\\n\") # add newline explicitly\n",
    "\n",
    "lines_to_write = [\n",
    "    \"user,ip,role\",\n",
    "    \"alice,10.0.0.0,admin\",\n",
    "    \"bob,10.0.0.1,dev\",\n",
    "    \"charlie,10.0.02,audit\"\n",
    "]\n",
    "with write_demo.open(mode=\"w\", encoding=\"utf-8\") as file:\n",
    "    file.writelines(f\"{line}\\n\" for line in lines_to_write) # add newline explictly"
   ]
  },
  {
   "cell_type": "code",
   "execution_count": null,
   "id": "12e1d125",
   "metadata": {},
   "outputs": [],
   "source": []
  }
 ],
 "metadata": {
  "kernelspec": {
   "display_name": ".venv (3.12.9)",
   "language": "python",
   "name": "python3"
  },
  "language_info": {
   "codemirror_mode": {
    "name": "ipython",
    "version": 3
   },
   "file_extension": ".py",
   "mimetype": "text/x-python",
   "name": "python",
   "nbconvert_exporter": "python",
   "pygments_lexer": "ipython3",
   "version": "3.12.9"
  }
 },
 "nbformat": 4,
 "nbformat_minor": 5
}
