{
 "cells": [
  {
   "cell_type": "markdown",
   "id": "56238708-d927-46f5-8545-d6e11a21d6ac",
   "metadata": {},
   "source": [
    "# Regex Essentials: Overview\n",
    "- Regular expressions (regex) are a language for defining text search patterns.  \n",
    "- Python’s `re` module provides functions like `search` (find anywhere) and `match` (anchored at start).  \n",
    "- Patterns include literals, metacharacters (`. ^ $ * + ? [] \\`), character classes (`\\d`, `\\w`, `\\s`), and quantifiers (`*`, `+`, `?`, `{n,m}`).  \n",
    "- Greedy quantifiers (`*`, `+`) match as much as possible; non-greedy (`*?`, `+?`) as little as possible.\n",
    "\n",
    "| Character | Matches | Example | Example matches |\n",
    "|-----------|-------------|---------|-------------|\n",
    "| ^ | Start of the string | ^hello | line starting with hello |\n",
    "| $ | End of the string | ^hello$ | line ending with hello |\n",
    "| . | Any single character  | hel.o | hello, heloo |  \n",
    "| * | Preceding character 0 or more times | hel*o <br>- 'h', 'e' must be present <br>- followed by zero or more 'l' <br> -'o' must be present | helo, hello, helllo | \n",
    "| ? | Preceding character 0 or one time | hel?o <br>- 'h', 'e' must be present <br>- followed by zero or one 'l' <br>- 'o' must be present | helo, hello |\n",
    "| + | Preceding character 1 or more times | hel+o <br>- 'h', 'e' must be present <br>- followed by one or more 'l' <br>- 'o' must be present | hello, helllo, hellllo |\n",
    "| [] | Any one of the characters enclosed in [] | he[lo] | hel, heo |\n",
    "| [-] | Any character within the range | file[1-3] | file1, file2, file3 |\n",
    "| [^] | Any characters except those enclosed in [] | file[^123] | file4, file5 |\n",
    "| {n} | Preceding characher must match exactly n times | he.{2}o <br>- . before {} means any char | hello, hekko, heppo |\n",
    "| {n,} | Preceding characher must match at least n times | he.{2,}o <br>- . before {} means any char | hello, hekkkko, hepppppo |\n",
    "| {n,m} | Preceding characher must match at least n times and at most m times | he.{2,3}o <br>- . before {} means any char | hello, hekkko, hepppo |\n",
    "| \\ | Escape character - escape any metacharacter | hell\\\\.o <br> . is a special character. \\\\. ignores the meaning of . | hell.o |\n",
    "\n",
    "\n",
    "\n",
    "\n",
    "## Introduction to `re.search()` vs `re.match()`\n",
    "- `re.search(pattern, text)` scans the **entire string** for the **first occurrence**.  \n",
    "- `re.match(pattern, text)` checks only at the **beginning of the string**.\n",
    "- `re.findall()` and `re.finditer()` let you retrieve **every occurrence of a pattern**.   \n",
    "- Always use **raw strings** (`r\"...\"`) to define regex patterns, avoiding Python string escapes interfering with regex."
   ]
  },
  {
   "cell_type": "code",
   "execution_count": null,
   "id": "47e78505-6a4b-47c0-8a13-db36b5615ea3",
   "metadata": {},
   "outputs": [
    {
     "name": "stdout",
     "output_type": "stream",
     "text": [
      "search 'Disk': True\n",
      "match 'Disk': False\n"
     ]
    }
   ],
   "source": [
    "import re\n",
    "\n",
    "line = \"WARN: Disk usage at 91%\"\n",
    "pattern = r\"Disk\"\n",
    "\n",
    "print(f\"search '{pattern}':\", bool(re.search(pattern, line))) # checks the entire string\n",
    "print(f\"match '{pattern}':\", bool(re.match(pattern, line)))   # checks only at the begining of string"
   ]
  },
  {
   "cell_type": "markdown",
   "id": "e7bb393f-9f72-482f-ac6b-c591d1d50fa1",
   "metadata": {},
   "source": [
    "## Common Metacharacters\n",
    "- `.` matches any character (except newline).  \n",
    "- `^` anchors at start of string.  \n",
    "- `$` anchors at end of string.  \n",
    "- `[]` defines a set or range of characters, e.g. `[A-Z]`.  \n",
    "- `\\` escapes metacharacters or introduces special sequences."
   ]
  },
  {
   "cell_type": "code",
   "execution_count": 2,
   "id": "a773d052-6124-4cf5-a44f-370a06797e19",
   "metadata": {},
   "outputs": [
    {
     "name": "stdout",
     "output_type": "stream",
     "text": [
      "Starts with 'Error': ['Error']\n",
      "Starts with 'E1234' : []\n",
      "End with cxge: ['cxge']\n",
      "Dot matches any character: ['code', 'cxge']\n",
      "Dot matches any character: ['cod']\n",
      "Zero or more times: ['Error']\n",
      "Zero or one time: []\n",
      "One or more time: ['Error']\n",
      "Character set: ['E', 'E1234']\n",
      "Matches 'r' at least 2 times: ['rr']\n",
      "Matches 'r' at least 1 and at most 2 times: ['rr', 'r']\n"
     ]
    }
   ],
   "source": [
    "import re\n",
    "\n",
    "test = \"Error code: E1234. cxge\"\n",
    "\n",
    "# Start and end\n",
    "print(f\"Starts with 'Error': {re.findall(r\"^Error\", test)}\")\n",
    "print(f\"Starts with 'E1234' : {re.findall(r\"^E1234\", test)}\")\n",
    "print(f\"End with cxge: {re.findall(r\"cxge$\", test)}\")\n",
    "\n",
    "# Any character\n",
    "print(f\"Dot matches any character: {re.findall(r\"c..e\", test)}\")\n",
    "print(f\"Dot matches any character: {re.findall(r\"c.d\", test)}\")\n",
    "\n",
    "# Zero or more times\n",
    "print(f\"Zero or more times: {re.findall(r\"Er*or\", test)}\")\n",
    "print(f\"Zero or one time: {re.findall(r\"Er?or\", test)}\")\n",
    "print(f\"One or more time: {re.findall(r\"Er+or\", test)}\")\n",
    "\n",
    "# Character set\n",
    "print(f\"Character set: {re.findall(r\"[E0-9]+\", test)}\")\n",
    "\n",
    "# Matches n times\n",
    "print(f\"Matches 'r' at least 2 times: {re.findall(r\"r{2}\", test)}\")\n",
    "print(f\"Matches 'r' at least 1 and at most 2 times: {re.findall(r\"r{1,2}\", test)}\")\n"
   ]
  },
  {
   "cell_type": "markdown",
   "id": "7becb90a-3e6d-4117-ae16-f8746c744e44",
   "metadata": {},
   "source": [
    "## Special Sequences\n",
    "- `\\d` digit (0–9), `\\D` non-digit.  \n",
    "- `\\w` word character (letters, digits, underscore), `\\W` non-word (whitespace and punctuation such as `-`, `!`, `;` etc.)   \n",
    "- `\\s` whitespace, `\\S` non-whitespace.  \n",
    "- `\\b` word boundary (zero-width match). Useful for matching whole words and avoid substrig matches e.g., prefix, sufix etc."
   ]
  },
  {
   "cell_type": "code",
   "execution_count": null,
   "id": "dca0853e-c7fc-49c0-b210-b3faa09b7c3b",
   "metadata": {},
   "outputs": [
    {
     "name": "stdout",
     "output_type": "stream",
     "text": [
      "Digits: ['1024', '08']\n",
      "Word characters: ['T', 'h', 'e', 'c', 'a', 't', 's', 'c', 'a', 't', 't', 'e', 'r', 'e', 'd', '1', '0', '2', '4', 'c', 'a', 't', 'a', 'l', 'o', 'g', 'u', 'e', 's', 'i', 'n', 'R', 'o', 'o', 'm', '0', '8']\n",
      "Word characters: ['The', 'cat', 'scattered', '1024', 'catalogues', 'in', 'Room', '08']\n",
      "Whitespace: [' ', ' ', ' ', ' ', ' ', ' ']\n",
      "Word boundary: ['cat', 'cat', 'cat']\n"
     ]
    }
   ],
   "source": [
    "import re\n",
    "\n",
    "text = \"The cat scattered 1024 catalogues in Room-08.\"\n",
    "\n",
    "# Match digits\n",
    "print(f\"Digits: {re.findall(r\"\\d+\", text)}\")                # '+' means one or more \n",
    "\n",
    "# Match words\n",
    "print(f\"Word characters: {re.findall(r\"\\w\", text)}\")  # matches each letter or digit one at a time, not whitespace and punctuation\n",
    "print(f\"Word characters: {re.findall(r\"\\w+\", text)}\") # matches sequence of chars since '+' matches one or more chars\n",
    "\n",
    "# Match spaces\n",
    "print(f\"Whitespace: {re.findall(r\"\\s+\", text)}\")\n",
    "print(f\"Word boundary: {re.findall(r\"\\bcat\\b\", text)}\") # matches whole single word"
   ]
  },
  {
   "cell_type": "markdown",
   "id": "9417217d-fe02-43ab-a824-faba312e69db",
   "metadata": {},
   "source": [
    "## Quantifiers\n",
    "\n",
    "| Quantifier | Matches                                 | Greedy? | Non-greedy form  | Matches                                 |\n",
    "|------------|-----------------------------------------|---------|------------------|------------------------------------------|\n",
    "| `?`        | 0 or 1 of the preceding token           | Yes     | `??`             | as few as possible (0 or 1)              |\n",
    "| `*`        | 0 or more of the preceding token        | Yes     | `*?`             | as few as possible (including zero)      |\n",
    "| `+`        | 1 or more of the preceding token        | Yes     | `+?`             | as few as possible (at least one)        |\n",
    "| `{n}`      | exactly n of the preceding token        | -       | -                | -                                        |\n",
    "| `{n,}`     | n or more of the preceding token        | Yes     | `{n,}?`          | n or more, but as few as possible        |\n",
    "| `{n,m}`    | between n and m of the preceding token  | Yes     | `{n,m}?`         | between n and m, but as few as possible  |"
   ]
  },
  {
   "cell_type": "code",
   "execution_count": 61,
   "id": "e440f11c-bb93-485f-b05c-896dbc25fc85",
   "metadata": {},
   "outputs": [
    {
     "name": "stdout",
     "output_type": "stream",
     "text": [
      "['a', 'a', 'a', 'a', '']\n",
      "['aaaa', '']\n",
      "['aaaa']\n",
      "['aa', 'aa']\n",
      "['aaa', 'a']\n",
      "Non-greedy a*: ['', 'a', '', 'a', '', 'a', '', 'a', '']\n",
      "Non-greedy a+: ['a', 'a', 'a', 'a']\n",
      "Non-greedy a{1,3}?: ['a', 'a', 'a', 'a']\n"
     ]
    }
   ],
   "source": [
    "import re\n",
    "\n",
    "text = \"aaaa\"\n",
    "\n",
    "print(re.findall(r\"a?\", text))\n",
    "print(re.findall(r\"a*\", text))\n",
    "print(re.findall(r\"a+\", text))\n",
    "print(re.findall(r\"a{2}\", text))\n",
    "print(re.findall(r\"a{1,3}\", text))\n",
    "\n",
    "print(f\"Non-greedy a*: {re.findall(r\"a*?\", text)}\")\n",
    "print(f\"Non-greedy a+: {re.findall(r\"a+?\", text)}\")\n",
    "print(f\"Non-greedy a{{1,3}}?: {re.findall(r\"a{1,3}?\", text)}\")"
   ]
  },
  {
   "cell_type": "markdown",
   "id": "5df4f188-3b91-44b9-892a-a6230a9ad22f",
   "metadata": {},
   "source": [
    "## Quantifiers & Greedy vs Non-Greedy\n",
    "- `*` / `+` / `{n,}` are greedy: match as much as possible.  \n",
    "- Append `?` (`*?` / `+?` / `{n,}?`) to make them non-greedy: match as little as possible.  \n",
    "- Greedy quantifiers match the longest possible string that satisfies the pattern. Adding a `?` after them makes them non-greedy (or lazy), matching the shortest possible string."
   ]
  },
  {
   "cell_type": "code",
   "execution_count": 68,
   "id": "12b59ac1-b1ef-4d0d-b47e-a2b94f38ecc5",
   "metadata": {},
   "outputs": [
    {
     "name": "stdout",
     "output_type": "stream",
     "text": [
      "Greedy: ['<p>One</p><p>Two</p><></>']\n",
      "Non-greedy: ['<p>', '</p>', '<p>', '</p>', '<>', '</>']\n"
     ]
    }
   ],
   "source": [
    "import re\n",
    "\n",
    "html = \"<p>One</p><p>Two</p><></>\"\n",
    "\n",
    "print(f\"Greedy: {re.findall(r\"<.*>\", html)}\")\n",
    "print(f\"Non-greedy: {re.findall(r\"<.*?>\", html)}\")"
   ]
  },
  {
   "cell_type": "code",
   "execution_count": null,
   "id": "441b2068-a6c3-49c2-904f-3e7bfc982a0f",
   "metadata": {},
   "outputs": [],
   "source": []
  }
 ],
 "metadata": {
  "kernelspec": {
   "display_name": ".venv (3.12.9)",
   "language": "python",
   "name": "python3"
  },
  "language_info": {
   "codemirror_mode": {
    "name": "ipython",
    "version": 3
   },
   "file_extension": ".py",
   "mimetype": "text/x-python",
   "name": "python",
   "nbconvert_exporter": "python",
   "pygments_lexer": "ipython3",
   "version": "3.12.9"
  }
 },
 "nbformat": 4,
 "nbformat_minor": 5
}
