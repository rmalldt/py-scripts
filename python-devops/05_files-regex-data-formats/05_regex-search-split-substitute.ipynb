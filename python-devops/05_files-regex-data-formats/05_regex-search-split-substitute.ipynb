{
 "cells": [
  {
   "cell_type": "markdown",
   "id": "56238708-d927-46f5-8545-d6e11a21d6ac",
   "metadata": {},
   "source": [
    "# Search, Split, and Substitute \n",
    "- `re.findall()` and `re.finditer()` let you retrieve every occurrence of a pattern.  \n",
    "- `re.split()` handles complex delimiters beyond simple string splits.  \n",
    "- `re.sub()` performs powerful search-and-replace operations, including reuse of captured groups.  \n",
    "\n",
    "## Finding All Matches\n",
    "- `re.findall(pattern, string)` returns a list of all **non-overlapping** matches:  \n",
    "  - No groups → list of matched substrings.  \n",
    "  - With groups → list of tuples of captured substrings.  \n",
    "- `re.finditer(pattern, string)` returns an iterator of match objects, giving access to `.group()`, positions, named groups, etc., and is more memory-efficient for large inputs.  "
   ]
  },
  {
   "cell_type": "code",
   "execution_count": null,
   "id": "47e78505-6a4b-47c0-8a13-db36b5615ea3",
   "metadata": {},
   "outputs": [
    {
     "name": "stdout",
     "output_type": "stream",
     "text": [
      "Numbers found: ['404', '500', '403', '500', '123', '99']\n",
      "Key-value pairs: [('timeout', '60'), ('retries', '3'), ('workers', '5')]\n",
      "Whole match: timeout=60; key: timeout; value: 60 - at 0-10\n",
      "Whole match: retries=3; key: retries; value: 3 - at 11-20\n",
      "Whole match: workers=5; key: workers; value: 5 - at 21-30\n",
      "hello\\njello\n"
     ]
    }
   ],
   "source": [
    "import re\n",
    "\n",
    "text = \"Errors found: 404, 500, 403, 500. User IDs: user123, admin99.\"\n",
    "config = \"timeout=60 retries=3 workers=5\"\n",
    "\n",
    "# Find all error codes:\n",
    "print(f\"Numbers found: {re.findall(r\"\\d+\", text)}\")\n",
    "\n",
    "# findall with groups:\n",
    "print(f\"Key-value pairs: {re.findall(r\"(\\w+)=(\\w+)\", config)}\")\n",
    "\n",
    "# finditer\n",
    "for match in re.finditer(r\"(\\w+)=(\\w+)\", config):\n",
    "    print(f\"Whole match: {match.group(0)}; key: {match.group(1)}; value: {match.group(2)} - at {match.start()}-{match.end()}\")\n"
   ]
  },
  {
   "cell_type": "markdown",
   "id": "e7bb393f-9f72-482f-ac6b-c591d1d50fa1",
   "metadata": {},
   "source": [
    "# Splitting Strings\n",
    "- Use `re.split(pattern, string)` to break a string on a **regex pattern**, not just a fixed substring.  \n",
    "- Always use a raw string literal so backslashes reach the regex engine.  \n",
    "- **Simple single-character delimiters:** use a character class (never captured), e.g. `r\"\\s*[,;]\\s*\"`.  \n",
    "- **Complex delimiters** (alternation or multi-character): group with non-capturing parentheses, e.g. `r\"\\s*(?:foo|bar|baz)\\s*\"`, so they aren’t included in the result list.  \n",
    "- **Including delimiters:** wrap your delimiter in a capturing group, e.g. `r\"\\s*([,;])\\s*\"`, to have the separators appear in the split output.  \n",
    "- **Summary:**  \n",
    "  - No parentheses or a non-capturing group → delimiters are **removed**.  \n",
    "  - Capturing group → delimiters **appear** in the split list.  "
   ]
  },
  {
   "cell_type": "code",
   "execution_count": 36,
   "id": "a773d052-6124-4cf5-a44f-370a06797e19",
   "metadata": {},
   "outputs": [
    {
     "name": "stdout",
     "output_type": "stream",
     "text": [
      "Character class split: ['item1', 'item2', 'item3', 'item4', 'item5']\n",
      "Capturing group split: ['item1', ',', 'item2', ';', 'item3', ',', 'item4', ';', 'item5']\n",
      "HTML non-capturing split: ['\\n', 'First paragraph.', '\\n', 'Second paragraph.', '\\nEnd.\\n']\n"
     ]
    }
   ],
   "source": [
    "import re\n",
    "\n",
    "data = \"item1 , item2; item3 ,item4 ;item5\"\n",
    "\n",
    "# 1. Split on comma and semi-colon\n",
    "pattern1 = r\"\\s*[,;]\\s*\"\n",
    "print(f\"Character class split: {re.split(pattern1, data)}\")\n",
    "\n",
    "# 2. Capturing the delimiter\n",
    "pattern2 = r\"\\s*([,;])\\s*\"\n",
    "print(f\"Capturing group split: {re.split(pattern2, data)}\")\n",
    "\n",
    "html = \"\"\"\n",
    "<p class='hello'>First paragraph.</p>\n",
    "<b class='world'>Second paragraph.</b>\n",
    "End.\n",
    "\"\"\"\n",
    "\n",
    "pattern3 = r\"<.*?class='(?:hello|world)'.*?>|</[pb]>\"\n",
    "print(f\"HTML non-capturing split: {re.split(pattern3, html)}\")"
   ]
  },
  {
   "cell_type": "markdown",
   "id": "7becb90a-3e6d-4117-ae16-f8746c744e44",
   "metadata": {},
   "source": [
    "## Substituting Text\n",
    "- `re.sub(pattern, replacement, string, count=0)` replaces all (or a limited number) of matches.  \n",
    "- `count` controls how many replacements to make (default 0 = all).  \n",
    "- Back-references (`\\1`, `\\g<name>`) let you reorder or reuse captured text in the replacement.  "
   ]
  },
  {
   "cell_type": "code",
   "execution_count": 92,
   "id": "12b59ac1-b1ef-4d0d-b47e-a2b94f38ecc5",
   "metadata": {},
   "outputs": [
    {
     "name": "stdout",
     "output_type": "stream",
     "text": [
      "Result of redacting: User IDs: [REDACTED_USER], [REDACTED_USER], [REDACTED_USER]. Contact admin789 for help.\n",
      "Result of redacting: User IDs: u[REDACTED_USER]23, u[REDACTED_USER]56, u[REDACTED_USER]89. Contact admin789 for help.\n",
      "Result of redacting: User IDs: u[REDACTED_USER]23, u[REDACTED_USER]56, user123457689. Contact admin789 for help.\n",
      "Result of date transformation: Start: 27/10/2023, End: 15/01/2024\n"
     ]
    }
   ],
   "source": [
    "import re\n",
    "\n",
    "text = \"User IDs: user123, user456, user123457689. Contact admin789 for help.\"\n",
    "\n",
    "# Basic substitution\n",
    "redacted = re.sub(r\"user\\d+\", \"[REDACTED_USER]\", text)\n",
    "print(f\"Result of redacting: {redacted}\")\n",
    "\n",
    "# Back-reference for reusing information\n",
    "redacted_partially = re.sub(r\"(u)ser\\d+(\\d{2})\", r\"\\1[REDACTED_USER]\\2\", text)\n",
    "print(f\"Result of redacting: {redacted_partially}\")\n",
    "\n",
    "# Limited count of substitutions\n",
    "redacted_only_two = re.sub(r\"(u)ser\\d+(\\d{2})\", r\"\\1[REDACTED_USER]\\2\", text, count=2)\n",
    "print(f\"Result of redacting: {redacted_only_two}\")\n",
    "\n",
    "# Named groups for substitution\n",
    "date_text = \"Start: 2023-10-27, End: 2024-01-15\"\n",
    "# Current format YYYY-MM-DD\n",
    "# Target format DD/MM/YYYY\n",
    "\n",
    "date_pattern_named = r\"(?P<year>\\d{4})-(?P<month>\\d{2})-(?P<day>\\d{2})\"\n",
    "replacement_format_named = r\"\\g<day>/\\g<month>/\\g<year>\"\n",
    "reformatted_date = re.sub(date_pattern_named, replacement_format_named, date_text)\n",
    "\n",
    "print(f\"Result of date transformation: {reformatted_date}\")"
   ]
  },
  {
   "cell_type": "code",
   "execution_count": null,
   "id": "7a83ede4-ab0e-4a6b-b287-f39da8684bbc",
   "metadata": {},
   "outputs": [],
   "source": []
  }
 ],
 "metadata": {
  "kernelspec": {
   "display_name": ".venv (3.12.9)",
   "language": "python",
   "name": "python3"
  },
  "language_info": {
   "codemirror_mode": {
    "name": "ipython",
    "version": 3
   },
   "file_extension": ".py",
   "mimetype": "text/x-python",
   "name": "python",
   "nbconvert_exporter": "python",
   "pygments_lexer": "ipython3",
   "version": "3.12.9"
  }
 },
 "nbformat": 4,
 "nbformat_minor": 5
}
