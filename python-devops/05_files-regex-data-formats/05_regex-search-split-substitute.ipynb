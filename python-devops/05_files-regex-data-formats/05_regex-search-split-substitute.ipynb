{
 "cells": [
  {
   "cell_type": "markdown",
   "id": "56238708-d927-46f5-8545-d6e11a21d6ac",
   "metadata": {},
   "source": [
    "# Search, Split, and Substitute \n",
    "- `re.findall()` and `re.finditer()` let you retrieve every occurrence of a pattern.  \n",
    "- `re.split()` handles complex delimiters beyond simple string splits.  \n",
    "- `re.sub()` performs powerful search-and-replace operations, including reuse of captured groups.  \n",
    "\n",
    "## Finding All Matches\n",
    "- `re.findall(pattern, string)` returns a list of all **non-overlapping** matches:  \n",
    "  - No groups → list of matched substrings.  \n",
    "  - With groups → list of **tuples** of captured substrings.  \n",
    "- `re.finditer(pattern, string)` returns an iterator of match objects, giving access to `.group()`, positions, named groups, etc., and is more memory-efficient for large inputs.  "
   ]
  },
  {
   "cell_type": "code",
   "execution_count": 2,
   "id": "47e78505-6a4b-47c0-8a13-db36b5615ea3",
   "metadata": {},
   "outputs": [
    {
     "name": "stdout",
     "output_type": "stream",
     "text": [
      "['404', '500', '403', '500', '123', '99']\n",
      "[('timeout', '60'), ('retries', '3'), ('workers', '5')]\n",
      "Whole match: timeout=60; key: timeout; value: 60 - at 0-10\n",
      "Whole match: retries=3; key: retries; value: 3 - at 11-20\n",
      "Whole match: workers=5; key: workers; value: 5 - at 21-30\n"
     ]
    }
   ],
   "source": [
    "import re\n",
    "\n",
    "text = \"Errors found: 404, 500, 403, 500. User IDs: user123, admin99.\"\n",
    "config = \"timeout=60 retries=3 workers=5\"\n",
    "\n",
    "print(re.findall(r\"\\d+\", text))           # findall() without groups return list of matched substring\n",
    "print(re.findall(r\"(\\w+)=(\\w+)\", config)) # findall() with groups return list of tuples of capture substring\n",
    "\n",
    "# finditer\n",
    "for match in re.finditer(r\"(\\w+)=(\\w+)\", config):\n",
    "    print(f\"Whole match: {match.group(0)}; key: {match.group(1)}; value: {match.group(2)} - at {match.start()}-{match.end()}\")\n"
   ]
  },
  {
   "cell_type": "markdown",
   "id": "e7bb393f-9f72-482f-ac6b-c591d1d50fa1",
   "metadata": {},
   "source": [
    "# Splitting Strings\n",
    "- Use `re.split(pattern, string)` to break a string on a **regex pattern**, not just a fixed substring.  \n",
    "- Always use a raw string literal so backslashes reach the regex engine.  \n",
    "- **Simple single-character delimiters:** use a character class (never captured), e.g. `r\"\\s*[,;]\\s*\"`.  \n",
    "- **Complex delimiters** (alternation or multi-character): group with non-capturing parentheses, e.g. `r\"\\s*(?:foo|bar|baz)\\s*\"`, so they aren’t included in the result list.  \n",
    "- **Including delimiters:** wrap your delimiter in a capturing group, e.g. `r\"\\s*([,;])\\s*\"`, to have the separators appear in the split output.  \n",
    "- **Summary:**  \n",
    "  - No parentheses or a non-capturing group → delimiters are **removed**.  \n",
    "  - Capturing group → delimiters **appear** in the split list.  "
   ]
  },
  {
   "cell_type": "code",
   "execution_count": 38,
   "id": "a773d052-6124-4cf5-a44f-370a06797e19",
   "metadata": {},
   "outputs": [
    {
     "name": "stdout",
     "output_type": "stream",
     "text": [
      "Normal split: ['item1 ', ' item2; item3 ', 'item4 ;item5']\n",
      "Character class split: ['item1', 'item2', 'item3', 'item4', 'item5']\n",
      "Capturing group split: ['item1', ',', 'item2', ';', 'item3', ',', 'item4', ';', 'item5']\n",
      "[\"\\n<p class='\", \"'>First paragraph.</p>\\n<b class='\", \"'>Second paragraph.</b>\\nEnd.\\n\"]\n",
      "[\"\\n<p class='\", 'hello', \"'>First paragraph.</p>\\n<b class='\", 'world', \"'>Second paragraph.</b>\\nEnd.\\n\"]\n",
      "[\"\\n<p class='\", \"'>First paragraph.</p>\\n<b class='\", \"'>Second paragraph.</b>\\nEnd.\\n\"]\n",
      "['\\n<p ', \"'>First paragraph.</p>\\n<b class='\", '>Second paragraph.</b>\\nEnd.\\n']\n",
      "['\\n<p ', 'hello', '>First paragraph.</p>\\n<b ', 'world', '>Second paragraph.</b>\\nEnd.\\n']\n",
      "['\\n<p ', '>First paragraph.</p>\\n<b ', '>Second paragraph.</b>\\nEnd.\\n']\n",
      "HTML non-capturing split: ['\\n', 'First paragraph.', '\\n', 'Second paragraph.', '\\nEnd.\\n']\n"
     ]
    }
   ],
   "source": [
    "import re\n",
    "\n",
    "data = \"item1 , item2; item3 ,item4 ;item5\"\n",
    "\n",
    "# Normal split\n",
    "print(f\"Normal split: {data.split(\",\")}\")\n",
    "\n",
    "# Regex split: %split on comma and semi-colon\n",
    "pattern1 = r\"\\s*[,;]\\s*\"\n",
    "print(f\"Character class split: {re.split(pattern1, data)}\")\n",
    "\n",
    "# Regex split: split and capture the delimiter\n",
    "pattern2 = r\"\\s*([,;])\\s*\"\n",
    "print(f\"Capturing group split: {re.split(pattern2, data)}\")\n",
    "\n",
    "# Regex split: split html\n",
    "html = \"\"\"\n",
    "<p class='hello'>First paragraph.</p>\n",
    "<b class='world'>Second paragraph.</b>\n",
    "End.\n",
    "\"\"\"\n",
    "\n",
    "# Step 1: split on 'hello' or 'world'\n",
    "pattern3 = r\"hello|world\"\n",
    "print(re.split(pattern3, html))\n",
    "\n",
    "# Step 2: split on 'hello' or 'world' capturing group\n",
    "pattern3 = r\"(hello|world)\"\n",
    "print(re.split(pattern3, html))\n",
    "\n",
    "# Step 3: split on 'hello' or 'world' non-capturing group (need to group but not capture)\n",
    "pattern3 = r\"(?:hello|world)\"\n",
    "print(re.split(pattern3, html))\n",
    "\n",
    "# Step 4: splitting on either \"class='hello\" or \"world'\"\n",
    "pattern3 = r\"class='hello|world'\"\n",
    "print(re.split(pattern3, html))\n",
    "\n",
    "# Step 5: splitting on either \"class='(hello)'\" or \"class='(world)'\"\n",
    "# 'class' is not grouped so is not captured but 'hello' and 'world' are captured so are displayed\n",
    "pattern3 = r\"class='(hello|world)'\"\n",
    "print(re.split(pattern3, html))\n",
    "\n",
    "# Step 6: splitting on either \"class='(hello)'\" or \"class='(world)'\" but not captured \n",
    "pattern3 = r\"class='(?:hello|world)'\"\n",
    "print(re.split(pattern3, html))\n",
    "\n",
    "pattern3 = r\"<.*?class='(?:hello|world)'.*?>|</[pb]>\"\n",
    "print(f\"HTML non-capturing split: {re.split(pattern3, html)}\")"
   ]
  },
  {
   "cell_type": "markdown",
   "id": "7becb90a-3e6d-4117-ae16-f8746c744e44",
   "metadata": {},
   "source": [
    "## Substituting Text\n",
    "- `re.sub(pattern, replacement, string, count=0)` replaces all (or a limited number) of matches.  \n",
    "- `count` controls how many replacements to make (default 0 = all).  \n",
    "- Back-references (`\\1`, `\\g<name>`) let you reorder or reuse captured text in the replacement.  "
   ]
  },
  {
   "cell_type": "code",
   "execution_count": 41,
   "id": "12b59ac1-b1ef-4d0d-b47e-a2b94f38ecc5",
   "metadata": {},
   "outputs": [
    {
     "name": "stdout",
     "output_type": "stream",
     "text": [
      "Result of redacting: User IDs: [REDACTED_USER], [REDACTED_USER], [REDACTED_USER]. Contact admin789 for help.\n",
      "Result of redacting: User IDs: u[REDACTED_USER]23, u[REDACTED_USER]56, u[REDACTED_USER]89. Contact admin789 for help.\n",
      "Result of redacting: User IDs: u[REDACTED_USER]23, u[REDACTED_USER]56, user123457689. Contact admin789 for help.\n",
      "Result of date transformation: Start: 27/10/2023, End: 15/01/2024\n"
     ]
    }
   ],
   "source": [
    "import re\n",
    "\n",
    "text = \"User IDs: user123, user456, user123457689. Contact admin789 for help.\"\n",
    "\n",
    "# Basic substitution\n",
    "redacted = re.sub(r\"user\\d+\", \"[REDACTED_USER]\", text)\n",
    "print(f\"Result of redacting: {redacted}\")\n",
    "\n",
    "# Back-reference for reusing information\n",
    "redacted_partially = re.sub(r\"(u)ser\\d+(\\d{2})\", r\"\\1[REDACTED_USER]\\2\", text)\n",
    "print(f\"Result of redacting: {redacted_partially}\")\n",
    "\n",
    "# Limited count of substitutions\n",
    "redacted_only_two = re.sub(r\"(u)ser\\d+(\\d{2})\", r\"\\1[REDACTED_USER]\\2\", text, count=2)\n",
    "print(f\"Result of redacting: {redacted_only_two}\")\n",
    "\n",
    "# Named groups for substitution\n",
    "date_text = \"Start: 2023-10-27, End: 2024-01-15\"\n",
    "# Current format YYYY-MM-DD\n",
    "# Target format DD/MM/YYYY\n",
    "\n",
    "date_pattern_named = r\"(?P<year>\\d{4})-(?P<month>\\d{2})-(?P<day>\\d{2})\"\n",
    "replacement_format_named = r\"\\g<day>/\\g<month>/\\g<year>\"\n",
    "reformatted_date = re.sub(date_pattern_named, replacement_format_named, date_text)\n",
    "\n",
    "print(f\"Result of date transformation: {reformatted_date}\")"
   ]
  },
  {
   "cell_type": "markdown",
   "id": "8bce9115",
   "metadata": {},
   "source": [
    "## Hands-on Exercise"
   ]
  },
  {
   "cell_type": "code",
   "execution_count": 13,
   "id": "df60e89c",
   "metadata": {},
   "outputs": [
    {
     "name": "stdout",
     "output_type": "stream",
     "text": [
      "IPs: ['192.168.1.10', '10.0.0.5', '172.16.0.2']\n",
      "Codes: ['200', '201', '404']\n",
      "Ports: ['512', '1024', '2326']\n"
     ]
    }
   ],
   "source": [
    "import re\n",
    " \n",
    "log_data = \"\"\"\n",
    "192.168.1.10 - - [10/Mar/2023:13:55:36 +0000] \"GET /api/v1/users HTTP/1.1\" 200 512\n",
    "10.0.0.5 - - [10/Mar/2023:13:56:12 +0000] \"POST /api/v1/data HTTP/1.1\" 201 1024\n",
    "172.16.0.2 - - [10/Mar/2023:13:57:01 +0000] \"GET /static/style.css HTTP/1.1\" 404 2326\n",
    "\"\"\"\n",
    " \n",
    "ip_pattern = r\"\\d{1,3}\\.\\d{1,3}\\.\\d{1,3}\\.\\d{1,3}\"\n",
    "status_code_pattern = r'\\s+(\\d{3})\\s+'\n",
    "port_pattern = r\"\\s(\\d{1,4})\\n\"\n",
    " \n",
    "ips = re.findall(ip_pattern, log_data)\n",
    "codes = re.findall(status_code_pattern, log_data)\n",
    "ports = re.findall(port_pattern, log_data)\n",
    " \n",
    "print(f\"IPs: {ips}\")\n",
    "print(f\"Codes: {codes}\")\n",
    "print(f\"Ports: {ports}\")"
   ]
  },
  {
   "cell_type": "code",
   "execution_count": 15,
   "id": "58a9f193",
   "metadata": {},
   "outputs": [
    {
     "name": "stdout",
     "output_type": "stream",
     "text": [
      "{'name': 'nginx', 'port': '443', 'proto': 'https'}\n",
      "nginx is running on port 443 using https\n"
     ]
    }
   ],
   "source": [
    "import re\n",
    " \n",
    "config_line = \"service=nginx; port=443; protocol=https;\"\n",
    "pattern = r\"service=(?P<name>\\w+);\\s*port=(?P<port>\\d+);\\s*protocol=(?P<proto>\\w+);\"\n",
    " \n",
    "match = re.search(pattern, config_line)\n",
    " \n",
    "if match:\n",
    "    data = match.groupdict()\n",
    "    print(data)\n",
    "    print(f\"{data['name']} is running on port {data['port']} using {data['proto']}\")"
   ]
  },
  {
   "cell_type": "code",
   "execution_count": null,
   "id": "6e351226",
   "metadata": {},
   "outputs": [],
   "source": []
  }
 ],
 "metadata": {
  "kernelspec": {
   "display_name": ".venv (3.12.9)",
   "language": "python",
   "name": "python3"
  },
  "language_info": {
   "codemirror_mode": {
    "name": "ipython",
    "version": 3
   },
   "file_extension": ".py",
   "mimetype": "text/x-python",
   "name": "python",
   "nbconvert_exporter": "python",
   "pygments_lexer": "ipython3",
   "version": "3.12.9"
  }
 },
 "nbformat": 4,
 "nbformat_minor": 5
}
