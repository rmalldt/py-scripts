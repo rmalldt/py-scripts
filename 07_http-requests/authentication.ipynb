{
 "cells": [
  {
   "cell_type": "markdown",
   "id": "75498774-9207-44cf-a5ee-e76ddfdedd3a",
   "metadata": {},
   "source": [
    "# Handling Authentication\n",
    "\n",
    "- APIs often require authentication to control access, rate limits, and auditing.\n",
    "- Without authentication, requests to protected endpoints will fail with codes like 401 (Unauthorized) or 403 (Forbidden).\n",
    "- This section demonstrates a simple GET to a protected endpoint, illustrating why auth is needed.\n",
    "\n",
    "## Why Authentication?\n",
    "\n",
    "- Authentication tells the API who you are, enabling personalized data and higher rate limits.\n",
    "- It prevents unauthorized access to private resources and supports auditing of actions.\n",
    "- Authenticated requests often succeed where anonymous requests would be blocked or limited."
   ]
  },
  {
   "cell_type": "code",
   "execution_count": 3,
   "id": "27a10c2f-f21d-48af-af9f-367a43544acf",
   "metadata": {},
   "outputs": [],
   "source": [
    "GITHUB_ENDPOINT = \"https://api.github.com\"\n",
    "HTTPBIN_ENDPOINT = \"https://httpbin.org\""
   ]
  },
  {
   "cell_type": "code",
   "execution_count": 5,
   "id": "b50229d7-ce3f-4667-81b7-25ac8aefd080",
   "metadata": {},
   "outputs": [
    {
     "name": "stdout",
     "output_type": "stream",
     "text": [
      "public_endpoint (https://api.github.com/zen) : 200\n",
      "Design for failure.\n",
      "protected_endpoint (https://api.github.com/user) : 401\n",
      "{\"message\":\"Requires authentication\",\"documentation_url\":\"https://docs.github.com/rest/users/users#get-the-authenticated-user\",\"status\":\"401\"}\n"
     ]
    }
   ],
   "source": [
    "import requests\n",
    "\n",
    "urls = {\n",
    "    \"public_endpoint\": f\"{GITHUB_ENDPOINT}/zen\",\n",
    "    \"protected_endpoint\": f\"{GITHUB_ENDPOINT}/user\",\n",
    "}\n",
    "\n",
    "for description, url in urls.items():\n",
    "    res = requests.get(url, timeout=5)\n",
    "    print(f\"{description} ({url}) : {res.status_code}\")\n",
    "    print(res.text[:200])"
   ]
  },
  {
   "cell_type": "markdown",
   "id": "1142cbf2",
   "metadata": {},
   "source": [
    "## Basic Authentication\n",
    "\n",
    "- Basic Auth sends a username and password with each request, encoded in the `Authorization` header.\n",
    "- `requests` accepts an `auth=(username, password)` tuple and handles encoding automatically.\n",
    "- Servers return `401 Unauthorized` when credentials are missing or incorrect."
   ]
  },
  {
   "cell_type": "code",
   "execution_count": 8,
   "id": "16e439e9",
   "metadata": {},
   "outputs": [
    {
     "name": "stdout",
     "output_type": "stream",
     "text": [
      "401 Client Error: UNAUTHORIZED for url: https://httpbin.org/basic-auth/myuser/myotherpwd\n"
     ]
    }
   ],
   "source": [
    "import requests\n",
    "import json\n",
    "\n",
    "url = f\"{HTTPBIN_ENDPOINT}/basic-auth/myuser/myotherpwd\"\n",
    "\n",
    "try:\n",
    "    res = requests.get(url, auth=(\"myuser\", \"mypasswd\"), timeout=10)\n",
    "    res.raise_for_status()\n",
    "    print(f\"Status code: {res.status_code}\")\n",
    "    print(\"Response JSON:\")\n",
    "    print(json.dumps(res.json()))\n",
    "except requests.exceptions.HTTPError as err:\n",
    "    print(err)"
   ]
  },
  {
   "cell_type": "markdown",
   "id": "d43a4003",
   "metadata": {},
   "source": [
    "## Token-Based Authentication\n",
    "\n",
    "- Modern APIs use API keys or bearer tokens passed via the `Authorization` header.\n",
    "- For GitHub PATs, use `Authorization: token <PAT>` or `Authorization: Bearer <PAT>`; for OAuth2, `Authorization: Bearer <token>`.\n",
    "- Always load tokens from environment variables to avoid hardcoding secrets."
   ]
  },
  {
   "cell_type": "code",
   "execution_count": 22,
   "id": "5cfddd0c",
   "metadata": {},
   "outputs": [
    {
     "name": "stdout",
     "output_type": "stream",
     "text": [
      "Token: github_pat_11AH\n",
      "Status code: 200\n",
      "Invalid JSON in response body. Defaulting to text:\n",
      "Mind your words, they are important.\n",
      "Status code: 200\n",
      "Authenticated user: lauromueller\n"
     ]
    }
   ],
   "source": [
    "import requests\n",
    "import os\n",
    "from dotenv import load_dotenv\n",
    "\n",
    "load_dotenv(override=True)\n",
    "\n",
    "token = os.getenv(\"GH_PAT\", \"\")\n",
    "print(f\"Token: {token[:15]}\")\n",
    "\n",
    "urls = {\n",
    "    \"public_endpoint\": f\"{GITHUB_ENDPOINT}/zen\",\n",
    "    \"protected_endpoint\": f\"{GITHUB_ENDPOINT}/user\",\n",
    "}\n",
    "\n",
    "for description, url in urls.items():\n",
    "    try:\n",
    "        headers = {\n",
    "            \"Authorization\": f\"Bearer {token}\"\n",
    "        }\n",
    "        res = requests.get(url, headers=headers, timeout=10)\n",
    "        res.raise_for_status()\n",
    "        print(f\"Status code: {res.status_code}\")\n",
    "        print(f\"Authenticated user: {res.json().get(\"login\")}\")\n",
    "    except requests.exceptions.JSONDecodeError as err:\n",
    "        print(f\"Invalid JSON in response body. Defaulting to text:\")\n",
    "        print(res.text[:200])\n",
    "    except requests.exceptions.HTTPError as err:\n",
    "        print(err)"
   ]
  },
  {
   "cell_type": "markdown",
   "id": "ead2d714",
   "metadata": {},
   "source": [
    "## Common Pitfalls & How to Avoid Them\n",
    "\n",
    "- Using the wrong header format (e.g., `Bearer` vs `token`) causes 401/403 errors. Follow API docs.\n",
    "- Hardcoding secrets risks accidental exposure; always use environment variables or secret managers."
   ]
  },
  {
   "cell_type": "code",
   "execution_count": null,
   "id": "577476df",
   "metadata": {},
   "outputs": [],
   "source": []
  }
 ],
 "metadata": {
  "kernelspec": {
   "display_name": "Python 3 (ipykernel)",
   "language": "python",
   "name": "python3"
  },
  "language_info": {
   "codemirror_mode": {
    "name": "ipython",
    "version": 3
   },
   "file_extension": ".py",
   "mimetype": "text/x-python",
   "name": "python",
   "nbconvert_exporter": "python",
   "pygments_lexer": "ipython3",
   "version": "3.12.10"
  }
 },
 "nbformat": 4,
 "nbformat_minor": 5
}
