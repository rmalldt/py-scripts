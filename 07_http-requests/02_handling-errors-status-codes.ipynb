{
 "cells": [
  {
   "cell_type": "markdown",
   "id": "75498774-9207-44cf-a5ee-e76ddfdedd3a",
   "metadata": {},
   "source": [
    "# Handling Errors and Status Codes\n",
    "\n",
    "- HTTP status codes communicate the outcome of an API request, and handling them correctly is key to robust automation.\n",
    "- A simple `200 OK` means success, while codes like `404 Not Found` or `500 Internal Server Error` indicate different failure modes.\n",
    "- Check status code and `response.ok` to raise errors automatically, and inspect error details for troubleshooting.\n",
    "\n",
    "## Understanding HTTP Status Codes\n",
    "\n",
    "Status codes are grouped by their first digit.\n",
    "- **1XX (informational)**\n",
    "\n",
    "- **2XX (success)**:\n",
    "    - `200 OK`\n",
    "    - `201 Created`,\n",
    "    - `202 Accepted`\n",
    "    - `204 No Content`\n",
    "    - `206 Partial Content`\n",
    "    <br>\n",
    "- **3XX (redirection)**:\n",
    "    - `300 Multiple Choices`\n",
    "    - `301 Moved Permanently`\n",
    "    - `302 Found`\n",
    "    <br>\n",
    "- **4XX (client error)**:\n",
    "    - `400 Bad Request`\n",
    "    - `401 Not Authenticated`\n",
    "    - `403 Not Authorised`\n",
    "    - `404 Not Found`\n",
    "    - `409 Conflict`\n",
    "    - `422 Invalid Input`\n",
    "    <br>\n",
    "- **5XX (server error)**:\n",
    "    - `500 Internal Server Error`\n",
    "    - `501 Not Implemented`\n",
    "    - `502 Bad Gateway`\n",
    "    - `503 Service Unavailable`\n",
    "    - `504 Gatewat Timeout`\n",
    "\n",
    "## Checking `response.status_code`\n",
    "\n",
    "- After a `requests` call, the integer `response.status_code` tells you the exact HTTP code returned.\n",
    "- You can compare it directly (e.g., `if resp.status_code == 404:`) to implement custom logic based on the code.\n",
    "- This explicit check is useful when you need fine-grained control over specific status codes."
   ]
  },
  {
   "cell_type": "code",
   "execution_count": 1,
   "id": "720c3103-3517-4dff-9f84-83522b14c4f8",
   "metadata": {},
   "outputs": [],
   "source": [
    "GITHUB_ENDPOINT = \"https://api.github.com\"\n",
    "HTTPBIN_ENDPOINT = \"https://httpbin.org\""
   ]
  },
  {
   "cell_type": "code",
   "execution_count": 27,
   "id": "6da1ba08-a588-4f4b-9c07-e444466f810d",
   "metadata": {},
   "outputs": [
    {
     "name": "stdout",
     "output_type": "stream",
     "text": [
      "ok: status 200\n",
      "not_found: status 404\n"
     ]
    }
   ],
   "source": [
    "import requests\n",
    "\n",
    "urls = {\n",
    "    \"ok\": f\"{GITHUB_ENDPOINT}/zen\",\n",
    "    \"not_found\": f\"{GITHUB_ENDPOINT}/nonexistentendpoint\"\n",
    "}\n",
    "\n",
    "for description, url in urls.items():\n",
    "    response = requests.get(url, timeout=5)\n",
    "    print(f\"{description}: status {response.status_code}\")"
   ]
  },
  {
   "cell_type": "markdown",
   "id": "150d585e",
   "metadata": {},
   "source": [
    "## Using `response.ok`\n",
    "\n",
    "- The boolean `response.ok` is `True` for any status code below 400 (1xx, 2xx, 3xx) and `False` for 4xx/5xx errors.\n",
    "- This provides a quick success/failure check without examining the numeric code directly.\n",
    "- It’s a handy shorthand when you only need to know if the request broadly succeeded."
   ]
  },
  {
   "cell_type": "code",
   "execution_count": 28,
   "id": "b50229d7-ce3f-4667-81b7-25ac8aefd080",
   "metadata": {},
   "outputs": [
    {
     "name": "stdout",
     "output_type": "stream",
     "text": [
      "ok: ok? Yes\n",
      "not_found: ok? No. Failed with status 404\n"
     ]
    }
   ],
   "source": [
    "import requests\n",
    "\n",
    "urls = {\n",
    "    \"ok\": f\"{GITHUB_ENDPOINT}/zen\",\n",
    "    \"not_found\": f\"{GITHUB_ENDPOINT}/nonexistentendpoint\"\n",
    "}\n",
    "\n",
    "for description, url in urls.items():\n",
    "    response = requests.get(url, timeout=5)\n",
    "    print(f\"{description}: ok? {\"Yes\" if response.ok else f\"No. Failed with status {response.status_code}\"}\")"
   ]
  },
  {
   "cell_type": "markdown",
   "id": "1142cbf2",
   "metadata": {},
   "source": [
    "## Automatic Error Raising with `raise_for_status()`\n",
    "\n",
    "- Calling `response.raise_for_status()` will do nothing on **1XX**, **2XX** and **3XX** codes but raise an `HTTPError` on **4XX/5XX**.\n",
    "- This follows the EAFP (“Easier to Ask Forgiveness than Permission”) style: try the request, and catch errors if they occur.\n",
    "- The caught exception carries the original `response` in its `response` attribute, letting you inspect headers and body."
   ]
  },
  {
   "cell_type": "code",
   "execution_count": 9,
   "id": "16e439e9",
   "metadata": {},
   "outputs": [
    {
     "name": "stdout",
     "output_type": "stream",
     "text": [
      "Requesting: https://api.github.com/zen\n",
      "\tSuccess!\n",
      "\tPracticality beats purity.\n",
      "Requesting: https://api.github.com/nonexistentendpoint\n",
      "\tHTTPError: 404 Client Error: Not Found for url: https://api.github.com/nonexistentendpoint (status 404)\n",
      "\tError details:\n",
      "{\n",
      "  \"message\": \"Not Found\",\n",
      "  \"documentation_url\": \"https://docs.github.com/rest\",\n",
      "  \"status\": \"404\"\n",
      "}\n"
     ]
    }
   ],
   "source": [
    "import requests\n",
    "import json\n",
    "\n",
    "urls = {\n",
    "    \"ok\": f\"{GITHUB_ENDPOINT}/zen\",\n",
    "    \"not_found\": f\"{GITHUB_ENDPOINT}/nonexistentendpoint\"\n",
    "}\n",
    "\n",
    "for url in urls.values():\n",
    "    print(f\"Requesting: {url}\")\n",
    "    try:\n",
    "        res = requests.get(url, timeout=5)\n",
    "        res.raise_for_status() # raise ERROR if 4XX/5XX\n",
    "        print(\"\\tSuccess!\")\n",
    "        print(f\"\\t{res.text}\")\n",
    "    except requests.exceptions.HTTPError as err:\n",
    "        print(f\"\\tHTTPError: {err} (status {err.response.status_code})\")\n",
    "        try:\n",
    "            details = err.response.json()\n",
    "            print(\"\\tError details:\")\n",
    "            print(json.dumps(details, indent=2))\n",
    "        except ValueError:\n",
    "            print(f\"\\tNon-JSON response body: {err.response.text[:100]}\")"
   ]
  },
  {
   "cell_type": "markdown",
   "id": "ead2d714",
   "metadata": {},
   "source": [
    "## Common Pitfalls & How to Avoid Them\n",
    "\n",
    "- **Not checking errors:** Treating any response as success can mask failures. Always use `ok` or `raise_for_status()`.\n",
    "- **Catching too broadly:** A generic `except Exception:` hides HTTP errors. Catch `HTTPError` specifically.\n",
    "- **Ignoring error bodies:** APIs often return JSON error messages; inspect `response.text` or `response.json()`."
   ]
  },
  {
   "cell_type": "markdown",
   "id": "d7de0be1",
   "metadata": {},
   "source": []
  }
 ],
 "metadata": {
  "kernelspec": {
   "display_name": "Python 3 (ipykernel)",
   "language": "python",
   "name": "python3"
  },
  "language_info": {
   "codemirror_mode": {
    "name": "ipython",
    "version": 3
   },
   "file_extension": ".py",
   "mimetype": "text/x-python",
   "name": "python",
   "nbconvert_exporter": "python",
   "pygments_lexer": "ipython3",
   "version": "3.12.9"
  }
 },
 "nbformat": 4,
 "nbformat_minor": 5
}
