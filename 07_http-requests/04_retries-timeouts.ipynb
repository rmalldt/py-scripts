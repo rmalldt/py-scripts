{
 "cells": [
  {
   "cell_type": "markdown",
   "id": "75498774-9207-44cf-a5ee-e76ddfdedd3a",
   "metadata": {},
   "source": [
    "# Implementing Retries and Timeouts\n",
    "\n",
    "- External services can be slow or unreliable, causing scripts to hang or fail unexpectedly.\n",
    "- Timeouts and retries help ensure your automation scripts remain responsive and resilient.\n",
    "\n",
    "## Timeouts\n",
    "\n",
    "- By default, `requests` may wait indefinitely for a response, which is risky in automation.\n",
    "- Use the `timeout` parameter with a single value for both connect and read, or a tuple `(connect, read)` for fine-grained control.\n",
    "- A `ConnectTimeout` is raised if the connection can’t be established in time; a `ReadTimeout` is raised if data stops arriving within the read timeout."
   ]
  },
  {
   "cell_type": "code",
   "execution_count": 12,
   "id": "1b9a9a61-7095-424c-9284-729b42bc9cf0",
   "metadata": {},
   "outputs": [],
   "source": [
    "HTTPBIN_ENDPOINT = \"https://httpbin.org\""
   ]
  },
  {
   "cell_type": "code",
   "execution_count": 13,
   "id": "b50229d7-ce3f-4667-81b7-25ac8aefd080",
   "metadata": {},
   "outputs": [
    {
     "name": "stdout",
     "output_type": "stream",
     "text": [
      "Timeout after 2.37s: HTTPSConnectionPool(host='httpbin.org', port=443): Read timed out. (read timeout=2)\n"
     ]
    }
   ],
   "source": [
    "import requests\n",
    "import time\n",
    "\n",
    "delay_url = f\"{HTTPBIN_ENDPOINT}/delay/5\"     # simulate a 5s delay\n",
    "\n",
    "start = time.perf_counter()\n",
    "try:\n",
    "    res = requests.get(delay_url, timeout=2)  # timeout in 2s\n",
    "    print(f\"Completed in {time.perf_counter() - start:.2f}s, status {res.status_code}\")\n",
    "except (\n",
    "    requests.exceptions.ConnectTimeout,\n",
    "    requests.exceptions.ReadTimeout\n",
    ") as timeout_err:\n",
    "    print(f\"Timeout after {time.perf_counter() - start:.2f}s: {timeout_err}\")\n"
   ]
  },
  {
   "cell_type": "markdown",
   "id": "1142cbf2",
   "metadata": {},
   "source": [
    "## Retries\n",
    "\n",
    "- Transient issues like network blips or server overloads may cause requests to fail temporarily.\n",
    "- Implement a simple retry loop that catches errors, retries on server-side (5xx) errors or network exceptions, and breaks on success or client errors.\n",
    "- Use a fixed delay between retries for simplicity, or an exponential backoff for a more robust approach. \n",
    "- Avoid retrying non-idempotent operations. **Idempotent** means operations are the operations which can be applied multiple times without changing the initial result."
   ]
  },
  {
   "cell_type": "code",
   "execution_count": 16,
   "id": "16e439e9",
   "metadata": {},
   "outputs": [
    {
     "name": "stdout",
     "output_type": "stream",
     "text": [
      "Attempt 1/3...\n",
      "Failed with server error code 503.\n",
      "Waiting 2s before retry...\n",
      "Attempt 2/3...\n",
      "Succeeded with status 200\n"
     ]
    }
   ],
   "source": [
    "import requests\n",
    "import time\n",
    "\n",
    "# Random status codes which will be picked up by server and returns back (to simulate flaky URL).\n",
    "flaky_url = f\"{HTTPBIN_ENDPOINT}/status/200,500,503\"  \n",
    "max_retries = 3\n",
    "delay = 2\n",
    "\n",
    "for attempt in range(1, max_retries + 1):\n",
    "    print(f\"Attempt {attempt}/{max_retries}...\")\n",
    "\n",
    "    try:\n",
    "        res = requests.get(flaky_url, timeout=10)\n",
    "        res.raise_for_status()\n",
    "        print(f\"Succeeded with status {res.status_code}\")\n",
    "        break\n",
    "    except requests.exceptions.HTTPError as err:\n",
    "        if err.response.status_code < 500:\n",
    "            print(f\"Failed with client error code {err.response.status_code}. Skipping retry.\")\n",
    "            break\n",
    "        else:\n",
    "            print(f\"Failed with server error code {err.response.status_code}.\")\n",
    "    if attempt < max_retries:\n",
    "        print(f\"Waiting {delay}s before retry...\")\n",
    "        time.sleep(delay)\n",
    "        \n",
    "# Only prints if the loop is finished\n",
    "# Does not execute if the loop is stopped by break statement\n",
    "else:\n",
    "    print(f\"All {max_retries} attempts failed!\") "
   ]
  },
  {
   "cell_type": "markdown",
   "id": "d43a4003",
   "metadata": {},
   "source": [
    "## Exponential Backoff with Jitter\n",
    "\n",
    "- Fixed delays can overwhelm a recovering server if many clients retry simultaneously.\n",
    "- Exponential backoff increases the wait time after each failure (e.g., 1s, 2s, 4s...).\n",
    "- Adding jitter (a small random offset) prevents synchronized retry spikes."
   ]
  },
  {
   "cell_type": "code",
   "execution_count": null,
   "id": "5cfddd0c",
   "metadata": {},
   "outputs": [
    {
     "name": "stdout",
     "output_type": "stream",
     "text": [
      "Attempt 1/4...\n",
      "  Failed with server error code 503. Retrying in 1.99s\n",
      "Attempt 2/4...\n",
      "  Failed with server error code 503. Retrying in 4.14s\n",
      "Attempt 3/4...\n",
      "  Failed with server error code 503. Retrying in 7.81s\n",
      "Attempt 4/4...\n",
      "  Failed with server error code 503. Retrying in 16.78s\n",
      "All retries to query https://httpbin.org/status/503 failed!\n"
     ]
    }
   ],
   "source": [
    "import requests\n",
    "import time\n",
    "import random\n",
    "\n",
    "def get_with_backoff(url, max_retries=3):\n",
    "    delay = 1 \n",
    "\n",
    "    for attempt in range(1, max_retries + 1):\n",
    "        print(f\"Attempt {attempt}/{max_retries}...\")\n",
    "        \n",
    "        try:\n",
    "            res = requests.get(url, timeout=10)\n",
    "            res.raise_for_status()\n",
    "            print(f\"Succeeded with status {res.status_code}\")\n",
    "            return res\n",
    "        except requests.exceptions.HTTPError as err:\n",
    "            if err.response.status_code < 500:\n",
    "                print(f\"Failed with client error code {err.response.status_code}. Skipping retry.\")\n",
    "                raise RuntimeError(f\"Client error! Please review request.\")\n",
    "            else:\n",
    "                jitter = random.uniform(-0.1 * delay, 0.1 * delay)\n",
    "                # delay = 1 -> jitter [-0.1, 0.1] -> between 0.9 and 1.1s\n",
    "                # delay = 2 -> jitter [-0.2, 0.2] -> between 1.8 and 2.2s\n",
    "                # delay = 4 -> jitter [-0.4, 0.4] -> between 3.6 and 4.4s\n",
    "                wait = min(delay * 2, 30) + jitter\n",
    "                print(f\"  Failed with server error code {err.response.status_code}. Retrying in {wait:.2f}s\")\n",
    "                time.sleep(wait)\n",
    "                delay = min(delay * 2, 30) # update delay\n",
    "    raise RuntimeError(f\"All retries to query {url} failed!\")\n",
    "\n",
    "try:\n",
    "    res = get_with_backoff(\n",
    "        f\"{HTTPBIN_ENDPOINT}/status/503\",\n",
    "        max_retries=4\n",
    "    )\n",
    "except RuntimeError as e:\n",
    "    print(e)"
   ]
  },
  {
   "cell_type": "markdown",
   "id": "ead2d714",
   "metadata": {},
   "source": [
    "## Common Pitfalls & How to Avoid Them\n",
    "\n",
    "- Forgetting to set timeouts can cause scripts to hang indefinitely; always use `timeout`.\n",
    "- Retrying client errors (4xx) usually won’t help; only retry transient server errors (5xx) or network issues.\n",
    "- Retrying non-idempotent operations (e.g., POST) can cause duplicate actions; limit retries to safe methods.\n",
    "- Fixed retry delays can lead to synchronized retry spikes; use exponential backoff with jitter for production scenarios."
   ]
  }
 ],
 "metadata": {
  "kernelspec": {
   "display_name": ".venv (3.12.9)",
   "language": "python",
   "name": "python3"
  },
  "language_info": {
   "codemirror_mode": {
    "name": "ipython",
    "version": 3
   },
   "file_extension": ".py",
   "mimetype": "text/x-python",
   "name": "python",
   "nbconvert_exporter": "python",
   "pygments_lexer": "ipython3",
   "version": "3.12.9"
  }
 },
 "nbformat": 4,
 "nbformat_minor": 5
}
