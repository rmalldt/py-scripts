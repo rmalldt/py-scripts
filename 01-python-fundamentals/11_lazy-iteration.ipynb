{
 "cells": [
  {
   "cell_type": "markdown",
   "id": "2aeebe16",
   "metadata": {},
   "source": [
    "# Efficient Looping: `range`\n",
    "\n",
    "- Creating large lists for loops is memory-intensive (e.g., `list(range(1_000_000))`).\n",
    "- `range()` stores only start, stop, and step values, not all numbers.\n",
    "- Numbers are generated one at a time during iteration, reducing memory usage.\n",
    "- Ideal for loops needing a fixed number of iterations without large allocations."
   ]
  },
  {
   "cell_type": "code",
   "execution_count": 1,
   "id": "6e241cb0",
   "metadata": {},
   "outputs": [
    {
     "name": "stdout",
     "output_type": "stream",
     "text": [
      "List: [0, 1, 2, 3, 4, 5, 6, 7, 8, 9]\n",
      "Range: range(0, 10)\n",
      "List size: 76.29 mb\n",
      "Range size: 0.000046 mb\n",
      "List uses 1666667.83 more memory!\n"
     ]
    }
   ],
   "source": [
    "import sys\n",
    "\n",
    "number_count = 10_000_000\n",
    "\n",
    "numbers_list = list(range(number_count))\n",
    "numbers_range = range(number_count)\n",
    "\n",
    "print(f\"List: {numbers_list[:10]}\")\n",
    "print(f\"Range: {numbers_range[:10]}\")\n",
    "\n",
    "list_mb = sys.getsizeof(numbers_list) / (1024**2)\n",
    "range_mb = sys.getsizeof(numbers_range) / (1024**2)\n",
    "\n",
    "print(f\"List size: {list_mb:.2f} mb\")\n",
    "print(f\"Range size: {range_mb:.6f} mb\")\n",
    "print(f\"List uses {(list_mb / range_mb):.2f} more memory!\")"
   ]
  },
  {
   "cell_type": "markdown",
   "id": "640fd87f",
   "metadata": {},
   "source": [
    "## Using `range()`\n",
    "\n",
    "- range(stop): iterate from 0 up to (but not including) stop. \n",
    "- range(start, stop): iterate from start up to stop. The start is inclusive, stop is exclusive.\n",
    "- range(start, stop, step): iterate with a custom step increment."
   ]
  },
  {
   "cell_type": "code",
   "execution_count": 25,
   "id": "9033a333",
   "metadata": {},
   "outputs": [
    {
     "name": "stdout",
     "output_type": "stream",
     "text": [
      "Retry #0\n",
      "Retry #1\n",
      "Retry #2\n",
      "Retry #3\n",
      "Retry #4\n",
      "Processing logs for 2020\n",
      "Processing logs for 2021\n",
      "Processing logs for 2022\n",
      "Processing logs for 2023\n",
      "Checking server 10\n",
      "Checking server 15\n",
      "Checking server 20\n",
      "Checking server 25\n"
     ]
    }
   ],
   "source": [
    "for i in range(5):\n",
    "    print(f\"Retry #{i}\")\n",
    "\n",
    "for year in range(2020, 2024):\n",
    "    print(f\"Processing logs for {year}\")\n",
    "\n",
    "for server_id in range(10, 30, 5):\n",
    "    print(f\"Checking server {server_id}\")"
   ]
  },
  {
   "cell_type": "markdown",
   "id": "70e8e421",
   "metadata": {},
   "source": [
    "## Getting Index + Value: `enumerate()`\n",
    "\n",
    "- Use `enumerate(iterable, start=0)` to get `(index, item)` tuples.\n",
    "- The start parameter sets the initial index value."
   ]
  },
  {
   "cell_type": "code",
   "execution_count": 26,
   "id": "b889234c",
   "metadata": {},
   "outputs": [
    {
     "name": "stdout",
     "output_type": "stream",
     "text": [
      "#1: Processing server web01\n",
      "#2: Processing server web02\n",
      "#3: Processing server web03\n"
     ]
    }
   ],
   "source": [
    "servers = [\"web01\", \"web02\", \"web03\"]\n",
    "\n",
    "for idx, server in enumerate(servers, 1):\n",
    "    print(f\"#{idx}: Processing server {server}\")"
   ]
  },
  {
   "cell_type": "markdown",
   "id": "5e518dc3",
   "metadata": {},
   "source": [
    "## Parallel Iteration: `zip()`\n",
    "\n",
    "- Use `zip(*iterables)` to pair items from multiple iterables.\n",
    "- Iteration stops when the shortest iterable is exhausted."
   ]
  },
  {
   "cell_type": "code",
   "execution_count": 27,
   "id": "b6baf3d4-236b-414c-8d50-8753b8583ca7",
   "metadata": {},
   "outputs": [
    {
     "name": "stdout",
     "output_type": "stream",
     "text": [
      "Host: hostA, IP: 10.0.0.1, AZ: us-east-1a\n",
      "Host: hostB, IP: 10.0.0.2, AZ: us-east-1b\n"
     ]
    }
   ],
   "source": [
    "hosts = [\"hostA\", \"hostB\", \"hostC\"] # hostC will be dropped\n",
    "ips = [\"10.0.0.1\", \"10.0.0.2\"]\n",
    "azs = [\"us-east-1a\", \"us-east-1b\"]\n",
    "\n",
    "for host, ip, az in zip(hosts, ips, azs):\n",
    "    print(f\"Host: {host}, IP: {ip}, AZ: {az}\")"
   ]
  },
  {
   "cell_type": "markdown",
   "id": "29940ca8-47ba-4614-b30d-91825134b582",
   "metadata": {},
   "source": [
    "##"
   ]
  },
  {
   "cell_type": "markdown",
   "id": "f3108132-c761-4b06-a710-3d2f4150d6fe",
   "metadata": {},
   "source": [
    "## Hands-on Exercise"
   ]
  },
  {
   "cell_type": "code",
   "execution_count": 8,
   "id": "91073445-d9c1-4a44-9077-f1c086370b2b",
   "metadata": {},
   "outputs": [
    {
     "name": "stdout",
     "output_type": "stream",
     "text": [
      "1. kernel patch\n",
      "2. openssl-fix\n",
      "3. python-update\n"
     ]
    }
   ],
   "source": [
    "updates = [\"kernel patch\", \"openssl-fix\", \"python-update\"]\n",
    "\n",
    "for idx, update in enumerate(updates, start=1):\n",
    "    print(f\"{idx}. {update}\")"
   ]
  },
  {
   "cell_type": "code",
   "execution_count": null,
   "id": "37638baf-3ea6-4ae9-876c-c0a07049da93",
   "metadata": {},
   "outputs": [],
   "source": [
    "def parse_log_line(log_line: str) -> dict | None:\n",
    "    \"\"\"\n",
    "    Parses a single log line into a structured dictionary.\n",
    "\n",
    "    The expected log format is: \"TIMESTAMP [LOG_LEVEL] MESSAGE\"\n",
    "    Example: \"2024-05-20T13:45:10Z [INFO] User 'alice' logged in successfully.\"\n",
    "\n",
    "    Args:\n",
    "        log_line: A string representing a single line from a log file.\n",
    "\n",
    "    Returns:\n",
    "        A dictionary containing the 'timestamp', 'log_level', and 'message'\n",
    "        if the log line is valid, otherwise None.\n",
    "    \"\"\"\n",
    "    # TODO: Implement the parsing logic here.\n",
    "    # 1. Check if the log_line is valid. If not, return None.\n",
    "    # 2. Split the line into its constituent parts: timestamp, log_level, and message.\n",
    "    #    Remember that the message itself can contain spaces.\n",
    "    # 3. Clean up the log_level to remove the square brackets.\n",
    "    # 4. Create and return a dictionary with the extracted parts.\n",
    "    \n",
    "    pass"
   ]
  },
  {
   "cell_type": "code",
   "execution_count": null,
   "id": "9fd37d7e-782e-41bc-8862-b93fde23571d",
   "metadata": {},
   "outputs": [],
   "source": []
  }
 ],
 "metadata": {
  "kernelspec": {
   "display_name": "Python 3 (ipykernel)",
   "language": "python",
   "name": "python3"
  },
  "language_info": {
   "codemirror_mode": {
    "name": "ipython",
    "version": 3
   },
   "file_extension": ".py",
   "mimetype": "text/x-python",
   "name": "python",
   "nbconvert_exporter": "python",
   "pygments_lexer": "ipython3",
   "version": "3.12.9"
  }
 },
 "nbformat": 4,
 "nbformat_minor": 5
}
