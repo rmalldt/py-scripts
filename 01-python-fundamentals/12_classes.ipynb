{
 "cells": [
  {
   "cell_type": "markdown",
   "id": "7d950d2f",
   "metadata": {},
   "source": [
    "# Classes and Objects\n",
    "- **Beyond Built-ins:** Python lets you define your own data types using `class`.\n",
    "- **Class:** A blueprint or template for creating objects. Defines attributes (data) and methods (behavior). Convention: `PascalCase` names (`MyClass`).\n",
    "- **Object (Instance):** A specific item created from a class blueprint. Each object has its own set of attribute values but shares the methods defined by the class. `obj1 = MyClass()`, `obj2 = MyClass()`. `obj1` and `obj2` are distinct objects.\n",
    "\n",
    "### Keywords\n",
    "- **Instantiate:** Create an instance of a class.\n",
    "- **Attribute:** A variable bound to an instance of a class.\n",
    "- **Method:** A function in a class.\n",
    "- **self:** Reference to the instance of a class"
   ]
  },
  {
   "cell_type": "markdown",
   "id": "6f0cd9da",
   "metadata": {},
   "source": [
    "## Defining a Class & `__init__` (The Constructor)\n",
    "- **`__init__(self, ...)`:** Special method for initialization. `self` is always the first parameter and represents the instance itself. Other parameters receive arguments passed during object creation.\n",
    "- **Instance Attributes (`self.x = ...`):** Data attached to *this specific object*. Created inside methods (usually `__init__`) using `self.attribute_name = value`."
   ]
  },
  {
   "cell_type": "code",
   "execution_count": 3,
   "id": "9f9dd0df-f550-4e62-a2b1-8120515ba266",
   "metadata": {},
   "outputs": [],
   "source": [
    "class ServiceMonitor:\n",
    "    \"\"\"Provides service checks for a single service\"\"\"\n",
    "    def __init__(self, service_name, port):\n",
    "        \"\"\"Initializes the monitor for a specific service.\n",
    "\n",
    "        Args:\n",
    "            service_name (str): the name of the service.\n",
    "            port (int): the port to use for checks.\n",
    "        \"\"\"\n",
    "        print(f\"Initializing monitor for service {service_name} on port {port}.\")\n",
    "        self.service = service_name\n",
    "        self.port = port\n",
    "        self.is_alive = False"
   ]
  },
  {
   "cell_type": "markdown",
   "id": "22189fc2",
   "metadata": {},
   "source": [
    "## Creating Instances (Objects)\n",
    "- **Mechanism:** Call the class name as if it were a function, passing any arguments required by `__init__` (after `self`).\n",
    "- Python automatically creates the object and passes it as `self` to `__init__`."
   ]
  },
  {
   "cell_type": "code",
   "execution_count": 4,
   "id": "e340ef79-e5b8-403b-a176-19f0b7781a31",
   "metadata": {},
   "outputs": [
    {
     "name": "stdout",
     "output_type": "stream",
     "text": [
      "Initializing monitor for service nginx on port 80.\n",
      "True\n",
      "Initializing monitor for service redis on port 6379.\n",
      "True\n",
      "nginx\n",
      "redis\n"
     ]
    }
   ],
   "source": [
    "nginx_monitor = ServiceMonitor(\"nginx\", 80)\n",
    "print(isinstance(nginx_monitor, ServiceMonitor))   # check if the object is instance of the specified class\n",
    "\n",
    "redis_monitor = ServiceMonitor(service_name=\"redis\", port=6379)\n",
    "print(isinstance(redis_monitor, ServiceMonitor))\n",
    "\n",
    "print(nginx_monitor.service)\n",
    "print(redis_monitor.service)"
   ]
  },
  {
   "cell_type": "markdown",
   "id": "496f707c",
   "metadata": {},
   "source": [
    "## Instance Methods: Object Behavior\n",
    "- **Definition:** Functions defined *inside* a class definition.\n",
    "- **First Parameter:** Always `self` (by strong convention), allowing the method to access and modify the instance's attributes (`self.attribute_name`).\n",
    "- **Calling:** Use dot notation on an instance: `instance.method_name(arguments)`. Python automatically passes the instance (`instance`) as the `self` argument."
   ]
  },
  {
   "cell_type": "code",
   "execution_count": 11,
   "id": "8e6fae9d-5b6d-422a-903d-90526a32c5db",
   "metadata": {},
   "outputs": [
    {
     "name": "stdout",
     "output_type": "stream",
     "text": [
      "Initializing monitor for service nginx on port 80.\n",
      "METHOD: Checking nginx on port 80...\n",
      "METHOD: Status for service nginx: Alive\n",
      "Received status: True\n"
     ]
    }
   ],
   "source": [
    "class ServiceMonitor:\n",
    "    \"\"\"Provides service checks for a single service\"\"\"\n",
    "    def __init__(self, service_name, port):\n",
    "        \"\"\"Initializes the monitor for a specific service.\n",
    "\n",
    "        Args:\n",
    "            service_name (str): the name of the service.\n",
    "            port (int): the port to use for checks.\n",
    "        \"\"\"\n",
    "        print(f\"Initializing monitor for service {service_name} on port {port}.\")\n",
    "        self.service = service_name\n",
    "        self.port = port\n",
    "        self.is_alive = False\n",
    "\n",
    "    def check(self):\n",
    "        \"\"\"Simulates checking the service status\"\"\"\n",
    "        print(f\"METHOD: Checking {self.service} on port {self.port}...\")\n",
    "        self.is_alive = True\n",
    "        print(f\"METHOD: Status for service {self.service}: {\"Alive\" if self.is_alive else \"Down\"}\")\n",
    "        return self.is_alive\n",
    "\n",
    "nginx_monitor = ServiceMonitor(\"nginx\", 80)\n",
    "status = nginx_monitor.check()\n",
    "print(f\"Received status: {status}\")"
   ]
  },
  {
   "cell_type": "markdown",
   "id": "ecf706a6",
   "metadata": {},
   "source": [
    "## Basic Inheritance: Reusing and Extending\n",
    "- **Concept:** Create a new class (Child/Subclass) that inherits properties (attributes and methods) from an existing class (Parent/Superclass). Promotes code reuse (DRY).\n",
    "- **Syntax:** `class ChildClassName(ParentClassName):`\n",
    "- **Inherited Members:** The Child automatically gets all methods and attributes defined in the Parent.\n",
    "- **Specializing:** The Child can:\n",
    "  - Add *new* attributes and methods.\n",
    "  - *Override* parent methods by defining a method with the same name.\n",
    "- **`super()`:** Inside the Child's methods, use `super().method_name(...)` to explicitly call the Parent's version of a method (very common in `__init__`)."
   ]
  },
  {
   "cell_type": "code",
   "execution_count": 12,
   "id": "8949c112",
   "metadata": {},
   "outputs": [
    {
     "name": "stdout",
     "output_type": "stream",
     "text": [
      "Initializing monitor for service web on port 8080.\n",
      "Initializing monitor for service nginx on port 80.\n",
      "METHOD: Pinging url http://localhost\n",
      "METHOD: Checking web on port 8080...\n",
      "METHOD: Status for service web: Alive\n",
      "METHOD: Performing HTTP check on http://localhost\n",
      "METHOD: Checking nginx on port 80...\n",
      "METHOD: Status for service nginx: Alive\n"
     ]
    },
    {
     "data": {
      "text/plain": [
       "True"
      ]
     },
     "execution_count": 12,
     "metadata": {},
     "output_type": "execute_result"
    }
   ],
   "source": [
    "class HttpServiceMonitor(ServiceMonitor):\n",
    "    \"\"\"Extends ServiceMonitor to add an HTTP endpoint check.\"\"\"\n",
    "    def __init__(self, service_name, port, url):\n",
    "        super().__init__(service_name, port)\n",
    "        self.url = url\n",
    "\n",
    "    def ping(self):\n",
    "        \"\"\"Ping url provided when creating instance.\"\"\"\n",
    "        print(f\"METHOD: Pinging url {self.url}\")\n",
    "\n",
    "    def check(self):\n",
    "        alive = super().check()\n",
    "        print(f\"METHOD: Performing HTTP check on {self.url}\")\n",
    "\n",
    "http_monitor = HttpServiceMonitor(\"web\", 8080, \"http://localhost\")\n",
    "nginx_monitor = ServiceMonitor(\"nginx\", 80)\n",
    "http_monitor.ping()\n",
    "http_monitor.check()\n",
    "# nginx_monitor.ping() # Uncommenting will raise AttributeError since ping() is a method only of the subclass\n",
    "nginx_monitor.check()"
   ]
  },
  {
   "cell_type": "markdown",
   "id": "d7e46402-9a04-46d8-97bb-51d69e4b9264",
   "metadata": {},
   "source": [
    "## Data Classes\n",
    "Data class is a simple way to create classes that store data.\n",
    "It comes with Python standard library."
   ]
  },
  {
   "cell_type": "code",
   "execution_count": 8,
   "id": "44e7b38f-d4a7-402e-aad9-b2440eb9112a",
   "metadata": {},
   "outputs": [
    {
     "name": "stdout",
     "output_type": "stream",
     "text": [
      "Item(name='Monitor', unit_price=45.5, quantity=1)\n",
      "Item(name='Monitor', unit_price=45.5, quantity=1)\n",
      "Are equal: True\n"
     ]
    }
   ],
   "source": [
    "from dataclasses import dataclass\n",
    "\n",
    "@dataclass\n",
    "class Item:\n",
    "    \"\"\"\n",
    "    Data class automatically implements the following methods behind the scene:\n",
    "        - __init__\n",
    "        - __repr__\n",
    "        - __eq__\n",
    "    \"\"\"\n",
    "\n",
    "    name: str\n",
    "    unit_price: float\n",
    "    quantity: int = 0\n",
    "\n",
    "    def total_cost(self) -> float:\n",
    "        return self.unit_price * self.quantity\n",
    "\n",
    "\n",
    "\n",
    "item1 = Item(\"Monitor\", 45.50, 1)\n",
    "\n",
    "# Auto implements __repr__\n",
    "print(item1)\n",
    "print(repr(item1))\n",
    "\n",
    "# Auto implements __eq__\n",
    "item2 = Item(\"Monitor\", 45.50, 1)\n",
    "print(f\"Are equal: {item1 == item2}\")"
   ]
  },
  {
   "cell_type": "markdown",
   "id": "5aba3972-f7e6-414b-bc7f-2fca5a8e0b4d",
   "metadata": {},
   "source": [
    "## Abstract Base Class"
   ]
  },
  {
   "cell_type": "code",
   "execution_count": 9,
   "id": "8ad17a75-0646-4e8e-accb-de979a408ec6",
   "metadata": {},
   "outputs": [
    {
     "name": "stdout",
     "output_type": "stream",
     "text": [
      "Processed payment of $100.00 for customer C123 via PayPal\n",
      "Processed payment of $200.00 for customer C456 via Stripe\n"
     ]
    }
   ],
   "source": [
    "from abc import ABC, abstractmethod\n",
    "\n",
    "\n",
    "# Abstract base class for payment providers\n",
    "class PaymentProvider(ABC):\n",
    "    @abstractmethod\n",
    "    def process_payment(self, customer_id: str, amount: float) -> str:\n",
    "        pass\n",
    "\n",
    "\n",
    "# Paypal implementation\n",
    "class Paypal(PaymentProvider):\n",
    "    def process_payment(self, customer_id: str, amount: float) -> str:\n",
    "        return (\n",
    "            f\"Processed payment of ${amount:.2f} for customer {customer_id} via PayPal\"\n",
    "        )\n",
    "\n",
    "\n",
    "# Stripe implementation\n",
    "class Stripe(PaymentProvider):\n",
    "    def process_payment(self, customer_id: str, amount: float) -> str:\n",
    "        return (\n",
    "            f\"Processed payment of ${amount:.2f} for customer {customer_id} via Stripe\"\n",
    "        )\n",
    "\n",
    "\n",
    "# Customer class\n",
    "class Customer:\n",
    "    def __init__(self, customer_id: str, name: str) -> None:\n",
    "        self.customer_id = customer_id\n",
    "        self.name = name\n",
    "\n",
    "    # `make_payment` does not need to know anything about the PaymentProvider implementation\n",
    "    def make_payment(self, provider: PaymentProvider, amount: float):\n",
    "        print(provider.process_payment(self.customer_id, amount))\n",
    "\n",
    "\n",
    "# Main function\n",
    "def main() -> None:\n",
    "    # Create customers\n",
    "    customer1 = Customer(\"C123\", \"Jim\")\n",
    "    customer2 = Customer(\"C456\", \"Kale\")\n",
    "\n",
    "    # Create payment providers\n",
    "    paypal = Paypal()\n",
    "    stripe = Stripe()\n",
    "\n",
    "    # Customers make payments\n",
    "    customer1.make_payment(paypal, 100.0)\n",
    "    customer2.make_payment(stripe, 200.0)\n",
    "\n",
    "\n",
    "main()"
   ]
  },
  {
   "cell_type": "markdown",
   "id": "12f5bb6b",
   "metadata": {},
   "source": [
    "# Class attributes vs Instance attributes\n",
    "\n",
    "- **Class attributes:** belong to the class itself and will be shared by all instances. Such attributes are defined in the top of the body.\n",
    "- **Instance attributes:** belong to ONLY a particular instance of the class. It is not shared by all instances. Every object has its own copy of the instance attribute.  "
   ]
  },
  {
   "cell_type": "code",
   "execution_count": null,
   "id": "cd9c46cd",
   "metadata": {},
   "outputs": [
    {
     "name": "stdout",
     "output_type": "stream",
     "text": [
      "Current count: 2\n",
      "Dictionary from: {'id': 10, 'name': 'Jim'}\n"
     ]
    }
   ],
   "source": [
    "class SampleClass:\n",
    "    count = 0   # Class attribute\n",
    "\n",
    "    def increment(self):\n",
    "        SampleClass.count += 1 \n",
    "\n",
    "\n",
    "s1 = SampleClass()\n",
    "s1.increment()\n",
    "\n",
    "s2 = SampleClass()\n",
    "s2.increment()\n",
    "print(f\"Current count: {SampleClass.count}\") # access class attribute using Class itself\n",
    "\n",
    "\n",
    "\n",
    "class DemoClass:\n",
    "    def __init__(self, id: int, name: str) -> None:\n",
    "        # Instance attributes\n",
    "        self.id = id\n",
    "        self.name = name\n",
    "\n",
    "\n",
    "d1 = DemoClass(10, 'Jim')\n",
    "print(f\"Dictionary from: {vars(d1)}\")\n"
   ]
  },
  {
   "cell_type": "markdown",
   "id": "49abe406",
   "metadata": {},
   "source": [
    "## Instance methods vs Class methods vs Static methods\n",
    "- **Instance methods:** use a `self` parameter pointing to an instance of the class. They can access and modify instance state through `self.__class__`\n",
    "- **Class methods:** use a `cls` parameter pointing to the class itself. They can modify class level state but can't modify individual instance state\n",
    "- **Static methods:** don't take `self` or `cls` parameters. They can't modify instance or class state directly. "
   ]
  },
  {
   "cell_type": "code",
   "execution_count": null,
   "id": "08c3541e",
   "metadata": {},
   "outputs": [],
   "source": [
    "class DemoClass:\n",
    "    def instance_method(self):\n",
    "        return f\"Instance method called {self}\"\n",
    "    \n",
    "    @classmethod\n",
    "    def class_method(cls):\n",
    "        return f\"Class method called {cls}\" \n",
    "\n",
    "    @staticmethod\n",
    "    def static_method():\n",
    "        return f\"Static method called\" "
   ]
  },
  {
   "cell_type": "markdown",
   "id": "a887082a",
   "metadata": {},
   "source": [
    "## Hands-on Exercise"
   ]
  },
  {
   "cell_type": "code",
   "execution_count": 1,
   "id": "24e81582",
   "metadata": {},
   "outputs": [
    {
     "name": "stdout",
     "output_type": "stream",
     "text": [
      "Account created for Jim\n",
      "Balance is 2000\n",
      "Balance is 3000\n",
      "Balance is 2500\n",
      "  2000 was deposited on 2025-07-23 16:27:02.537317+01:00\n",
      "  1000 was deposited on 2025-07-23 16:27:02.537478+01:00\n",
      "  -500 was withdrawn on 2025-07-23 16:27:02.537509+01:00\n",
      "Balance is 2500\n"
     ]
    }
   ],
   "source": [
    "from datetime import datetime, timezone\n",
    "\n",
    "class Account:\n",
    "    \"\"\"Simple account class with balance\"\"\"\n",
    "\n",
    "    # Fields and methods starting with _ are meant for internal use only\n",
    "    # similar to private fields and methods even though it is NOT Strictly\n",
    "    # enforced by Python.\n",
    "    @staticmethod\n",
    "    def _current_time():\n",
    "        utc_time = datetime.now(tz=timezone.utc)\n",
    "        return utc_time.astimezone()  # localize time\n",
    "\n",
    "    def __init__(self, name, balance):\n",
    "        self._name = name  # internal field\n",
    "\n",
    "        # Python performs name mangling for fields starting with dunder\n",
    "        # by prefixing Class name to the method name.\n",
    "        # In this case, __balance will be converted to _Account__balance\n",
    "        # So, when we use the field inside the class it refers to correct field name.\n",
    "        # But when this field is referred outside the class, the correct fiels name is hidden.\n",
    "        # This is done to prevent accident change of the fields from outside the class.\n",
    "        self.__balance = balance\n",
    "\n",
    "        self._transaction_list = [(Account._current_time(), balance)]  # internal field\n",
    "        print(f\"Account created for {self._name}\")\n",
    "\n",
    "    # ------------------ Public Methods\n",
    "    def deposit(self, amount):\n",
    "        if amount > 0:\n",
    "            self.__balance += amount\n",
    "            self._transaction_list.append((Account._current_time(), amount))\n",
    "\n",
    "    def withdraw(self, amount):\n",
    "        if 0 < amount <= self.__balance:\n",
    "            self.__balance -= amount\n",
    "            self._transaction_list.append((Account._current_time(), -amount))\n",
    "        else:\n",
    "            print(\"The amount must be greater than zero or less than your balance\")\n",
    "\n",
    "    def show_balance(self):\n",
    "        print(f\"Balance is {self.__balance}\")\n",
    "\n",
    "    def show_transactions(self):\n",
    "        for date, amount in self._transaction_list:\n",
    "            if amount > 0:\n",
    "                transaction_type = \"deposited\"\n",
    "            else:\n",
    "                transaction_type = \"withdrawn\"\n",
    "            print(f\"{amount:6} was {transaction_type} on {date}\")\n",
    "\n",
    "\n",
    "jim = Account(\"Jim\", 2000)\n",
    "jim.show_balance()\n",
    "jim.deposit(1000)\n",
    "jim.show_balance()\n",
    "jim.withdraw(500)\n",
    "jim.show_balance()\n",
    "jim.show_transactions()\n",
    "\n",
    "jim.__balance = 0  # this won't refer to the instance property __balance\n",
    "jim.show_balance()\n"
   ]
  },
  {
   "cell_type": "code",
   "execution_count": null,
   "id": "7c1201ec",
   "metadata": {},
   "outputs": [
    {
     "name": "stdout",
     "output_type": "stream",
     "text": [
      "web-01 on Xen, db-01 on Xen \n"
     ]
    }
   ],
   "source": [
    "class VM:\n",
    "    # Class attribute (value shared by all instances)\n",
    "    hypervisor = \"KVM\"\n",
    "\n",
    "    def __init__(self, name) -> None:\n",
    "        self.name = name\n",
    "\n",
    "vm1 = VM('web-01')\n",
    "vm2 = VM('db-01')\n",
    "\n",
    "VM.hypervisor = \"Xen\"\n",
    "\n",
    "print(f\"{vm1.name} on {vm1.hypervisor}, {vm2.name} on {vm2.hypervisor} \")"
   ]
  },
  {
   "cell_type": "code",
   "execution_count": null,
   "id": "eae3aec8",
   "metadata": {},
   "outputs": [],
   "source": []
  }
 ],
 "metadata": {
  "kernelspec": {
   "display_name": "Python 3 (ipykernel)",
   "language": "python",
   "name": "python3"
  },
  "language_info": {
   "codemirror_mode": {
    "name": "ipython",
    "version": 3
   },
   "file_extension": ".py",
   "mimetype": "text/x-python",
   "name": "python",
   "nbconvert_exporter": "python",
   "pygments_lexer": "ipython3",
   "version": "3.12.9"
  }
 },
 "nbformat": 4,
 "nbformat_minor": 5
}
