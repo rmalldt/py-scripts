{
 "cells": [
  {
   "cell_type": "markdown",
   "id": "08acd03c",
   "metadata": {},
   "source": [
    "## enumerate\n",
    "- `enumerate(iterable, start)` returns a tuple containing a count (from start which default to 0) and the value obtained from iterating over the iterable. \n",
    "- **Usage:** Use to access index when iterating the iterable.\n"
   ]
  },
  {
   "cell_type": "code",
   "execution_count": 2,
   "id": "d2643367",
   "metadata": {},
   "outputs": [
    {
     "name": "stdout",
     "output_type": "stream",
     "text": [
      "0: app-1\n",
      "1: app-2\n",
      "2: app-3\n",
      "1: ('id', 'ec2')\n",
      "2: ('machine', 't2.micro')\n",
      "3: ('replicas', 3)\n",
      "4: ('region', 'us-east-1')\n"
     ]
    }
   ],
   "source": [
    "# Enumerate list\n",
    "items = ['app-1', 'app-2', 'app-3']\n",
    "\n",
    "for i, item in enumerate(items):\n",
    "    print(f\"{i}: {item}\")\n",
    "\n",
    "# Enumerate dict\n",
    "mobj = {\n",
    "    \"id\": \"ec2\",\n",
    "    \"machine\": \"t2.micro\",\n",
    "    \"replicas\": 3,\n",
    "    \"region\": \"us-east-1\" \n",
    "}\n",
    "\n",
    "for i, item in enumerate(mobj.items(), start=1):\n",
    "    print(f\"{i}: {item}\")\n"
   ]
  },
  {
   "cell_type": "markdown",
   "id": "ea71c179",
   "metadata": {},
   "source": [
    "## sorted\n",
    "- `sorted(iter, key, reverse)` takes any iterable and return alphabetically sorted lists of characters\n"
   ]
  },
  {
   "cell_type": "code",
   "execution_count": 4,
   "id": "7fd359dc",
   "metadata": {},
   "outputs": [
    {
     "name": "stdout",
     "output_type": "stream",
     "text": [
      "Case sensitive: [' ', ' ', ' ', ' ', ',', '?', 'H', 'a', 'e', 'e', 'e', 'e', 'h', 'h', 'l', 'l', 'o', 'o', 'o', 'r', 'r', 't', 'u', 'w', 'y']\n",
      "Case insensitive: [' ', ' ', ' ', ' ', ',', '?', 'a', 'e', 'e', 'e', 'e', 'H', 'h', 'h', 'l', 'l', 'o', 'o', 'o', 'r', 'r', 't', 'u', 'w', 'y']\n",
      "Sorted words: ['Jim', 'kale', 'Kelly', 'Zilla']\n",
      "Sorted words: ['Zilla', 'Kelly', 'kale', 'Jim']\n",
      "Sorted numbers: [1.1, 1.3, 3.3, 5.1, 5.3, 5.5, 9.0]\n"
     ]
    }
   ],
   "source": [
    "chars = \"Hello there, how are you?\"\n",
    "sorted_chars = sorted(chars)\n",
    "print(f\"Case sensitive: {sorted_chars}\")\n",
    "\n",
    "sorted_chars = sorted(chars, key=str.casefold)\n",
    "print(f\"Case insensitive: {sorted_chars}\")\n",
    "\n",
    "words = ['Jim', 'kale', 'Zilla', 'Kelly']\n",
    "print(f\"Sorted words: {sorted(words, key=str.casefold)}\")\n",
    "print(f\"Sorted words: {sorted(words, key=str.casefold, reverse=True)}\")\n",
    "\n",
    "# Numbers are sorted in ascending order\n",
    "numbers = [1.3, 5.1, 1.1, 5.3, 3.3, 5.5, 9.0]\n",
    "sorted_numbers = sorted(numbers)\n",
    "print(f\"Sorted numbers: {sorted_numbers}\")\n"
   ]
  },
  {
   "cell_type": "markdown",
   "id": "c6c55c1b",
   "metadata": {},
   "source": [
    "## print\n"
   ]
  },
  {
   "cell_type": "code",
   "execution_count": 5,
   "id": "8f94b256",
   "metadata": {},
   "outputs": [
    {
     "name": "stdout",
     "output_type": "stream",
     "text": [
      "\n",
      "Hello there Jim\n",
      "Hello there Jim\n",
      "Hello, there, Jim\n",
      "Hello|there|Jim#"
     ]
    }
   ],
   "source": [
    "print()\n",
    "print(\"Hello there Jim\")\n",
    "print(\"Hello\", \"there\", \"Jim\")\n",
    "print(\"Hello\", \"there\", \"Jim\", sep=\", \")  # default sep = \" \"\n",
    "print(\"Hello\", \"there\", \"Jim\", sep=\"|\", end=\"#\")  # default sep = \" \", end=\"\\n\"\n"
   ]
  },
  {
   "cell_type": "markdown",
   "id": "813d7575",
   "metadata": {},
   "source": [
    "## list and tuple\n",
    "- `list()` is used to convert sequence to list\n",
    "- `tuple()` is used to convert sequence to tuple"
   ]
  },
  {
   "cell_type": "code",
   "execution_count": 37,
   "id": "5ea5a4d3",
   "metadata": {},
   "outputs": [
    {
     "name": "stdout",
     "output_type": "stream",
     "text": [
      "<class 'list'>\n",
      "<class 'tuple'>\n"
     ]
    }
   ],
   "source": [
    "album = [\"Altered State\", \"Tesseract\", 2013]\n",
    "print(type(album))\n",
    "\n",
    "copy = tuple(album)\n",
    "print(type(copy)) \n"
   ]
  },
  {
   "cell_type": "markdown",
   "id": "19dd361b",
   "metadata": {},
   "source": [
    "## ord\n",
    "- `ord()` returns an integer representing the Unicode code point of a given character. E.g., `ord('a')` returns 97."
   ]
  },
  {
   "cell_type": "code",
   "execution_count": 51,
   "id": "35e13f1b",
   "metadata": {},
   "outputs": [
    {
     "name": "stdout",
     "output_type": "stream",
     "text": [
      "97\n",
      "42\n",
      "48\n"
     ]
    }
   ],
   "source": [
    "print(ord(\"a\"))\n",
    "print(ord(\"*\"))\n",
    "print(ord(\"0\"))\n"
   ]
  },
  {
   "cell_type": "markdown",
   "id": "b7eaa5a1",
   "metadata": {},
   "source": [
    "# chr\n",
    "- `chr()` returns the string representing a character whose Unicode code point is passe as integer. E.g. `chr(97)` return 'a'."
   ]
  },
  {
   "cell_type": "code",
   "execution_count": 53,
   "id": "c685ac7a",
   "metadata": {},
   "outputs": [
    {
     "name": "stdout",
     "output_type": "stream",
     "text": [
      "a\n",
      "0\n"
     ]
    }
   ],
   "source": [
    "print(chr(97))\n",
    "print(chr(48))"
   ]
  },
  {
   "cell_type": "markdown",
   "id": "91922680",
   "metadata": {},
   "source": [
    "## hash\n",
    "- `hash()` returns the hash value of the object (if it has one).\n",
    "- Hash values are integers typically used to quickly compare dict keys during dictionary lookup."
   ]
  },
  {
   "cell_type": "code",
   "execution_count": 55,
   "id": "6b72f34c",
   "metadata": {},
   "outputs": [
    {
     "name": "stdout",
     "output_type": "stream",
     "text": [
      "Hash value of hello: -3563621741209269308\n",
      "Hash value of jim: 6455764889062771801\n",
      "Hash value of ok: -131567868462261900\n"
     ]
    }
   ],
   "source": [
    "def hash_test(string):\n",
    "    hashed = hash(string)\n",
    "    print(f\"Hash value of {string}: {hashed}\")\n",
    "\n",
    "hash_test('hello')\n",
    "hash_test('jim')\n",
    "hash_test('ok')\n"
   ]
  },
  {
   "cell_type": "markdown",
   "id": "1825088a",
   "metadata": {},
   "source": [
    "## reversed\n",
    "- `reversed` returns the reveresed iterator that associate with the sequence in reverse order i.e.:\n",
    "    - last element          = index 0\n",
    "    - second last element   = index 1\n",
    "    - first element         = index (length - 1)"
   ]
  },
  {
   "cell_type": "code",
   "execution_count": 70,
   "id": "d5683eda",
   "metadata": {},
   "outputs": [
    {
     "name": "stdout",
     "output_type": "stream",
     "text": [
      "Index: 0, value: 4\n",
      "Index: 1, value: 3\n",
      "Index: 2, value: 2\n",
      "Index: 3, value: 1\n",
      "Index: 4, value: 0\n"
     ]
    }
   ],
   "source": [
    "numbers = [0, 1, 2, 3, 4]\n",
    "for i, item in enumerate(reversed(numbers)):\n",
    "    print(f\"Index: {i}, value: {item}\")"
   ]
  },
  {
   "cell_type": "code",
   "execution_count": 73,
   "id": "aaf2c58e",
   "metadata": {},
   "outputs": [
    {
     "name": "stdout",
     "output_type": "stream",
     "text": [
      "Number: 10\n"
     ]
    }
   ],
   "source": [
    "num = 10\n",
    "print(f\"Number: {num}\")"
   ]
  }
 ],
 "metadata": {
  "kernelspec": {
   "display_name": ".venv (3.12.9)",
   "language": "python",
   "name": "python3"
  },
  "language_info": {
   "codemirror_mode": {
    "name": "ipython",
    "version": 3
   },
   "file_extension": ".py",
   "mimetype": "text/x-python",
   "name": "python",
   "nbconvert_exporter": "python",
   "pygments_lexer": "ipython3",
   "version": "3.12.9"
  }
 },
 "nbformat": 4,
 "nbformat_minor": 5
}
